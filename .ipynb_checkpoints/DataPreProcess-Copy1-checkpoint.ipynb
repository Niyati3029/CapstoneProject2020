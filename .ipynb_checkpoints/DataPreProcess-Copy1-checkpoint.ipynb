{
 "cells": [
  {
   "cell_type": "code",
   "execution_count": 1,
   "metadata": {},
   "outputs": [],
   "source": [
    "# importing all required libraries\n",
    "import numpy as np # used for handling numbers\n",
    "import pandas as pd # used for handling the dataset\n",
    "from sklearn.impute import SimpleImputer # used for handling missing data\n",
    "from sklearn.preprocessing import LabelEncoder, OneHotEncoder # used for encoding categorical data\n",
    "from sklearn.model_selection import train_test_split # used for splitting training and testing data\n",
    "from sklearn.preprocessing import StandardScaler # used for feature scaling\n",
    "import os\n",
    "from statistics import mode, mean, median\n",
    "\n",
    "# visulization\n",
    "import matplotlib.pyplot as plt\n",
    "%matplotlib inline\n",
    "import seaborn as sns\n",
    "\n",
    "# Tranform\n",
    "from scipy.stats import boxcox\n",
    "from scipy.stats import skew\n",
    "from scipy.stats import kurtosis\n",
    "from scipy import stats\n",
    "\n",
    "# Models\n",
    "from sklearn.ensemble import GradientBoostingRegressor\n",
    "from sklearn import preprocessing\n",
    "from sklearn.metrics import r2_score\n",
    "from sklearn.linear_model import LinearRegression\n",
    "from sklearn.ensemble import RandomForestRegressor\n",
    "from sklearn.model_selection import GridSearchCV\n",
    "from sklearn.tree import DecisionTreeRegressor\n",
    "from sklearn.model_selection import cross_val_score\n",
    "from sklearn.metrics import mean_squared_error\n",
    "from sklearn.metrics import mean_absolute_error\n",
    "from sklearn.model_selection import RandomizedSearchCV\n",
    "from scipy.stats import randint"
   ]
  },
  {
   "cell_type": "code",
   "execution_count": 2,
   "metadata": {},
   "outputs": [
    {
     "name": "stdout",
     "output_type": "stream",
     "text": [
      "Dataset is loaded\n"
     ]
    }
   ],
   "source": [
    "# Read CSV File from Data Folder\n",
    "filename = \"cfs_pumf.txt\"\n",
    "\n",
    "# check if data is in current folder. If not, go one step back \n",
    "if \"data\" in os.listdir():\n",
    "    print(\"Found data folder\")\n",
    "else:\n",
    "    os.chdir(\"../\")\n",
    "    \n",
    "try:\n",
    "    dataset = pd.read_csv(f'{os.getcwd()}\\\\data\\\\{filename}') \n",
    "    print(\"Dataset is loaded\")\n",
    "except IOError:\n",
    "    print(f'Could not find the data file {filename}')"
   ]
  },
  {
   "cell_type": "code",
   "execution_count": 3,
   "metadata": {},
   "outputs": [
    {
     "data": {
      "text/plain": [
       "'First 10 observations'"
      ]
     },
     "metadata": {},
     "output_type": "display_data"
    },
    {
     "data": {
      "text/html": [
       "<div>\n",
       "<style scoped>\n",
       "    .dataframe tbody tr th:only-of-type {\n",
       "        vertical-align: middle;\n",
       "    }\n",
       "\n",
       "    .dataframe tbody tr th {\n",
       "        vertical-align: top;\n",
       "    }\n",
       "\n",
       "    .dataframe thead th {\n",
       "        text-align: right;\n",
       "    }\n",
       "</style>\n",
       "<table border=\"1\" class=\"dataframe\">\n",
       "  <thead>\n",
       "    <tr style=\"text-align: right;\">\n",
       "      <th></th>\n",
       "      <th>SHIPMT_ID</th>\n",
       "      <th>ORIG_STATE</th>\n",
       "      <th>ORIG_MA</th>\n",
       "      <th>ORIG_CFS_AREA</th>\n",
       "      <th>DEST_STATE</th>\n",
       "      <th>DEST_MA</th>\n",
       "      <th>DEST_CFS_AREA</th>\n",
       "      <th>NAICS</th>\n",
       "      <th>QUARTER</th>\n",
       "      <th>SCTG</th>\n",
       "      <th>MODE</th>\n",
       "      <th>SHIPMT_VALUE</th>\n",
       "      <th>SHIPMT_WGHT</th>\n",
       "      <th>SHIPMT_DIST_GC</th>\n",
       "      <th>SHIPMT_DIST_ROUTED</th>\n",
       "      <th>TEMP_CNTL_YN</th>\n",
       "      <th>EXPORT_YN</th>\n",
       "      <th>EXPORT_CNTRY</th>\n",
       "      <th>HAZMAT</th>\n",
       "      <th>WGT_FACTOR</th>\n",
       "    </tr>\n",
       "  </thead>\n",
       "  <tbody>\n",
       "    <tr>\n",
       "      <th>0</th>\n",
       "      <td>1</td>\n",
       "      <td>25</td>\n",
       "      <td>148</td>\n",
       "      <td>25-148</td>\n",
       "      <td>25</td>\n",
       "      <td>148</td>\n",
       "      <td>25-148</td>\n",
       "      <td>333</td>\n",
       "      <td>2</td>\n",
       "      <td>35</td>\n",
       "      <td>14</td>\n",
       "      <td>2178</td>\n",
       "      <td>11</td>\n",
       "      <td>14</td>\n",
       "      <td>17</td>\n",
       "      <td>N</td>\n",
       "      <td>N</td>\n",
       "      <td>N</td>\n",
       "      <td>N</td>\n",
       "      <td>208.5</td>\n",
       "    </tr>\n",
       "    <tr>\n",
       "      <th>1</th>\n",
       "      <td>2</td>\n",
       "      <td>42</td>\n",
       "      <td>428</td>\n",
       "      <td>42-428</td>\n",
       "      <td>6</td>\n",
       "      <td>41740</td>\n",
       "      <td>06-41740</td>\n",
       "      <td>311</td>\n",
       "      <td>3</td>\n",
       "      <td>35</td>\n",
       "      <td>14</td>\n",
       "      <td>344</td>\n",
       "      <td>11</td>\n",
       "      <td>2344</td>\n",
       "      <td>2734</td>\n",
       "      <td>N</td>\n",
       "      <td>N</td>\n",
       "      <td>N</td>\n",
       "      <td>N</td>\n",
       "      <td>193.3</td>\n",
       "    </tr>\n",
       "    <tr>\n",
       "      <th>2</th>\n",
       "      <td>3</td>\n",
       "      <td>26</td>\n",
       "      <td>220</td>\n",
       "      <td>26-220</td>\n",
       "      <td>47</td>\n",
       "      <td>314</td>\n",
       "      <td>47-314</td>\n",
       "      <td>322</td>\n",
       "      <td>2</td>\n",
       "      <td>27</td>\n",
       "      <td>4</td>\n",
       "      <td>4197</td>\n",
       "      <td>5134</td>\n",
       "      <td>470</td>\n",
       "      <td>579</td>\n",
       "      <td>N</td>\n",
       "      <td>N</td>\n",
       "      <td>N</td>\n",
       "      <td>N</td>\n",
       "      <td>51.2</td>\n",
       "    </tr>\n",
       "    <tr>\n",
       "      <th>3</th>\n",
       "      <td>4</td>\n",
       "      <td>20</td>\n",
       "      <td>556</td>\n",
       "      <td>20-556</td>\n",
       "      <td>20</td>\n",
       "      <td>556</td>\n",
       "      <td>20-556</td>\n",
       "      <td>323</td>\n",
       "      <td>1</td>\n",
       "      <td>29</td>\n",
       "      <td>4</td>\n",
       "      <td>116</td>\n",
       "      <td>6</td>\n",
       "      <td>3</td>\n",
       "      <td>3</td>\n",
       "      <td>N</td>\n",
       "      <td>N</td>\n",
       "      <td>N</td>\n",
       "      <td>N</td>\n",
       "      <td>238.7</td>\n",
       "    </tr>\n",
       "    <tr>\n",
       "      <th>4</th>\n",
       "      <td>5</td>\n",
       "      <td>12</td>\n",
       "      <td>99999</td>\n",
       "      <td>12-99999</td>\n",
       "      <td>12</td>\n",
       "      <td>99999</td>\n",
       "      <td>12-99999</td>\n",
       "      <td>4235</td>\n",
       "      <td>3</td>\n",
       "      <td>33</td>\n",
       "      <td>5</td>\n",
       "      <td>388</td>\n",
       "      <td>527</td>\n",
       "      <td>124</td>\n",
       "      <td>201</td>\n",
       "      <td>N</td>\n",
       "      <td>N</td>\n",
       "      <td>N</td>\n",
       "      <td>N</td>\n",
       "      <td>398.1</td>\n",
       "    </tr>\n",
       "    <tr>\n",
       "      <th>5</th>\n",
       "      <td>6</td>\n",
       "      <td>24</td>\n",
       "      <td>47900</td>\n",
       "      <td>24-47900</td>\n",
       "      <td>30</td>\n",
       "      <td>99999</td>\n",
       "      <td>30-99999</td>\n",
       "      <td>337</td>\n",
       "      <td>2</td>\n",
       "      <td>40</td>\n",
       "      <td>4</td>\n",
       "      <td>3716</td>\n",
       "      <td>1132</td>\n",
       "      <td>1942</td>\n",
       "      <td>2265</td>\n",
       "      <td>N</td>\n",
       "      <td>Y</td>\n",
       "      <td>C</td>\n",
       "      <td>N</td>\n",
       "      <td>21.9</td>\n",
       "    </tr>\n",
       "    <tr>\n",
       "      <th>6</th>\n",
       "      <td>7</td>\n",
       "      <td>19</td>\n",
       "      <td>99999</td>\n",
       "      <td>19-99999</td>\n",
       "      <td>19</td>\n",
       "      <td>99999</td>\n",
       "      <td>19-99999</td>\n",
       "      <td>337</td>\n",
       "      <td>3</td>\n",
       "      <td>26</td>\n",
       "      <td>5</td>\n",
       "      <td>43738</td>\n",
       "      <td>13501</td>\n",
       "      <td>16</td>\n",
       "      <td>22</td>\n",
       "      <td>N</td>\n",
       "      <td>N</td>\n",
       "      <td>N</td>\n",
       "      <td>N</td>\n",
       "      <td>310.5</td>\n",
       "    </tr>\n",
       "    <tr>\n",
       "      <th>7</th>\n",
       "      <td>8</td>\n",
       "      <td>6</td>\n",
       "      <td>41740</td>\n",
       "      <td>06-41740</td>\n",
       "      <td>6</td>\n",
       "      <td>99999</td>\n",
       "      <td>06-99999</td>\n",
       "      <td>4239</td>\n",
       "      <td>1</td>\n",
       "      <td>40</td>\n",
       "      <td>14</td>\n",
       "      <td>77</td>\n",
       "      <td>4</td>\n",
       "      <td>272</td>\n",
       "      <td>306</td>\n",
       "      <td>N</td>\n",
       "      <td>N</td>\n",
       "      <td>N</td>\n",
       "      <td>N</td>\n",
       "      <td>138.5</td>\n",
       "    </tr>\n",
       "    <tr>\n",
       "      <th>8</th>\n",
       "      <td>9</td>\n",
       "      <td>19</td>\n",
       "      <td>99999</td>\n",
       "      <td>19-99999</td>\n",
       "      <td>19</td>\n",
       "      <td>99999</td>\n",
       "      <td>19-99999</td>\n",
       "      <td>327</td>\n",
       "      <td>3</td>\n",
       "      <td>31</td>\n",
       "      <td>5</td>\n",
       "      <td>338</td>\n",
       "      <td>12826</td>\n",
       "      <td>10</td>\n",
       "      <td>15</td>\n",
       "      <td>N</td>\n",
       "      <td>N</td>\n",
       "      <td>N</td>\n",
       "      <td>N</td>\n",
       "      <td>2695.9</td>\n",
       "    </tr>\n",
       "    <tr>\n",
       "      <th>9</th>\n",
       "      <td>10</td>\n",
       "      <td>13</td>\n",
       "      <td>99999</td>\n",
       "      <td>13-99999</td>\n",
       "      <td>13</td>\n",
       "      <td>99999</td>\n",
       "      <td>13-99999</td>\n",
       "      <td>4237</td>\n",
       "      <td>2</td>\n",
       "      <td>34</td>\n",
       "      <td>5</td>\n",
       "      <td>145</td>\n",
       "      <td>22</td>\n",
       "      <td>21</td>\n",
       "      <td>28</td>\n",
       "      <td>N</td>\n",
       "      <td>N</td>\n",
       "      <td>N</td>\n",
       "      <td>N</td>\n",
       "      <td>489.1</td>\n",
       "    </tr>\n",
       "  </tbody>\n",
       "</table>\n",
       "</div>"
      ],
      "text/plain": [
       "   SHIPMT_ID  ORIG_STATE  ORIG_MA ORIG_CFS_AREA  DEST_STATE  DEST_MA  \\\n",
       "0          1          25      148        25-148          25      148   \n",
       "1          2          42      428        42-428           6    41740   \n",
       "2          3          26      220        26-220          47      314   \n",
       "3          4          20      556        20-556          20      556   \n",
       "4          5          12    99999      12-99999          12    99999   \n",
       "5          6          24    47900      24-47900          30    99999   \n",
       "6          7          19    99999      19-99999          19    99999   \n",
       "7          8           6    41740      06-41740           6    99999   \n",
       "8          9          19    99999      19-99999          19    99999   \n",
       "9         10          13    99999      13-99999          13    99999   \n",
       "\n",
       "  DEST_CFS_AREA  NAICS  QUARTER SCTG  MODE  SHIPMT_VALUE  SHIPMT_WGHT  \\\n",
       "0        25-148    333        2   35    14          2178           11   \n",
       "1      06-41740    311        3   35    14           344           11   \n",
       "2        47-314    322        2   27     4          4197         5134   \n",
       "3        20-556    323        1   29     4           116            6   \n",
       "4      12-99999   4235        3   33     5           388          527   \n",
       "5      30-99999    337        2   40     4          3716         1132   \n",
       "6      19-99999    337        3   26     5         43738        13501   \n",
       "7      06-99999   4239        1   40    14            77            4   \n",
       "8      19-99999    327        3   31     5           338        12826   \n",
       "9      13-99999   4237        2   34     5           145           22   \n",
       "\n",
       "   SHIPMT_DIST_GC  SHIPMT_DIST_ROUTED TEMP_CNTL_YN EXPORT_YN EXPORT_CNTRY  \\\n",
       "0              14                  17            N         N            N   \n",
       "1            2344                2734            N         N            N   \n",
       "2             470                 579            N         N            N   \n",
       "3               3                   3            N         N            N   \n",
       "4             124                 201            N         N            N   \n",
       "5            1942                2265            N         Y            C   \n",
       "6              16                  22            N         N            N   \n",
       "7             272                 306            N         N            N   \n",
       "8              10                  15            N         N            N   \n",
       "9              21                  28            N         N            N   \n",
       "\n",
       "  HAZMAT  WGT_FACTOR  \n",
       "0      N       208.5  \n",
       "1      N       193.3  \n",
       "2      N        51.2  \n",
       "3      N       238.7  \n",
       "4      N       398.1  \n",
       "5      N        21.9  \n",
       "6      N       310.5  \n",
       "7      N       138.5  \n",
       "8      N      2695.9  \n",
       "9      N       489.1  "
      ]
     },
     "metadata": {},
     "output_type": "display_data"
    },
    {
     "data": {
      "text/plain": [
       "'Last 10 observations'"
      ]
     },
     "metadata": {},
     "output_type": "display_data"
    },
    {
     "data": {
      "text/html": [
       "<div>\n",
       "<style scoped>\n",
       "    .dataframe tbody tr th:only-of-type {\n",
       "        vertical-align: middle;\n",
       "    }\n",
       "\n",
       "    .dataframe tbody tr th {\n",
       "        vertical-align: top;\n",
       "    }\n",
       "\n",
       "    .dataframe thead th {\n",
       "        text-align: right;\n",
       "    }\n",
       "</style>\n",
       "<table border=\"1\" class=\"dataframe\">\n",
       "  <thead>\n",
       "    <tr style=\"text-align: right;\">\n",
       "      <th></th>\n",
       "      <th>SHIPMT_ID</th>\n",
       "      <th>ORIG_STATE</th>\n",
       "      <th>ORIG_MA</th>\n",
       "      <th>ORIG_CFS_AREA</th>\n",
       "      <th>DEST_STATE</th>\n",
       "      <th>DEST_MA</th>\n",
       "      <th>DEST_CFS_AREA</th>\n",
       "      <th>NAICS</th>\n",
       "      <th>QUARTER</th>\n",
       "      <th>SCTG</th>\n",
       "      <th>MODE</th>\n",
       "      <th>SHIPMT_VALUE</th>\n",
       "      <th>SHIPMT_WGHT</th>\n",
       "      <th>SHIPMT_DIST_GC</th>\n",
       "      <th>SHIPMT_DIST_ROUTED</th>\n",
       "      <th>TEMP_CNTL_YN</th>\n",
       "      <th>EXPORT_YN</th>\n",
       "      <th>EXPORT_CNTRY</th>\n",
       "      <th>HAZMAT</th>\n",
       "      <th>WGT_FACTOR</th>\n",
       "    </tr>\n",
       "  </thead>\n",
       "  <tbody>\n",
       "    <tr>\n",
       "      <th>4547651</th>\n",
       "      <td>4547652</td>\n",
       "      <td>39</td>\n",
       "      <td>99999</td>\n",
       "      <td>39-99999</td>\n",
       "      <td>39</td>\n",
       "      <td>99999</td>\n",
       "      <td>39-99999</td>\n",
       "      <td>323</td>\n",
       "      <td>2</td>\n",
       "      <td>29</td>\n",
       "      <td>4</td>\n",
       "      <td>247</td>\n",
       "      <td>62</td>\n",
       "      <td>20</td>\n",
       "      <td>29</td>\n",
       "      <td>N</td>\n",
       "      <td>N</td>\n",
       "      <td>N</td>\n",
       "      <td>N</td>\n",
       "      <td>129.5</td>\n",
       "    </tr>\n",
       "    <tr>\n",
       "      <th>4547652</th>\n",
       "      <td>4547653</td>\n",
       "      <td>51</td>\n",
       "      <td>40060</td>\n",
       "      <td>51-40060</td>\n",
       "      <td>37</td>\n",
       "      <td>450</td>\n",
       "      <td>37-450</td>\n",
       "      <td>321</td>\n",
       "      <td>3</td>\n",
       "      <td>26</td>\n",
       "      <td>5</td>\n",
       "      <td>3371</td>\n",
       "      <td>26250</td>\n",
       "      <td>158</td>\n",
       "      <td>173</td>\n",
       "      <td>N</td>\n",
       "      <td>N</td>\n",
       "      <td>N</td>\n",
       "      <td>N</td>\n",
       "      <td>280.8</td>\n",
       "    </tr>\n",
       "    <tr>\n",
       "      <th>4547653</th>\n",
       "      <td>4547654</td>\n",
       "      <td>19</td>\n",
       "      <td>99999</td>\n",
       "      <td>19-99999</td>\n",
       "      <td>17</td>\n",
       "      <td>99999</td>\n",
       "      <td>17-99999</td>\n",
       "      <td>4234</td>\n",
       "      <td>3</td>\n",
       "      <td>21</td>\n",
       "      <td>5</td>\n",
       "      <td>23587</td>\n",
       "      <td>4718</td>\n",
       "      <td>172</td>\n",
       "      <td>182</td>\n",
       "      <td>N</td>\n",
       "      <td>N</td>\n",
       "      <td>N</td>\n",
       "      <td>N</td>\n",
       "      <td>175.3</td>\n",
       "    </tr>\n",
       "    <tr>\n",
       "      <th>4547654</th>\n",
       "      <td>4547655</td>\n",
       "      <td>12</td>\n",
       "      <td>422</td>\n",
       "      <td>12-422</td>\n",
       "      <td>29</td>\n",
       "      <td>99999</td>\n",
       "      <td>29-99999</td>\n",
       "      <td>332</td>\n",
       "      <td>3</td>\n",
       "      <td>33</td>\n",
       "      <td>4</td>\n",
       "      <td>6804</td>\n",
       "      <td>1201</td>\n",
       "      <td>886</td>\n",
       "      <td>1216</td>\n",
       "      <td>N</td>\n",
       "      <td>N</td>\n",
       "      <td>N</td>\n",
       "      <td>N</td>\n",
       "      <td>63.0</td>\n",
       "    </tr>\n",
       "    <tr>\n",
       "      <th>4547655</th>\n",
       "      <td>4547656</td>\n",
       "      <td>48</td>\n",
       "      <td>206</td>\n",
       "      <td>48-206</td>\n",
       "      <td>48</td>\n",
       "      <td>206</td>\n",
       "      <td>48-206</td>\n",
       "      <td>4237</td>\n",
       "      <td>3</td>\n",
       "      <td>33</td>\n",
       "      <td>5</td>\n",
       "      <td>1820</td>\n",
       "      <td>38</td>\n",
       "      <td>3</td>\n",
       "      <td>5</td>\n",
       "      <td>N</td>\n",
       "      <td>N</td>\n",
       "      <td>N</td>\n",
       "      <td>N</td>\n",
       "      <td>1679.3</td>\n",
       "    </tr>\n",
       "    <tr>\n",
       "      <th>4547656</th>\n",
       "      <td>4547657</td>\n",
       "      <td>9</td>\n",
       "      <td>408</td>\n",
       "      <td>09-408</td>\n",
       "      <td>34</td>\n",
       "      <td>408</td>\n",
       "      <td>34-408</td>\n",
       "      <td>323</td>\n",
       "      <td>4</td>\n",
       "      <td>29</td>\n",
       "      <td>14</td>\n",
       "      <td>7988</td>\n",
       "      <td>133</td>\n",
       "      <td>122</td>\n",
       "      <td>152</td>\n",
       "      <td>N</td>\n",
       "      <td>N</td>\n",
       "      <td>N</td>\n",
       "      <td>N</td>\n",
       "      <td>260.6</td>\n",
       "    </tr>\n",
       "    <tr>\n",
       "      <th>4547657</th>\n",
       "      <td>4547658</td>\n",
       "      <td>39</td>\n",
       "      <td>178</td>\n",
       "      <td>39-178</td>\n",
       "      <td>28</td>\n",
       "      <td>99999</td>\n",
       "      <td>28-99999</td>\n",
       "      <td>311</td>\n",
       "      <td>3</td>\n",
       "      <td>05</td>\n",
       "      <td>4</td>\n",
       "      <td>50808</td>\n",
       "      <td>29887</td>\n",
       "      <td>561</td>\n",
       "      <td>683</td>\n",
       "      <td>Y</td>\n",
       "      <td>N</td>\n",
       "      <td>N</td>\n",
       "      <td>N</td>\n",
       "      <td>20.0</td>\n",
       "    </tr>\n",
       "    <tr>\n",
       "      <th>4547658</th>\n",
       "      <td>4547659</td>\n",
       "      <td>36</td>\n",
       "      <td>408</td>\n",
       "      <td>36-408</td>\n",
       "      <td>36</td>\n",
       "      <td>408</td>\n",
       "      <td>36-408</td>\n",
       "      <td>336</td>\n",
       "      <td>4</td>\n",
       "      <td>36</td>\n",
       "      <td>5</td>\n",
       "      <td>685</td>\n",
       "      <td>137</td>\n",
       "      <td>13</td>\n",
       "      <td>16</td>\n",
       "      <td>N</td>\n",
       "      <td>N</td>\n",
       "      <td>N</td>\n",
       "      <td>N</td>\n",
       "      <td>164.3</td>\n",
       "    </tr>\n",
       "    <tr>\n",
       "      <th>4547659</th>\n",
       "      <td>4547660</td>\n",
       "      <td>48</td>\n",
       "      <td>12420</td>\n",
       "      <td>48-12420</td>\n",
       "      <td>48</td>\n",
       "      <td>12420</td>\n",
       "      <td>48-12420</td>\n",
       "      <td>4233</td>\n",
       "      <td>3</td>\n",
       "      <td>33</td>\n",
       "      <td>5</td>\n",
       "      <td>915</td>\n",
       "      <td>1240</td>\n",
       "      <td>20</td>\n",
       "      <td>22</td>\n",
       "      <td>N</td>\n",
       "      <td>N</td>\n",
       "      <td>N</td>\n",
       "      <td>N</td>\n",
       "      <td>1059.9</td>\n",
       "    </tr>\n",
       "    <tr>\n",
       "      <th>4547660</th>\n",
       "      <td>4547661</td>\n",
       "      <td>30</td>\n",
       "      <td>99999</td>\n",
       "      <td>30-99999</td>\n",
       "      <td>30</td>\n",
       "      <td>99999</td>\n",
       "      <td>30-99999</td>\n",
       "      <td>325</td>\n",
       "      <td>1</td>\n",
       "      <td>23</td>\n",
       "      <td>4</td>\n",
       "      <td>22482</td>\n",
       "      <td>75952</td>\n",
       "      <td>12</td>\n",
       "      <td>12</td>\n",
       "      <td>N</td>\n",
       "      <td>N</td>\n",
       "      <td>N</td>\n",
       "      <td>N</td>\n",
       "      <td>66.1</td>\n",
       "    </tr>\n",
       "  </tbody>\n",
       "</table>\n",
       "</div>"
      ],
      "text/plain": [
       "         SHIPMT_ID  ORIG_STATE  ORIG_MA ORIG_CFS_AREA  DEST_STATE  DEST_MA  \\\n",
       "4547651    4547652          39    99999      39-99999          39    99999   \n",
       "4547652    4547653          51    40060      51-40060          37      450   \n",
       "4547653    4547654          19    99999      19-99999          17    99999   \n",
       "4547654    4547655          12      422        12-422          29    99999   \n",
       "4547655    4547656          48      206        48-206          48      206   \n",
       "4547656    4547657           9      408        09-408          34      408   \n",
       "4547657    4547658          39      178        39-178          28    99999   \n",
       "4547658    4547659          36      408        36-408          36      408   \n",
       "4547659    4547660          48    12420      48-12420          48    12420   \n",
       "4547660    4547661          30    99999      30-99999          30    99999   \n",
       "\n",
       "        DEST_CFS_AREA  NAICS  QUARTER SCTG  MODE  SHIPMT_VALUE  SHIPMT_WGHT  \\\n",
       "4547651      39-99999    323        2   29     4           247           62   \n",
       "4547652        37-450    321        3   26     5          3371        26250   \n",
       "4547653      17-99999   4234        3   21     5         23587         4718   \n",
       "4547654      29-99999    332        3   33     4          6804         1201   \n",
       "4547655        48-206   4237        3   33     5          1820           38   \n",
       "4547656        34-408    323        4   29    14          7988          133   \n",
       "4547657      28-99999    311        3   05     4         50808        29887   \n",
       "4547658        36-408    336        4   36     5           685          137   \n",
       "4547659      48-12420   4233        3   33     5           915         1240   \n",
       "4547660      30-99999    325        1   23     4         22482        75952   \n",
       "\n",
       "         SHIPMT_DIST_GC  SHIPMT_DIST_ROUTED TEMP_CNTL_YN EXPORT_YN  \\\n",
       "4547651              20                  29            N         N   \n",
       "4547652             158                 173            N         N   \n",
       "4547653             172                 182            N         N   \n",
       "4547654             886                1216            N         N   \n",
       "4547655               3                   5            N         N   \n",
       "4547656             122                 152            N         N   \n",
       "4547657             561                 683            Y         N   \n",
       "4547658              13                  16            N         N   \n",
       "4547659              20                  22            N         N   \n",
       "4547660              12                  12            N         N   \n",
       "\n",
       "        EXPORT_CNTRY HAZMAT  WGT_FACTOR  \n",
       "4547651            N      N       129.5  \n",
       "4547652            N      N       280.8  \n",
       "4547653            N      N       175.3  \n",
       "4547654            N      N        63.0  \n",
       "4547655            N      N      1679.3  \n",
       "4547656            N      N       260.6  \n",
       "4547657            N      N        20.0  \n",
       "4547658            N      N       164.3  \n",
       "4547659            N      N      1059.9  \n",
       "4547660            N      N        66.1  "
      ]
     },
     "metadata": {},
     "output_type": "display_data"
    }
   ],
   "source": [
    "# Analyze first and last 10 rows\n",
    "display(\"First 10 observations\", dataset.head(10))\n",
    "display(\"Last 10 observations\", dataset.tail(10))"
   ]
  },
  {
   "cell_type": "code",
   "execution_count": 4,
   "metadata": {},
   "outputs": [
    {
     "name": "stdout",
     "output_type": "stream",
     "text": [
      "False\n"
     ]
    }
   ],
   "source": [
    "# Setting Shipment Id as the index for the dataset\n",
    "is_dupliate_In_Shipment_Id = dataset['SHIPMT_ID'].duplicated().any()\n",
    "print(is_dupliate_In_Shipment_Id)\n",
    "del is_dupliate_In_Shipment_Id\n",
    "dataset.set_index('SHIPMT_ID',inplace=True)"
   ]
  },
  {
   "cell_type": "code",
   "execution_count": 5,
   "metadata": {},
   "outputs": [
    {
     "data": {
      "text/plain": [
       "EXPORT_CNTRY    1\n",
       "EXPORT_YN       1\n",
       "dtype: int64"
      ]
     },
     "execution_count": 5,
     "metadata": {},
     "output_type": "execute_result"
    }
   ],
   "source": [
    "# dropping EXPORT_YN=='Y', inconsistency in data where EXPORT_YN=='Y', incorrect destination and distance.\n",
    "dataset = dataset[dataset['EXPORT_YN'] == 'N']\n",
    "\n",
    "# Reason for filtering this columns with N\n",
    "dataset[['EXPORT_CNTRY', 'EXPORT_YN']].nunique()\n"
   ]
  },
  {
   "cell_type": "code",
   "execution_count": 6,
   "metadata": {},
   "outputs": [],
   "source": [
    "# Removing ORIG_CFS_AREA and DEST_CFS_AREA as these columsn are derived from\n",
    "dataset.drop(['ORIG_CFS_AREA', 'DEST_CFS_AREA', 'EXPORT_CNTRY', 'EXPORT_YN', 'NAICS'], axis=1, inplace = True)\n",
    "\n",
    "# Reason for dropping these columns"
   ]
  },
  {
   "cell_type": "code",
   "execution_count": 7,
   "metadata": {},
   "outputs": [
    {
     "name": "stdout",
     "output_type": "stream",
     "text": [
      "<class 'pandas.core.frame.DataFrame'>\n",
      "Int64Index: 4361940 entries, 1 to 4547661\n",
      "Data columns (total 14 columns):\n",
      " #   Column              Dtype  \n",
      "---  ------              -----  \n",
      " 0   ORIG_STATE          int64  \n",
      " 1   ORIG_MA             int64  \n",
      " 2   DEST_STATE          int64  \n",
      " 3   DEST_MA             int64  \n",
      " 4   QUARTER             int64  \n",
      " 5   SCTG                object \n",
      " 6   MODE                int64  \n",
      " 7   SHIPMT_VALUE        int64  \n",
      " 8   SHIPMT_WGHT         int64  \n",
      " 9   SHIPMT_DIST_GC      int64  \n",
      " 10  SHIPMT_DIST_ROUTED  int64  \n",
      " 11  TEMP_CNTL_YN        object \n",
      " 12  HAZMAT              object \n",
      " 13  WGT_FACTOR          float64\n",
      "dtypes: float64(1), int64(10), object(3)\n",
      "memory usage: 499.2+ MB\n"
     ]
    }
   ],
   "source": [
    "# Analyze the datatype of all the variables and convert to appropriate one\n",
    "dataset.info()"
   ]
  },
  {
   "cell_type": "code",
   "execution_count": 8,
   "metadata": {},
   "outputs": [
    {
     "name": "stdout",
     "output_type": "stream",
     "text": [
      "<class 'pandas.core.frame.DataFrame'>\n",
      "Int64Index: 4361940 entries, 1 to 4547661\n",
      "Data columns (total 14 columns):\n",
      " #   Column              Dtype  \n",
      "---  ------              -----  \n",
      " 0   ORIG_STATE          object \n",
      " 1   ORIG_MA             object \n",
      " 2   DEST_STATE          object \n",
      " 3   DEST_MA             object \n",
      " 4   QUARTER             object \n",
      " 5   SCTG                object \n",
      " 6   MODE                object \n",
      " 7   SHIPMT_VALUE        int64  \n",
      " 8   SHIPMT_WGHT         int64  \n",
      " 9   SHIPMT_DIST_GC      int64  \n",
      " 10  SHIPMT_DIST_ROUTED  int64  \n",
      " 11  TEMP_CNTL_YN        object \n",
      " 12  HAZMAT              object \n",
      " 13  WGT_FACTOR          float64\n",
      "dtypes: float64(1), int64(4), object(9)\n",
      "memory usage: 499.2+ MB\n"
     ]
    }
   ],
   "source": [
    "#Convert datatype of below variables to appropriate one\n",
    "dataset.ORIG_STATE = dataset.ORIG_STATE.astype(str)\n",
    "dataset.ORIG_MA = dataset.ORIG_MA.astype(str)\n",
    "dataset.DEST_STATE = dataset.DEST_STATE.astype(str)\n",
    "dataset.DEST_MA = dataset.DEST_MA.astype(str)\n",
    "dataset.QUARTER = dataset.QUARTER.astype(str)\n",
    "dataset.MODE = dataset.MODE.astype(str)\n",
    "\n",
    "# Verify dataset again\n",
    "dataset.info()"
   ]
  },
  {
   "cell_type": "markdown",
   "metadata": {},
   "source": [
    "# Preprocessing for Categorical Variables"
   ]
  },
  {
   "cell_type": "code",
   "execution_count": 9,
   "metadata": {},
   "outputs": [
    {
     "name": "stdout",
     "output_type": "stream",
     "text": [
      "ORIG_STATE:\n",
      "      ['25' '42' '26' '20' '12' '19' '6' '13' '55' '39' '33' '31' '54' '32' '9'\n",
      " '17' '37' '48' '18' '29' '49' '36' '27' '53' '47' '34' '5' '38' '56' '1'\n",
      " '51' '23' '45' '8' '35' '4' '21' '28' '41' '44' '2' '16' '40' '46' '22'\n",
      " '15' '30' '24' '10' '50' '11' '0']\n",
      "ORIG_MA:\n",
      "      ['148' '428' '220' '556' '99999' '41740' '184' '332' '408' '450' '172'\n",
      " '176' '348' '476' '482' '122' '104' '378' '370' '41700' '440' '400' '368'\n",
      " '420' '206' '268' '545' '312' '376' '40060' '142' '216' '25540' '38060'\n",
      " '350' '430' '266' '294' '178' '300' '488' '0' '472' '238' '416' '47900'\n",
      " '260' '288' '212' '273' '12940' '536' '500' '160' '464' '198' '45300'\n",
      " '538' '406' '46520' '12580' '258' '380' '422' '314' '12420' '496' '29340'\n",
      " '13140' '16700' '29700' '204']\n",
      "DEST_STATE:\n",
      "      ['25' '6' '47' '20' '12' '19' '13' '36' '42' '34' '31' '27' '39' '51' '48'\n",
      " '37' '55' '17' '49' '44' '18' '29' '1' '26' '9' '54' '32' '38' '40' '23'\n",
      " '45' '28' '8' '56' '4' '53' '21' '24' '33' '41' '2' '5' '22' '46' '16'\n",
      " '15' '30' '35' '50' '10' '11']\n",
      "DEST_MA:\n",
      "      ['148' '41740' '314' '556' '99999' '464' '408' '198' '288' '400' '184'\n",
      " '268' '122' '312' '482' '176' '104' '378' '545' '376' '370' '41700' '220'\n",
      " '420' '206' '348' '178' '416' '273' '216' '238' '40060' '38060' '212'\n",
      " '500' '450' '430' '428' '294' '47900' '536' '172' '488' '476' '440' '472'\n",
      " '16700' '25540' '12940' '204' '368' '258' '12580' '142' '45300' '422'\n",
      " '538' '350' '12420' '300' '260' '406' '29340' '332' '46520' '160' '29700'\n",
      " '496' '266' '380' '13140']\n",
      "QUARTER:\n",
      "      ['2' '3' '1' '4']\n",
      "SCTG:\n",
      "      ['35' '27' '29' '33' '26' '40' '31' '34' '20' '21' '04' '36' '25' '30'\n",
      " '24' '32' '39' '05' '28' '03' '19' '12' '23' '17' '43' '38' '06' '41'\n",
      " '08' '07' '02' '18' '25-30' '37' '22' '15' '11' '13' '01-05' '09' '10-14'\n",
      " '10' '06-09' '14' '20-24' '01' '31-34' '35-38' '15-19' '00' '39-99' '99']\n",
      "MODE:\n",
      "      ['14' '4' '5' '6' '11' '2' '12' '8' '15' '13' '16' '10' '0' '20' '3' '17'\n",
      " '19' '7' '9' '101']\n",
      "TEMP_CNTL_YN:\n",
      "      ['N' 'Y']\n",
      "HAZMAT:\n",
      "      ['N' 'H' 'P']\n"
     ]
    }
   ],
   "source": [
    "#Create and Analyze Cross table for categorical variables\n",
    "for col in dataset.columns:\n",
    "    if str(dataset[col].dtype) in [\"str\", \"object\"]:\n",
    "        print(f'{col}:\\n      {dataset[col].unique()}')"
   ]
  },
  {
   "cell_type": "code",
   "execution_count": 10,
   "metadata": {},
   "outputs": [],
   "source": [
    "# Defining 0(ORIG_STATE, ORIG_MA, MODE), 00(SCTG) , 104(ORIG_MA,DEST_MA) and 99(SCTG) as Missing for ORIG_STATE, \n",
    "# ORIG_MA, DEST_MA, SCTG, MODE. \n",
    "\n",
    "def definingNA(x):\n",
    "    if (x in ('0','00','99','104')):\n",
    "        x = \"\"\n",
    "    else:\n",
    "        return x\n",
    "\n",
    "#Defining supressed values '0','00','99' as Missing. \n",
    "dataset['ORIG_STATE']=dataset['ORIG_STATE'].apply(definingNA)\n",
    "dataset['ORIG_MA']=dataset['ORIG_MA'].apply(definingNA)\n",
    "dataset['DEST_MA']=dataset['DEST_MA'].apply(definingNA)\n",
    "dataset['SCTG']=dataset['SCTG'].apply(definingNA)\n",
    "dataset['MODE']=dataset['MODE'].apply(definingNA)"
   ]
  },
  {
   "cell_type": "code",
   "execution_count": 11,
   "metadata": {},
   "outputs": [
    {
     "name": "stdout",
     "output_type": "stream",
     "text": [
      "Count of missing values in Categorical Variables\n",
      "ORIG_STATE         26\n",
      "ORIG_MA         28917\n",
      "DEST_STATE          0\n",
      "DEST_MA         18052\n",
      "QUARTER             0\n",
      "SCTG              569\n",
      "MODE              555\n",
      "TEMP_CNTL_YN        0\n",
      "HAZMAT              0\n",
      "dtype: int64\n"
     ]
    }
   ],
   "source": [
    "# Number of missing/invalid values in categorical data\n",
    "print(\"Count of missing values in Categorical Variables\")\n",
    "print(dataset[['ORIG_STATE', 'ORIG_MA', 'DEST_STATE', 'DEST_MA', 'QUARTER', 'SCTG',\n",
    "       'MODE', 'TEMP_CNTL_YN', 'HAZMAT']].isna().sum())"
   ]
  },
  {
   "cell_type": "code",
   "execution_count": 12,
   "metadata": {},
   "outputs": [
    {
     "name": "stdout",
     "output_type": "stream",
     "text": [
      "Count of missing values in Categorical Variables\n",
      "ORIG_STATE      0\n",
      "ORIG_MA         0\n",
      "DEST_STATE      0\n",
      "DEST_MA         0\n",
      "QUARTER         0\n",
      "SCTG            0\n",
      "MODE            0\n",
      "TEMP_CNTL_YN    0\n",
      "HAZMAT          0\n",
      "dtype: int64\n"
     ]
    }
   ],
   "source": [
    "# less than 1% of data is missing, we can drop all rows with missing values\n",
    "dataset.dropna(inplace=True)\n",
    "\n",
    "# Verify Number of missing values in categorical data to be zero\n",
    "print(\"Count of missing values in Categorical Variables\")\n",
    "print(dataset[['ORIG_STATE', 'ORIG_MA', 'DEST_STATE', 'DEST_MA', 'QUARTER', 'SCTG',\n",
    "       'MODE', 'TEMP_CNTL_YN', 'HAZMAT']].isna().sum())"
   ]
  },
  {
   "cell_type": "code",
   "execution_count": 13,
   "metadata": {},
   "outputs": [],
   "source": [
    "# As SCTG contains inconsistent data, hence imputing industries name into new variable SCTG_Group\n",
    "# converting SCTG codes to INDUSTRIES, refering STATS CAN website\n",
    "# https://www150.statcan.gc.ca/n1/pub/50-503-x/50-503-x2018001-eng.htm\n",
    "\n",
    "def SCTG_IND(SCTG):\n",
    "    if SCTG in ('01', '01-05', '02', '03', '04', '05'):\n",
    "        return 'AGRI'\n",
    "    elif SCTG in ('06', '06-09', '07','08', '09'):\n",
    "        return 'FOOD'\n",
    "    elif SCTG in ('10', '10-14', '11', '12', '13', '14'): \n",
    "        return 'MNRLS'\n",
    "    elif SCTG in ('15', '15-19','17', '18', '19'):\n",
    "        return 'FUEL'\n",
    "    elif SCTG in ('20', '20-24', '21', '22', '23', '24'):\n",
    "        return 'PLCHM'\n",
    "    elif SCTG in ('25','25-30', '26', '27', '28', '29'):\n",
    "        return 'FRPAP'\n",
    "    elif SCTG in ('31', '31-34', '32', '33'):\n",
    "        return 'BMETL'\n",
    "    elif SCTG in ('35-38', '36', '37', '38'):\n",
    "        return 'TRANS'\n",
    "    elif SCTG =='41':\n",
    "        return 'WASTE'\n",
    "    elif SCTG in ('30','34','35','39','39-99'):\n",
    "        return 'OTHMF'\n",
    "    elif SCTG in ('40','43'):\n",
    "        return 'MISC'"
   ]
  },
  {
   "cell_type": "code",
   "execution_count": 14,
   "metadata": {},
   "outputs": [],
   "source": [
    "# converting SCTG codes to INDUSTRIES, refering STATS CAN website\n",
    "dataset['SCTG_GROUP'] = dataset['SCTG'].apply(SCTG_IND)"
   ]
  },
  {
   "cell_type": "code",
   "execution_count": 15,
   "metadata": {},
   "outputs": [
    {
     "data": {
      "text/plain": [
       "array(['OTHMF', 'FRPAP', 'BMETL', 'MISC', 'PLCHM', 'AGRI', 'TRANS',\n",
       "       'FUEL', 'MNRLS', 'FOOD', 'WASTE'], dtype=object)"
      ]
     },
     "execution_count": 15,
     "metadata": {},
     "output_type": "execute_result"
    }
   ],
   "source": [
    "# Analyze unique values from SCTG_GROUP\n",
    "dataset['SCTG_GROUP'].unique()"
   ]
  },
  {
   "cell_type": "code",
   "execution_count": 16,
   "metadata": {},
   "outputs": [
    {
     "data": {
      "text/plain": [
       "array(['OTHMF', 'FRPAP', 'BMETL', 'PLCHM', 'AGRI', 'TRANS', 'FUEL',\n",
       "       'MNRLS', 'FOOD', 'WASTE'], dtype=object)"
      ]
     },
     "execution_count": 16,
     "metadata": {},
     "output_type": "execute_result"
    }
   ],
   "source": [
    "# dropping SCTG=='MISC' due to inconsistency in data, 'miscellaneous' SCTG values will affect the SHIPMENT VALUES and WEIGHT \n",
    "dataset = dataset[dataset['SCTG_GROUP'] != 'MISC']\n",
    "\n",
    "dataset['SCTG_GROUP'].unique()"
   ]
  },
  {
   "cell_type": "code",
   "execution_count": 17,
   "metadata": {},
   "outputs": [],
   "source": [
    "dataset.drop(['SCTG'], axis=1, inplace = True)"
   ]
  },
  {
   "cell_type": "code",
   "execution_count": 18,
   "metadata": {},
   "outputs": [],
   "source": [
    "dataset=dataset[(dataset['SCTG_GROUP']=='AGRI') | (dataset['SCTG_GROUP']=='FOOD') | \n",
    "        (dataset['SCTG_GROUP']=='FUEL') | (dataset['SCTG_GROUP']=='PLCHM')]"
   ]
  },
  {
   "cell_type": "markdown",
   "metadata": {},
   "source": [
    "# Preprocessing for Quantitative Variables"
   ]
  },
  {
   "cell_type": "code",
   "execution_count": 19,
   "metadata": {},
   "outputs": [
    {
     "name": "stdout",
     "output_type": "stream",
     "text": [
      "Mean                           >>> 21177.02900481638\n",
      "Median                         >>> 1419.0\n",
      "Mode                           >>> 0    32\n",
      "dtype: int64\n",
      "Standard Deviation             >>> 364518.1525370857\n",
      "Maxiumn                        >>> 58737900\n",
      "Minimum                        >>> 1\n",
      "Skewness                       >>> 75.8993371095692\n"
     ]
    },
    {
     "data": {
      "image/png": "[encoded data removed]",
      "text/plain": [
       "<Figure size 432x288 with 1 Axes>"
      ]
     },
     "metadata": {
      "needs_background": "light"
     },
     "output_type": "display_data"
    },
    {
     "data": {
      "text/plain": [
       "<matplotlib.axes._subplots.AxesSubplot at 0x173a4e98448>"
      ]
     },
     "execution_count": 19,
     "metadata": {},
     "output_type": "execute_result"
    },
    {
     "data": {
      "image/png": "[encoded data removed]",
      "text/plain": [
       "<Figure size 432x288 with 1 Axes>"
      ]
     },
     "metadata": {
      "needs_background": "light"
     },
     "output_type": "display_data"
    }
   ],
   "source": [
    "# Check statistics for SHIPMT_VALUE\n",
    "# Analyze SHIPMT_VALUE for distribution, Outliers and Skewness\n",
    "dataset[\"SHIPMT_VALUE\"] = dataset[\"SHIPMT_VALUE\"]\n",
    "\n",
    "# Statistics for SHIPMT_VALUE\n",
    "print(f'{\"Mean\":30s} >>> {dataset[\"SHIPMT_VALUE\"].mean()}')\n",
    "print(f'{\"Median\":30s} >>> {dataset[\"SHIPMT_VALUE\"].median()}')\n",
    "print(f'{\"Mode\":30s} >>> {dataset[\"SHIPMT_VALUE\"].mode()}')\n",
    "print(f'{\"Standard Deviation\":30s} >>> {dataset[\"SHIPMT_VALUE\"].std()}')\n",
    "print(f'{\"Maxiumn\":30s} >>> {dataset[\"SHIPMT_VALUE\"].max()}')\n",
    "print(f'{\"Minimum\":30s} >>> {dataset[\"SHIPMT_VALUE\"].min()}')\n",
    "print(f'{\"Skewness\":30s} >>> {dataset[\"SHIPMT_VALUE\"].skew()}')\n",
    "\n",
    "# Check for distribution\n",
    "dataset[\"SHIPMT_VALUE\"].hist(bins=100, grid=False, xlabelsize=12, ylabelsize=12)\n",
    "plt.xlabel(\"Life Expectancy\", fontsize=15)\n",
    "plt.ylabel(\"Frequency\",fontsize=15)\n",
    "sns.distplot(dataset[\"SHIPMT_VALUE\"])\n",
    "plt.show()\n",
    "\n",
    "# Check for outliers\n",
    "sns.boxplot(x=dataset[\"SHIPMT_VALUE\"])"
   ]
  },
  {
   "cell_type": "code",
   "execution_count": 20,
   "metadata": {},
   "outputs": [],
   "source": [
    "# As the data is highly skewed, team decided to remove outliers\n",
    "dataset = dataset[(dataset['SHIPMT_VALUE']>100) & (dataset['SHIPMT_VALUE']<1000000)]"
   ]
  },
  {
   "cell_type": "code",
   "execution_count": 21,
   "metadata": {},
   "outputs": [
    {
     "name": "stdout",
     "output_type": "stream",
     "text": [
      "Mean                           >>> 66480.41222651622\n",
      "Median                         >>> 1842.0\n",
      "Mode                           >>> 0    1\n",
      "dtype: int64\n",
      "Standard Deviation             >>> 1210623.9292764526\n",
      "Maxiumn                        >>> 277029600\n",
      "Minimum                        >>> 1\n",
      "Skewness                       >>> 48.49553346960931\n"
     ]
    },
    {
     "data": {
      "image/png": "[encoded data removed]",
      "text/plain": [
       "<Figure size 432x288 with 1 Axes>"
      ]
     },
     "metadata": {
      "needs_background": "light"
     },
     "output_type": "display_data"
    },
    {
     "data": {
      "text/plain": [
       "<matplotlib.axes._subplots.AxesSubplot at 0x17458b58dc8>"
      ]
     },
     "execution_count": 21,
     "metadata": {},
     "output_type": "execute_result"
    },
    {
     "data": {
      "image/png": "[encoded data removed]",
      "text/plain": [
       "<Figure size 432x288 with 1 Axes>"
      ]
     },
     "metadata": {
      "needs_background": "light"
     },
     "output_type": "display_data"
    }
   ],
   "source": [
    "# Analyze shipment weight\n",
    "dataset[\"SHIPMT_WGHT\"] = dataset[\"SHIPMT_WGHT\"]\n",
    "\n",
    "# Statistics for SHIPMT_WGHT\n",
    "print(f'{\"Mean\":30s} >>> {dataset[\"SHIPMT_WGHT\"].mean()}')\n",
    "print(f'{\"Median\":30s} >>> {dataset[\"SHIPMT_WGHT\"].median()}')\n",
    "print(f'{\"Mode\":30s} >>> {dataset[\"SHIPMT_WGHT\"].mode()}')\n",
    "print(f'{\"Standard Deviation\":30s} >>> {dataset[\"SHIPMT_WGHT\"].std()}')\n",
    "print(f'{\"Maxiumn\":30s} >>> {dataset[\"SHIPMT_WGHT\"].max()}')\n",
    "print(f'{\"Minimum\":30s} >>> {dataset[\"SHIPMT_WGHT\"].min()}')\n",
    "print(f'{\"Skewness\":30s} >>> {dataset[\"SHIPMT_WGHT\"].skew()}')\n",
    "\n",
    "# Check for distribution\n",
    "dataset[\"SHIPMT_WGHT\"].hist(bins=100, grid=False, xlabelsize=12, ylabelsize=12)\n",
    "plt.xlabel(\"Life Expectancy\", fontsize=15)\n",
    "plt.ylabel(\"Frequency\",fontsize=15)\n",
    "sns.distplot(dataset[\"SHIPMT_WGHT\"])\n",
    "plt.show()\n",
    "\n",
    "# Check for outliers\n",
    "sns.boxplot(x=dataset[\"SHIPMT_WGHT\"])"
   ]
  },
  {
   "cell_type": "code",
   "execution_count": 22,
   "metadata": {},
   "outputs": [
    {
     "name": "stdout",
     "output_type": "stream",
     "text": [
      "Mean                           >>> 278.5806245236332\n",
      "Median                         >>> 56.0\n",
      "Mode                           >>> 0    3\n",
      "dtype: int64\n",
      "Standard Deviation             >>> 478.71562670077657\n",
      "Maxiumn                        >>> 5153\n",
      "Minimum                        >>> 1\n",
      "Skewness                       >>> 2.702101649746842\n"
     ]
    },
    {
     "data": {
      "image/png": "[encoded data removed]",
      "text/plain": [
       "<Figure size 432x288 with 1 Axes>"
      ]
     },
     "metadata": {
      "needs_background": "light"
     },
     "output_type": "display_data"
    },
    {
     "data": {
      "text/plain": [
       "<matplotlib.axes._subplots.AxesSubplot at 0x17458a730c8>"
      ]
     },
     "execution_count": 22,
     "metadata": {},
     "output_type": "execute_result"
    },
    {
     "data": {
      "image/png": "[encoded data removed]",
      "text/plain": [
       "<Figure size 432x288 with 1 Axes>"
      ]
     },
     "metadata": {
      "needs_background": "light"
     },
     "output_type": "display_data"
    }
   ],
   "source": [
    "# Analyze Shipmen Dist gc\n",
    "dataset[\"SHIPMT_DIST_GC\"] = dataset[\"SHIPMT_DIST_GC\"]\n",
    "\n",
    "# Statistics for SHIPMT_DIST_GC\n",
    "print(f'{\"Mean\":30s} >>> {dataset[\"SHIPMT_DIST_GC\"].mean()}')\n",
    "print(f'{\"Median\":30s} >>> {dataset[\"SHIPMT_DIST_GC\"].median()}')\n",
    "print(f'{\"Mode\":30s} >>> {dataset[\"SHIPMT_DIST_GC\"].mode()}')\n",
    "print(f'{\"Standard Deviation\":30s} >>> {dataset[\"SHIPMT_DIST_GC\"].std()}')\n",
    "print(f'{\"Maxiumn\":30s} >>> {dataset[\"SHIPMT_DIST_GC\"].max()}')\n",
    "print(f'{\"Minimum\":30s} >>> {dataset[\"SHIPMT_DIST_GC\"].min()}')\n",
    "print(f'{\"Skewness\":30s} >>> {dataset[\"SHIPMT_DIST_GC\"].skew()}')\n",
    "\n",
    "# Check for distribution\n",
    "dataset[\"SHIPMT_DIST_GC\"].hist(bins=100, grid=False, xlabelsize=12, ylabelsize=12)\n",
    "plt.xlabel(\"Life Expectancy\", fontsize=15)\n",
    "plt.ylabel(\"Frequency\",fontsize=15)\n",
    "sns.distplot(dataset[\"SHIPMT_DIST_GC\"])\n",
    "plt.show()\n",
    "\n",
    "# Check for outliers\n",
    "sns.boxplot(x=dataset[\"SHIPMT_DIST_GC\"])"
   ]
  },
  {
   "cell_type": "code",
   "execution_count": 23,
   "metadata": {},
   "outputs": [
    {
     "name": "stdout",
     "output_type": "stream",
     "text": [
      "Mean                           >>> 340.07432285696797\n",
      "Median                         >>> 70.0\n",
      "Mode                           >>> 0    4\n",
      "dtype: int64\n",
      "Standard Deviation             >>> 573.061542033498\n",
      "Maxiumn                        >>> 5596\n",
      "Minimum                        >>> 1\n",
      "Skewness                       >>> 2.5458867251789377\n"
     ]
    },
    {
     "data": {
      "image/png": "[encoded data removed]",
      "text/plain": [
       "<Figure size 432x288 with 1 Axes>"
      ]
     },
     "metadata": {
      "needs_background": "light"
     },
     "output_type": "display_data"
    },
    {
     "data": {
      "text/plain": [
       "<matplotlib.axes._subplots.AxesSubplot at 0x174589db9c8>"
      ]
     },
     "execution_count": 23,
     "metadata": {},
     "output_type": "execute_result"
    },
    {
     "data": {
      "image/png": "[encoded data removed]",
      "text/plain": [
       "<Figure size 432x288 with 1 Axes>"
      ]
     },
     "metadata": {
      "needs_background": "light"
     },
     "output_type": "display_data"
    }
   ],
   "source": [
    "# Analyze Shipment dist routed\n",
    "dataset[\"SHIPMT_DIST_ROUTED\"] = dataset[\"SHIPMT_DIST_ROUTED\"]\n",
    "\n",
    "# Statistics for SHIPMT_DIST_ROUTED\n",
    "print(f'{\"Mean\":30s} >>> {dataset[\"SHIPMT_DIST_ROUTED\"].mean()}')\n",
    "print(f'{\"Median\":30s} >>> {dataset[\"SHIPMT_DIST_ROUTED\"].median()}')\n",
    "print(f'{\"Mode\":30s} >>> {dataset[\"SHIPMT_DIST_ROUTED\"].mode()}')\n",
    "print(f'{\"Standard Deviation\":30s} >>> {dataset[\"SHIPMT_DIST_ROUTED\"].std()}')\n",
    "print(f'{\"Maxiumn\":30s} >>> {dataset[\"SHIPMT_DIST_ROUTED\"].max()}')\n",
    "print(f'{\"Minimum\":30s} >>> {dataset[\"SHIPMT_DIST_ROUTED\"].min()}')\n",
    "print(f'{\"Skewness\":30s} >>> {dataset[\"SHIPMT_DIST_ROUTED\"].skew()}')\n",
    "\n",
    "# Check for distribution\n",
    "dataset[\"SHIPMT_DIST_ROUTED\"].hist(bins=100, grid=False, xlabelsize=12, ylabelsize=12)\n",
    "plt.xlabel(\"Life Expectancy\", fontsize=15)\n",
    "plt.ylabel(\"Frequency\",fontsize=15)\n",
    "sns.distplot(dataset[\"SHIPMT_DIST_ROUTED\"])\n",
    "plt.show()\n",
    "\n",
    "# Check for outliers\n",
    "sns.boxplot(x=dataset[\"SHIPMT_DIST_ROUTED\"])"
   ]
  },
  {
   "cell_type": "code",
   "execution_count": 24,
   "metadata": {},
   "outputs": [
    {
     "name": "stdout",
     "output_type": "stream",
     "text": [
      "Mean                           >>> 1187.6517069546658\n",
      "Median                         >>> 245.4\n",
      "Mode                           >>> 0    17.6\n",
      "dtype: float64\n",
      "Standard Deviation             >>> 8207.183530192078\n",
      "Maxiumn                        >>> 975000.0\n",
      "Minimum                        >>> 0.6\n",
      "Skewness                       >>> 69.15215222060169\n"
     ]
    },
    {
     "data": {
      "image/png": "[encoded data removed]",
      "text/plain": [
       "<Figure size 432x288 with 1 Axes>"
      ]
     },
     "metadata": {
      "needs_background": "light"
     },
     "output_type": "display_data"
    },
    {
     "data": {
      "text/plain": [
       "<matplotlib.axes._subplots.AxesSubplot at 0x17458946a48>"
      ]
     },
     "execution_count": 24,
     "metadata": {},
     "output_type": "execute_result"
    },
    {
     "data": {
      "image/png": "[encoded data removed]",
      "text/plain": [
       "<Figure size 432x288 with 1 Axes>"
      ]
     },
     "metadata": {
      "needs_background": "light"
     },
     "output_type": "display_data"
    }
   ],
   "source": [
    "# Analyze Weight Factor\n",
    "dataset[\"WGT_FACTOR\"] = dataset[\"WGT_FACTOR\"]\n",
    "\n",
    "# Statistics for WGT_FACTOR\n",
    "print(f'{\"Mean\":30s} >>> {dataset[\"WGT_FACTOR\"].mean()}')\n",
    "print(f'{\"Median\":30s} >>> {dataset[\"WGT_FACTOR\"].median()}')\n",
    "print(f'{\"Mode\":30s} >>> {dataset[\"WGT_FACTOR\"].mode()}')\n",
    "print(f'{\"Standard Deviation\":30s} >>> {dataset[\"WGT_FACTOR\"].std()}')\n",
    "print(f'{\"Maxiumn\":30s} >>> {dataset[\"WGT_FACTOR\"].max()}')\n",
    "print(f'{\"Minimum\":30s} >>> {dataset[\"WGT_FACTOR\"].min()}')\n",
    "print(f'{\"Skewness\":30s} >>> {dataset[\"WGT_FACTOR\"].skew()}')\n",
    "\n",
    "# Check for distribution\n",
    "dataset[\"WGT_FACTOR\"].hist(bins=100, grid=False, xlabelsize=12, ylabelsize=12)\n",
    "plt.xlabel(\"Life Expectancy\", fontsize=15)\n",
    "plt.ylabel(\"Frequency\",fontsize=15)\n",
    "sns.distplot(dataset[\"WGT_FACTOR\"])\n",
    "plt.show()\n",
    "\n",
    "# Check for outliers\n",
    "sns.boxplot(x=dataset[\"WGT_FACTOR\"])"
   ]
  },
  {
   "cell_type": "code",
   "execution_count": 25,
   "metadata": {},
   "outputs": [
    {
     "data": {
      "text/plain": [
       "1192621"
      ]
     },
     "execution_count": 25,
     "metadata": {},
     "output_type": "execute_result"
    }
   ],
   "source": [
    "dataset.WGT_FACTOR.count()"
   ]
  },
  {
   "cell_type": "code",
   "execution_count": 26,
   "metadata": {},
   "outputs": [
    {
     "data": {
      "text/plain": [
       "(1192621, 14)"
      ]
     },
     "execution_count": 26,
     "metadata": {},
     "output_type": "execute_result"
    }
   ],
   "source": [
    "dataset.shape"
   ]
  },
  {
   "cell_type": "code",
   "execution_count": 27,
   "metadata": {},
   "outputs": [
    {
     "data": {
      "text/plain": [
       "'First 10 observations'"
      ]
     },
     "metadata": {},
     "output_type": "display_data"
    },
    {
     "data": {
      "text/html": [
       "<div>\n",
       "<style scoped>\n",
       "    .dataframe tbody tr th:only-of-type {\n",
       "        vertical-align: middle;\n",
       "    }\n",
       "\n",
       "    .dataframe tbody tr th {\n",
       "        vertical-align: top;\n",
       "    }\n",
       "\n",
       "    .dataframe thead th {\n",
       "        text-align: right;\n",
       "    }\n",
       "</style>\n",
       "<table border=\"1\" class=\"dataframe\">\n",
       "  <thead>\n",
       "    <tr style=\"text-align: right;\">\n",
       "      <th></th>\n",
       "      <th>ORIG_STATE</th>\n",
       "      <th>ORIG_MA</th>\n",
       "      <th>DEST_STATE</th>\n",
       "      <th>DEST_MA</th>\n",
       "      <th>QUARTER</th>\n",
       "      <th>MODE</th>\n",
       "      <th>SHIPMT_VALUE</th>\n",
       "      <th>SHIPMT_WGHT</th>\n",
       "      <th>SHIPMT_DIST_GC</th>\n",
       "      <th>SHIPMT_DIST_ROUTED</th>\n",
       "      <th>TEMP_CNTL_YN</th>\n",
       "      <th>HAZMAT</th>\n",
       "      <th>WGT_FACTOR</th>\n",
       "      <th>SCTG_GROUP</th>\n",
       "    </tr>\n",
       "    <tr>\n",
       "      <th>SHIPMT_ID</th>\n",
       "      <th></th>\n",
       "      <th></th>\n",
       "      <th></th>\n",
       "      <th></th>\n",
       "      <th></th>\n",
       "      <th></th>\n",
       "      <th></th>\n",
       "      <th></th>\n",
       "      <th></th>\n",
       "      <th></th>\n",
       "      <th></th>\n",
       "      <th></th>\n",
       "      <th></th>\n",
       "      <th></th>\n",
       "    </tr>\n",
       "  </thead>\n",
       "  <tbody>\n",
       "    <tr>\n",
       "      <th>12</th>\n",
       "      <td>39</td>\n",
       "      <td>184</td>\n",
       "      <td>42</td>\n",
       "      <td>99999</td>\n",
       "      <td>2</td>\n",
       "      <td>4</td>\n",
       "      <td>7543</td>\n",
       "      <td>3960</td>\n",
       "      <td>105</td>\n",
       "      <td>143</td>\n",
       "      <td>N</td>\n",
       "      <td>N</td>\n",
       "      <td>77.2</td>\n",
       "      <td>PLCHM</td>\n",
       "    </tr>\n",
       "    <tr>\n",
       "      <th>13</th>\n",
       "      <td>33</td>\n",
       "      <td>148</td>\n",
       "      <td>34</td>\n",
       "      <td>408</td>\n",
       "      <td>1</td>\n",
       "      <td>14</td>\n",
       "      <td>1159</td>\n",
       "      <td>3</td>\n",
       "      <td>218</td>\n",
       "      <td>241</td>\n",
       "      <td>N</td>\n",
       "      <td>N</td>\n",
       "      <td>570.2</td>\n",
       "      <td>PLCHM</td>\n",
       "    </tr>\n",
       "    <tr>\n",
       "      <th>14</th>\n",
       "      <td>31</td>\n",
       "      <td>99999</td>\n",
       "      <td>31</td>\n",
       "      <td>99999</td>\n",
       "      <td>1</td>\n",
       "      <td>4</td>\n",
       "      <td>1422</td>\n",
       "      <td>49037</td>\n",
       "      <td>14</td>\n",
       "      <td>14</td>\n",
       "      <td>N</td>\n",
       "      <td>N</td>\n",
       "      <td>535.2</td>\n",
       "      <td>AGRI</td>\n",
       "    </tr>\n",
       "    <tr>\n",
       "      <th>21</th>\n",
       "      <td>54</td>\n",
       "      <td>99999</td>\n",
       "      <td>39</td>\n",
       "      <td>184</td>\n",
       "      <td>2</td>\n",
       "      <td>4</td>\n",
       "      <td>2534</td>\n",
       "      <td>3223</td>\n",
       "      <td>217</td>\n",
       "      <td>262</td>\n",
       "      <td>N</td>\n",
       "      <td>N</td>\n",
       "      <td>70.0</td>\n",
       "      <td>PLCHM</td>\n",
       "    </tr>\n",
       "    <tr>\n",
       "      <th>25</th>\n",
       "      <td>48</td>\n",
       "      <td>99999</td>\n",
       "      <td>48</td>\n",
       "      <td>99999</td>\n",
       "      <td>1</td>\n",
       "      <td>4</td>\n",
       "      <td>26498</td>\n",
       "      <td>33269</td>\n",
       "      <td>156</td>\n",
       "      <td>219</td>\n",
       "      <td>Y</td>\n",
       "      <td>N</td>\n",
       "      <td>114.3</td>\n",
       "      <td>AGRI</td>\n",
       "    </tr>\n",
       "    <tr>\n",
       "      <th>33</th>\n",
       "      <td>13</td>\n",
       "      <td>122</td>\n",
       "      <td>13</td>\n",
       "      <td>122</td>\n",
       "      <td>2</td>\n",
       "      <td>5</td>\n",
       "      <td>539</td>\n",
       "      <td>1026</td>\n",
       "      <td>60</td>\n",
       "      <td>73</td>\n",
       "      <td>Y</td>\n",
       "      <td>N</td>\n",
       "      <td>747.4</td>\n",
       "      <td>AGRI</td>\n",
       "    </tr>\n",
       "    <tr>\n",
       "      <th>34</th>\n",
       "      <td>42</td>\n",
       "      <td>99999</td>\n",
       "      <td>44</td>\n",
       "      <td>148</td>\n",
       "      <td>4</td>\n",
       "      <td>4</td>\n",
       "      <td>15422</td>\n",
       "      <td>9947</td>\n",
       "      <td>320</td>\n",
       "      <td>376</td>\n",
       "      <td>N</td>\n",
       "      <td>N</td>\n",
       "      <td>96.1</td>\n",
       "      <td>PLCHM</td>\n",
       "    </tr>\n",
       "    <tr>\n",
       "      <th>35</th>\n",
       "      <td>18</td>\n",
       "      <td>176</td>\n",
       "      <td>18</td>\n",
       "      <td>176</td>\n",
       "      <td>1</td>\n",
       "      <td>5</td>\n",
       "      <td>248</td>\n",
       "      <td>473</td>\n",
       "      <td>8</td>\n",
       "      <td>8</td>\n",
       "      <td>N</td>\n",
       "      <td>H</td>\n",
       "      <td>183.1</td>\n",
       "      <td>FUEL</td>\n",
       "    </tr>\n",
       "    <tr>\n",
       "      <th>40</th>\n",
       "      <td>18</td>\n",
       "      <td>176</td>\n",
       "      <td>18</td>\n",
       "      <td>176</td>\n",
       "      <td>1</td>\n",
       "      <td>5</td>\n",
       "      <td>635</td>\n",
       "      <td>1159</td>\n",
       "      <td>27</td>\n",
       "      <td>30</td>\n",
       "      <td>N</td>\n",
       "      <td>H</td>\n",
       "      <td>146.2</td>\n",
       "      <td>FUEL</td>\n",
       "    </tr>\n",
       "    <tr>\n",
       "      <th>41</th>\n",
       "      <td>17</td>\n",
       "      <td>176</td>\n",
       "      <td>51</td>\n",
       "      <td>545</td>\n",
       "      <td>1</td>\n",
       "      <td>14</td>\n",
       "      <td>153</td>\n",
       "      <td>41</td>\n",
       "      <td>700</td>\n",
       "      <td>882</td>\n",
       "      <td>N</td>\n",
       "      <td>N</td>\n",
       "      <td>279.1</td>\n",
       "      <td>PLCHM</td>\n",
       "    </tr>\n",
       "  </tbody>\n",
       "</table>\n",
       "</div>"
      ],
      "text/plain": [
       "          ORIG_STATE ORIG_MA DEST_STATE DEST_MA QUARTER MODE  SHIPMT_VALUE  \\\n",
       "SHIPMT_ID                                                                    \n",
       "12                39     184         42   99999       2    4          7543   \n",
       "13                33     148         34     408       1   14          1159   \n",
       "14                31   99999         31   99999       1    4          1422   \n",
       "21                54   99999         39     184       2    4          2534   \n",
       "25                48   99999         48   99999       1    4         26498   \n",
       "33                13     122         13     122       2    5           539   \n",
       "34                42   99999         44     148       4    4         15422   \n",
       "35                18     176         18     176       1    5           248   \n",
       "40                18     176         18     176       1    5           635   \n",
       "41                17     176         51     545       1   14           153   \n",
       "\n",
       "           SHIPMT_WGHT  SHIPMT_DIST_GC  SHIPMT_DIST_ROUTED TEMP_CNTL_YN  \\\n",
       "SHIPMT_ID                                                                 \n",
       "12                3960             105                 143            N   \n",
       "13                   3             218                 241            N   \n",
       "14               49037              14                  14            N   \n",
       "21                3223             217                 262            N   \n",
       "25               33269             156                 219            Y   \n",
       "33                1026              60                  73            Y   \n",
       "34                9947             320                 376            N   \n",
       "35                 473               8                   8            N   \n",
       "40                1159              27                  30            N   \n",
       "41                  41             700                 882            N   \n",
       "\n",
       "          HAZMAT  WGT_FACTOR SCTG_GROUP  \n",
       "SHIPMT_ID                                \n",
       "12             N        77.2      PLCHM  \n",
       "13             N       570.2      PLCHM  \n",
       "14             N       535.2       AGRI  \n",
       "21             N        70.0      PLCHM  \n",
       "25             N       114.3       AGRI  \n",
       "33             N       747.4       AGRI  \n",
       "34             N        96.1      PLCHM  \n",
       "35             H       183.1       FUEL  \n",
       "40             H       146.2       FUEL  \n",
       "41             N       279.1      PLCHM  "
      ]
     },
     "metadata": {},
     "output_type": "display_data"
    },
    {
     "data": {
      "text/plain": [
       "'Last 10 observations'"
      ]
     },
     "metadata": {},
     "output_type": "display_data"
    },
    {
     "data": {
      "text/html": [
       "<div>\n",
       "<style scoped>\n",
       "    .dataframe tbody tr th:only-of-type {\n",
       "        vertical-align: middle;\n",
       "    }\n",
       "\n",
       "    .dataframe tbody tr th {\n",
       "        vertical-align: top;\n",
       "    }\n",
       "\n",
       "    .dataframe thead th {\n",
       "        text-align: right;\n",
       "    }\n",
       "</style>\n",
       "<table border=\"1\" class=\"dataframe\">\n",
       "  <thead>\n",
       "    <tr style=\"text-align: right;\">\n",
       "      <th></th>\n",
       "      <th>ORIG_STATE</th>\n",
       "      <th>ORIG_MA</th>\n",
       "      <th>DEST_STATE</th>\n",
       "      <th>DEST_MA</th>\n",
       "      <th>QUARTER</th>\n",
       "      <th>MODE</th>\n",
       "      <th>SHIPMT_VALUE</th>\n",
       "      <th>SHIPMT_WGHT</th>\n",
       "      <th>SHIPMT_DIST_GC</th>\n",
       "      <th>SHIPMT_DIST_ROUTED</th>\n",
       "      <th>TEMP_CNTL_YN</th>\n",
       "      <th>HAZMAT</th>\n",
       "      <th>WGT_FACTOR</th>\n",
       "      <th>SCTG_GROUP</th>\n",
       "    </tr>\n",
       "    <tr>\n",
       "      <th>SHIPMT_ID</th>\n",
       "      <th></th>\n",
       "      <th></th>\n",
       "      <th></th>\n",
       "      <th></th>\n",
       "      <th></th>\n",
       "      <th></th>\n",
       "      <th></th>\n",
       "      <th></th>\n",
       "      <th></th>\n",
       "      <th></th>\n",
       "      <th></th>\n",
       "      <th></th>\n",
       "      <th></th>\n",
       "      <th></th>\n",
       "    </tr>\n",
       "  </thead>\n",
       "  <tbody>\n",
       "    <tr>\n",
       "      <th>4547621</th>\n",
       "      <td>42</td>\n",
       "      <td>428</td>\n",
       "      <td>51</td>\n",
       "      <td>545</td>\n",
       "      <td>1</td>\n",
       "      <td>14</td>\n",
       "      <td>3664</td>\n",
       "      <td>95</td>\n",
       "      <td>231</td>\n",
       "      <td>339</td>\n",
       "      <td>N</td>\n",
       "      <td>N</td>\n",
       "      <td>661.4</td>\n",
       "      <td>PLCHM</td>\n",
       "    </tr>\n",
       "    <tr>\n",
       "      <th>4547623</th>\n",
       "      <td>34</td>\n",
       "      <td>408</td>\n",
       "      <td>46</td>\n",
       "      <td>99999</td>\n",
       "      <td>2</td>\n",
       "      <td>14</td>\n",
       "      <td>1425</td>\n",
       "      <td>56</td>\n",
       "      <td>1485</td>\n",
       "      <td>1698</td>\n",
       "      <td>N</td>\n",
       "      <td>N</td>\n",
       "      <td>511.5</td>\n",
       "      <td>PLCHM</td>\n",
       "    </tr>\n",
       "    <tr>\n",
       "      <th>4547626</th>\n",
       "      <td>1</td>\n",
       "      <td>380</td>\n",
       "      <td>1</td>\n",
       "      <td>380</td>\n",
       "      <td>4</td>\n",
       "      <td>5</td>\n",
       "      <td>2812</td>\n",
       "      <td>7600</td>\n",
       "      <td>2</td>\n",
       "      <td>3</td>\n",
       "      <td>N</td>\n",
       "      <td>H</td>\n",
       "      <td>510.7</td>\n",
       "      <td>PLCHM</td>\n",
       "    </tr>\n",
       "    <tr>\n",
       "      <th>4547627</th>\n",
       "      <td>39</td>\n",
       "      <td>184</td>\n",
       "      <td>39</td>\n",
       "      <td>184</td>\n",
       "      <td>1</td>\n",
       "      <td>5</td>\n",
       "      <td>236</td>\n",
       "      <td>274</td>\n",
       "      <td>10</td>\n",
       "      <td>12</td>\n",
       "      <td>Y</td>\n",
       "      <td>H</td>\n",
       "      <td>1925.1</td>\n",
       "      <td>FUEL</td>\n",
       "    </tr>\n",
       "    <tr>\n",
       "      <th>4547634</th>\n",
       "      <td>53</td>\n",
       "      <td>99999</td>\n",
       "      <td>53</td>\n",
       "      <td>99999</td>\n",
       "      <td>3</td>\n",
       "      <td>5</td>\n",
       "      <td>765</td>\n",
       "      <td>578</td>\n",
       "      <td>61</td>\n",
       "      <td>76</td>\n",
       "      <td>N</td>\n",
       "      <td>N</td>\n",
       "      <td>113.8</td>\n",
       "      <td>PLCHM</td>\n",
       "    </tr>\n",
       "    <tr>\n",
       "      <th>4547642</th>\n",
       "      <td>23</td>\n",
       "      <td>99999</td>\n",
       "      <td>25</td>\n",
       "      <td>148</td>\n",
       "      <td>2</td>\n",
       "      <td>5</td>\n",
       "      <td>3483</td>\n",
       "      <td>518</td>\n",
       "      <td>56</td>\n",
       "      <td>62</td>\n",
       "      <td>Y</td>\n",
       "      <td>N</td>\n",
       "      <td>100.0</td>\n",
       "      <td>AGRI</td>\n",
       "    </tr>\n",
       "    <tr>\n",
       "      <th>4547651</th>\n",
       "      <td>17</td>\n",
       "      <td>176</td>\n",
       "      <td>17</td>\n",
       "      <td>176</td>\n",
       "      <td>1</td>\n",
       "      <td>4</td>\n",
       "      <td>44169</td>\n",
       "      <td>31500</td>\n",
       "      <td>30</td>\n",
       "      <td>50</td>\n",
       "      <td>N</td>\n",
       "      <td>N</td>\n",
       "      <td>198.8</td>\n",
       "      <td>FOOD</td>\n",
       "    </tr>\n",
       "    <tr>\n",
       "      <th>4547654</th>\n",
       "      <td>19</td>\n",
       "      <td>99999</td>\n",
       "      <td>17</td>\n",
       "      <td>99999</td>\n",
       "      <td>3</td>\n",
       "      <td>5</td>\n",
       "      <td>23587</td>\n",
       "      <td>4718</td>\n",
       "      <td>172</td>\n",
       "      <td>182</td>\n",
       "      <td>N</td>\n",
       "      <td>N</td>\n",
       "      <td>175.3</td>\n",
       "      <td>PLCHM</td>\n",
       "    </tr>\n",
       "    <tr>\n",
       "      <th>4547658</th>\n",
       "      <td>39</td>\n",
       "      <td>178</td>\n",
       "      <td>28</td>\n",
       "      <td>99999</td>\n",
       "      <td>3</td>\n",
       "      <td>4</td>\n",
       "      <td>50808</td>\n",
       "      <td>29887</td>\n",
       "      <td>561</td>\n",
       "      <td>683</td>\n",
       "      <td>Y</td>\n",
       "      <td>N</td>\n",
       "      <td>20.0</td>\n",
       "      <td>AGRI</td>\n",
       "    </tr>\n",
       "    <tr>\n",
       "      <th>4547661</th>\n",
       "      <td>30</td>\n",
       "      <td>99999</td>\n",
       "      <td>30</td>\n",
       "      <td>99999</td>\n",
       "      <td>1</td>\n",
       "      <td>4</td>\n",
       "      <td>22482</td>\n",
       "      <td>75952</td>\n",
       "      <td>12</td>\n",
       "      <td>12</td>\n",
       "      <td>N</td>\n",
       "      <td>N</td>\n",
       "      <td>66.1</td>\n",
       "      <td>PLCHM</td>\n",
       "    </tr>\n",
       "  </tbody>\n",
       "</table>\n",
       "</div>"
      ],
      "text/plain": [
       "          ORIG_STATE ORIG_MA DEST_STATE DEST_MA QUARTER MODE  SHIPMT_VALUE  \\\n",
       "SHIPMT_ID                                                                    \n",
       "4547621           42     428         51     545       1   14          3664   \n",
       "4547623           34     408         46   99999       2   14          1425   \n",
       "4547626            1     380          1     380       4    5          2812   \n",
       "4547627           39     184         39     184       1    5           236   \n",
       "4547634           53   99999         53   99999       3    5           765   \n",
       "4547642           23   99999         25     148       2    5          3483   \n",
       "4547651           17     176         17     176       1    4         44169   \n",
       "4547654           19   99999         17   99999       3    5         23587   \n",
       "4547658           39     178         28   99999       3    4         50808   \n",
       "4547661           30   99999         30   99999       1    4         22482   \n",
       "\n",
       "           SHIPMT_WGHT  SHIPMT_DIST_GC  SHIPMT_DIST_ROUTED TEMP_CNTL_YN  \\\n",
       "SHIPMT_ID                                                                 \n",
       "4547621             95             231                 339            N   \n",
       "4547623             56            1485                1698            N   \n",
       "4547626           7600               2                   3            N   \n",
       "4547627            274              10                  12            Y   \n",
       "4547634            578              61                  76            N   \n",
       "4547642            518              56                  62            Y   \n",
       "4547651          31500              30                  50            N   \n",
       "4547654           4718             172                 182            N   \n",
       "4547658          29887             561                 683            Y   \n",
       "4547661          75952              12                  12            N   \n",
       "\n",
       "          HAZMAT  WGT_FACTOR SCTG_GROUP  \n",
       "SHIPMT_ID                                \n",
       "4547621        N       661.4      PLCHM  \n",
       "4547623        N       511.5      PLCHM  \n",
       "4547626        H       510.7      PLCHM  \n",
       "4547627        H      1925.1       FUEL  \n",
       "4547634        N       113.8      PLCHM  \n",
       "4547642        N       100.0       AGRI  \n",
       "4547651        N       198.8       FOOD  \n",
       "4547654        N       175.3      PLCHM  \n",
       "4547658        N        20.0       AGRI  \n",
       "4547661        N        66.1      PLCHM  "
      ]
     },
     "metadata": {},
     "output_type": "display_data"
    }
   ],
   "source": [
    "# Analyze first and last 10 rows\n",
    "display(\"First 10 observations\", dataset.head(10))\n",
    "display(\"Last 10 observations\", dataset.tail(10))"
   ]
  },
  {
   "cell_type": "markdown",
   "metadata": {},
   "source": [
    "# Correlation and association analysis"
   ]
  },
  {
   "cell_type": "code",
   "execution_count": 66,
   "metadata": {},
   "outputs": [
    {
     "name": "stdout",
     "output_type": "stream",
     "text": [
      "AxesSubplot(0.241667,0.125;0.503333x0.755)\n"
     ]
    },
    {
     "data": {
      "image/png": "[encoded data removed]",
      "text/plain": [
       "<Figure size 432x288 with 2 Axes>"
      ]
     },
     "metadata": {},
     "output_type": "display_data"
    }
   ],
   "source": [
    "# Correlation for Quantative variables\n",
    "# Calculate and show correlation matrix\n",
    "corr = dataset[['SHIPMT_VALUE', 'SHIPMT_WGHT', 'SHIPMT_DIST_GC', 'SHIPMT_DIST_ROUTED', 'WGT_FACTOR']]\n",
    "cm = np.corrcoef(corr.values.T)\n",
    "sns.set(font_scale=1.5)\n",
    "hm = sns.heatmap(cm,\n",
    "                cbar=True,\n",
    "                annot=True,\n",
    "                square=True,\n",
    "                fmt='.2f',\n",
    "                annot_kws={'size': 15},\n",
    "                yticklabels=corr.columns,\n",
    "                xticklabels=corr.columns)\n",
    "\n",
    "print(hm)\n",
    "# Removing the variable to free up the space\n",
    "del corr\n",
    "del cm\n",
    "del hm\n"
   ]
  },
  {
   "cell_type": "code",
   "execution_count": 80,
   "metadata": {},
   "outputs": [
    {
     "data": {
      "text/html": [
       "<div>\n",
       "<style scoped>\n",
       "    .dataframe tbody tr th:only-of-type {\n",
       "        vertical-align: middle;\n",
       "    }\n",
       "\n",
       "    .dataframe tbody tr th {\n",
       "        vertical-align: top;\n",
       "    }\n",
       "\n",
       "    .dataframe thead th {\n",
       "        text-align: right;\n",
       "    }\n",
       "</style>\n",
       "<table border=\"1\" class=\"dataframe\">\n",
       "  <thead>\n",
       "    <tr style=\"text-align: right;\">\n",
       "      <th></th>\n",
       "      <th>ORIG_STATE_10</th>\n",
       "      <th>ORIG_STATE_11</th>\n",
       "      <th>ORIG_STATE_12</th>\n",
       "      <th>ORIG_STATE_13</th>\n",
       "      <th>ORIG_STATE_15</th>\n",
       "      <th>ORIG_STATE_16</th>\n",
       "      <th>ORIG_STATE_17</th>\n",
       "      <th>ORIG_STATE_18</th>\n",
       "      <th>ORIG_STATE_19</th>\n",
       "      <th>ORIG_STATE_2</th>\n",
       "      <th>...</th>\n",
       "      <th>TEMP_CNTL_YN_Y</th>\n",
       "      <th>HAZMAT_N</th>\n",
       "      <th>HAZMAT_P</th>\n",
       "      <th>SCTG_GROUP_FOOD</th>\n",
       "      <th>SCTG_GROUP_FUEL</th>\n",
       "      <th>SCTG_GROUP_PLCHM</th>\n",
       "      <th>LOG_SHIPMT_VALUE</th>\n",
       "      <th>LOG_SHIPMT_WGHT</th>\n",
       "      <th>LOG_SHIPMT_DIST_ROUTED</th>\n",
       "      <th>LOG_WGT_FACTOR</th>\n",
       "    </tr>\n",
       "  </thead>\n",
       "  <tbody>\n",
       "    <tr>\n",
       "      <th>ORIG_STATE_10</th>\n",
       "      <td>1.000000</td>\n",
       "      <td>-0.001982</td>\n",
       "      <td>-0.015716</td>\n",
       "      <td>-0.013834</td>\n",
       "      <td>-0.007074</td>\n",
       "      <td>-0.006765</td>\n",
       "      <td>-0.016181</td>\n",
       "      <td>-0.014635</td>\n",
       "      <td>-0.011652</td>\n",
       "      <td>-0.004993</td>\n",
       "      <td>...</td>\n",
       "      <td>-0.004398</td>\n",
       "      <td>-0.015411</td>\n",
       "      <td>0.008447</td>\n",
       "      <td>-0.011342</td>\n",
       "      <td>0.009461</td>\n",
       "      <td>0.000345</td>\n",
       "      <td>-0.002451</td>\n",
       "      <td>0.009792</td>\n",
       "      <td>-0.023380</td>\n",
       "      <td>-0.029559</td>\n",
       "    </tr>\n",
       "    <tr>\n",
       "      <th>ORIG_STATE_11</th>\n",
       "      <td>-0.001982</td>\n",
       "      <td>1.000000</td>\n",
       "      <td>-0.004810</td>\n",
       "      <td>-0.004234</td>\n",
       "      <td>-0.002165</td>\n",
       "      <td>-0.002070</td>\n",
       "      <td>-0.004952</td>\n",
       "      <td>-0.004479</td>\n",
       "      <td>-0.003566</td>\n",
       "      <td>-0.001528</td>\n",
       "      <td>...</td>\n",
       "      <td>0.025356</td>\n",
       "      <td>0.012680</td>\n",
       "      <td>-0.008308</td>\n",
       "      <td>0.008057</td>\n",
       "      <td>-0.011591</td>\n",
       "      <td>-0.015404</td>\n",
       "      <td>-0.018172</td>\n",
       "      <td>-0.021756</td>\n",
       "      <td>-0.026131</td>\n",
       "      <td>0.019685</td>\n",
       "    </tr>\n",
       "    <tr>\n",
       "      <th>ORIG_STATE_12</th>\n",
       "      <td>-0.015716</td>\n",
       "      <td>-0.004810</td>\n",
       "      <td>1.000000</td>\n",
       "      <td>-0.033571</td>\n",
       "      <td>-0.017167</td>\n",
       "      <td>-0.016416</td>\n",
       "      <td>-0.039267</td>\n",
       "      <td>-0.035515</td>\n",
       "      <td>-0.028275</td>\n",
       "      <td>-0.012118</td>\n",
       "      <td>...</td>\n",
       "      <td>0.033883</td>\n",
       "      <td>0.010374</td>\n",
       "      <td>-0.012118</td>\n",
       "      <td>0.013909</td>\n",
       "      <td>-0.023485</td>\n",
       "      <td>0.009992</td>\n",
       "      <td>-0.019452</td>\n",
       "      <td>-0.027518</td>\n",
       "      <td>-0.004258</td>\n",
       "      <td>0.042807</td>\n",
       "    </tr>\n",
       "    <tr>\n",
       "      <th>ORIG_STATE_13</th>\n",
       "      <td>-0.013834</td>\n",
       "      <td>-0.004234</td>\n",
       "      <td>-0.033571</td>\n",
       "      <td>1.000000</td>\n",
       "      <td>-0.015111</td>\n",
       "      <td>-0.014450</td>\n",
       "      <td>-0.034564</td>\n",
       "      <td>-0.031261</td>\n",
       "      <td>-0.024888</td>\n",
       "      <td>-0.010666</td>\n",
       "      <td>...</td>\n",
       "      <td>0.006286</td>\n",
       "      <td>0.006813</td>\n",
       "      <td>-0.005841</td>\n",
       "      <td>-0.016297</td>\n",
       "      <td>-0.021133</td>\n",
       "      <td>0.031098</td>\n",
       "      <td>0.015980</td>\n",
       "      <td>0.002481</td>\n",
       "      <td>0.018673</td>\n",
       "      <td>0.012540</td>\n",
       "    </tr>\n",
       "    <tr>\n",
       "      <th>ORIG_STATE_15</th>\n",
       "      <td>-0.007074</td>\n",
       "      <td>-0.002165</td>\n",
       "      <td>-0.017167</td>\n",
       "      <td>-0.015111</td>\n",
       "      <td>1.000000</td>\n",
       "      <td>-0.007389</td>\n",
       "      <td>-0.017675</td>\n",
       "      <td>-0.015986</td>\n",
       "      <td>-0.012727</td>\n",
       "      <td>-0.005454</td>\n",
       "      <td>...</td>\n",
       "      <td>0.009889</td>\n",
       "      <td>-0.000162</td>\n",
       "      <td>0.012906</td>\n",
       "      <td>0.009787</td>\n",
       "      <td>-0.001574</td>\n",
       "      <td>-0.012531</td>\n",
       "      <td>-0.041625</td>\n",
       "      <td>-0.050270</td>\n",
       "      <td>-0.061224</td>\n",
       "      <td>-0.010130</td>\n",
       "    </tr>\n",
       "    <tr>\n",
       "      <th>...</th>\n",
       "      <td>...</td>\n",
       "      <td>...</td>\n",
       "      <td>...</td>\n",
       "      <td>...</td>\n",
       "      <td>...</td>\n",
       "      <td>...</td>\n",
       "      <td>...</td>\n",
       "      <td>...</td>\n",
       "      <td>...</td>\n",
       "      <td>...</td>\n",
       "      <td>...</td>\n",
       "      <td>...</td>\n",
       "      <td>...</td>\n",
       "      <td>...</td>\n",
       "      <td>...</td>\n",
       "      <td>...</td>\n",
       "      <td>...</td>\n",
       "      <td>...</td>\n",
       "      <td>...</td>\n",
       "      <td>...</td>\n",
       "      <td>...</td>\n",
       "    </tr>\n",
       "    <tr>\n",
       "      <th>SCTG_GROUP_PLCHM</th>\n",
       "      <td>0.000345</td>\n",
       "      <td>-0.015404</td>\n",
       "      <td>0.009992</td>\n",
       "      <td>0.031098</td>\n",
       "      <td>-0.012531</td>\n",
       "      <td>-0.021037</td>\n",
       "      <td>0.009674</td>\n",
       "      <td>-0.010995</td>\n",
       "      <td>-0.050673</td>\n",
       "      <td>-0.028240</td>\n",
       "      <td>...</td>\n",
       "      <td>-0.246699</td>\n",
       "      <td>0.082072</td>\n",
       "      <td>-0.160166</td>\n",
       "      <td>-0.502663</td>\n",
       "      <td>-0.403650</td>\n",
       "      <td>1.000000</td>\n",
       "      <td>-0.045213</td>\n",
       "      <td>-0.302188</td>\n",
       "      <td>0.303801</td>\n",
       "      <td>-0.087594</td>\n",
       "    </tr>\n",
       "    <tr>\n",
       "      <th>LOG_SHIPMT_VALUE</th>\n",
       "      <td>-0.002451</td>\n",
       "      <td>-0.018172</td>\n",
       "      <td>-0.019452</td>\n",
       "      <td>0.015980</td>\n",
       "      <td>-0.041625</td>\n",
       "      <td>-0.001324</td>\n",
       "      <td>0.041172</td>\n",
       "      <td>0.009180</td>\n",
       "      <td>0.044712</td>\n",
       "      <td>-0.016630</td>\n",
       "      <td>...</td>\n",
       "      <td>0.091845</td>\n",
       "      <td>0.072223</td>\n",
       "      <td>0.055688</td>\n",
       "      <td>0.030590</td>\n",
       "      <td>-0.078442</td>\n",
       "      <td>-0.045213</td>\n",
       "      <td>1.000000</td>\n",
       "      <td>0.759188</td>\n",
       "      <td>0.258569</td>\n",
       "      <td>-0.418850</td>\n",
       "    </tr>\n",
       "    <tr>\n",
       "      <th>LOG_SHIPMT_WGHT</th>\n",
       "      <td>0.009792</td>\n",
       "      <td>-0.021756</td>\n",
       "      <td>-0.027518</td>\n",
       "      <td>0.002481</td>\n",
       "      <td>-0.050270</td>\n",
       "      <td>0.012604</td>\n",
       "      <td>0.030581</td>\n",
       "      <td>0.028221</td>\n",
       "      <td>0.075594</td>\n",
       "      <td>-0.012953</td>\n",
       "      <td>...</td>\n",
       "      <td>0.052142</td>\n",
       "      <td>-0.096381</td>\n",
       "      <td>0.121519</td>\n",
       "      <td>0.075428</td>\n",
       "      <td>0.151674</td>\n",
       "      <td>-0.302188</td>\n",
       "      <td>0.759188</td>\n",
       "      <td>1.000000</td>\n",
       "      <td>0.010986</td>\n",
       "      <td>-0.379496</td>\n",
       "    </tr>\n",
       "    <tr>\n",
       "      <th>LOG_SHIPMT_DIST_ROUTED</th>\n",
       "      <td>-0.023380</td>\n",
       "      <td>-0.026131</td>\n",
       "      <td>-0.004258</td>\n",
       "      <td>0.018673</td>\n",
       "      <td>-0.061224</td>\n",
       "      <td>0.011642</td>\n",
       "      <td>0.027686</td>\n",
       "      <td>-0.007887</td>\n",
       "      <td>0.005349</td>\n",
       "      <td>-0.026263</td>\n",
       "      <td>...</td>\n",
       "      <td>0.055078</td>\n",
       "      <td>0.235636</td>\n",
       "      <td>-0.191815</td>\n",
       "      <td>-0.077078</td>\n",
       "      <td>-0.310334</td>\n",
       "      <td>0.303801</td>\n",
       "      <td>0.258569</td>\n",
       "      <td>0.010986</td>\n",
       "      <td>1.000000</td>\n",
       "      <td>-0.208679</td>\n",
       "    </tr>\n",
       "    <tr>\n",
       "      <th>LOG_WGT_FACTOR</th>\n",
       "      <td>-0.029559</td>\n",
       "      <td>0.019685</td>\n",
       "      <td>0.042807</td>\n",
       "      <td>0.012540</td>\n",
       "      <td>-0.010130</td>\n",
       "      <td>-0.009429</td>\n",
       "      <td>0.041719</td>\n",
       "      <td>-0.032363</td>\n",
       "      <td>-0.004452</td>\n",
       "      <td>0.000378</td>\n",
       "      <td>...</td>\n",
       "      <td>0.020115</td>\n",
       "      <td>-0.009937</td>\n",
       "      <td>0.058634</td>\n",
       "      <td>0.058770</td>\n",
       "      <td>0.048784</td>\n",
       "      <td>-0.087594</td>\n",
       "      <td>-0.418850</td>\n",
       "      <td>-0.379496</td>\n",
       "      <td>-0.208679</td>\n",
       "      <td>1.000000</td>\n",
       "    </tr>\n",
       "  </tbody>\n",
       "</table>\n",
       "<p>268 rows × 268 columns</p>\n",
       "</div>"
      ],
      "text/plain": [
       "                        ORIG_STATE_10  ORIG_STATE_11  ORIG_STATE_12  \\\n",
       "ORIG_STATE_10                1.000000      -0.001982      -0.015716   \n",
       "ORIG_STATE_11               -0.001982       1.000000      -0.004810   \n",
       "ORIG_STATE_12               -0.015716      -0.004810       1.000000   \n",
       "ORIG_STATE_13               -0.013834      -0.004234      -0.033571   \n",
       "ORIG_STATE_15               -0.007074      -0.002165      -0.017167   \n",
       "...                               ...            ...            ...   \n",
       "SCTG_GROUP_PLCHM             0.000345      -0.015404       0.009992   \n",
       "LOG_SHIPMT_VALUE            -0.002451      -0.018172      -0.019452   \n",
       "LOG_SHIPMT_WGHT              0.009792      -0.021756      -0.027518   \n",
       "LOG_SHIPMT_DIST_ROUTED      -0.023380      -0.026131      -0.004258   \n",
       "LOG_WGT_FACTOR              -0.029559       0.019685       0.042807   \n",
       "\n",
       "                        ORIG_STATE_13  ORIG_STATE_15  ORIG_STATE_16  \\\n",
       "ORIG_STATE_10               -0.013834      -0.007074      -0.006765   \n",
       "ORIG_STATE_11               -0.004234      -0.002165      -0.002070   \n",
       "ORIG_STATE_12               -0.033571      -0.017167      -0.016416   \n",
       "ORIG_STATE_13                1.000000      -0.015111      -0.014450   \n",
       "ORIG_STATE_15               -0.015111       1.000000      -0.007389   \n",
       "...                               ...            ...            ...   \n",
       "SCTG_GROUP_PLCHM             0.031098      -0.012531      -0.021037   \n",
       "LOG_SHIPMT_VALUE             0.015980      -0.041625      -0.001324   \n",
       "LOG_SHIPMT_WGHT              0.002481      -0.050270       0.012604   \n",
       "LOG_SHIPMT_DIST_ROUTED       0.018673      -0.061224       0.011642   \n",
       "LOG_WGT_FACTOR               0.012540      -0.010130      -0.009429   \n",
       "\n",
       "                        ORIG_STATE_17  ORIG_STATE_18  ORIG_STATE_19  \\\n",
       "ORIG_STATE_10               -0.016181      -0.014635      -0.011652   \n",
       "ORIG_STATE_11               -0.004952      -0.004479      -0.003566   \n",
       "ORIG_STATE_12               -0.039267      -0.035515      -0.028275   \n",
       "ORIG_STATE_13               -0.034564      -0.031261      -0.024888   \n",
       "ORIG_STATE_15               -0.017675      -0.015986      -0.012727   \n",
       "...                               ...            ...            ...   \n",
       "SCTG_GROUP_PLCHM             0.009674      -0.010995      -0.050673   \n",
       "LOG_SHIPMT_VALUE             0.041172       0.009180       0.044712   \n",
       "LOG_SHIPMT_WGHT              0.030581       0.028221       0.075594   \n",
       "LOG_SHIPMT_DIST_ROUTED       0.027686      -0.007887       0.005349   \n",
       "LOG_WGT_FACTOR               0.041719      -0.032363      -0.004452   \n",
       "\n",
       "                        ORIG_STATE_2  ...  TEMP_CNTL_YN_Y  HAZMAT_N  HAZMAT_P  \\\n",
       "ORIG_STATE_10              -0.004993  ...       -0.004398 -0.015411  0.008447   \n",
       "ORIG_STATE_11              -0.001528  ...        0.025356  0.012680 -0.008308   \n",
       "ORIG_STATE_12              -0.012118  ...        0.033883  0.010374 -0.012118   \n",
       "ORIG_STATE_13              -0.010666  ...        0.006286  0.006813 -0.005841   \n",
       "ORIG_STATE_15              -0.005454  ...        0.009889 -0.000162  0.012906   \n",
       "...                              ...  ...             ...       ...       ...   \n",
       "SCTG_GROUP_PLCHM           -0.028240  ...       -0.246699  0.082072 -0.160166   \n",
       "LOG_SHIPMT_VALUE           -0.016630  ...        0.091845  0.072223  0.055688   \n",
       "LOG_SHIPMT_WGHT            -0.012953  ...        0.052142 -0.096381  0.121519   \n",
       "LOG_SHIPMT_DIST_ROUTED     -0.026263  ...        0.055078  0.235636 -0.191815   \n",
       "LOG_WGT_FACTOR              0.000378  ...        0.020115 -0.009937  0.058634   \n",
       "\n",
       "                        SCTG_GROUP_FOOD  SCTG_GROUP_FUEL  SCTG_GROUP_PLCHM  \\\n",
       "ORIG_STATE_10                 -0.011342         0.009461          0.000345   \n",
       "ORIG_STATE_11                  0.008057        -0.011591         -0.015404   \n",
       "ORIG_STATE_12                  0.013909        -0.023485          0.009992   \n",
       "ORIG_STATE_13                 -0.016297        -0.021133          0.031098   \n",
       "ORIG_STATE_15                  0.009787        -0.001574         -0.012531   \n",
       "...                                 ...              ...               ...   \n",
       "SCTG_GROUP_PLCHM              -0.502663        -0.403650          1.000000   \n",
       "LOG_SHIPMT_VALUE               0.030590        -0.078442         -0.045213   \n",
       "LOG_SHIPMT_WGHT                0.075428         0.151674         -0.302188   \n",
       "LOG_SHIPMT_DIST_ROUTED        -0.077078        -0.310334          0.303801   \n",
       "LOG_WGT_FACTOR                 0.058770         0.048784         -0.087594   \n",
       "\n",
       "                        LOG_SHIPMT_VALUE  LOG_SHIPMT_WGHT  \\\n",
       "ORIG_STATE_10                  -0.002451         0.009792   \n",
       "ORIG_STATE_11                  -0.018172        -0.021756   \n",
       "ORIG_STATE_12                  -0.019452        -0.027518   \n",
       "ORIG_STATE_13                   0.015980         0.002481   \n",
       "ORIG_STATE_15                  -0.041625        -0.050270   \n",
       "...                                  ...              ...   \n",
       "SCTG_GROUP_PLCHM               -0.045213        -0.302188   \n",
       "LOG_SHIPMT_VALUE                1.000000         0.759188   \n",
       "LOG_SHIPMT_WGHT                 0.759188         1.000000   \n",
       "LOG_SHIPMT_DIST_ROUTED          0.258569         0.010986   \n",
       "LOG_WGT_FACTOR                 -0.418850        -0.379496   \n",
       "\n",
       "                        LOG_SHIPMT_DIST_ROUTED  LOG_WGT_FACTOR  \n",
       "ORIG_STATE_10                        -0.023380       -0.029559  \n",
       "ORIG_STATE_11                        -0.026131        0.019685  \n",
       "ORIG_STATE_12                        -0.004258        0.042807  \n",
       "ORIG_STATE_13                         0.018673        0.012540  \n",
       "ORIG_STATE_15                        -0.061224       -0.010130  \n",
       "...                                        ...             ...  \n",
       "SCTG_GROUP_PLCHM                      0.303801       -0.087594  \n",
       "LOG_SHIPMT_VALUE                      0.258569       -0.418850  \n",
       "LOG_SHIPMT_WGHT                       0.010986       -0.379496  \n",
       "LOG_SHIPMT_DIST_ROUTED                1.000000       -0.208679  \n",
       "LOG_WGT_FACTOR                       -0.208679        1.000000  \n",
       "\n",
       "[268 rows x 268 columns]"
      ]
     },
     "execution_count": 80,
     "metadata": {},
     "output_type": "execute_result"
    }
   ],
   "source": [
    "dataset.corr(method='pearson')"
   ]
  },
  {
   "cell_type": "code",
   "execution_count": 81,
   "metadata": {},
   "outputs": [
    {
     "data": {
      "text/plain": [
       "<matplotlib.axes._subplots.AxesSubplot at 0x29b9d6a87c8>"
      ]
     },
     "execution_count": 81,
     "metadata": {},
     "output_type": "execute_result"
    },
    {
     "data": {
      "image/png": "[encoded data removed]",
      "text/plain": [
       "<Figure size 720x576 with 2 Axes>"
      ]
     },
     "metadata": {},
     "output_type": "display_data"
    }
   ],
   "source": [
    "plt.subplots(figsize=(10,8))\n",
    "sns.heatmap(dataset.corr())"
   ]
  },
  {
   "cell_type": "code",
   "execution_count": 28,
   "metadata": {},
   "outputs": [],
   "source": [
    "# As SHIPMT_DIST_GC and SHIPMT_DIST_ROUTED has a huge correlation, hence removing one of them\n",
    "dataset.drop([\"SHIPMT_DIST_GC\"],\n",
    "            axis = 1,\n",
    "            inplace = True\n",
    "            )\n",
    "\n",
    "# dataset.drop([\"SHIPMT_DIST_ROUTED\"],\n",
    "#             axis = 1,\n",
    "#             inplace = True\n",
    "#             )"
   ]
  },
  {
   "cell_type": "markdown",
   "metadata": {},
   "source": [
    "# Transformations"
   ]
  },
  {
   "cell_type": "code",
   "execution_count": 29,
   "metadata": {},
   "outputs": [
    {
     "name": "stdout",
     "output_type": "stream",
     "text": [
      "Feature SHIPMT_VALUE should be categorical\n",
      "Feature SHIPMT_WGHT should be categorical\n",
      "Feature SHIPMT_DIST_ROUTED should be categorical\n",
      "Feature WGT_FACTOR should be categorical\n"
     ]
    }
   ],
   "source": [
    "# Prepare dummy variables for all categorical variablces\n",
    "for featureName in dataset.columns:\n",
    "    if str(dataset[featureName].dtype) in [\"str\", \"object\"]:\n",
    "        dummies = pd.get_dummies(dataset[featureName], prefix=featureName, prefix_sep = \"_\", drop_first = True)\n",
    "        dataset = pd.concat([dataset, dummies], axis=1)\n",
    "        dataset.drop( featureName, axis = 1, inplace = True)\n",
    "    else:\n",
    "        print(f'Feature {featureName} should be categorical')"
   ]
  },
  {
   "cell_type": "code",
   "execution_count": 43,
   "metadata": {},
   "outputs": [
    {
     "name": "stdout",
     "output_type": "stream",
     "text": [
      "Mean                           >>> 7.8351175077620585\n",
      "Median                         >>> 7.738488122494646\n",
      "Mode                           >>> 0    4.672829\n",
      "dtype: float64\n",
      "Standard Deviation             >>> 1.9069205513811054\n",
      "Maxiumn                        >>> 13.81533054176233\n",
      "Minimum                        >>> 4.624972813284271\n",
      "Skewness                       >>> 0.22397410020759898\n"
     ]
    },
    {
     "data": {
      "image/png": "[encoded data removed]",
      "text/plain": [
       "<Figure size 432x288 with 1 Axes>"
      ]
     },
     "metadata": {
      "needs_background": "light"
     },
     "output_type": "display_data"
    },
    {
     "data": {
      "text/plain": [
       "<matplotlib.axes._subplots.AxesSubplot at 0x17458a40f08>"
      ]
     },
     "execution_count": 43,
     "metadata": {},
     "output_type": "execute_result"
    },
    {
     "data": {
      "image/png": "[encoded data removed]",
      "text/plain": [
       "<Figure size 432x288 with 1 Axes>"
      ]
     },
     "metadata": {
      "needs_background": "light"
     },
     "output_type": "display_data"
    }
   ],
   "source": [
    "# Tranform data using log method and verify Outlier and skewness\n",
    "dataset[\"LOG_SHIPMT_VALUE\"] = np.log(dataset[\"SHIPMT_VALUE\"] + 1 )\n",
    "\n",
    "# Statistics for SHIPMT_VALUE\n",
    "print(f'{\"Mean\":30s} >>> {dataset[\"LOG_SHIPMT_VALUE\"].mean()}')\n",
    "print(f'{\"Median\":30s} >>> {dataset[\"LOG_SHIPMT_VALUE\"].median()}')\n",
    "print(f'{\"Mode\":30s} >>> {dataset[\"LOG_SHIPMT_VALUE\"].mode()}')\n",
    "print(f'{\"Standard Deviation\":30s} >>> {dataset[\"LOG_SHIPMT_VALUE\"].std()}')\n",
    "print(f'{\"Maxiumn\":30s} >>> {dataset[\"LOG_SHIPMT_VALUE\"].max()}')\n",
    "print(f'{\"Minimum\":30s} >>> {dataset[\"LOG_SHIPMT_VALUE\"].min()}')\n",
    "print(f'{\"Skewness\":30s} >>> {dataset[\"LOG_SHIPMT_VALUE\"].skew()}')\n",
    "\n",
    "# Check for distribution\n",
    "dataset[\"LOG_SHIPMT_VALUE\"].hist(bins=100, grid=False, xlabelsize=12, ylabelsize=12)\n",
    "plt.xlabel(\"Life Expectancy\", fontsize=15)\n",
    "plt.ylabel(\"Frequency\",fontsize=15)\n",
    "sns.distplot(dataset[\"LOG_SHIPMT_VALUE\"])\n",
    "plt.show()\n",
    "\n",
    "# Check for outliers\n",
    "sns.boxplot(x=dataset[\"LOG_SHIPMT_VALUE\"])"
   ]
  },
  {
   "cell_type": "code",
   "execution_count": 44,
   "metadata": {},
   "outputs": [
    {
     "name": "stdout",
     "output_type": "stream",
     "text": [
      "Mean                           >>> 7.503273463914624\n",
      "Median                         >>> 7.519149957669823\n",
      "Mode                           >>> 0    0.693147\n",
      "dtype: float64\n",
      "Standard Deviation             >>> 2.8472043447451045\n",
      "Maxiumn                        >>> 19.439634921258072\n",
      "Minimum                        >>> 0.6931471805599453\n",
      "Skewness                       >>> -0.2690448246662025\n"
     ]
    },
    {
     "data": {
      "image/png": "[encoded data removed]",
      "text/plain": [
       "<Figure size 432x288 with 1 Axes>"
      ]
     },
     "metadata": {
      "needs_background": "light"
     },
     "output_type": "display_data"
    },
    {
     "data": {
      "text/plain": [
       "<matplotlib.axes._subplots.AxesSubplot at 0x17458ac9f88>"
      ]
     },
     "execution_count": 44,
     "metadata": {},
     "output_type": "execute_result"
    },
    {
     "data": {
      "image/png": "[encoded data removed]",
      "text/plain": [
       "<Figure size 432x288 with 1 Axes>"
      ]
     },
     "metadata": {
      "needs_background": "light"
     },
     "output_type": "display_data"
    }
   ],
   "source": [
    "# Tranform data using boxcox method and verify\n",
    "dataset[\"LOG_SHIPMT_WGHT\"] = np.log(dataset[\"SHIPMT_WGHT\"] + 1)\n",
    "\n",
    "# Statistics for SHIPMT_WGHT\n",
    "print(f'{\"Mean\":30s} >>> {dataset[\"LOG_SHIPMT_WGHT\"].mean()}')\n",
    "print(f'{\"Median\":30s} >>> {dataset[\"LOG_SHIPMT_WGHT\"].median()}')\n",
    "print(f'{\"Mode\":30s} >>> {dataset[\"LOG_SHIPMT_WGHT\"].mode()}')\n",
    "print(f'{\"Standard Deviation\":30s} >>> {dataset[\"LOG_SHIPMT_WGHT\"].std()}')\n",
    "print(f'{\"Maxiumn\":30s} >>> {dataset[\"LOG_SHIPMT_WGHT\"].max()}')\n",
    "print(f'{\"Minimum\":30s} >>> {dataset[\"LOG_SHIPMT_WGHT\"].min()}')\n",
    "print(f'{\"Skewness\":30s} >>> {dataset[\"LOG_SHIPMT_WGHT\"].skew()}')\n",
    "\n",
    "# Check for distribution\n",
    "dataset[\"LOG_SHIPMT_WGHT\"].hist(bins=100, grid=False, xlabelsize=12, ylabelsize=12)\n",
    "plt.xlabel(\"Life Expectancy\", fontsize=15)\n",
    "plt.ylabel(\"Frequency\",fontsize=15)\n",
    "sns.distplot(dataset[\"LOG_SHIPMT_WGHT\"])\n",
    "plt.show()\n",
    "\n",
    "# Check for outliers\n",
    "sns.boxplot(x=dataset[\"LOG_SHIPMT_WGHT\"])"
   ]
  },
  {
   "cell_type": "code",
   "execution_count": 45,
   "metadata": {},
   "outputs": [],
   "source": [
    "if \"SHIPMT_DIST_GC\" in dataset.columns:\n",
    "    # Tranform data using boxcox method and verify\n",
    "    dataset[\"LOG_SHIPMT_DIST_GC\"] = np.log(dataset[\"SHIPMT_DIST_GC\"] + 1)\n",
    "\n",
    "    # Statistics for SHIPMT_DIST_GC\n",
    "    print(f'{\"Mean\":30s} >>> {dataset[\"LOG_SHIPMT_DIST_GC\"].mean()}')\n",
    "    print(f'{\"Median\":30s} >>> {dataset[\"LOG_SHIPMT_DIST_GC\"].median()}')\n",
    "    print(f'{\"Mode\":30s} >>> {dataset[\"LOG_SHIPMT_DIST_GC\"].mode()}')\n",
    "    print(f'{\"Standard Deviation\":30s} >>> {dataset[\"LOG_SHIPMT_DIST_GC\"].std()}')\n",
    "    print(f'{\"Maxiumn\":30s} >>> {dataset[\"LOG_SHIPMT_DIST_GC\"].max()}')\n",
    "    print(f'{\"Minimum\":30s} >>> {dataset[\"LOG_SHIPMT_DIST_GC\"].min()}')\n",
    "    print(f'{\"Skewness\":30s} >>> {dataset[\"LOG_SHIPMT_DIST_GC\"].skew()}')\n",
    "\n",
    "    # Check for distribution\n",
    "    dataset[\"LOG_SHIPMT_DIST_GC\"].hist(bins=100, grid=False, xlabelsize=12, ylabelsize=12)\n",
    "    plt.xlabel(\"Life Expectancy\", fontsize=15)\n",
    "    plt.ylabel(\"Frequency\",fontsize=15)\n",
    "    sns.distplot(dataset[\"LOG_SHIPMT_DIST_GC\"])\n",
    "    plt.show()\n",
    "\n",
    "    # Check for outliers\n",
    "    sns.boxplot(x=dataset[\"LOG_SHIPMT_DIST_GC\"])"
   ]
  },
  {
   "cell_type": "code",
   "execution_count": 46,
   "metadata": {},
   "outputs": [
    {
     "name": "stdout",
     "output_type": "stream",
     "text": [
      "Mean                           >>> 4.409859194045095\n",
      "Median                         >>> 4.2626798770413155\n",
      "Mode                           >>> 0    1.609438\n",
      "dtype: float64\n",
      "Standard Deviation             >>> 1.8396022159881582\n",
      "Maxiumn                        >>> 8.62998601889136\n",
      "Minimum                        >>> 0.6931471805599453\n",
      "Skewness                       >>> 0.13470421801338864\n"
     ]
    },
    {
     "data": {
      "image/png": "[encoded data removed]",
      "text/plain": [
       "<Figure size 432x288 with 1 Axes>"
      ]
     },
     "metadata": {
      "needs_background": "light"
     },
     "output_type": "display_data"
    },
    {
     "data": {
      "image/png": "[encoded data removed]",
      "text/plain": [
       "<Figure size 432x288 with 1 Axes>"
      ]
     },
     "metadata": {
      "needs_background": "light"
     },
     "output_type": "display_data"
    }
   ],
   "source": [
    "if \"SHIPMT_DIST_ROUTED\" in dataset.columns:\n",
    "    # Tranform data using boxcox method and verify\n",
    "    dataset[\"LOG_SHIPMT_DIST_ROUTED\"] = np.log(dataset[\"SHIPMT_DIST_ROUTED\"] + 1)\n",
    "\n",
    "    # Statistics for SHIPMT_DIST_ROUTED\n",
    "    print(f'{\"Mean\":30s} >>> {dataset[\"LOG_SHIPMT_DIST_ROUTED\"].mean()}')\n",
    "    print(f'{\"Median\":30s} >>> {dataset[\"LOG_SHIPMT_DIST_ROUTED\"].median()}')\n",
    "    print(f'{\"Mode\":30s} >>> {dataset[\"LOG_SHIPMT_DIST_ROUTED\"].mode()}')\n",
    "    print(f'{\"Standard Deviation\":30s} >>> {dataset[\"LOG_SHIPMT_DIST_ROUTED\"].std()}')\n",
    "    print(f'{\"Maxiumn\":30s} >>> {dataset[\"LOG_SHIPMT_DIST_ROUTED\"].max()}')\n",
    "    print(f'{\"Minimum\":30s} >>> {dataset[\"LOG_SHIPMT_DIST_ROUTED\"].min()}')\n",
    "    print(f'{\"Skewness\":30s} >>> {dataset[\"LOG_SHIPMT_DIST_ROUTED\"].skew()}')\n",
    "\n",
    "    # Check for distribution\n",
    "    dataset[\"LOG_SHIPMT_DIST_ROUTED\"].hist(bins=100, grid=False, xlabelsize=12, ylabelsize=12)\n",
    "    plt.xlabel(\"Life Expectancy\", fontsize=15)\n",
    "    plt.ylabel(\"Frequency\",fontsize=15)\n",
    "    sns.distplot(dataset[\"LOG_SHIPMT_DIST_ROUTED\"])\n",
    "    plt.show()\n",
    "\n",
    "    # Check for outliers\n",
    "    sns.boxplot(x=dataset[\"LOG_SHIPMT_DIST_ROUTED\"])"
   ]
  },
  {
   "cell_type": "code",
   "execution_count": 47,
   "metadata": {},
   "outputs": [
    {
     "name": "stdout",
     "output_type": "stream",
     "text": [
      "Mean                           >>> 5.57544582435555\n",
      "Median                         >>> 5.502889532276811\n",
      "Mode                           >>> 0    2.867899\n",
      "dtype: float64\n",
      "Standard Deviation             >>> 1.6028187636883846\n",
      "Maxiumn                        >>> 13.790192749979985\n",
      "Minimum                        >>> -0.5108256237659907\n",
      "Skewness                       >>> 0.2720131296393699\n"
     ]
    },
    {
     "data": {
      "image/png": "[encoded data removed]",
      "text/plain": [
       "<Figure size 432x288 with 1 Axes>"
      ]
     },
     "metadata": {
      "needs_background": "light"
     },
     "output_type": "display_data"
    },
    {
     "data": {
      "text/plain": [
       "<matplotlib.axes._subplots.AxesSubplot at 0x173a6c7d608>"
      ]
     },
     "execution_count": 47,
     "metadata": {},
     "output_type": "execute_result"
    },
    {
     "data": {
      "image/png": "[encoded data removed]",
      "text/plain": [
       "<Figure size 432x288 with 1 Axes>"
      ]
     },
     "metadata": {
      "needs_background": "light"
     },
     "output_type": "display_data"
    }
   ],
   "source": [
    "# Tranform data using boxcox method and verify\n",
    "dataset[\"LOG_WGT_FACTOR\"] = np.log(dataset[\"WGT_FACTOR\"])\n",
    "\n",
    "# Statistics for WGT_FACTOR\n",
    "print(f'{\"Mean\":30s} >>> {dataset[\"LOG_WGT_FACTOR\"].mean()}')\n",
    "print(f'{\"Median\":30s} >>> {dataset[\"LOG_WGT_FACTOR\"].median()}')\n",
    "print(f'{\"Mode\":30s} >>> {dataset[\"LOG_WGT_FACTOR\"].mode()}')\n",
    "print(f'{\"Standard Deviation\":30s} >>> {dataset[\"LOG_WGT_FACTOR\"].std()}')\n",
    "print(f'{\"Maxiumn\":30s} >>> {dataset[\"LOG_WGT_FACTOR\"].max()}')\n",
    "print(f'{\"Minimum\":30s} >>> {dataset[\"LOG_WGT_FACTOR\"].min()}')\n",
    "print(f'{\"Skewness\":30s} >>> {dataset[\"LOG_WGT_FACTOR\"].skew()}')\n",
    "\n",
    "# Check for distribution\n",
    "dataset[\"LOG_WGT_FACTOR\"].hist(bins=100, grid=False, xlabelsize=12, ylabelsize=12)\n",
    "plt.xlabel(\"Life Expectancy\", fontsize=15)\n",
    "plt.ylabel(\"Frequency\",fontsize=15)\n",
    "sns.distplot(dataset[\"LOG_WGT_FACTOR\"])\n",
    "plt.show()\n",
    "\n",
    "# Check for outliers\n",
    "sns.boxplot(x=dataset[\"LOG_WGT_FACTOR\"])"
   ]
  },
  {
   "cell_type": "code",
   "execution_count": 48,
   "metadata": {},
   "outputs": [],
   "source": [
    "# Removing original features for which transformation is done\n",
    "# dataset.drop([\"SHIPMT_VALUE\", \"SHIPMT_WGHT\", \"SHIPMT_DIST_GC\", \"WGT_FACTOR\"],\n",
    "#             axis = 1,\n",
    "#             inplace = True\n",
    "#             )\n",
    "\n",
    "\n",
    "dataset.drop([\"SHIPMT_VALUE\", \"SHIPMT_WGHT\", \"SHIPMT_DIST_ROUTED\", \"WGT_FACTOR\"],\n",
    "            axis = 1,\n",
    "            inplace = True\n",
    "            )"
   ]
  },
  {
   "cell_type": "code",
   "execution_count": 49,
   "metadata": {},
   "outputs": [
    {
     "data": {
      "text/plain": [
       "(1192621, 268)"
      ]
     },
     "execution_count": 49,
     "metadata": {},
     "output_type": "execute_result"
    }
   ],
   "source": [
    "dataset.shape"
   ]
  },
  {
   "cell_type": "code",
   "execution_count": 50,
   "metadata": {},
   "outputs": [
    {
     "data": {
      "text/html": [
       "<div>\n",
       "<style scoped>\n",
       "    .dataframe tbody tr th:only-of-type {\n",
       "        vertical-align: middle;\n",
       "    }\n",
       "\n",
       "    .dataframe tbody tr th {\n",
       "        vertical-align: top;\n",
       "    }\n",
       "\n",
       "    .dataframe thead th {\n",
       "        text-align: right;\n",
       "    }\n",
       "</style>\n",
       "<table border=\"1\" class=\"dataframe\">\n",
       "  <thead>\n",
       "    <tr style=\"text-align: right;\">\n",
       "      <th></th>\n",
       "      <th>ORIG_STATE_10</th>\n",
       "      <th>ORIG_STATE_11</th>\n",
       "      <th>ORIG_STATE_12</th>\n",
       "      <th>ORIG_STATE_13</th>\n",
       "      <th>ORIG_STATE_15</th>\n",
       "      <th>ORIG_STATE_16</th>\n",
       "      <th>ORIG_STATE_17</th>\n",
       "      <th>ORIG_STATE_18</th>\n",
       "      <th>ORIG_STATE_19</th>\n",
       "      <th>ORIG_STATE_2</th>\n",
       "      <th>...</th>\n",
       "      <th>TEMP_CNTL_YN_Y</th>\n",
       "      <th>HAZMAT_N</th>\n",
       "      <th>HAZMAT_P</th>\n",
       "      <th>SCTG_GROUP_FOOD</th>\n",
       "      <th>SCTG_GROUP_FUEL</th>\n",
       "      <th>SCTG_GROUP_PLCHM</th>\n",
       "      <th>LOG_SHIPMT_VALUE</th>\n",
       "      <th>LOG_SHIPMT_WGHT</th>\n",
       "      <th>LOG_SHIPMT_DIST_ROUTED</th>\n",
       "      <th>LOG_WGT_FACTOR</th>\n",
       "    </tr>\n",
       "    <tr>\n",
       "      <th>SHIPMT_ID</th>\n",
       "      <th></th>\n",
       "      <th></th>\n",
       "      <th></th>\n",
       "      <th></th>\n",
       "      <th></th>\n",
       "      <th></th>\n",
       "      <th></th>\n",
       "      <th></th>\n",
       "      <th></th>\n",
       "      <th></th>\n",
       "      <th></th>\n",
       "      <th></th>\n",
       "      <th></th>\n",
       "      <th></th>\n",
       "      <th></th>\n",
       "      <th></th>\n",
       "      <th></th>\n",
       "      <th></th>\n",
       "      <th></th>\n",
       "      <th></th>\n",
       "      <th></th>\n",
       "    </tr>\n",
       "  </thead>\n",
       "  <tbody>\n",
       "    <tr>\n",
       "      <th>12</th>\n",
       "      <td>0</td>\n",
       "      <td>0</td>\n",
       "      <td>0</td>\n",
       "      <td>0</td>\n",
       "      <td>0</td>\n",
       "      <td>0</td>\n",
       "      <td>0</td>\n",
       "      <td>0</td>\n",
       "      <td>0</td>\n",
       "      <td>0</td>\n",
       "      <td>...</td>\n",
       "      <td>0</td>\n",
       "      <td>1</td>\n",
       "      <td>0</td>\n",
       "      <td>0</td>\n",
       "      <td>0</td>\n",
       "      <td>1</td>\n",
       "      <td>8.928508</td>\n",
       "      <td>8.284252</td>\n",
       "      <td>4.969813</td>\n",
       "      <td>4.346399</td>\n",
       "    </tr>\n",
       "    <tr>\n",
       "      <th>13</th>\n",
       "      <td>0</td>\n",
       "      <td>0</td>\n",
       "      <td>0</td>\n",
       "      <td>0</td>\n",
       "      <td>0</td>\n",
       "      <td>0</td>\n",
       "      <td>0</td>\n",
       "      <td>0</td>\n",
       "      <td>0</td>\n",
       "      <td>0</td>\n",
       "      <td>...</td>\n",
       "      <td>0</td>\n",
       "      <td>1</td>\n",
       "      <td>0</td>\n",
       "      <td>0</td>\n",
       "      <td>0</td>\n",
       "      <td>1</td>\n",
       "      <td>7.056175</td>\n",
       "      <td>1.386294</td>\n",
       "      <td>5.488938</td>\n",
       "      <td>6.345987</td>\n",
       "    </tr>\n",
       "    <tr>\n",
       "      <th>14</th>\n",
       "      <td>0</td>\n",
       "      <td>0</td>\n",
       "      <td>0</td>\n",
       "      <td>0</td>\n",
       "      <td>0</td>\n",
       "      <td>0</td>\n",
       "      <td>0</td>\n",
       "      <td>0</td>\n",
       "      <td>0</td>\n",
       "      <td>0</td>\n",
       "      <td>...</td>\n",
       "      <td>0</td>\n",
       "      <td>1</td>\n",
       "      <td>0</td>\n",
       "      <td>0</td>\n",
       "      <td>0</td>\n",
       "      <td>0</td>\n",
       "      <td>7.260523</td>\n",
       "      <td>10.800351</td>\n",
       "      <td>2.708050</td>\n",
       "      <td>6.282641</td>\n",
       "    </tr>\n",
       "    <tr>\n",
       "      <th>21</th>\n",
       "      <td>0</td>\n",
       "      <td>0</td>\n",
       "      <td>0</td>\n",
       "      <td>0</td>\n",
       "      <td>0</td>\n",
       "      <td>0</td>\n",
       "      <td>0</td>\n",
       "      <td>0</td>\n",
       "      <td>0</td>\n",
       "      <td>0</td>\n",
       "      <td>...</td>\n",
       "      <td>0</td>\n",
       "      <td>1</td>\n",
       "      <td>0</td>\n",
       "      <td>0</td>\n",
       "      <td>0</td>\n",
       "      <td>1</td>\n",
       "      <td>7.837949</td>\n",
       "      <td>8.078378</td>\n",
       "      <td>5.572154</td>\n",
       "      <td>4.248495</td>\n",
       "    </tr>\n",
       "    <tr>\n",
       "      <th>25</th>\n",
       "      <td>0</td>\n",
       "      <td>0</td>\n",
       "      <td>0</td>\n",
       "      <td>0</td>\n",
       "      <td>0</td>\n",
       "      <td>0</td>\n",
       "      <td>0</td>\n",
       "      <td>0</td>\n",
       "      <td>0</td>\n",
       "      <td>0</td>\n",
       "      <td>...</td>\n",
       "      <td>1</td>\n",
       "      <td>1</td>\n",
       "      <td>0</td>\n",
       "      <td>0</td>\n",
       "      <td>0</td>\n",
       "      <td>0</td>\n",
       "      <td>10.184862</td>\n",
       "      <td>10.412411</td>\n",
       "      <td>5.393628</td>\n",
       "      <td>4.738827</td>\n",
       "    </tr>\n",
       "  </tbody>\n",
       "</table>\n",
       "<p>5 rows × 268 columns</p>\n",
       "</div>"
      ],
      "text/plain": [
       "           ORIG_STATE_10  ORIG_STATE_11  ORIG_STATE_12  ORIG_STATE_13  \\\n",
       "SHIPMT_ID                                                               \n",
       "12                     0              0              0              0   \n",
       "13                     0              0              0              0   \n",
       "14                     0              0              0              0   \n",
       "21                     0              0              0              0   \n",
       "25                     0              0              0              0   \n",
       "\n",
       "           ORIG_STATE_15  ORIG_STATE_16  ORIG_STATE_17  ORIG_STATE_18  \\\n",
       "SHIPMT_ID                                                               \n",
       "12                     0              0              0              0   \n",
       "13                     0              0              0              0   \n",
       "14                     0              0              0              0   \n",
       "21                     0              0              0              0   \n",
       "25                     0              0              0              0   \n",
       "\n",
       "           ORIG_STATE_19  ORIG_STATE_2  ...  TEMP_CNTL_YN_Y  HAZMAT_N  \\\n",
       "SHIPMT_ID                               ...                             \n",
       "12                     0             0  ...               0         1   \n",
       "13                     0             0  ...               0         1   \n",
       "14                     0             0  ...               0         1   \n",
       "21                     0             0  ...               0         1   \n",
       "25                     0             0  ...               1         1   \n",
       "\n",
       "           HAZMAT_P  SCTG_GROUP_FOOD  SCTG_GROUP_FUEL  SCTG_GROUP_PLCHM  \\\n",
       "SHIPMT_ID                                                                 \n",
       "12                0                0                0                 1   \n",
       "13                0                0                0                 1   \n",
       "14                0                0                0                 0   \n",
       "21                0                0                0                 1   \n",
       "25                0                0                0                 0   \n",
       "\n",
       "           LOG_SHIPMT_VALUE  LOG_SHIPMT_WGHT  LOG_SHIPMT_DIST_ROUTED  \\\n",
       "SHIPMT_ID                                                              \n",
       "12                 8.928508         8.284252                4.969813   \n",
       "13                 7.056175         1.386294                5.488938   \n",
       "14                 7.260523        10.800351                2.708050   \n",
       "21                 7.837949         8.078378                5.572154   \n",
       "25                10.184862        10.412411                5.393628   \n",
       "\n",
       "           LOG_WGT_FACTOR  \n",
       "SHIPMT_ID                  \n",
       "12               4.346399  \n",
       "13               6.345987  \n",
       "14               6.282641  \n",
       "21               4.248495  \n",
       "25               4.738827  \n",
       "\n",
       "[5 rows x 268 columns]"
      ]
     },
     "execution_count": 50,
     "metadata": {},
     "output_type": "execute_result"
    }
   ],
   "source": [
    "dataset.head()"
   ]
  },
  {
   "cell_type": "code",
   "execution_count": 91,
   "metadata": {},
   "outputs": [],
   "source": [
    "# # Export dataset\n",
    "# dataset.to_csv(\"exported_data.txt\")"
   ]
  },
  {
   "cell_type": "code",
   "execution_count": 51,
   "metadata": {},
   "outputs": [],
   "source": [
    "sample_Dataset = dataset.sample(frac = 0.4, random_state = 12345)"
   ]
  },
  {
   "cell_type": "code",
   "execution_count": 52,
   "metadata": {},
   "outputs": [
    {
     "data": {
      "text/plain": [
       "(477048, 268)"
      ]
     },
     "execution_count": 52,
     "metadata": {},
     "output_type": "execute_result"
    }
   ],
   "source": [
    "sample_Dataset.shape"
   ]
  },
  {
   "cell_type": "markdown",
   "metadata": {},
   "source": [
    "# Modelling"
   ]
  },
  {
   "cell_type": "code",
   "execution_count": 53,
   "metadata": {},
   "outputs": [
    {
     "data": {
      "text/plain": [
       "Index(['ORIG_STATE_10', 'ORIG_STATE_11', 'ORIG_STATE_12', 'ORIG_STATE_13',\n",
       "       'ORIG_STATE_15', 'ORIG_STATE_16', 'ORIG_STATE_17', 'ORIG_STATE_18',\n",
       "       'ORIG_STATE_19', 'ORIG_STATE_2',\n",
       "       ...\n",
       "       'MODE_8', 'TEMP_CNTL_YN_Y', 'HAZMAT_N', 'HAZMAT_P', 'SCTG_GROUP_FOOD',\n",
       "       'SCTG_GROUP_FUEL', 'SCTG_GROUP_PLCHM', 'LOG_SHIPMT_WGHT',\n",
       "       'LOG_SHIPMT_DIST_ROUTED', 'LOG_WGT_FACTOR'],\n",
       "      dtype='object', length=267)"
      ]
     },
     "execution_count": 53,
     "metadata": {},
     "output_type": "execute_result"
    }
   ],
   "source": [
    "# Split Traing and Test data\n",
    "\n",
    "# Without Transformation\n",
    "# target = dataset.SHIPMT_VALUE\n",
    "# inputs = dataset.drop(columns = ['SHIPMT_VALUE'])\n",
    "# inputs.columns\n",
    "\n",
    "# With Transformation\n",
    "target = sample_Dataset.LOG_SHIPMT_VALUE\n",
    "inputs = sample_Dataset.drop(columns = ['LOG_SHIPMT_VALUE'])\n",
    "inputs.columns"
   ]
  },
  {
   "cell_type": "code",
   "execution_count": 54,
   "metadata": {},
   "outputs": [],
   "source": [
    "def performance_metric(y_true, y_predict):\n",
    "    \"\"\" Calculates and returns the performance score between \n",
    "        true and predicted values based on the metric chosen. \"\"\"\n",
    "    # TODO: Calculate the performance score between 'y_true' and 'y_predict'\n",
    "    score = r2_score(y_true, y_predict)\n",
    "    \n",
    "    # Return the score\n",
    "    return score"
   ]
  },
  {
   "cell_type": "code",
   "execution_count": 55,
   "metadata": {},
   "outputs": [],
   "source": [
    "def mean_absolute_error(y_true, y_pred):    \n",
    "    # Calculate the absolute errors\n",
    "    price_errors = abs(y_pred - y_true)\n",
    "    return round(np.mean(price_errors), 2)"
   ]
  },
  {
   "cell_type": "markdown",
   "metadata": {},
   "source": [
    "# Split Train and Test 80:20 ratio"
   ]
  },
  {
   "cell_type": "code",
   "execution_count": 56,
   "metadata": {},
   "outputs": [],
   "source": [
    "X_Train, X_Test, Y_Train, Y_Test = train_test_split(inputs, target, test_size = 0.2, random_state = 12345)"
   ]
  },
  {
   "cell_type": "markdown",
   "metadata": {},
   "source": [
    "# Mulitple Linear regression"
   ]
  },
  {
   "cell_type": "code",
   "execution_count": 130,
   "metadata": {},
   "outputs": [
    {
     "data": {
      "text/plain": [
       "LinearRegression(copy_X=True, fit_intercept=True, n_jobs=None, normalize=True)"
      ]
     },
     "execution_count": 130,
     "metadata": {},
     "output_type": "execute_result"
    }
   ],
   "source": [
    "# Munish\n",
    "# Fit Regression Model\n",
    "regressor = LinearRegression(fit_intercept  = True, normalize = True)\n",
    "regressor.fit(X_Train, Y_Train)"
   ]
  },
  {
   "cell_type": "code",
   "execution_count": 131,
   "metadata": {},
   "outputs": [],
   "source": [
    "# Predicting the Test set results\n",
    "Y_Train_Pred = regressor.predict(X_Train)\n",
    "Y_Test_Pred = regressor.predict(X_Test)"
   ]
  },
  {
   "cell_type": "code",
   "execution_count": 133,
   "metadata": {},
   "outputs": [
    {
     "name": "stdout",
     "output_type": "stream",
     "text": [
      "R-square for Train 0.7039206117133812\n",
      "Mean Absolute error for Train 9022.36\n",
      "R-square for Test 0.7067687473717154\n",
      "Mean Absolute error for test 9347.56\n"
     ]
    }
   ],
   "source": [
    "# Evaluate result for MLA\n",
    "print(\"R-square for Train\", performance_metric(Y_Train, Y_Train_Pred))\n",
    "print(\"Mean Absolute error for Train\", mean_absolute_error((np.exp(Y_Train)-1), (np.exp(Y_Train_Pred)-1)))\n",
    "\n",
    "print(\"R-square for Test\", performance_metric(Y_Test, Y_Test_Pred))\n",
    "print(\"Mean Absolute error for test\", mean_absolute_error((np.exp(Y_Test)-1), (np.exp(Y_Test_Pred)-1)))"
   ]
  },
  {
   "cell_type": "markdown",
   "metadata": {},
   "source": [
    "# Random Forest Regressor"
   ]
  },
  {
   "cell_type": "code",
   "execution_count": null,
   "metadata": {},
   "outputs": [],
   "source": [
    "# Shikhir\n",
    "# Develop Random Forest Regressor Model\n",
    "\n",
    "hyperparam_distribution = {\n",
    "        'n_estimators': randint(low=1, high=100),\n",
    "        'max_features': randint(low=1, high=268),\n",
    "    }\n",
    "\n",
    "random_forest_regressor= RandomForestRegressor()\n",
    "\n",
    "random_forest_regressor_search = RandomizedSearchCV(estimator = random_forest_regressor,\n",
    "                                                    param_distributions=hyperparam_distribution,\n",
    "                                                    n_iter = 10,\n",
    "                                                    cv = 5,\n",
    "                                                    scoring='neg_mean_squared_error')\n",
    "\n",
    "random_forest_regressor_search.fit(X_Train, Y_Train);"
   ]
  },
  {
   "cell_type": "code",
   "execution_count": null,
   "metadata": {},
   "outputs": [],
   "source": [
    "# Predicting the Train and Test set results\n",
    "Y_Train_Pred = random_forest_regressor_search.predict(X_Train)\n",
    "Y_Test_Pred = random_forest_regressor_search.predict(X_Test)"
   ]
  },
  {
   "cell_type": "code",
   "execution_count": null,
   "metadata": {},
   "outputs": [],
   "source": [
    "# Evluate the result\n",
    "print(\"R-square for Train\", performance_metric(Y_Train, Y_Train_Pred))\n",
    "print(\"Mean Absolute error for Train\", mean_absolute_error((np.exp(Y_Train)-1), (np.exp(Y_Train_Pred)-1)))\n",
    "\n",
    "print(\"R-square for Test\", performance_metric(Y_Test, Y_Test_Pred))\n",
    "print(\"Mean Absolute error for test\", mean_absolute_error((np.exp(Y_Test)-1), (np.exp(Y_Test_Pred)-1)))"
   ]
  },
  {
   "cell_type": "code",
   "execution_count": null,
   "metadata": {},
   "outputs": [],
   "source": [
    "from sklearn.model_selection import RandomizedSearchCV\n",
    "\n",
    "# Number of trees in random forest\n",
    "n_estimators = [int(x) for x in np.linspace(start =50, stop = 200, num = 10)]\n",
    "# Number of features to consider at every split\n",
    "max_features = ['auto', 'sqrt']\n",
    "# Maximum number of levels in tree\n",
    "max_depth = [int(x) for x in np.linspace(10, 110, num = 11)]\n",
    "max_depth.append(None)\n",
    "# Minimum number of samples required to split a node\n",
    "min_samples_split = [2, 5, 10]\n",
    "# Minimum number of samples required at each leaf node\n",
    "min_samples_leaf = [1, 2, 4]\n",
    "# Method of selecting samples for training each tree\n",
    "bootstrap = [True, False]\n",
    "\n",
    "# Create the random grid\n",
    "random_grid = {'n_estimators': n_estimators,\n",
    "               'max_features': max_features,\n",
    "               'max_depth': max_depth,\n",
    "               'min_samples_split': min_samples_split,\n",
    "               'min_samples_leaf': min_samples_leaf,\n",
    "               'bootstrap': bootstrap}\n",
    "\n",
    "print(random_grid)\n",
    "\n",
    "\n",
    "# Use the random grid to search for best hyperparameters\n",
    "# First create the base model to tune\n",
    "rf = RandomForestRegressor(random_state = 42)\n",
    "# Random search of parameters, using 3 fold cross validation, \n",
    "# search across 100 different combinations, and use all available cores\n",
    "random_forest_regressor_search = RandomizedSearchCV(estimator=rf, param_distributions=random_grid,\n",
    "                              n_iter = 10, scoring='neg_mean_absolute_error', \n",
    "                              cv = 3, verbose=2, random_state=42, n_jobs=-1,\n",
    "                              return_train_score=True)\n",
    "\n",
    "# Fit the random search model\n",
    "random_forest_regressor_search.fit(X_Train, Y_Train)"
   ]
  },
  {
   "cell_type": "markdown",
   "metadata": {},
   "source": [
    "# GradientBoostingRegressor"
   ]
  },
  {
   "cell_type": "code",
   "execution_count": 98,
   "metadata": {},
   "outputs": [
    {
     "data": {
      "text/plain": [
       "GradientBoostingRegressor(alpha=0.9, ccp_alpha=0.0, criterion='friedman_mse',\n",
       "                          init=None, learning_rate=0.1, loss='ls', max_depth=3,\n",
       "                          max_features=None, max_leaf_nodes=None,\n",
       "                          min_impurity_decrease=0.0, min_impurity_split=None,\n",
       "                          min_samples_leaf=1, min_samples_split=2,\n",
       "                          min_weight_fraction_leaf=0.0, n_estimators=100,\n",
       "                          n_iter_no_change=None, presort='deprecated',\n",
       "                          random_state=None, subsample=1.0, tol=0.0001,\n",
       "                          validation_fraction=0.1, verbose=0, warm_start=False)"
      ]
     },
     "execution_count": 98,
     "metadata": {},
     "output_type": "execute_result"
    }
   ],
   "source": [
    "# Priyanka\n",
    "gbr = GradientBoostingRegressor(n_estimators=100) \n",
    "gbr.fit(X_Train, Y_Train)"
   ]
  },
  {
   "cell_type": "code",
   "execution_count": 101,
   "metadata": {},
   "outputs": [],
   "source": [
    "# Predicting the Train and Test set results\n",
    "GBR_Y_Train_Pred = gbr.predict(X_Train)\n",
    "GBR_Y_Test_Pred = gbr.predict(X_Test)"
   ]
  },
  {
   "cell_type": "code",
   "execution_count": 102,
   "metadata": {},
   "outputs": [
    {
     "name": "stdout",
     "output_type": "stream",
     "text": [
      "R-square for Train 0.7512964008899785\n",
      "Mean Absolute error for Train 8264.21\n",
      "R-square for Test 0.7528141286443255\n",
      "Mean Absolute error for test 8661.11\n"
     ]
    }
   ],
   "source": [
    "# Evluate the result\n",
    "print(\"R-square for Train\", performance_metric(Y_Train, GBR_Y_Train_Pred))\n",
    "print(\"Mean Absolute error for Train\", mean_absolute_error((np.exp(Y_Train)-1), (np.exp(GBR_Y_Train_Pred)-1)))\n",
    "\n",
    "print(\"R-square for Test\", performance_metric(Y_Test, GBR_Y_Test_Pred))\n",
    "print(\"Mean Absolute error for test\", mean_absolute_error((np.exp(Y_Test)-1), (np.exp(GBR_Y_Test_Pred)-1)))\n"
   ]
  },
  {
   "cell_type": "markdown",
   "metadata": {},
   "source": [
    "# Decision Tree Regressor"
   ]
  },
  {
   "cell_type": "code",
   "execution_count": 57,
   "metadata": {},
   "outputs": [
    {
     "data": {
      "text/plain": [
       "DecisionTreeRegressor(ccp_alpha=0.0, criterion='mse', max_depth=12,\n",
       "                      max_features=None, max_leaf_nodes=20,\n",
       "                      min_impurity_decrease=0.0, min_impurity_split=None,\n",
       "                      min_samples_leaf=1, min_samples_split=2,\n",
       "                      min_weight_fraction_leaf=0.0, presort='deprecated',\n",
       "                      random_state=None, splitter='best')"
      ]
     },
     "execution_count": 57,
     "metadata": {},
     "output_type": "execute_result"
    }
   ],
   "source": [
    "# Niyati\n",
    "decision_tree_regressor = DecisionTreeRegressor(criterion='mse', max_depth=38, max_features=None,\n",
    "           max_leaf_nodes=20, min_impurity_decrease=0.0,\n",
    "           min_impurity_split=None, min_samples_leaf=1,\n",
    "           min_samples_split=2, min_weight_fraction_leaf=0.0,\n",
    "           random_state=None, splitter='best')\n",
    "decision_tree_regressor.fit(X_Train, Y_Train)"
   ]
  },
  {
   "cell_type": "code",
   "execution_count": 58,
   "metadata": {},
   "outputs": [],
   "source": [
    "# Predicting the Train and Test set results\n",
    "dtr_Y_Train_Pred = decision_tree_regressor.predict(X_Train)\n",
    "dtr_Y_Test_Pred = decision_tree_regressor.predict(X_Test)"
   ]
  },
  {
   "cell_type": "code",
   "execution_count": 59,
   "metadata": {},
   "outputs": [
    {
     "name": "stdout",
     "output_type": "stream",
     "text": [
      "Root mean square error scores: [1.03842993 1.04680515 1.03790886 1.03412597 1.03171222 1.04748981\n",
      " 1.05269782 1.03952751 1.03745589 1.04227735]\n",
      "Mean: 1.0408430505564243\n",
      "Standard deviation: 0.0061517986287210145\n"
     ]
    }
   ],
   "source": [
    "tree_scores = cross_val_score(decision_tree_regressor, X_Train, Y_Train,\n",
    "                              scoring = \"neg_mean_squared_error\", \n",
    "                              cv = 10)\n",
    "\n",
    "tree_rmse_scores = np.sqrt(-tree_scores)\n",
    "\n",
    "print(\"Root mean square error scores:\", tree_rmse_scores)\n",
    "print(\"Mean:\", tree_rmse_scores.mean())\n",
    "print(\"Standard deviation:\", tree_rmse_scores.std())"
   ]
  },
  {
   "cell_type": "code",
   "execution_count": 60,
   "metadata": {},
   "outputs": [
    {
     "name": "stdout",
     "output_type": "stream",
     "text": [
      "R-square for Train 0.7033071412127325\n",
      "Mean Absolute error for Train 9376.27\n",
      "R-square for Test 0.7058762419636657\n",
      "Mean Absolute error for test 9141.71\n"
     ]
    }
   ],
   "source": [
    "# Evluate the result\n",
    "print(\"R-square for Train\", performance_metric(Y_Train, dtr_Y_Train_Pred))\n",
    "print(\"Mean Absolute error for Train\", mean_absolute_error((np.exp(Y_Train)-1), (np.exp(dtr_Y_Train_Pred)-1)))\n",
    "\n",
    "print(\"R-square for Test\", performance_metric(Y_Test, dtr_Y_Test_Pred))\n",
    "print(\"Mean Absolute error for test\", mean_absolute_error((np.exp(Y_Test)-1), (np.exp(dtr_Y_Test_Pred)-1)))\n"
   ]
  },
  {
   "cell_type": "markdown",
   "metadata": {},
   "source": [
    "R-square for Train 0.7033071412127325\n",
    "Mean Absolute error for Train 9376.27\n",
    "R-square for Test 0.7058762419636657\n",
    "Mean Absolute error for test 9141.71"
   ]
  }
 ],
 "metadata": {
  "kernelspec": {
   "display_name": "Python 3",
   "language": "python",
   "name": "python3"
  },
  "language_info": {
   "codemirror_mode": {
    "name": "ipython",
    "version": 3
   },
   "file_extension": ".py",
   "mimetype": "text/x-python",
   "name": "python",
   "nbconvert_exporter": "python",
   "pygments_lexer": "ipython3",
   "version": "3.7.6"
  }
 },
 "nbformat": 4,
 "nbformat_minor": 4
}
