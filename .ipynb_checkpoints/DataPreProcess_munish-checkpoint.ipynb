{
 "cells": [
  {
   "cell_type": "code",
   "execution_count": 1,
   "metadata": {},
   "outputs": [],
   "source": [
    "# importing all required libraries\n",
    "import numpy as np # used for handling numbers\n",
    "import pandas as pd # used for handling the dataset\n",
    "from sklearn.impute import SimpleImputer # used for handling missing data\n",
    "from sklearn.preprocessing import LabelEncoder, OneHotEncoder # used for encoding categorical data\n",
    "from sklearn.model_selection import train_test_split # used for splitting training and testing data\n",
    "from sklearn.preprocessing import StandardScaler # used for feature scaling\n",
    "import os\n",
    "from statistics import mode, mean, median\n",
    "\n",
    "# visulization\n",
    "import matplotlib.pyplot as plt\n",
    "import seaborn as sns\n",
    "\n",
    "# Tranform\n",
    "from scipy.stats import boxcox\n"
   ]
  },
  {
   "cell_type": "code",
   "execution_count": 2,
   "metadata": {},
   "outputs": [
    {
     "name": "stdout",
     "output_type": "stream",
     "text": [
      "Dataset is loaded\n"
     ]
    }
   ],
   "source": [
    "# Read CSV File from Data Folder\n",
    "filename = \"cfs_pumf.txt\"\n",
    "\n",
    "# check if data is in current folder. If not, go one step back \n",
    "if \"data\" in os.listdir():\n",
    "    print(\"Found data folder\")\n",
    "else:\n",
    "    os.chdir(\"../\")\n",
    "    \n",
    "try:\n",
    "    dataset = pd.read_csv(f'{os.getcwd()}\\\\data\\\\{filename}') \n",
    "    print(\"Dataset is loaded\")\n",
    "except IOError:\n",
    "    print(f'Could not find the data file {filename}')"
   ]
  },
  {
   "cell_type": "code",
   "execution_count": 3,
   "metadata": {},
   "outputs": [
    {
     "data": {
      "text/plain": [
       "'First 10 observations'"
      ]
     },
     "metadata": {},
     "output_type": "display_data"
    },
    {
     "data": {
      "text/html": [
       "<div>\n",
       "<style scoped>\n",
       "    .dataframe tbody tr th:only-of-type {\n",
       "        vertical-align: middle;\n",
       "    }\n",
       "\n",
       "    .dataframe tbody tr th {\n",
       "        vertical-align: top;\n",
       "    }\n",
       "\n",
       "    .dataframe thead th {\n",
       "        text-align: right;\n",
       "    }\n",
       "</style>\n",
       "<table border=\"1\" class=\"dataframe\">\n",
       "  <thead>\n",
       "    <tr style=\"text-align: right;\">\n",
       "      <th></th>\n",
       "      <th>SHIPMT_ID</th>\n",
       "      <th>ORIG_STATE</th>\n",
       "      <th>ORIG_MA</th>\n",
       "      <th>ORIG_CFS_AREA</th>\n",
       "      <th>DEST_STATE</th>\n",
       "      <th>DEST_MA</th>\n",
       "      <th>DEST_CFS_AREA</th>\n",
       "      <th>NAICS</th>\n",
       "      <th>QUARTER</th>\n",
       "      <th>SCTG</th>\n",
       "      <th>MODE</th>\n",
       "      <th>SHIPMT_VALUE</th>\n",
       "      <th>SHIPMT_WGHT</th>\n",
       "      <th>SHIPMT_DIST_GC</th>\n",
       "      <th>SHIPMT_DIST_ROUTED</th>\n",
       "      <th>TEMP_CNTL_YN</th>\n",
       "      <th>EXPORT_YN</th>\n",
       "      <th>EXPORT_CNTRY</th>\n",
       "      <th>HAZMAT</th>\n",
       "      <th>WGT_FACTOR</th>\n",
       "    </tr>\n",
       "  </thead>\n",
       "  <tbody>\n",
       "    <tr>\n",
       "      <th>0</th>\n",
       "      <td>1</td>\n",
       "      <td>25</td>\n",
       "      <td>148</td>\n",
       "      <td>25-148</td>\n",
       "      <td>25</td>\n",
       "      <td>148</td>\n",
       "      <td>25-148</td>\n",
       "      <td>333</td>\n",
       "      <td>2</td>\n",
       "      <td>35</td>\n",
       "      <td>14</td>\n",
       "      <td>2178</td>\n",
       "      <td>11</td>\n",
       "      <td>14</td>\n",
       "      <td>17</td>\n",
       "      <td>N</td>\n",
       "      <td>N</td>\n",
       "      <td>N</td>\n",
       "      <td>N</td>\n",
       "      <td>208.5</td>\n",
       "    </tr>\n",
       "    <tr>\n",
       "      <th>1</th>\n",
       "      <td>2</td>\n",
       "      <td>42</td>\n",
       "      <td>428</td>\n",
       "      <td>42-428</td>\n",
       "      <td>6</td>\n",
       "      <td>41740</td>\n",
       "      <td>06-41740</td>\n",
       "      <td>311</td>\n",
       "      <td>3</td>\n",
       "      <td>35</td>\n",
       "      <td>14</td>\n",
       "      <td>344</td>\n",
       "      <td>11</td>\n",
       "      <td>2344</td>\n",
       "      <td>2734</td>\n",
       "      <td>N</td>\n",
       "      <td>N</td>\n",
       "      <td>N</td>\n",
       "      <td>N</td>\n",
       "      <td>193.3</td>\n",
       "    </tr>\n",
       "    <tr>\n",
       "      <th>2</th>\n",
       "      <td>3</td>\n",
       "      <td>26</td>\n",
       "      <td>220</td>\n",
       "      <td>26-220</td>\n",
       "      <td>47</td>\n",
       "      <td>314</td>\n",
       "      <td>47-314</td>\n",
       "      <td>322</td>\n",
       "      <td>2</td>\n",
       "      <td>27</td>\n",
       "      <td>4</td>\n",
       "      <td>4197</td>\n",
       "      <td>5134</td>\n",
       "      <td>470</td>\n",
       "      <td>579</td>\n",
       "      <td>N</td>\n",
       "      <td>N</td>\n",
       "      <td>N</td>\n",
       "      <td>N</td>\n",
       "      <td>51.2</td>\n",
       "    </tr>\n",
       "    <tr>\n",
       "      <th>3</th>\n",
       "      <td>4</td>\n",
       "      <td>20</td>\n",
       "      <td>556</td>\n",
       "      <td>20-556</td>\n",
       "      <td>20</td>\n",
       "      <td>556</td>\n",
       "      <td>20-556</td>\n",
       "      <td>323</td>\n",
       "      <td>1</td>\n",
       "      <td>29</td>\n",
       "      <td>4</td>\n",
       "      <td>116</td>\n",
       "      <td>6</td>\n",
       "      <td>3</td>\n",
       "      <td>3</td>\n",
       "      <td>N</td>\n",
       "      <td>N</td>\n",
       "      <td>N</td>\n",
       "      <td>N</td>\n",
       "      <td>238.7</td>\n",
       "    </tr>\n",
       "    <tr>\n",
       "      <th>4</th>\n",
       "      <td>5</td>\n",
       "      <td>12</td>\n",
       "      <td>99999</td>\n",
       "      <td>12-99999</td>\n",
       "      <td>12</td>\n",
       "      <td>99999</td>\n",
       "      <td>12-99999</td>\n",
       "      <td>4235</td>\n",
       "      <td>3</td>\n",
       "      <td>33</td>\n",
       "      <td>5</td>\n",
       "      <td>388</td>\n",
       "      <td>527</td>\n",
       "      <td>124</td>\n",
       "      <td>201</td>\n",
       "      <td>N</td>\n",
       "      <td>N</td>\n",
       "      <td>N</td>\n",
       "      <td>N</td>\n",
       "      <td>398.1</td>\n",
       "    </tr>\n",
       "    <tr>\n",
       "      <th>5</th>\n",
       "      <td>6</td>\n",
       "      <td>24</td>\n",
       "      <td>47900</td>\n",
       "      <td>24-47900</td>\n",
       "      <td>30</td>\n",
       "      <td>99999</td>\n",
       "      <td>30-99999</td>\n",
       "      <td>337</td>\n",
       "      <td>2</td>\n",
       "      <td>40</td>\n",
       "      <td>4</td>\n",
       "      <td>3716</td>\n",
       "      <td>1132</td>\n",
       "      <td>1942</td>\n",
       "      <td>2265</td>\n",
       "      <td>N</td>\n",
       "      <td>Y</td>\n",
       "      <td>C</td>\n",
       "      <td>N</td>\n",
       "      <td>21.9</td>\n",
       "    </tr>\n",
       "    <tr>\n",
       "      <th>6</th>\n",
       "      <td>7</td>\n",
       "      <td>19</td>\n",
       "      <td>99999</td>\n",
       "      <td>19-99999</td>\n",
       "      <td>19</td>\n",
       "      <td>99999</td>\n",
       "      <td>19-99999</td>\n",
       "      <td>337</td>\n",
       "      <td>3</td>\n",
       "      <td>26</td>\n",
       "      <td>5</td>\n",
       "      <td>43738</td>\n",
       "      <td>13501</td>\n",
       "      <td>16</td>\n",
       "      <td>22</td>\n",
       "      <td>N</td>\n",
       "      <td>N</td>\n",
       "      <td>N</td>\n",
       "      <td>N</td>\n",
       "      <td>310.5</td>\n",
       "    </tr>\n",
       "    <tr>\n",
       "      <th>7</th>\n",
       "      <td>8</td>\n",
       "      <td>6</td>\n",
       "      <td>41740</td>\n",
       "      <td>06-41740</td>\n",
       "      <td>6</td>\n",
       "      <td>99999</td>\n",
       "      <td>06-99999</td>\n",
       "      <td>4239</td>\n",
       "      <td>1</td>\n",
       "      <td>40</td>\n",
       "      <td>14</td>\n",
       "      <td>77</td>\n",
       "      <td>4</td>\n",
       "      <td>272</td>\n",
       "      <td>306</td>\n",
       "      <td>N</td>\n",
       "      <td>N</td>\n",
       "      <td>N</td>\n",
       "      <td>N</td>\n",
       "      <td>138.5</td>\n",
       "    </tr>\n",
       "    <tr>\n",
       "      <th>8</th>\n",
       "      <td>9</td>\n",
       "      <td>19</td>\n",
       "      <td>99999</td>\n",
       "      <td>19-99999</td>\n",
       "      <td>19</td>\n",
       "      <td>99999</td>\n",
       "      <td>19-99999</td>\n",
       "      <td>327</td>\n",
       "      <td>3</td>\n",
       "      <td>31</td>\n",
       "      <td>5</td>\n",
       "      <td>338</td>\n",
       "      <td>12826</td>\n",
       "      <td>10</td>\n",
       "      <td>15</td>\n",
       "      <td>N</td>\n",
       "      <td>N</td>\n",
       "      <td>N</td>\n",
       "      <td>N</td>\n",
       "      <td>2695.9</td>\n",
       "    </tr>\n",
       "    <tr>\n",
       "      <th>9</th>\n",
       "      <td>10</td>\n",
       "      <td>13</td>\n",
       "      <td>99999</td>\n",
       "      <td>13-99999</td>\n",
       "      <td>13</td>\n",
       "      <td>99999</td>\n",
       "      <td>13-99999</td>\n",
       "      <td>4237</td>\n",
       "      <td>2</td>\n",
       "      <td>34</td>\n",
       "      <td>5</td>\n",
       "      <td>145</td>\n",
       "      <td>22</td>\n",
       "      <td>21</td>\n",
       "      <td>28</td>\n",
       "      <td>N</td>\n",
       "      <td>N</td>\n",
       "      <td>N</td>\n",
       "      <td>N</td>\n",
       "      <td>489.1</td>\n",
       "    </tr>\n",
       "  </tbody>\n",
       "</table>\n",
       "</div>"
      ],
      "text/plain": [
       "   SHIPMT_ID  ORIG_STATE  ORIG_MA ORIG_CFS_AREA  DEST_STATE  DEST_MA  \\\n",
       "0          1          25      148        25-148          25      148   \n",
       "1          2          42      428        42-428           6    41740   \n",
       "2          3          26      220        26-220          47      314   \n",
       "3          4          20      556        20-556          20      556   \n",
       "4          5          12    99999      12-99999          12    99999   \n",
       "5          6          24    47900      24-47900          30    99999   \n",
       "6          7          19    99999      19-99999          19    99999   \n",
       "7          8           6    41740      06-41740           6    99999   \n",
       "8          9          19    99999      19-99999          19    99999   \n",
       "9         10          13    99999      13-99999          13    99999   \n",
       "\n",
       "  DEST_CFS_AREA  NAICS  QUARTER SCTG  MODE  SHIPMT_VALUE  SHIPMT_WGHT  \\\n",
       "0        25-148    333        2   35    14          2178           11   \n",
       "1      06-41740    311        3   35    14           344           11   \n",
       "2        47-314    322        2   27     4          4197         5134   \n",
       "3        20-556    323        1   29     4           116            6   \n",
       "4      12-99999   4235        3   33     5           388          527   \n",
       "5      30-99999    337        2   40     4          3716         1132   \n",
       "6      19-99999    337        3   26     5         43738        13501   \n",
       "7      06-99999   4239        1   40    14            77            4   \n",
       "8      19-99999    327        3   31     5           338        12826   \n",
       "9      13-99999   4237        2   34     5           145           22   \n",
       "\n",
       "   SHIPMT_DIST_GC  SHIPMT_DIST_ROUTED TEMP_CNTL_YN EXPORT_YN EXPORT_CNTRY  \\\n",
       "0              14                  17            N         N            N   \n",
       "1            2344                2734            N         N            N   \n",
       "2             470                 579            N         N            N   \n",
       "3               3                   3            N         N            N   \n",
       "4             124                 201            N         N            N   \n",
       "5            1942                2265            N         Y            C   \n",
       "6              16                  22            N         N            N   \n",
       "7             272                 306            N         N            N   \n",
       "8              10                  15            N         N            N   \n",
       "9              21                  28            N         N            N   \n",
       "\n",
       "  HAZMAT  WGT_FACTOR  \n",
       "0      N       208.5  \n",
       "1      N       193.3  \n",
       "2      N        51.2  \n",
       "3      N       238.7  \n",
       "4      N       398.1  \n",
       "5      N        21.9  \n",
       "6      N       310.5  \n",
       "7      N       138.5  \n",
       "8      N      2695.9  \n",
       "9      N       489.1  "
      ]
     },
     "metadata": {},
     "output_type": "display_data"
    },
    {
     "data": {
      "text/plain": [
       "'Last 10 observations'"
      ]
     },
     "metadata": {},
     "output_type": "display_data"
    },
    {
     "data": {
      "text/html": [
       "<div>\n",
       "<style scoped>\n",
       "    .dataframe tbody tr th:only-of-type {\n",
       "        vertical-align: middle;\n",
       "    }\n",
       "\n",
       "    .dataframe tbody tr th {\n",
       "        vertical-align: top;\n",
       "    }\n",
       "\n",
       "    .dataframe thead th {\n",
       "        text-align: right;\n",
       "    }\n",
       "</style>\n",
       "<table border=\"1\" class=\"dataframe\">\n",
       "  <thead>\n",
       "    <tr style=\"text-align: right;\">\n",
       "      <th></th>\n",
       "      <th>SHIPMT_ID</th>\n",
       "      <th>ORIG_STATE</th>\n",
       "      <th>ORIG_MA</th>\n",
       "      <th>ORIG_CFS_AREA</th>\n",
       "      <th>DEST_STATE</th>\n",
       "      <th>DEST_MA</th>\n",
       "      <th>DEST_CFS_AREA</th>\n",
       "      <th>NAICS</th>\n",
       "      <th>QUARTER</th>\n",
       "      <th>SCTG</th>\n",
       "      <th>MODE</th>\n",
       "      <th>SHIPMT_VALUE</th>\n",
       "      <th>SHIPMT_WGHT</th>\n",
       "      <th>SHIPMT_DIST_GC</th>\n",
       "      <th>SHIPMT_DIST_ROUTED</th>\n",
       "      <th>TEMP_CNTL_YN</th>\n",
       "      <th>EXPORT_YN</th>\n",
       "      <th>EXPORT_CNTRY</th>\n",
       "      <th>HAZMAT</th>\n",
       "      <th>WGT_FACTOR</th>\n",
       "    </tr>\n",
       "  </thead>\n",
       "  <tbody>\n",
       "    <tr>\n",
       "      <th>4547651</th>\n",
       "      <td>4547652</td>\n",
       "      <td>39</td>\n",
       "      <td>99999</td>\n",
       "      <td>39-99999</td>\n",
       "      <td>39</td>\n",
       "      <td>99999</td>\n",
       "      <td>39-99999</td>\n",
       "      <td>323</td>\n",
       "      <td>2</td>\n",
       "      <td>29</td>\n",
       "      <td>4</td>\n",
       "      <td>247</td>\n",
       "      <td>62</td>\n",
       "      <td>20</td>\n",
       "      <td>29</td>\n",
       "      <td>N</td>\n",
       "      <td>N</td>\n",
       "      <td>N</td>\n",
       "      <td>N</td>\n",
       "      <td>129.5</td>\n",
       "    </tr>\n",
       "    <tr>\n",
       "      <th>4547652</th>\n",
       "      <td>4547653</td>\n",
       "      <td>51</td>\n",
       "      <td>40060</td>\n",
       "      <td>51-40060</td>\n",
       "      <td>37</td>\n",
       "      <td>450</td>\n",
       "      <td>37-450</td>\n",
       "      <td>321</td>\n",
       "      <td>3</td>\n",
       "      <td>26</td>\n",
       "      <td>5</td>\n",
       "      <td>3371</td>\n",
       "      <td>26250</td>\n",
       "      <td>158</td>\n",
       "      <td>173</td>\n",
       "      <td>N</td>\n",
       "      <td>N</td>\n",
       "      <td>N</td>\n",
       "      <td>N</td>\n",
       "      <td>280.8</td>\n",
       "    </tr>\n",
       "    <tr>\n",
       "      <th>4547653</th>\n",
       "      <td>4547654</td>\n",
       "      <td>19</td>\n",
       "      <td>99999</td>\n",
       "      <td>19-99999</td>\n",
       "      <td>17</td>\n",
       "      <td>99999</td>\n",
       "      <td>17-99999</td>\n",
       "      <td>4234</td>\n",
       "      <td>3</td>\n",
       "      <td>21</td>\n",
       "      <td>5</td>\n",
       "      <td>23587</td>\n",
       "      <td>4718</td>\n",
       "      <td>172</td>\n",
       "      <td>182</td>\n",
       "      <td>N</td>\n",
       "      <td>N</td>\n",
       "      <td>N</td>\n",
       "      <td>N</td>\n",
       "      <td>175.3</td>\n",
       "    </tr>\n",
       "    <tr>\n",
       "      <th>4547654</th>\n",
       "      <td>4547655</td>\n",
       "      <td>12</td>\n",
       "      <td>422</td>\n",
       "      <td>12-422</td>\n",
       "      <td>29</td>\n",
       "      <td>99999</td>\n",
       "      <td>29-99999</td>\n",
       "      <td>332</td>\n",
       "      <td>3</td>\n",
       "      <td>33</td>\n",
       "      <td>4</td>\n",
       "      <td>6804</td>\n",
       "      <td>1201</td>\n",
       "      <td>886</td>\n",
       "      <td>1216</td>\n",
       "      <td>N</td>\n",
       "      <td>N</td>\n",
       "      <td>N</td>\n",
       "      <td>N</td>\n",
       "      <td>63.0</td>\n",
       "    </tr>\n",
       "    <tr>\n",
       "      <th>4547655</th>\n",
       "      <td>4547656</td>\n",
       "      <td>48</td>\n",
       "      <td>206</td>\n",
       "      <td>48-206</td>\n",
       "      <td>48</td>\n",
       "      <td>206</td>\n",
       "      <td>48-206</td>\n",
       "      <td>4237</td>\n",
       "      <td>3</td>\n",
       "      <td>33</td>\n",
       "      <td>5</td>\n",
       "      <td>1820</td>\n",
       "      <td>38</td>\n",
       "      <td>3</td>\n",
       "      <td>5</td>\n",
       "      <td>N</td>\n",
       "      <td>N</td>\n",
       "      <td>N</td>\n",
       "      <td>N</td>\n",
       "      <td>1679.3</td>\n",
       "    </tr>\n",
       "    <tr>\n",
       "      <th>4547656</th>\n",
       "      <td>4547657</td>\n",
       "      <td>9</td>\n",
       "      <td>408</td>\n",
       "      <td>09-408</td>\n",
       "      <td>34</td>\n",
       "      <td>408</td>\n",
       "      <td>34-408</td>\n",
       "      <td>323</td>\n",
       "      <td>4</td>\n",
       "      <td>29</td>\n",
       "      <td>14</td>\n",
       "      <td>7988</td>\n",
       "      <td>133</td>\n",
       "      <td>122</td>\n",
       "      <td>152</td>\n",
       "      <td>N</td>\n",
       "      <td>N</td>\n",
       "      <td>N</td>\n",
       "      <td>N</td>\n",
       "      <td>260.6</td>\n",
       "    </tr>\n",
       "    <tr>\n",
       "      <th>4547657</th>\n",
       "      <td>4547658</td>\n",
       "      <td>39</td>\n",
       "      <td>178</td>\n",
       "      <td>39-178</td>\n",
       "      <td>28</td>\n",
       "      <td>99999</td>\n",
       "      <td>28-99999</td>\n",
       "      <td>311</td>\n",
       "      <td>3</td>\n",
       "      <td>05</td>\n",
       "      <td>4</td>\n",
       "      <td>50808</td>\n",
       "      <td>29887</td>\n",
       "      <td>561</td>\n",
       "      <td>683</td>\n",
       "      <td>Y</td>\n",
       "      <td>N</td>\n",
       "      <td>N</td>\n",
       "      <td>N</td>\n",
       "      <td>20.0</td>\n",
       "    </tr>\n",
       "    <tr>\n",
       "      <th>4547658</th>\n",
       "      <td>4547659</td>\n",
       "      <td>36</td>\n",
       "      <td>408</td>\n",
       "      <td>36-408</td>\n",
       "      <td>36</td>\n",
       "      <td>408</td>\n",
       "      <td>36-408</td>\n",
       "      <td>336</td>\n",
       "      <td>4</td>\n",
       "      <td>36</td>\n",
       "      <td>5</td>\n",
       "      <td>685</td>\n",
       "      <td>137</td>\n",
       "      <td>13</td>\n",
       "      <td>16</td>\n",
       "      <td>N</td>\n",
       "      <td>N</td>\n",
       "      <td>N</td>\n",
       "      <td>N</td>\n",
       "      <td>164.3</td>\n",
       "    </tr>\n",
       "    <tr>\n",
       "      <th>4547659</th>\n",
       "      <td>4547660</td>\n",
       "      <td>48</td>\n",
       "      <td>12420</td>\n",
       "      <td>48-12420</td>\n",
       "      <td>48</td>\n",
       "      <td>12420</td>\n",
       "      <td>48-12420</td>\n",
       "      <td>4233</td>\n",
       "      <td>3</td>\n",
       "      <td>33</td>\n",
       "      <td>5</td>\n",
       "      <td>915</td>\n",
       "      <td>1240</td>\n",
       "      <td>20</td>\n",
       "      <td>22</td>\n",
       "      <td>N</td>\n",
       "      <td>N</td>\n",
       "      <td>N</td>\n",
       "      <td>N</td>\n",
       "      <td>1059.9</td>\n",
       "    </tr>\n",
       "    <tr>\n",
       "      <th>4547660</th>\n",
       "      <td>4547661</td>\n",
       "      <td>30</td>\n",
       "      <td>99999</td>\n",
       "      <td>30-99999</td>\n",
       "      <td>30</td>\n",
       "      <td>99999</td>\n",
       "      <td>30-99999</td>\n",
       "      <td>325</td>\n",
       "      <td>1</td>\n",
       "      <td>23</td>\n",
       "      <td>4</td>\n",
       "      <td>22482</td>\n",
       "      <td>75952</td>\n",
       "      <td>12</td>\n",
       "      <td>12</td>\n",
       "      <td>N</td>\n",
       "      <td>N</td>\n",
       "      <td>N</td>\n",
       "      <td>N</td>\n",
       "      <td>66.1</td>\n",
       "    </tr>\n",
       "  </tbody>\n",
       "</table>\n",
       "</div>"
      ],
      "text/plain": [
       "         SHIPMT_ID  ORIG_STATE  ORIG_MA ORIG_CFS_AREA  DEST_STATE  DEST_MA  \\\n",
       "4547651    4547652          39    99999      39-99999          39    99999   \n",
       "4547652    4547653          51    40060      51-40060          37      450   \n",
       "4547653    4547654          19    99999      19-99999          17    99999   \n",
       "4547654    4547655          12      422        12-422          29    99999   \n",
       "4547655    4547656          48      206        48-206          48      206   \n",
       "4547656    4547657           9      408        09-408          34      408   \n",
       "4547657    4547658          39      178        39-178          28    99999   \n",
       "4547658    4547659          36      408        36-408          36      408   \n",
       "4547659    4547660          48    12420      48-12420          48    12420   \n",
       "4547660    4547661          30    99999      30-99999          30    99999   \n",
       "\n",
       "        DEST_CFS_AREA  NAICS  QUARTER SCTG  MODE  SHIPMT_VALUE  SHIPMT_WGHT  \\\n",
       "4547651      39-99999    323        2   29     4           247           62   \n",
       "4547652        37-450    321        3   26     5          3371        26250   \n",
       "4547653      17-99999   4234        3   21     5         23587         4718   \n",
       "4547654      29-99999    332        3   33     4          6804         1201   \n",
       "4547655        48-206   4237        3   33     5          1820           38   \n",
       "4547656        34-408    323        4   29    14          7988          133   \n",
       "4547657      28-99999    311        3   05     4         50808        29887   \n",
       "4547658        36-408    336        4   36     5           685          137   \n",
       "4547659      48-12420   4233        3   33     5           915         1240   \n",
       "4547660      30-99999    325        1   23     4         22482        75952   \n",
       "\n",
       "         SHIPMT_DIST_GC  SHIPMT_DIST_ROUTED TEMP_CNTL_YN EXPORT_YN  \\\n",
       "4547651              20                  29            N         N   \n",
       "4547652             158                 173            N         N   \n",
       "4547653             172                 182            N         N   \n",
       "4547654             886                1216            N         N   \n",
       "4547655               3                   5            N         N   \n",
       "4547656             122                 152            N         N   \n",
       "4547657             561                 683            Y         N   \n",
       "4547658              13                  16            N         N   \n",
       "4547659              20                  22            N         N   \n",
       "4547660              12                  12            N         N   \n",
       "\n",
       "        EXPORT_CNTRY HAZMAT  WGT_FACTOR  \n",
       "4547651            N      N       129.5  \n",
       "4547652            N      N       280.8  \n",
       "4547653            N      N       175.3  \n",
       "4547654            N      N        63.0  \n",
       "4547655            N      N      1679.3  \n",
       "4547656            N      N       260.6  \n",
       "4547657            N      N        20.0  \n",
       "4547658            N      N       164.3  \n",
       "4547659            N      N      1059.9  \n",
       "4547660            N      N        66.1  "
      ]
     },
     "metadata": {},
     "output_type": "display_data"
    }
   ],
   "source": [
    "# Analyze first and last 10 rows\n",
    "display(\"First 10 observations\", dataset.head(10))\n",
    "display(\"Last 10 observations\", dataset.tail(10))"
   ]
  },
  {
   "cell_type": "code",
   "execution_count": 4,
   "metadata": {},
   "outputs": [],
   "source": [
    "# Setting Shipment Id as the index for the dataset\n",
    "dataset.set_index('SHIPMT_ID',inplace=True)"
   ]
  },
  {
   "cell_type": "code",
   "execution_count": 5,
   "metadata": {},
   "outputs": [],
   "source": [
    "# Filter records where EXPORT_YN is N\n",
    "dataset = dataset[dataset['EXPORT_YN'] == 'N']"
   ]
  },
  {
   "cell_type": "code",
   "execution_count": 6,
   "metadata": {},
   "outputs": [],
   "source": [
    "# Removing ORIG_CFS_AREA and DEST_CFS_AREA as these columsn are derived from\n",
    "dataset.drop(['ORIG_CFS_AREA', 'DEST_CFS_AREA', 'EXPORT_CNTRY', 'EXPORT_YN'], axis=1, inplace = True)"
   ]
  },
  {
   "cell_type": "code",
   "execution_count": 7,
   "metadata": {},
   "outputs": [
    {
     "data": {
      "text/plain": [
       "{'ORIG_STATE': dtype('int64'),\n",
       " 'ORIG_MA': dtype('int64'),\n",
       " 'DEST_STATE': dtype('int64'),\n",
       " 'DEST_MA': dtype('int64'),\n",
       " 'NAICS': dtype('int64'),\n",
       " 'QUARTER': dtype('int64'),\n",
       " 'SCTG': dtype('O'),\n",
       " 'MODE': dtype('int64'),\n",
       " 'SHIPMT_VALUE': dtype('int64'),\n",
       " 'SHIPMT_WGHT': dtype('int64'),\n",
       " 'SHIPMT_DIST_GC': dtype('int64'),\n",
       " 'SHIPMT_DIST_ROUTED': dtype('int64'),\n",
       " 'TEMP_CNTL_YN': dtype('O'),\n",
       " 'HAZMAT': dtype('O'),\n",
       " 'WGT_FACTOR': dtype('float64')}"
      ]
     },
     "execution_count": 7,
     "metadata": {},
     "output_type": "execute_result"
    }
   ],
   "source": [
    "# Analyze the datatype of all the variables and convert to appropriate one\n",
    "dataset.dtypes.to_dict()"
   ]
  },
  {
   "cell_type": "code",
   "execution_count": 8,
   "metadata": {},
   "outputs": [
    {
     "data": {
      "text/plain": [
       "{'ORIG_STATE': dtype('O'),\n",
       " 'ORIG_MA': dtype('O'),\n",
       " 'DEST_STATE': dtype('O'),\n",
       " 'DEST_MA': dtype('O'),\n",
       " 'NAICS': dtype('O'),\n",
       " 'QUARTER': dtype('O'),\n",
       " 'SCTG': dtype('O'),\n",
       " 'MODE': dtype('O'),\n",
       " 'SHIPMT_VALUE': dtype('int64'),\n",
       " 'SHIPMT_WGHT': dtype('int64'),\n",
       " 'SHIPMT_DIST_GC': dtype('int64'),\n",
       " 'SHIPMT_DIST_ROUTED': dtype('int64'),\n",
       " 'TEMP_CNTL_YN': dtype('O'),\n",
       " 'HAZMAT': dtype('O'),\n",
       " 'WGT_FACTOR': dtype('float64')}"
      ]
     },
     "execution_count": 8,
     "metadata": {},
     "output_type": "execute_result"
    }
   ],
   "source": [
    "#Convert datatype of below variables to appropriate one\n",
    "dataset.ORIG_STATE = dataset.ORIG_STATE.astype(str)\n",
    "dataset.ORIG_MA = dataset.ORIG_MA.astype(str)\n",
    "dataset.DEST_STATE = dataset.DEST_STATE.astype(str)\n",
    "dataset.DEST_MA = dataset.DEST_MA.astype(str)\n",
    "dataset.QUARTER = dataset.QUARTER.astype(str)\n",
    "dataset.NAICS = dataset.NAICS.astype(str)\n",
    "dataset.MODE = dataset.MODE.astype(str)\n",
    "\n",
    "# Verify dataset again\n",
    "dataset.dtypes.to_dict()"
   ]
  },
  {
   "cell_type": "code",
   "execution_count": 9,
   "metadata": {},
   "outputs": [
    {
     "name": "stdout",
     "output_type": "stream",
     "text": [
      "ORIG_STATE:\n",
      "      ['25' '42' '26' '20' '12' '19' '6' '13' '55' '39' '33' '31' '54' '32' '9'\n",
      " '17' '37' '48' '18' '29' '49' '36' '27' '53' '47' '34' '5' '38' '56' '1'\n",
      " '51' '23' '45' '8' '35' '4' '21' '28' '41' '44' '2' '16' '40' '46' '22'\n",
      " '15' '30' '24' '10' '50' '11' '0']\n",
      "ORIG_MA:\n",
      "      ['148' '428' '220' '556' '99999' '41740' '184' '332' '408' '450' '172'\n",
      " '176' '348' '476' '482' '122' '104' '378' '370' '41700' '440' '400' '368'\n",
      " '420' '206' '268' '545' '312' '376' '40060' '142' '216' '25540' '38060'\n",
      " '350' '430' '266' '294' '178' '300' '488' '0' '472' '238' '416' '47900'\n",
      " '260' '288' '212' '273' '12940' '536' '500' '160' '464' '198' '45300'\n",
      " '538' '406' '46520' '12580' '258' '380' '422' '314' '12420' '496' '29340'\n",
      " '13140' '16700' '29700' '204']\n",
      "DEST_STATE:\n",
      "      ['25' '6' '47' '20' '12' '19' '13' '36' '42' '34' '31' '27' '39' '51' '48'\n",
      " '37' '55' '17' '49' '44' '18' '29' '1' '26' '9' '54' '32' '38' '40' '23'\n",
      " '45' '28' '8' '56' '4' '53' '21' '24' '33' '41' '2' '5' '22' '46' '16'\n",
      " '15' '30' '35' '50' '10' '11']\n",
      "DEST_MA:\n",
      "      ['148' '41740' '314' '556' '99999' '464' '408' '198' '288' '400' '184'\n",
      " '268' '122' '312' '482' '176' '104' '378' '545' '376' '370' '41700' '220'\n",
      " '420' '206' '348' '178' '416' '273' '216' '238' '40060' '38060' '212'\n",
      " '500' '450' '430' '428' '294' '47900' '536' '172' '488' '476' '440' '472'\n",
      " '16700' '25540' '12940' '204' '368' '258' '12580' '142' '45300' '422'\n",
      " '538' '350' '12420' '300' '260' '406' '29340' '332' '46520' '160' '29700'\n",
      " '496' '266' '380' '13140']\n",
      "NAICS:\n",
      "      ['333' '311' '322' '323' '4235' '337' '4239' '327' '4237' '325' '4234'\n",
      " '332' '339' '321' '4232' '334' '315' '4241' '4244' '326' '45431' '4238'\n",
      " '212' '331' '4247' '335' '5111' '336' '4931' '312' '4236' '4248' '4233'\n",
      " '4249' '314' '324' '4541' '4245' '4246' '4243' '4231' '4242' '313'\n",
      " '551114' '316']\n",
      "QUARTER:\n",
      "      ['2' '3' '1' '4']\n",
      "SCTG:\n",
      "      ['35' '27' '29' '33' '26' '40' '31' '34' '20' '21' '04' '36' '25' '30'\n",
      " '24' '32' '39' '05' '28' '03' '19' '12' '23' '17' '43' '38' '06' '41'\n",
      " '08' '07' '02' '18' '25-30' '37' '22' '15' '11' '13' '01-05' '09' '10-14'\n",
      " '10' '06-09' '14' '20-24' '01' '31-34' '35-38' '15-19' '00' '39-99' '99']\n",
      "MODE:\n",
      "      ['14' '4' '5' '6' '11' '2' '12' '8' '15' '13' '16' '10' '0' '20' '3' '17'\n",
      " '19' '7' '9' '101']\n",
      "TEMP_CNTL_YN:\n",
      "      ['N' 'Y']\n",
      "HAZMAT:\n",
      "      ['N' 'H' 'P']\n"
     ]
    }
   ],
   "source": [
    "#Create and Analyze Cross table for categorical variables\n",
    "for col in dataset.columns:\n",
    "    if str(dataset[col].dtype) in [\"str\", \"object\"]:\n",
    "        print(f'{col}:\\n      {dataset[col].unique()}')"
   ]
  },
  {
   "cell_type": "code",
   "execution_count": 10,
   "metadata": {},
   "outputs": [],
   "source": [
    "# Find Missing, Incorrect, and Inconsistent values and remove them"
   ]
  },
  {
   "cell_type": "raw",
   "metadata": {},
   "source": [
    "# \n",
    "# SCTG should be of type int64 but found as Object. Lets see why\n",
    "SCTG_table = pd.crosstab(index=dataset[\"SCTG\"], # Make a crosstab\n",
    "                     columns=\"Count\")               # Name the count column\n",
    "SCTG_table\n",
    "\n",
    "# After the analysis, We found that SCTG also contains SCTG_Group values. We need to noramilize them\n",
    "# Team Decided to replace the SCTG_Group with Mode from the value between the values. For example:\n",
    "# One Group \"01-05\" has values from has entities from 01 to 05. We calculated the mode and found 05 is appread most\n",
    "# of the time and relaced the group with 05\n",
    "\n",
    "SCTG_unique_values = dataset.groupby('SCTG')['SHIPMT_ID'].nunique()\n",
    "SCTG_Group = [key for key in SCTG_unique_values.keys() if \"-\" in key]\n",
    "for each_group in SCTG_Group:\n",
    "    num_group = list(map(int, each_group.split(\"-\")));\n",
    "    range_group = list(range(num_group[0], num_group[1]+1))\n",
    "    str_group = [str(key).zfill(2) for key in range_group]\n",
    "    mode_SCTG_group = mode(dataset[dataset[\"SCTG\"].isin(str_group)][\"SCTG\"])\n",
    "    print(mode_SCTG_group, each_group)\n",
    "    dataset[\"SCTG\"].replace(to_replace=each_group, value=mode_SCTG_group, inplace=True)\n",
    "    \n",
    "# As per the data dictonary, EXPORT_CNTRY should have only tree values, C = Canada, M = Mexico, O = Other, but found one\n",
    "# more category. Need to analyze it.\n",
    "EXPORT_CNTRY_table = pd.crosstab(index=dataset[\"EXPORT_CNTRY\"], # Make a crosstab\n",
    "                     columns=\"Count\")               # Name the count column\n",
    "EXPORT_CNTRY_table"
   ]
  },
  {
   "cell_type": "code",
   "execution_count": 11,
   "metadata": {},
   "outputs": [
    {
     "name": "stdout",
     "output_type": "stream",
     "text": [
      "Mean                           >>> 15897.392289898531\n",
      "Median                         >>> 814.0\n",
      "Mode                           >>> 0    11\n",
      "dtype: int64\n",
      "Standard Deviation             >>> 942699.3366434927\n",
      "Maxiumn                        >>> 521277800\n",
      "Minimum                        >>> 1\n",
      "Skewness                       >>> 480.42547739753337\n"
     ]
    },
    {
     "data": {
      "image/png": "[encoded data removed]",
      "text/plain": [
       "<Figure size 432x288 with 1 Axes>"
      ]
     },
     "metadata": {
      "needs_background": "light"
     },
     "output_type": "display_data"
    },
    {
     "data": {
      "text/plain": [
       "<matplotlib.axes._subplots.AxesSubplot at 0x23eb9f1b988>"
      ]
     },
     "execution_count": 11,
     "metadata": {},
     "output_type": "execute_result"
    },
    {
     "data": {
      "image/png": "[encoded data removed]",
      "text/plain": [
       "<Figure size 432x288 with 1 Axes>"
      ]
     },
     "metadata": {
      "needs_background": "light"
     },
     "output_type": "display_data"
    }
   ],
   "source": [
    "# Check statistics for SHIPMT_VALUE\n",
    "# Analyze SHIPMT_VALUE for distribution, Outliers and Skewness\n",
    "dataset[\"LOG_SHIPMT_VALUE\"] = dataset[\"SHIPMT_VALUE\"]\n",
    "\n",
    "# Statistics for SHIPMT_VALUE\n",
    "print(f'{\"Mean\":30s} >>> {dataset[\"LOG_SHIPMT_VALUE\"].mean()}')\n",
    "print(f'{\"Median\":30s} >>> {dataset[\"LOG_SHIPMT_VALUE\"].median()}')\n",
    "print(f'{\"Mode\":30s} >>> {dataset[\"LOG_SHIPMT_VALUE\"].mode()}')\n",
    "print(f'{\"Standard Deviation\":30s} >>> {dataset[\"LOG_SHIPMT_VALUE\"].std()}')\n",
    "print(f'{\"Maxiumn\":30s} >>> {dataset[\"LOG_SHIPMT_VALUE\"].max()}')\n",
    "print(f'{\"Minimum\":30s} >>> {dataset[\"LOG_SHIPMT_VALUE\"].min()}')\n",
    "print(f'{\"Skewness\":30s} >>> {dataset[\"LOG_SHIPMT_VALUE\"].skew()}')\n",
    "\n",
    "# Check for distribution\n",
    "dataset[\"LOG_SHIPMT_VALUE\"].hist(bins=100, grid=False, xlabelsize=12, ylabelsize=12)\n",
    "plt.xlabel(\"Life Expectancy\", fontsize=15)\n",
    "plt.ylabel(\"Frequency\",fontsize=15)\n",
    "sns.distplot(dataset[\"LOG_SHIPMT_VALUE\"])\n",
    "plt.show()\n",
    "\n",
    "# Check for outliers\n",
    "sns.boxplot(x=dataset[\"LOG_SHIPMT_VALUE\"])"
   ]
  },
  {
   "cell_type": "code",
   "execution_count": 12,
   "metadata": {},
   "outputs": [
    {
     "name": "stdout",
     "output_type": "stream",
     "text": [
      "Mean                           >>> 6.846136526374661\n",
      "Median                         >>> 6.703188113240863\n",
      "Mode                           >>> 0    2.484907\n",
      "dtype: float64\n",
      "Standard Deviation             >>> 2.336323705645125\n",
      "Maxiumn                        >>> 20.07179366490681\n",
      "Minimum                        >>> 0.6931471805599453\n",
      "Skewness                       >>> 0.10633732391144797\n"
     ]
    },
    {
     "data": {
      "image/png": "[encoded data removed]",
      "text/plain": [
       "<Figure size 432x288 with 1 Axes>"
      ]
     },
     "metadata": {
      "needs_background": "light"
     },
     "output_type": "display_data"
    },
    {
     "data": {
      "text/plain": [
       "<matplotlib.axes._subplots.AxesSubplot at 0x23ead1d7048>"
      ]
     },
     "execution_count": 12,
     "metadata": {},
     "output_type": "execute_result"
    },
    {
     "data": {
      "image/png": "[encoded data removed]",
      "text/plain": [
       "<Figure size 432x288 with 1 Axes>"
      ]
     },
     "metadata": {
      "needs_background": "light"
     },
     "output_type": "display_data"
    }
   ],
   "source": [
    "# Tranform data using log method and verify Outlier and skewness\n",
    "dataset[\"LOG_SHIPMT_VALUE\"] = np.log(dataset[\"SHIPMT_VALUE\"] + 1 )\n",
    "\n",
    "# Statistics for SHIPMT_VALUE\n",
    "print(f'{\"Mean\":30s} >>> {dataset[\"LOG_SHIPMT_VALUE\"].mean()}')\n",
    "print(f'{\"Median\":30s} >>> {dataset[\"LOG_SHIPMT_VALUE\"].median()}')\n",
    "print(f'{\"Mode\":30s} >>> {dataset[\"LOG_SHIPMT_VALUE\"].mode()}')\n",
    "print(f'{\"Standard Deviation\":30s} >>> {dataset[\"LOG_SHIPMT_VALUE\"].std()}')\n",
    "print(f'{\"Maxiumn\":30s} >>> {dataset[\"LOG_SHIPMT_VALUE\"].max()}')\n",
    "print(f'{\"Minimum\":30s} >>> {dataset[\"LOG_SHIPMT_VALUE\"].min()}')\n",
    "print(f'{\"Skewness\":30s} >>> {dataset[\"LOG_SHIPMT_VALUE\"].skew()}')\n",
    "\n",
    "# Check for distribution\n",
    "dataset[\"LOG_SHIPMT_VALUE\"].hist(bins=100, grid=False, xlabelsize=12, ylabelsize=12)\n",
    "plt.xlabel(\"Life Expectancy\", fontsize=15)\n",
    "plt.ylabel(\"Frequency\",fontsize=15)\n",
    "sns.distplot(dataset[\"LOG_SHIPMT_VALUE\"])\n",
    "plt.show()\n",
    "\n",
    "# Check for outliers\n",
    "sns.boxplot(x=dataset[\"LOG_SHIPMT_VALUE\"])"
   ]
  },
  {
   "cell_type": "code",
   "execution_count": 13,
   "metadata": {},
   "outputs": [
    {
     "name": "stdout",
     "output_type": "stream",
     "text": [
      "Mean                           >>> 34226.85489896697\n",
      "Median                         >>> 268.0\n",
      "Mode                           >>> 0    1\n",
      "dtype: int64\n",
      "Standard Deviation             >>> 842075.8056681099\n",
      "Maxiumn                        >>> 277029600\n",
      "Minimum                        >>> 1\n",
      "Skewness                       >>> 76.0878030096936\n"
     ]
    },
    {
     "data": {
      "image/png": "[encoded data removed]",
      "text/plain": [
       "<Figure size 432x288 with 1 Axes>"
      ]
     },
     "metadata": {
      "needs_background": "light"
     },
     "output_type": "display_data"
    },
    {
     "data": {
      "text/plain": [
       "<matplotlib.axes._subplots.AxesSubplot at 0x23ead1dc9c8>"
      ]
     },
     "execution_count": 13,
     "metadata": {},
     "output_type": "execute_result"
    },
    {
     "data": {
      "image/png": "[encoded data removed]",
      "text/plain": [
       "<Figure size 432x288 with 1 Axes>"
      ]
     },
     "metadata": {
      "needs_background": "light"
     },
     "output_type": "display_data"
    }
   ],
   "source": [
    "# Tranform data using boxcox method and verify\n",
    "dataset[\"LOG_SHIPMT_WGHT\"] = dataset[\"SHIPMT_WGHT\"]\n",
    "\n",
    "# Statistics for SHIPMT_WGHT\n",
    "print(f'{\"Mean\":30s} >>> {dataset[\"LOG_SHIPMT_WGHT\"].mean()}')\n",
    "print(f'{\"Median\":30s} >>> {dataset[\"LOG_SHIPMT_WGHT\"].median()}')\n",
    "print(f'{\"Mode\":30s} >>> {dataset[\"LOG_SHIPMT_WGHT\"].mode()}')\n",
    "print(f'{\"Standard Deviation\":30s} >>> {dataset[\"LOG_SHIPMT_WGHT\"].std()}')\n",
    "print(f'{\"Maxiumn\":30s} >>> {dataset[\"LOG_SHIPMT_WGHT\"].max()}')\n",
    "print(f'{\"Minimum\":30s} >>> {dataset[\"LOG_SHIPMT_WGHT\"].min()}')\n",
    "print(f'{\"Skewness\":30s} >>> {dataset[\"LOG_SHIPMT_WGHT\"].skew()}')\n",
    "\n",
    "# Check for distribution\n",
    "dataset[\"LOG_SHIPMT_WGHT\"].hist(bins=100, grid=False, xlabelsize=12, ylabelsize=12)\n",
    "plt.xlabel(\"Life Expectancy\", fontsize=15)\n",
    "plt.ylabel(\"Frequency\",fontsize=15)\n",
    "sns.distplot(dataset[\"LOG_SHIPMT_WGHT\"])\n",
    "plt.show()\n",
    "\n",
    "# Check for outliers\n",
    "sns.boxplot(x=dataset[\"LOG_SHIPMT_WGHT\"])"
   ]
  },
  {
   "cell_type": "code",
   "execution_count": 14,
   "metadata": {},
   "outputs": [
    {
     "name": "stdout",
     "output_type": "stream",
     "text": [
      "Mean                           >>> 5.81124471401796\n",
      "Median                         >>> 5.594711379601839\n",
      "Mode                           >>> 0    0.693147\n",
      "dtype: float64\n",
      "Standard Deviation             >>> 3.435861676777781\n",
      "Maxiumn                        >>> 19.439634921258072\n",
      "Minimum                        >>> 0.6931471805599453\n",
      "Skewness                       >>> 0.14706357260241074\n"
     ]
    },
    {
     "data": {
      "image/png": "[encoded data removed]",
      "text/plain": [
       "<Figure size 432x288 with 1 Axes>"
      ]
     },
     "metadata": {
      "needs_background": "light"
     },
     "output_type": "display_data"
    },
    {
     "data": {
      "text/plain": [
       "<matplotlib.axes._subplots.AxesSubplot at 0x23ebc03b688>"
      ]
     },
     "execution_count": 14,
     "metadata": {},
     "output_type": "execute_result"
    },
    {
     "data": {
      "image/png": "[encoded data removed]",
      "text/plain": [
       "<Figure size 432x288 with 1 Axes>"
      ]
     },
     "metadata": {
      "needs_background": "light"
     },
     "output_type": "display_data"
    }
   ],
   "source": [
    "# Tranform data using boxcox method and verify\n",
    "dataset[\"LOG_SHIPMT_WGHT\"] = np.log(dataset[\"SHIPMT_WGHT\"] + 1)\n",
    "\n",
    "# Statistics for SHIPMT_WGHT\n",
    "print(f'{\"Mean\":30s} >>> {dataset[\"LOG_SHIPMT_WGHT\"].mean()}')\n",
    "print(f'{\"Median\":30s} >>> {dataset[\"LOG_SHIPMT_WGHT\"].median()}')\n",
    "print(f'{\"Mode\":30s} >>> {dataset[\"LOG_SHIPMT_WGHT\"].mode()}')\n",
    "print(f'{\"Standard Deviation\":30s} >>> {dataset[\"LOG_SHIPMT_WGHT\"].std()}')\n",
    "print(f'{\"Maxiumn\":30s} >>> {dataset[\"LOG_SHIPMT_WGHT\"].max()}')\n",
    "print(f'{\"Minimum\":30s} >>> {dataset[\"LOG_SHIPMT_WGHT\"].min()}')\n",
    "print(f'{\"Skewness\":30s} >>> {dataset[\"LOG_SHIPMT_WGHT\"].skew()}')\n",
    "\n",
    "# Check for distribution\n",
    "dataset[\"LOG_SHIPMT_WGHT\"].hist(bins=100, grid=False, xlabelsize=12, ylabelsize=12)\n",
    "plt.xlabel(\"Life Expectancy\", fontsize=15)\n",
    "plt.ylabel(\"Frequency\",fontsize=15)\n",
    "sns.distplot(dataset[\"LOG_SHIPMT_WGHT\"])\n",
    "plt.show()\n",
    "\n",
    "# Check for outliers\n",
    "sns.boxplot(x=dataset[\"LOG_SHIPMT_WGHT\"])"
   ]
  },
  {
   "cell_type": "code",
   "execution_count": 15,
   "metadata": {},
   "outputs": [
    {
     "name": "stdout",
     "output_type": "stream",
     "text": [
      "Mean                           >>> 375.1332184761826\n",
      "Median                         >>> 102.0\n",
      "Mode                           >>> 0    3\n",
      "dtype: int64\n",
      "Standard Deviation             >>> 568.921478825201\n",
      "Maxiumn                        >>> 5174\n",
      "Minimum                        >>> 1\n",
      "Skewness                       >>> 2.191747298698232\n"
     ]
    },
    {
     "data": {
      "image/png": "[encoded data removed]",
      "text/plain": [
       "<Figure size 432x288 with 1 Axes>"
      ]
     },
     "metadata": {
      "needs_background": "light"
     },
     "output_type": "display_data"
    },
    {
     "data": {
      "text/plain": [
       "<matplotlib.axes._subplots.AxesSubplot at 0x23eadb8cf08>"
      ]
     },
     "execution_count": 15,
     "metadata": {},
     "output_type": "execute_result"
    },
    {
     "data": {
      "image/png": "[encoded data removed]",
      "text/plain": [
       "<Figure size 432x288 with 1 Axes>"
      ]
     },
     "metadata": {
      "needs_background": "light"
     },
     "output_type": "display_data"
    }
   ],
   "source": [
    "# Tranform data using boxcox method and verify\n",
    "dataset[\"LOG_SHIPMT_DIST_GC\"] = dataset[\"SHIPMT_DIST_GC\"]\n",
    "\n",
    "# Statistics for SHIPMT_DIST_GC\n",
    "print(f'{\"Mean\":30s} >>> {dataset[\"LOG_SHIPMT_DIST_GC\"].mean()}')\n",
    "print(f'{\"Median\":30s} >>> {dataset[\"LOG_SHIPMT_DIST_GC\"].median()}')\n",
    "print(f'{\"Mode\":30s} >>> {dataset[\"LOG_SHIPMT_DIST_GC\"].mode()}')\n",
    "print(f'{\"Standard Deviation\":30s} >>> {dataset[\"LOG_SHIPMT_DIST_GC\"].std()}')\n",
    "print(f'{\"Maxiumn\":30s} >>> {dataset[\"LOG_SHIPMT_DIST_GC\"].max()}')\n",
    "print(f'{\"Minimum\":30s} >>> {dataset[\"LOG_SHIPMT_DIST_GC\"].min()}')\n",
    "print(f'{\"Skewness\":30s} >>> {dataset[\"LOG_SHIPMT_DIST_GC\"].skew()}')\n",
    "\n",
    "# Check for distribution\n",
    "dataset[\"LOG_SHIPMT_DIST_GC\"].hist(bins=100, grid=False, xlabelsize=12, ylabelsize=12)\n",
    "plt.xlabel(\"Life Expectancy\", fontsize=15)\n",
    "plt.ylabel(\"Frequency\",fontsize=15)\n",
    "sns.distplot(dataset[\"LOG_SHIPMT_DIST_GC\"])\n",
    "plt.show()\n",
    "\n",
    "# Check for outliers\n",
    "sns.boxplot(x=dataset[\"LOG_SHIPMT_DIST_GC\"])"
   ]
  },
  {
   "cell_type": "code",
   "execution_count": 16,
   "metadata": {},
   "outputs": [
    {
     "name": "stdout",
     "output_type": "stream",
     "text": [
      "Mean                           >>> 4.544288989475688\n",
      "Median                         >>> 4.634728988229636\n",
      "Mode                           >>> 0    1.386294\n",
      "dtype: float64\n",
      "Standard Deviation             >>> 1.9147863828236074\n",
      "Maxiumn                        >>> 8.55159461813357\n",
      "Minimum                        >>> 0.6931471805599453\n",
      "Skewness                       >>> -0.06757740563987663\n"
     ]
    },
    {
     "data": {
      "image/png": "[encoded data removed]",
      "text/plain": [
       "<Figure size 432x288 with 1 Axes>"
      ]
     },
     "metadata": {
      "needs_background": "light"
     },
     "output_type": "display_data"
    },
    {
     "data": {
      "text/plain": [
       "<matplotlib.axes._subplots.AxesSubplot at 0x23eadaef208>"
      ]
     },
     "execution_count": 16,
     "metadata": {},
     "output_type": "execute_result"
    },
    {
     "data": {
      "image/png": "[encoded data removed]",
      "text/plain": [
       "<Figure size 432x288 with 1 Axes>"
      ]
     },
     "metadata": {
      "needs_background": "light"
     },
     "output_type": "display_data"
    }
   ],
   "source": [
    "# Tranform data using boxcox method and verify\n",
    "dataset[\"LOG_SHIPMT_DIST_GC\"] = np.log(dataset[\"SHIPMT_DIST_GC\"] + 1)\n",
    "\n",
    "# Statistics for SHIPMT_DIST_GC\n",
    "print(f'{\"Mean\":30s} >>> {dataset[\"LOG_SHIPMT_DIST_GC\"].mean()}')\n",
    "print(f'{\"Median\":30s} >>> {dataset[\"LOG_SHIPMT_DIST_GC\"].median()}')\n",
    "print(f'{\"Mode\":30s} >>> {dataset[\"LOG_SHIPMT_DIST_GC\"].mode()}')\n",
    "print(f'{\"Standard Deviation\":30s} >>> {dataset[\"LOG_SHIPMT_DIST_GC\"].std()}')\n",
    "print(f'{\"Maxiumn\":30s} >>> {dataset[\"LOG_SHIPMT_DIST_GC\"].max()}')\n",
    "print(f'{\"Minimum\":30s} >>> {dataset[\"LOG_SHIPMT_DIST_GC\"].min()}')\n",
    "print(f'{\"Skewness\":30s} >>> {dataset[\"LOG_SHIPMT_DIST_GC\"].skew()}')\n",
    "\n",
    "# Check for distribution\n",
    "dataset[\"LOG_SHIPMT_DIST_GC\"].hist(bins=100, grid=False, xlabelsize=12, ylabelsize=12)\n",
    "plt.xlabel(\"Life Expectancy\", fontsize=15)\n",
    "plt.ylabel(\"Frequency\",fontsize=15)\n",
    "sns.distplot(dataset[\"LOG_SHIPMT_DIST_GC\"])\n",
    "plt.show()\n",
    "\n",
    "# Check for outliers\n",
    "sns.boxplot(x=dataset[\"LOG_SHIPMT_DIST_GC\"])"
   ]
  },
  {
   "cell_type": "code",
   "execution_count": 17,
   "metadata": {},
   "outputs": [
    {
     "name": "stdout",
     "output_type": "stream",
     "text": [
      "Mean                           >>> 454.3137558059029\n",
      "Median                         >>> 125.0\n",
      "Mode                           >>> 0    4\n",
      "dtype: int64\n",
      "Standard Deviation             >>> 674.5275916311499\n",
      "Maxiumn                        >>> 6422\n",
      "Minimum                        >>> 1\n",
      "Skewness                       >>> 2.057343554065998\n"
     ]
    },
    {
     "data": {
      "image/png": "[encoded data removed]",
      "text/plain": [
       "<Figure size 432x288 with 1 Axes>"
      ]
     },
     "metadata": {
      "needs_background": "light"
     },
     "output_type": "display_data"
    },
    {
     "data": {
      "text/plain": [
       "<matplotlib.axes._subplots.AxesSubplot at 0x23ead8be248>"
      ]
     },
     "execution_count": 17,
     "metadata": {},
     "output_type": "execute_result"
    },
    {
     "data": {
      "image/png": "[encoded data removed]",
      "text/plain": [
       "<Figure size 432x288 with 1 Axes>"
      ]
     },
     "metadata": {
      "needs_background": "light"
     },
     "output_type": "display_data"
    }
   ],
   "source": [
    "# Tranform data using boxcox method and verify\n",
    "dataset[\"LOG_SHIPMT_DIST_ROUTED\"] = dataset[\"SHIPMT_DIST_ROUTED\"]\n",
    "\n",
    "# Statistics for SHIPMT_DIST_ROUTED\n",
    "print(f'{\"Mean\":30s} >>> {dataset[\"LOG_SHIPMT_DIST_ROUTED\"].mean()}')\n",
    "print(f'{\"Median\":30s} >>> {dataset[\"LOG_SHIPMT_DIST_ROUTED\"].median()}')\n",
    "print(f'{\"Mode\":30s} >>> {dataset[\"LOG_SHIPMT_DIST_ROUTED\"].mode()}')\n",
    "print(f'{\"Standard Deviation\":30s} >>> {dataset[\"LOG_SHIPMT_DIST_ROUTED\"].std()}')\n",
    "print(f'{\"Maxiumn\":30s} >>> {dataset[\"LOG_SHIPMT_DIST_ROUTED\"].max()}')\n",
    "print(f'{\"Minimum\":30s} >>> {dataset[\"LOG_SHIPMT_DIST_ROUTED\"].min()}')\n",
    "print(f'{\"Skewness\":30s} >>> {dataset[\"LOG_SHIPMT_DIST_ROUTED\"].skew()}')\n",
    "\n",
    "# Check for distribution\n",
    "dataset[\"LOG_SHIPMT_DIST_ROUTED\"].hist(bins=100, grid=False, xlabelsize=12, ylabelsize=12)\n",
    "plt.xlabel(\"Life Expectancy\", fontsize=15)\n",
    "plt.ylabel(\"Frequency\",fontsize=15)\n",
    "sns.distplot(dataset[\"LOG_SHIPMT_DIST_ROUTED\"])\n",
    "plt.show()\n",
    "\n",
    "# Check for outliers\n",
    "sns.boxplot(x=dataset[\"LOG_SHIPMT_DIST_ROUTED\"])"
   ]
  },
  {
   "cell_type": "code",
   "execution_count": 18,
   "metadata": {},
   "outputs": [
    {
     "name": "stdout",
     "output_type": "stream",
     "text": [
      "Mean                           >>> 4.740617029169618\n",
      "Median                         >>> 4.836281906951478\n",
      "Mode                           >>> 0    1.609438\n",
      "dtype: float64\n",
      "Standard Deviation             >>> 1.9267810602003566\n",
      "Maxiumn                        >>> 8.767640577257792\n",
      "Minimum                        >>> 0.6931471805599453\n",
      "Skewness                       >>> -0.10259338813312237\n"
     ]
    },
    {
     "data": {
      "image/png": "[encoded data removed]",
      "text/plain": [
       "<Figure size 432x288 with 1 Axes>"
      ]
     },
     "metadata": {
      "needs_background": "light"
     },
     "output_type": "display_data"
    },
    {
     "data": {
      "text/plain": [
       "<matplotlib.axes._subplots.AxesSubplot at 0x23ead1a2208>"
      ]
     },
     "execution_count": 18,
     "metadata": {},
     "output_type": "execute_result"
    },
    {
     "data": {
      "image/png": "[encoded data removed]",
      "text/plain": [
       "<Figure size 432x288 with 1 Axes>"
      ]
     },
     "metadata": {
      "needs_background": "light"
     },
     "output_type": "display_data"
    }
   ],
   "source": [
    "# Tranform data using boxcox method and verify\n",
    "dataset[\"LOG_SHIPMT_DIST_ROUTED\"] = np.log(dataset[\"SHIPMT_DIST_ROUTED\"] + 1)\n",
    "\n",
    "# Statistics for SHIPMT_DIST_ROUTED\n",
    "print(f'{\"Mean\":30s} >>> {dataset[\"LOG_SHIPMT_DIST_ROUTED\"].mean()}')\n",
    "print(f'{\"Median\":30s} >>> {dataset[\"LOG_SHIPMT_DIST_ROUTED\"].median()}')\n",
    "print(f'{\"Mode\":30s} >>> {dataset[\"LOG_SHIPMT_DIST_ROUTED\"].mode()}')\n",
    "print(f'{\"Standard Deviation\":30s} >>> {dataset[\"LOG_SHIPMT_DIST_ROUTED\"].std()}')\n",
    "print(f'{\"Maxiumn\":30s} >>> {dataset[\"LOG_SHIPMT_DIST_ROUTED\"].max()}')\n",
    "print(f'{\"Minimum\":30s} >>> {dataset[\"LOG_SHIPMT_DIST_ROUTED\"].min()}')\n",
    "print(f'{\"Skewness\":30s} >>> {dataset[\"LOG_SHIPMT_DIST_ROUTED\"].skew()}')\n",
    "\n",
    "# Check for distribution\n",
    "dataset[\"LOG_SHIPMT_DIST_ROUTED\"].hist(bins=100, grid=False, xlabelsize=12, ylabelsize=12)\n",
    "plt.xlabel(\"Life Expectancy\", fontsize=15)\n",
    "plt.ylabel(\"Frequency\",fontsize=15)\n",
    "sns.distplot(dataset[\"LOG_SHIPMT_DIST_ROUTED\"])\n",
    "plt.show()\n",
    "\n",
    "# Check for outliers\n",
    "sns.boxplot(x=dataset[\"LOG_SHIPMT_DIST_ROUTED\"])"
   ]
  },
  {
   "cell_type": "code",
   "execution_count": 19,
   "metadata": {},
   "outputs": [
    {
     "name": "stdout",
     "output_type": "stream",
     "text": [
      "Mean                           >>> 2358.5823146810394\n",
      "Median                         >>> 299.5\n",
      "Mode                           >>> 0    17.1\n",
      "dtype: float64\n",
      "Standard Deviation             >>> 19527.18829707099\n",
      "Maxiumn                        >>> 975000.0\n",
      "Minimum                        >>> 0.2\n",
      "Skewness                       >>> 36.79920097021787\n"
     ]
    },
    {
     "data": {
      "image/png": "[encoded data removed]",
      "text/plain": [
       "<Figure size 432x288 with 1 Axes>"
      ]
     },
     "metadata": {
      "needs_background": "light"
     },
     "output_type": "display_data"
    },
    {
     "data": {
      "text/plain": [
       "<matplotlib.axes._subplots.AxesSubplot at 0x23eba596a88>"
      ]
     },
     "execution_count": 19,
     "metadata": {},
     "output_type": "execute_result"
    },
    {
     "data": {
      "image/png": "[encoded data removed]",
      "text/plain": [
       "<Figure size 432x288 with 1 Axes>"
      ]
     },
     "metadata": {
      "needs_background": "light"
     },
     "output_type": "display_data"
    }
   ],
   "source": [
    "# Tranform data using boxcox method and verify\n",
    "dataset[\"LOG_WGT_FACTOR\"] = dataset[\"WGT_FACTOR\"]\n",
    "\n",
    "# Statistics for WGT_FACTOR\n",
    "print(f'{\"Mean\":30s} >>> {dataset[\"LOG_WGT_FACTOR\"].mean()}')\n",
    "print(f'{\"Median\":30s} >>> {dataset[\"LOG_WGT_FACTOR\"].median()}')\n",
    "print(f'{\"Mode\":30s} >>> {dataset[\"LOG_WGT_FACTOR\"].mode()}')\n",
    "print(f'{\"Standard Deviation\":30s} >>> {dataset[\"LOG_WGT_FACTOR\"].std()}')\n",
    "print(f'{\"Maxiumn\":30s} >>> {dataset[\"LOG_WGT_FACTOR\"].max()}')\n",
    "print(f'{\"Minimum\":30s} >>> {dataset[\"LOG_WGT_FACTOR\"].min()}')\n",
    "print(f'{\"Skewness\":30s} >>> {dataset[\"LOG_WGT_FACTOR\"].skew()}')\n",
    "\n",
    "# Check for distribution\n",
    "dataset[\"LOG_WGT_FACTOR\"].hist(bins=100, grid=False, xlabelsize=12, ylabelsize=12)\n",
    "plt.xlabel(\"Life Expectancy\", fontsize=15)\n",
    "plt.ylabel(\"Frequency\",fontsize=15)\n",
    "sns.distplot(dataset[\"LOG_WGT_FACTOR\"])\n",
    "plt.show()\n",
    "\n",
    "# Check for outliers\n",
    "sns.boxplot(x=dataset[\"LOG_WGT_FACTOR\"])"
   ]
  },
  {
   "cell_type": "code",
   "execution_count": 20,
   "metadata": {},
   "outputs": [
    {
     "name": "stdout",
     "output_type": "stream",
     "text": [
      "Mean                           >>> 5.811931650637337\n",
      "Median                         >>> 5.702114417555504\n",
      "Mode                           >>> 0    2.839078\n",
      "dtype: float64\n",
      "Standard Deviation             >>> 1.7481276826400114\n",
      "Maxiumn                        >>> 13.790192749979985\n",
      "Minimum                        >>> -1.6094379124341003\n",
      "Skewness                       >>> 0.3971268045250901\n"
     ]
    },
    {
     "data": {
      "image/png": "[encoded data removed]",
      "text/plain": [
       "<Figure size 432x288 with 1 Axes>"
      ]
     },
     "metadata": {
      "needs_background": "light"
     },
     "output_type": "display_data"
    },
    {
     "data": {
      "text/plain": [
       "<matplotlib.axes._subplots.AxesSubplot at 0x23eada323c8>"
      ]
     },
     "execution_count": 20,
     "metadata": {},
     "output_type": "execute_result"
    },
    {
     "data": {
      "image/png": "[encoded data removed]",
      "text/plain": [
       "<Figure size 432x288 with 1 Axes>"
      ]
     },
     "metadata": {
      "needs_background": "light"
     },
     "output_type": "display_data"
    }
   ],
   "source": [
    "# Tranform data using boxcox method and verify\n",
    "dataset[\"LOG_WGT_FACTOR\"] = np.log(dataset[\"WGT_FACTOR\"])\n",
    "\n",
    "# Statistics for WGT_FACTOR\n",
    "print(f'{\"Mean\":30s} >>> {dataset[\"LOG_WGT_FACTOR\"].mean()}')\n",
    "print(f'{\"Median\":30s} >>> {dataset[\"LOG_WGT_FACTOR\"].median()}')\n",
    "print(f'{\"Mode\":30s} >>> {dataset[\"LOG_WGT_FACTOR\"].mode()}')\n",
    "print(f'{\"Standard Deviation\":30s} >>> {dataset[\"LOG_WGT_FACTOR\"].std()}')\n",
    "print(f'{\"Maxiumn\":30s} >>> {dataset[\"LOG_WGT_FACTOR\"].max()}')\n",
    "print(f'{\"Minimum\":30s} >>> {dataset[\"LOG_WGT_FACTOR\"].min()}')\n",
    "print(f'{\"Skewness\":30s} >>> {dataset[\"LOG_WGT_FACTOR\"].skew()}')\n",
    "\n",
    "# Check for distribution\n",
    "dataset[\"LOG_WGT_FACTOR\"].hist(bins=100, grid=False, xlabelsize=12, ylabelsize=12)\n",
    "plt.xlabel(\"Life Expectancy\", fontsize=15)\n",
    "plt.ylabel(\"Frequency\",fontsize=15)\n",
    "sns.distplot(dataset[\"LOG_WGT_FACTOR\"])\n",
    "plt.show()\n",
    "\n",
    "# Check for outliers\n",
    "sns.boxplot(x=dataset[\"LOG_WGT_FACTOR\"])"
   ]
  },
  {
   "cell_type": "markdown",
   "metadata": {},
   "source": [
    "dummy = pd.get_dummies(dataset[\"ORIG_STATE\"],\n",
    "                       prefix = \"ORIG_STATE\",\n",
    "                       prefix_sep = \"_\",\n",
    "                       drop_first = True\n",
    "                      )\n"
   ]
  },
  {
   "cell_type": "code",
   "execution_count": 42,
   "metadata": {},
   "outputs": [
    {
     "name": "stdout",
     "output_type": "stream",
     "text": [
      "Feature SHIPMT_VALUE must be of Categorical Type\n",
      "Feature SHIPMT_WGHT must be of Categorical Type\n",
      "Feature SHIPMT_DIST_GC must be of Categorical Type\n",
      "Feature SHIPMT_DIST_ROUTED must be of Categorical Type\n",
      "Feature WGT_FACTOR must be of Categorical Type\n",
      "Feature LOG_SHIPMT_VALUE must be of Categorical Type\n",
      "Feature LOG_SHIPMT_WGHT must be of Categorical Type\n",
      "Feature LOG_SHIPMT_DIST_GC must be of Categorical Type\n",
      "Feature LOG_SHIPMT_DIST_ROUTED must be of Categorical Type\n",
      "Feature LOG_WGT_FACTOR must be of Categorical Type\n"
     ]
    }
   ],
   "source": [
    "# Prepare dummy variables for all categorical variablces\n",
    "for featureName in dataset.columns:\n",
    "    dummies = pd.get_dummies(dataset[featureName],\n",
    "                             prefix=featureName,\n",
    "                             prefix_sep = \"_\",\n",
    "                             drop_first = True)\n",
    "    dataset = pd.concat([dataset, dummies], axis=1)\n",
    "    dataset.drop( featureName, axis = 1, inplace = True )"
   ]
  },
  {
   "cell_type": "code",
   "execution_count": 51,
   "metadata": {},
   "outputs": [
    {
     "data": {
      "text/html": [
       "<div>\n",
       "<style scoped>\n",
       "    .dataframe tbody tr th:only-of-type {\n",
       "        vertical-align: middle;\n",
       "    }\n",
       "\n",
       "    .dataframe tbody tr th {\n",
       "        vertical-align: top;\n",
       "    }\n",
       "\n",
       "    .dataframe thead th {\n",
       "        text-align: right;\n",
       "    }\n",
       "</style>\n",
       "<table border=\"1\" class=\"dataframe\">\n",
       "  <thead>\n",
       "    <tr style=\"text-align: right;\">\n",
       "      <th></th>\n",
       "      <th>LOG_SHIPMT_VALUE</th>\n",
       "      <th>LOG_SHIPMT_WGHT</th>\n",
       "      <th>LOG_SHIPMT_DIST_GC</th>\n",
       "      <th>LOG_SHIPMT_DIST_ROUTED</th>\n",
       "      <th>LOG_WGT_FACTOR</th>\n",
       "      <th>ORIG_STATE_1</th>\n",
       "      <th>ORIG_STATE_10</th>\n",
       "      <th>ORIG_STATE_11</th>\n",
       "      <th>ORIG_STATE_12</th>\n",
       "      <th>ORIG_STATE_13</th>\n",
       "      <th>...</th>\n",
       "      <th>MODE_3</th>\n",
       "      <th>MODE_4</th>\n",
       "      <th>MODE_5</th>\n",
       "      <th>MODE_6</th>\n",
       "      <th>MODE_7</th>\n",
       "      <th>MODE_8</th>\n",
       "      <th>MODE_9</th>\n",
       "      <th>TEMP_CNTL_YN_Y</th>\n",
       "      <th>HAZMAT_N</th>\n",
       "      <th>HAZMAT_P</th>\n",
       "    </tr>\n",
       "    <tr>\n",
       "      <th>SHIPMT_ID</th>\n",
       "      <th></th>\n",
       "      <th></th>\n",
       "      <th></th>\n",
       "      <th></th>\n",
       "      <th></th>\n",
       "      <th></th>\n",
       "      <th></th>\n",
       "      <th></th>\n",
       "      <th></th>\n",
       "      <th></th>\n",
       "      <th></th>\n",
       "      <th></th>\n",
       "      <th></th>\n",
       "      <th></th>\n",
       "      <th></th>\n",
       "      <th></th>\n",
       "      <th></th>\n",
       "      <th></th>\n",
       "      <th></th>\n",
       "      <th></th>\n",
       "      <th></th>\n",
       "    </tr>\n",
       "  </thead>\n",
       "  <tbody>\n",
       "    <tr>\n",
       "      <th>1</th>\n",
       "      <td>7.686621</td>\n",
       "      <td>2.484907</td>\n",
       "      <td>2.708050</td>\n",
       "      <td>2.890372</td>\n",
       "      <td>5.339939</td>\n",
       "      <td>0</td>\n",
       "      <td>0</td>\n",
       "      <td>0</td>\n",
       "      <td>0</td>\n",
       "      <td>0</td>\n",
       "      <td>...</td>\n",
       "      <td>0</td>\n",
       "      <td>0</td>\n",
       "      <td>0</td>\n",
       "      <td>0</td>\n",
       "      <td>0</td>\n",
       "      <td>0</td>\n",
       "      <td>0</td>\n",
       "      <td>0</td>\n",
       "      <td>1</td>\n",
       "      <td>0</td>\n",
       "    </tr>\n",
       "    <tr>\n",
       "      <th>2</th>\n",
       "      <td>5.843544</td>\n",
       "      <td>2.484907</td>\n",
       "      <td>7.760041</td>\n",
       "      <td>7.913887</td>\n",
       "      <td>5.264243</td>\n",
       "      <td>0</td>\n",
       "      <td>0</td>\n",
       "      <td>0</td>\n",
       "      <td>0</td>\n",
       "      <td>0</td>\n",
       "      <td>...</td>\n",
       "      <td>0</td>\n",
       "      <td>0</td>\n",
       "      <td>0</td>\n",
       "      <td>0</td>\n",
       "      <td>0</td>\n",
       "      <td>0</td>\n",
       "      <td>0</td>\n",
       "      <td>0</td>\n",
       "      <td>1</td>\n",
       "      <td>0</td>\n",
       "    </tr>\n",
       "    <tr>\n",
       "      <th>3</th>\n",
       "      <td>8.342364</td>\n",
       "      <td>8.543835</td>\n",
       "      <td>6.154858</td>\n",
       "      <td>6.363028</td>\n",
       "      <td>3.935740</td>\n",
       "      <td>0</td>\n",
       "      <td>0</td>\n",
       "      <td>0</td>\n",
       "      <td>0</td>\n",
       "      <td>0</td>\n",
       "      <td>...</td>\n",
       "      <td>0</td>\n",
       "      <td>1</td>\n",
       "      <td>0</td>\n",
       "      <td>0</td>\n",
       "      <td>0</td>\n",
       "      <td>0</td>\n",
       "      <td>0</td>\n",
       "      <td>0</td>\n",
       "      <td>1</td>\n",
       "      <td>0</td>\n",
       "    </tr>\n",
       "    <tr>\n",
       "      <th>4</th>\n",
       "      <td>4.762174</td>\n",
       "      <td>1.945910</td>\n",
       "      <td>1.386294</td>\n",
       "      <td>1.386294</td>\n",
       "      <td>5.475208</td>\n",
       "      <td>0</td>\n",
       "      <td>0</td>\n",
       "      <td>0</td>\n",
       "      <td>0</td>\n",
       "      <td>0</td>\n",
       "      <td>...</td>\n",
       "      <td>0</td>\n",
       "      <td>1</td>\n",
       "      <td>0</td>\n",
       "      <td>0</td>\n",
       "      <td>0</td>\n",
       "      <td>0</td>\n",
       "      <td>0</td>\n",
       "      <td>0</td>\n",
       "      <td>1</td>\n",
       "      <td>0</td>\n",
       "    </tr>\n",
       "    <tr>\n",
       "      <th>5</th>\n",
       "      <td>5.963579</td>\n",
       "      <td>6.269096</td>\n",
       "      <td>4.828314</td>\n",
       "      <td>5.308268</td>\n",
       "      <td>5.986703</td>\n",
       "      <td>0</td>\n",
       "      <td>0</td>\n",
       "      <td>0</td>\n",
       "      <td>1</td>\n",
       "      <td>0</td>\n",
       "      <td>...</td>\n",
       "      <td>0</td>\n",
       "      <td>0</td>\n",
       "      <td>1</td>\n",
       "      <td>0</td>\n",
       "      <td>0</td>\n",
       "      <td>0</td>\n",
       "      <td>0</td>\n",
       "      <td>0</td>\n",
       "      <td>1</td>\n",
       "      <td>0</td>\n",
       "    </tr>\n",
       "  </tbody>\n",
       "</table>\n",
       "<p>5 rows × 367 columns</p>\n",
       "</div>"
      ],
      "text/plain": [
       "           LOG_SHIPMT_VALUE  LOG_SHIPMT_WGHT  LOG_SHIPMT_DIST_GC  \\\n",
       "SHIPMT_ID                                                          \n",
       "1                  7.686621         2.484907            2.708050   \n",
       "2                  5.843544         2.484907            7.760041   \n",
       "3                  8.342364         8.543835            6.154858   \n",
       "4                  4.762174         1.945910            1.386294   \n",
       "5                  5.963579         6.269096            4.828314   \n",
       "\n",
       "           LOG_SHIPMT_DIST_ROUTED  LOG_WGT_FACTOR  ORIG_STATE_1  \\\n",
       "SHIPMT_ID                                                         \n",
       "1                        2.890372        5.339939             0   \n",
       "2                        7.913887        5.264243             0   \n",
       "3                        6.363028        3.935740             0   \n",
       "4                        1.386294        5.475208             0   \n",
       "5                        5.308268        5.986703             0   \n",
       "\n",
       "           ORIG_STATE_10  ORIG_STATE_11  ORIG_STATE_12  ORIG_STATE_13  ...  \\\n",
       "SHIPMT_ID                                                              ...   \n",
       "1                      0              0              0              0  ...   \n",
       "2                      0              0              0              0  ...   \n",
       "3                      0              0              0              0  ...   \n",
       "4                      0              0              0              0  ...   \n",
       "5                      0              0              1              0  ...   \n",
       "\n",
       "           MODE_3  MODE_4  MODE_5  MODE_6  MODE_7  MODE_8  MODE_9  \\\n",
       "SHIPMT_ID                                                           \n",
       "1               0       0       0       0       0       0       0   \n",
       "2               0       0       0       0       0       0       0   \n",
       "3               0       1       0       0       0       0       0   \n",
       "4               0       1       0       0       0       0       0   \n",
       "5               0       0       1       0       0       0       0   \n",
       "\n",
       "           TEMP_CNTL_YN_Y  HAZMAT_N  HAZMAT_P  \n",
       "SHIPMT_ID                                      \n",
       "1                       0         1         0  \n",
       "2                       0         1         0  \n",
       "3                       0         1         0  \n",
       "4                       0         1         0  \n",
       "5                       0         1         0  \n",
       "\n",
       "[5 rows x 367 columns]"
      ]
     },
     "execution_count": 51,
     "metadata": {},
     "output_type": "execute_result"
    }
   ],
   "source": [
    "dataset.drop([\"SHIPMT_VALUE\", \"SHIPMT_WGHT\", \"SHIPMT_DIST_GC\", \"SHIPMT_DIST_ROUTED\", \"WGT_FACTOR\"],\n",
    "            axis = 1,\n",
    "            inplace = True\n",
    "            )\n",
    "\n",
    "dataset.head()"
   ]
  },
  {
   "cell_type": "code",
   "execution_count": null,
   "metadata": {},
   "outputs": [],
   "source": [
    "# Split data\n",
    "def splitDataset(dataset, splitRatio):    \n",
    "    trainSize = int(len(dataset) * splitRatio)\n",
    "    trainSet = []\n",
    "    copy = list(dataset)\n",
    "    while(len(trainSet) < trainSize):\n",
    "        index = random.randrage(len(copy))\n",
    "        trainSet.append(copy.pop(index))\n",
    "    return [trainSet, copy]"
   ]
  }
 ],
 "metadata": {
  "kernelspec": {
   "display_name": "Python 3",
   "language": "python",
   "name": "python3"
  },
  "language_info": {
   "codemirror_mode": {
    "name": "ipython",
    "version": 3
   },
   "file_extension": ".py",
   "mimetype": "text/x-python",
   "name": "python",
   "nbconvert_exporter": "python",
   "pygments_lexer": "ipython3",
   "version": "3.7.6"
  }
 },
 "nbformat": 4,
 "nbformat_minor": 4
}
