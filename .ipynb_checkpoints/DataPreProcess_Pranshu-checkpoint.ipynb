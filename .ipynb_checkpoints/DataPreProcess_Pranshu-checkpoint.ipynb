{
 "cells": [
  {
   "cell_type": "code",
   "execution_count": 1,
   "metadata": {},
   "outputs": [],
   "source": [
    "# importing all required libraries\n",
    "import numpy as np # used for handling numbers\n",
    "import pandas as pd # used for handling the dataset\n",
    "from sklearn.impute import SimpleImputer # used for handling missing data\n",
    "from sklearn.preprocessing import LabelEncoder, OneHotEncoder # used for encoding categorical data\n",
    "from sklearn.model_selection import train_test_split # used for splitting training and testing data\n",
    "from sklearn.preprocessing import StandardScaler # used for feature scaling\n",
    "import os\n",
    "from statistics import mode, mean, median\n",
    "\n",
    "# visulization\n",
    "import matplotlib.pyplot as plt\n",
    "%matplotlib inline\n",
    "import seaborn as sns\n",
    "\n",
    "# Tranform\n",
    "from scipy.stats import boxcox\n",
    "from scipy.stats import skew\n",
    "from scipy.stats import kurtosis\n",
    "from scipy import stats"
   ]
  },
  {
   "cell_type": "code",
   "execution_count": 2,
   "metadata": {},
   "outputs": [],
   "source": [
    "dataset=pd.read_csv('~\\Capestone\\Capestone_DataSet\\cfs-2012-pumf-csv\\cfs_pumf.txt')"
   ]
  },
  {
   "cell_type": "code",
   "execution_count": 3,
   "metadata": {},
   "outputs": [
    {
     "data": {
      "text/plain": [
       "'First 10 observations'"
      ]
     },
     "metadata": {},
     "output_type": "display_data"
    },
    {
     "data": {
      "text/html": [
       "<div>\n",
       "<style scoped>\n",
       "    .dataframe tbody tr th:only-of-type {\n",
       "        vertical-align: middle;\n",
       "    }\n",
       "\n",
       "    .dataframe tbody tr th {\n",
       "        vertical-align: top;\n",
       "    }\n",
       "\n",
       "    .dataframe thead th {\n",
       "        text-align: right;\n",
       "    }\n",
       "</style>\n",
       "<table border=\"1\" class=\"dataframe\">\n",
       "  <thead>\n",
       "    <tr style=\"text-align: right;\">\n",
       "      <th></th>\n",
       "      <th>SHIPMT_ID</th>\n",
       "      <th>ORIG_STATE</th>\n",
       "      <th>ORIG_MA</th>\n",
       "      <th>ORIG_CFS_AREA</th>\n",
       "      <th>DEST_STATE</th>\n",
       "      <th>DEST_MA</th>\n",
       "      <th>DEST_CFS_AREA</th>\n",
       "      <th>NAICS</th>\n",
       "      <th>QUARTER</th>\n",
       "      <th>SCTG</th>\n",
       "      <th>MODE</th>\n",
       "      <th>SHIPMT_VALUE</th>\n",
       "      <th>SHIPMT_WGHT</th>\n",
       "      <th>SHIPMT_DIST_GC</th>\n",
       "      <th>SHIPMT_DIST_ROUTED</th>\n",
       "      <th>TEMP_CNTL_YN</th>\n",
       "      <th>EXPORT_YN</th>\n",
       "      <th>EXPORT_CNTRY</th>\n",
       "      <th>HAZMAT</th>\n",
       "      <th>WGT_FACTOR</th>\n",
       "    </tr>\n",
       "  </thead>\n",
       "  <tbody>\n",
       "    <tr>\n",
       "      <th>0</th>\n",
       "      <td>1</td>\n",
       "      <td>25</td>\n",
       "      <td>148</td>\n",
       "      <td>25-148</td>\n",
       "      <td>25</td>\n",
       "      <td>148</td>\n",
       "      <td>25-148</td>\n",
       "      <td>333</td>\n",
       "      <td>2</td>\n",
       "      <td>35</td>\n",
       "      <td>14</td>\n",
       "      <td>2178</td>\n",
       "      <td>11</td>\n",
       "      <td>14</td>\n",
       "      <td>17</td>\n",
       "      <td>N</td>\n",
       "      <td>N</td>\n",
       "      <td>N</td>\n",
       "      <td>N</td>\n",
       "      <td>208.5</td>\n",
       "    </tr>\n",
       "    <tr>\n",
       "      <th>1</th>\n",
       "      <td>2</td>\n",
       "      <td>42</td>\n",
       "      <td>428</td>\n",
       "      <td>42-428</td>\n",
       "      <td>6</td>\n",
       "      <td>41740</td>\n",
       "      <td>06-41740</td>\n",
       "      <td>311</td>\n",
       "      <td>3</td>\n",
       "      <td>35</td>\n",
       "      <td>14</td>\n",
       "      <td>344</td>\n",
       "      <td>11</td>\n",
       "      <td>2344</td>\n",
       "      <td>2734</td>\n",
       "      <td>N</td>\n",
       "      <td>N</td>\n",
       "      <td>N</td>\n",
       "      <td>N</td>\n",
       "      <td>193.3</td>\n",
       "    </tr>\n",
       "    <tr>\n",
       "      <th>2</th>\n",
       "      <td>3</td>\n",
       "      <td>26</td>\n",
       "      <td>220</td>\n",
       "      <td>26-220</td>\n",
       "      <td>47</td>\n",
       "      <td>314</td>\n",
       "      <td>47-314</td>\n",
       "      <td>322</td>\n",
       "      <td>2</td>\n",
       "      <td>27</td>\n",
       "      <td>4</td>\n",
       "      <td>4197</td>\n",
       "      <td>5134</td>\n",
       "      <td>470</td>\n",
       "      <td>579</td>\n",
       "      <td>N</td>\n",
       "      <td>N</td>\n",
       "      <td>N</td>\n",
       "      <td>N</td>\n",
       "      <td>51.2</td>\n",
       "    </tr>\n",
       "    <tr>\n",
       "      <th>3</th>\n",
       "      <td>4</td>\n",
       "      <td>20</td>\n",
       "      <td>556</td>\n",
       "      <td>20-556</td>\n",
       "      <td>20</td>\n",
       "      <td>556</td>\n",
       "      <td>20-556</td>\n",
       "      <td>323</td>\n",
       "      <td>1</td>\n",
       "      <td>29</td>\n",
       "      <td>4</td>\n",
       "      <td>116</td>\n",
       "      <td>6</td>\n",
       "      <td>3</td>\n",
       "      <td>3</td>\n",
       "      <td>N</td>\n",
       "      <td>N</td>\n",
       "      <td>N</td>\n",
       "      <td>N</td>\n",
       "      <td>238.7</td>\n",
       "    </tr>\n",
       "    <tr>\n",
       "      <th>4</th>\n",
       "      <td>5</td>\n",
       "      <td>12</td>\n",
       "      <td>99999</td>\n",
       "      <td>12-99999</td>\n",
       "      <td>12</td>\n",
       "      <td>99999</td>\n",
       "      <td>12-99999</td>\n",
       "      <td>4235</td>\n",
       "      <td>3</td>\n",
       "      <td>33</td>\n",
       "      <td>5</td>\n",
       "      <td>388</td>\n",
       "      <td>527</td>\n",
       "      <td>124</td>\n",
       "      <td>201</td>\n",
       "      <td>N</td>\n",
       "      <td>N</td>\n",
       "      <td>N</td>\n",
       "      <td>N</td>\n",
       "      <td>398.1</td>\n",
       "    </tr>\n",
       "    <tr>\n",
       "      <th>5</th>\n",
       "      <td>6</td>\n",
       "      <td>24</td>\n",
       "      <td>47900</td>\n",
       "      <td>24-47900</td>\n",
       "      <td>30</td>\n",
       "      <td>99999</td>\n",
       "      <td>30-99999</td>\n",
       "      <td>337</td>\n",
       "      <td>2</td>\n",
       "      <td>40</td>\n",
       "      <td>4</td>\n",
       "      <td>3716</td>\n",
       "      <td>1132</td>\n",
       "      <td>1942</td>\n",
       "      <td>2265</td>\n",
       "      <td>N</td>\n",
       "      <td>Y</td>\n",
       "      <td>C</td>\n",
       "      <td>N</td>\n",
       "      <td>21.9</td>\n",
       "    </tr>\n",
       "    <tr>\n",
       "      <th>6</th>\n",
       "      <td>7</td>\n",
       "      <td>19</td>\n",
       "      <td>99999</td>\n",
       "      <td>19-99999</td>\n",
       "      <td>19</td>\n",
       "      <td>99999</td>\n",
       "      <td>19-99999</td>\n",
       "      <td>337</td>\n",
       "      <td>3</td>\n",
       "      <td>26</td>\n",
       "      <td>5</td>\n",
       "      <td>43738</td>\n",
       "      <td>13501</td>\n",
       "      <td>16</td>\n",
       "      <td>22</td>\n",
       "      <td>N</td>\n",
       "      <td>N</td>\n",
       "      <td>N</td>\n",
       "      <td>N</td>\n",
       "      <td>310.5</td>\n",
       "    </tr>\n",
       "    <tr>\n",
       "      <th>7</th>\n",
       "      <td>8</td>\n",
       "      <td>6</td>\n",
       "      <td>41740</td>\n",
       "      <td>06-41740</td>\n",
       "      <td>6</td>\n",
       "      <td>99999</td>\n",
       "      <td>06-99999</td>\n",
       "      <td>4239</td>\n",
       "      <td>1</td>\n",
       "      <td>40</td>\n",
       "      <td>14</td>\n",
       "      <td>77</td>\n",
       "      <td>4</td>\n",
       "      <td>272</td>\n",
       "      <td>306</td>\n",
       "      <td>N</td>\n",
       "      <td>N</td>\n",
       "      <td>N</td>\n",
       "      <td>N</td>\n",
       "      <td>138.5</td>\n",
       "    </tr>\n",
       "    <tr>\n",
       "      <th>8</th>\n",
       "      <td>9</td>\n",
       "      <td>19</td>\n",
       "      <td>99999</td>\n",
       "      <td>19-99999</td>\n",
       "      <td>19</td>\n",
       "      <td>99999</td>\n",
       "      <td>19-99999</td>\n",
       "      <td>327</td>\n",
       "      <td>3</td>\n",
       "      <td>31</td>\n",
       "      <td>5</td>\n",
       "      <td>338</td>\n",
       "      <td>12826</td>\n",
       "      <td>10</td>\n",
       "      <td>15</td>\n",
       "      <td>N</td>\n",
       "      <td>N</td>\n",
       "      <td>N</td>\n",
       "      <td>N</td>\n",
       "      <td>2695.9</td>\n",
       "    </tr>\n",
       "    <tr>\n",
       "      <th>9</th>\n",
       "      <td>10</td>\n",
       "      <td>13</td>\n",
       "      <td>99999</td>\n",
       "      <td>13-99999</td>\n",
       "      <td>13</td>\n",
       "      <td>99999</td>\n",
       "      <td>13-99999</td>\n",
       "      <td>4237</td>\n",
       "      <td>2</td>\n",
       "      <td>34</td>\n",
       "      <td>5</td>\n",
       "      <td>145</td>\n",
       "      <td>22</td>\n",
       "      <td>21</td>\n",
       "      <td>28</td>\n",
       "      <td>N</td>\n",
       "      <td>N</td>\n",
       "      <td>N</td>\n",
       "      <td>N</td>\n",
       "      <td>489.1</td>\n",
       "    </tr>\n",
       "  </tbody>\n",
       "</table>\n",
       "</div>"
      ],
      "text/plain": [
       "   SHIPMT_ID  ORIG_STATE  ORIG_MA ORIG_CFS_AREA  DEST_STATE  DEST_MA  \\\n",
       "0          1          25      148        25-148          25      148   \n",
       "1          2          42      428        42-428           6    41740   \n",
       "2          3          26      220        26-220          47      314   \n",
       "3          4          20      556        20-556          20      556   \n",
       "4          5          12    99999      12-99999          12    99999   \n",
       "5          6          24    47900      24-47900          30    99999   \n",
       "6          7          19    99999      19-99999          19    99999   \n",
       "7          8           6    41740      06-41740           6    99999   \n",
       "8          9          19    99999      19-99999          19    99999   \n",
       "9         10          13    99999      13-99999          13    99999   \n",
       "\n",
       "  DEST_CFS_AREA  NAICS  QUARTER SCTG  MODE  SHIPMT_VALUE  SHIPMT_WGHT  \\\n",
       "0        25-148    333        2   35    14          2178           11   \n",
       "1      06-41740    311        3   35    14           344           11   \n",
       "2        47-314    322        2   27     4          4197         5134   \n",
       "3        20-556    323        1   29     4           116            6   \n",
       "4      12-99999   4235        3   33     5           388          527   \n",
       "5      30-99999    337        2   40     4          3716         1132   \n",
       "6      19-99999    337        3   26     5         43738        13501   \n",
       "7      06-99999   4239        1   40    14            77            4   \n",
       "8      19-99999    327        3   31     5           338        12826   \n",
       "9      13-99999   4237        2   34     5           145           22   \n",
       "\n",
       "   SHIPMT_DIST_GC  SHIPMT_DIST_ROUTED TEMP_CNTL_YN EXPORT_YN EXPORT_CNTRY  \\\n",
       "0              14                  17            N         N            N   \n",
       "1            2344                2734            N         N            N   \n",
       "2             470                 579            N         N            N   \n",
       "3               3                   3            N         N            N   \n",
       "4             124                 201            N         N            N   \n",
       "5            1942                2265            N         Y            C   \n",
       "6              16                  22            N         N            N   \n",
       "7             272                 306            N         N            N   \n",
       "8              10                  15            N         N            N   \n",
       "9              21                  28            N         N            N   \n",
       "\n",
       "  HAZMAT  WGT_FACTOR  \n",
       "0      N       208.5  \n",
       "1      N       193.3  \n",
       "2      N        51.2  \n",
       "3      N       238.7  \n",
       "4      N       398.1  \n",
       "5      N        21.9  \n",
       "6      N       310.5  \n",
       "7      N       138.5  \n",
       "8      N      2695.9  \n",
       "9      N       489.1  "
      ]
     },
     "metadata": {},
     "output_type": "display_data"
    },
    {
     "data": {
      "text/plain": [
       "'Last 10 observations'"
      ]
     },
     "metadata": {},
     "output_type": "display_data"
    },
    {
     "data": {
      "text/html": [
       "<div>\n",
       "<style scoped>\n",
       "    .dataframe tbody tr th:only-of-type {\n",
       "        vertical-align: middle;\n",
       "    }\n",
       "\n",
       "    .dataframe tbody tr th {\n",
       "        vertical-align: top;\n",
       "    }\n",
       "\n",
       "    .dataframe thead th {\n",
       "        text-align: right;\n",
       "    }\n",
       "</style>\n",
       "<table border=\"1\" class=\"dataframe\">\n",
       "  <thead>\n",
       "    <tr style=\"text-align: right;\">\n",
       "      <th></th>\n",
       "      <th>SHIPMT_ID</th>\n",
       "      <th>ORIG_STATE</th>\n",
       "      <th>ORIG_MA</th>\n",
       "      <th>ORIG_CFS_AREA</th>\n",
       "      <th>DEST_STATE</th>\n",
       "      <th>DEST_MA</th>\n",
       "      <th>DEST_CFS_AREA</th>\n",
       "      <th>NAICS</th>\n",
       "      <th>QUARTER</th>\n",
       "      <th>SCTG</th>\n",
       "      <th>MODE</th>\n",
       "      <th>SHIPMT_VALUE</th>\n",
       "      <th>SHIPMT_WGHT</th>\n",
       "      <th>SHIPMT_DIST_GC</th>\n",
       "      <th>SHIPMT_DIST_ROUTED</th>\n",
       "      <th>TEMP_CNTL_YN</th>\n",
       "      <th>EXPORT_YN</th>\n",
       "      <th>EXPORT_CNTRY</th>\n",
       "      <th>HAZMAT</th>\n",
       "      <th>WGT_FACTOR</th>\n",
       "    </tr>\n",
       "  </thead>\n",
       "  <tbody>\n",
       "    <tr>\n",
       "      <th>4547651</th>\n",
       "      <td>4547652</td>\n",
       "      <td>39</td>\n",
       "      <td>99999</td>\n",
       "      <td>39-99999</td>\n",
       "      <td>39</td>\n",
       "      <td>99999</td>\n",
       "      <td>39-99999</td>\n",
       "      <td>323</td>\n",
       "      <td>2</td>\n",
       "      <td>29</td>\n",
       "      <td>4</td>\n",
       "      <td>247</td>\n",
       "      <td>62</td>\n",
       "      <td>20</td>\n",
       "      <td>29</td>\n",
       "      <td>N</td>\n",
       "      <td>N</td>\n",
       "      <td>N</td>\n",
       "      <td>N</td>\n",
       "      <td>129.5</td>\n",
       "    </tr>\n",
       "    <tr>\n",
       "      <th>4547652</th>\n",
       "      <td>4547653</td>\n",
       "      <td>51</td>\n",
       "      <td>40060</td>\n",
       "      <td>51-40060</td>\n",
       "      <td>37</td>\n",
       "      <td>450</td>\n",
       "      <td>37-450</td>\n",
       "      <td>321</td>\n",
       "      <td>3</td>\n",
       "      <td>26</td>\n",
       "      <td>5</td>\n",
       "      <td>3371</td>\n",
       "      <td>26250</td>\n",
       "      <td>158</td>\n",
       "      <td>173</td>\n",
       "      <td>N</td>\n",
       "      <td>N</td>\n",
       "      <td>N</td>\n",
       "      <td>N</td>\n",
       "      <td>280.8</td>\n",
       "    </tr>\n",
       "    <tr>\n",
       "      <th>4547653</th>\n",
       "      <td>4547654</td>\n",
       "      <td>19</td>\n",
       "      <td>99999</td>\n",
       "      <td>19-99999</td>\n",
       "      <td>17</td>\n",
       "      <td>99999</td>\n",
       "      <td>17-99999</td>\n",
       "      <td>4234</td>\n",
       "      <td>3</td>\n",
       "      <td>21</td>\n",
       "      <td>5</td>\n",
       "      <td>23587</td>\n",
       "      <td>4718</td>\n",
       "      <td>172</td>\n",
       "      <td>182</td>\n",
       "      <td>N</td>\n",
       "      <td>N</td>\n",
       "      <td>N</td>\n",
       "      <td>N</td>\n",
       "      <td>175.3</td>\n",
       "    </tr>\n",
       "    <tr>\n",
       "      <th>4547654</th>\n",
       "      <td>4547655</td>\n",
       "      <td>12</td>\n",
       "      <td>422</td>\n",
       "      <td>12-422</td>\n",
       "      <td>29</td>\n",
       "      <td>99999</td>\n",
       "      <td>29-99999</td>\n",
       "      <td>332</td>\n",
       "      <td>3</td>\n",
       "      <td>33</td>\n",
       "      <td>4</td>\n",
       "      <td>6804</td>\n",
       "      <td>1201</td>\n",
       "      <td>886</td>\n",
       "      <td>1216</td>\n",
       "      <td>N</td>\n",
       "      <td>N</td>\n",
       "      <td>N</td>\n",
       "      <td>N</td>\n",
       "      <td>63.0</td>\n",
       "    </tr>\n",
       "    <tr>\n",
       "      <th>4547655</th>\n",
       "      <td>4547656</td>\n",
       "      <td>48</td>\n",
       "      <td>206</td>\n",
       "      <td>48-206</td>\n",
       "      <td>48</td>\n",
       "      <td>206</td>\n",
       "      <td>48-206</td>\n",
       "      <td>4237</td>\n",
       "      <td>3</td>\n",
       "      <td>33</td>\n",
       "      <td>5</td>\n",
       "      <td>1820</td>\n",
       "      <td>38</td>\n",
       "      <td>3</td>\n",
       "      <td>5</td>\n",
       "      <td>N</td>\n",
       "      <td>N</td>\n",
       "      <td>N</td>\n",
       "      <td>N</td>\n",
       "      <td>1679.3</td>\n",
       "    </tr>\n",
       "    <tr>\n",
       "      <th>4547656</th>\n",
       "      <td>4547657</td>\n",
       "      <td>9</td>\n",
       "      <td>408</td>\n",
       "      <td>09-408</td>\n",
       "      <td>34</td>\n",
       "      <td>408</td>\n",
       "      <td>34-408</td>\n",
       "      <td>323</td>\n",
       "      <td>4</td>\n",
       "      <td>29</td>\n",
       "      <td>14</td>\n",
       "      <td>7988</td>\n",
       "      <td>133</td>\n",
       "      <td>122</td>\n",
       "      <td>152</td>\n",
       "      <td>N</td>\n",
       "      <td>N</td>\n",
       "      <td>N</td>\n",
       "      <td>N</td>\n",
       "      <td>260.6</td>\n",
       "    </tr>\n",
       "    <tr>\n",
       "      <th>4547657</th>\n",
       "      <td>4547658</td>\n",
       "      <td>39</td>\n",
       "      <td>178</td>\n",
       "      <td>39-178</td>\n",
       "      <td>28</td>\n",
       "      <td>99999</td>\n",
       "      <td>28-99999</td>\n",
       "      <td>311</td>\n",
       "      <td>3</td>\n",
       "      <td>05</td>\n",
       "      <td>4</td>\n",
       "      <td>50808</td>\n",
       "      <td>29887</td>\n",
       "      <td>561</td>\n",
       "      <td>683</td>\n",
       "      <td>Y</td>\n",
       "      <td>N</td>\n",
       "      <td>N</td>\n",
       "      <td>N</td>\n",
       "      <td>20.0</td>\n",
       "    </tr>\n",
       "    <tr>\n",
       "      <th>4547658</th>\n",
       "      <td>4547659</td>\n",
       "      <td>36</td>\n",
       "      <td>408</td>\n",
       "      <td>36-408</td>\n",
       "      <td>36</td>\n",
       "      <td>408</td>\n",
       "      <td>36-408</td>\n",
       "      <td>336</td>\n",
       "      <td>4</td>\n",
       "      <td>36</td>\n",
       "      <td>5</td>\n",
       "      <td>685</td>\n",
       "      <td>137</td>\n",
       "      <td>13</td>\n",
       "      <td>16</td>\n",
       "      <td>N</td>\n",
       "      <td>N</td>\n",
       "      <td>N</td>\n",
       "      <td>N</td>\n",
       "      <td>164.3</td>\n",
       "    </tr>\n",
       "    <tr>\n",
       "      <th>4547659</th>\n",
       "      <td>4547660</td>\n",
       "      <td>48</td>\n",
       "      <td>12420</td>\n",
       "      <td>48-12420</td>\n",
       "      <td>48</td>\n",
       "      <td>12420</td>\n",
       "      <td>48-12420</td>\n",
       "      <td>4233</td>\n",
       "      <td>3</td>\n",
       "      <td>33</td>\n",
       "      <td>5</td>\n",
       "      <td>915</td>\n",
       "      <td>1240</td>\n",
       "      <td>20</td>\n",
       "      <td>22</td>\n",
       "      <td>N</td>\n",
       "      <td>N</td>\n",
       "      <td>N</td>\n",
       "      <td>N</td>\n",
       "      <td>1059.9</td>\n",
       "    </tr>\n",
       "    <tr>\n",
       "      <th>4547660</th>\n",
       "      <td>4547661</td>\n",
       "      <td>30</td>\n",
       "      <td>99999</td>\n",
       "      <td>30-99999</td>\n",
       "      <td>30</td>\n",
       "      <td>99999</td>\n",
       "      <td>30-99999</td>\n",
       "      <td>325</td>\n",
       "      <td>1</td>\n",
       "      <td>23</td>\n",
       "      <td>4</td>\n",
       "      <td>22482</td>\n",
       "      <td>75952</td>\n",
       "      <td>12</td>\n",
       "      <td>12</td>\n",
       "      <td>N</td>\n",
       "      <td>N</td>\n",
       "      <td>N</td>\n",
       "      <td>N</td>\n",
       "      <td>66.1</td>\n",
       "    </tr>\n",
       "  </tbody>\n",
       "</table>\n",
       "</div>"
      ],
      "text/plain": [
       "         SHIPMT_ID  ORIG_STATE  ORIG_MA ORIG_CFS_AREA  DEST_STATE  DEST_MA  \\\n",
       "4547651    4547652          39    99999      39-99999          39    99999   \n",
       "4547652    4547653          51    40060      51-40060          37      450   \n",
       "4547653    4547654          19    99999      19-99999          17    99999   \n",
       "4547654    4547655          12      422        12-422          29    99999   \n",
       "4547655    4547656          48      206        48-206          48      206   \n",
       "4547656    4547657           9      408        09-408          34      408   \n",
       "4547657    4547658          39      178        39-178          28    99999   \n",
       "4547658    4547659          36      408        36-408          36      408   \n",
       "4547659    4547660          48    12420      48-12420          48    12420   \n",
       "4547660    4547661          30    99999      30-99999          30    99999   \n",
       "\n",
       "        DEST_CFS_AREA  NAICS  QUARTER SCTG  MODE  SHIPMT_VALUE  SHIPMT_WGHT  \\\n",
       "4547651      39-99999    323        2   29     4           247           62   \n",
       "4547652        37-450    321        3   26     5          3371        26250   \n",
       "4547653      17-99999   4234        3   21     5         23587         4718   \n",
       "4547654      29-99999    332        3   33     4          6804         1201   \n",
       "4547655        48-206   4237        3   33     5          1820           38   \n",
       "4547656        34-408    323        4   29    14          7988          133   \n",
       "4547657      28-99999    311        3   05     4         50808        29887   \n",
       "4547658        36-408    336        4   36     5           685          137   \n",
       "4547659      48-12420   4233        3   33     5           915         1240   \n",
       "4547660      30-99999    325        1   23     4         22482        75952   \n",
       "\n",
       "         SHIPMT_DIST_GC  SHIPMT_DIST_ROUTED TEMP_CNTL_YN EXPORT_YN  \\\n",
       "4547651              20                  29            N         N   \n",
       "4547652             158                 173            N         N   \n",
       "4547653             172                 182            N         N   \n",
       "4547654             886                1216            N         N   \n",
       "4547655               3                   5            N         N   \n",
       "4547656             122                 152            N         N   \n",
       "4547657             561                 683            Y         N   \n",
       "4547658              13                  16            N         N   \n",
       "4547659              20                  22            N         N   \n",
       "4547660              12                  12            N         N   \n",
       "\n",
       "        EXPORT_CNTRY HAZMAT  WGT_FACTOR  \n",
       "4547651            N      N       129.5  \n",
       "4547652            N      N       280.8  \n",
       "4547653            N      N       175.3  \n",
       "4547654            N      N        63.0  \n",
       "4547655            N      N      1679.3  \n",
       "4547656            N      N       260.6  \n",
       "4547657            N      N        20.0  \n",
       "4547658            N      N       164.3  \n",
       "4547659            N      N      1059.9  \n",
       "4547660            N      N        66.1  "
      ]
     },
     "metadata": {},
     "output_type": "display_data"
    }
   ],
   "source": [
    "# Analyze first and last 10 rows\n",
    "display(\"First 10 observations\", dataset.head(10))\n",
    "display(\"Last 10 observations\", dataset.tail(10))"
   ]
  },
  {
   "cell_type": "code",
   "execution_count": 4,
   "metadata": {},
   "outputs": [
    {
     "name": "stdout",
     "output_type": "stream",
     "text": [
      "False\n"
     ]
    }
   ],
   "source": [
    "# Setting Shipment Id as the index for the dataset\n",
    "is_dupliate_In_Shipment_Id = dataset['SHIPMT_ID'].duplicated().any()\n",
    "print(is_dupliate_In_Shipment_Id)\n",
    "\n",
    "dataset.set_index('SHIPMT_ID',inplace=True)"
   ]
  },
  {
   "cell_type": "code",
   "execution_count": 5,
   "metadata": {},
   "outputs": [
    {
     "data": {
      "text/plain": [
       "EXPORT_CNTRY    1\n",
       "EXPORT_YN       1\n",
       "dtype: int64"
      ]
     },
     "execution_count": 5,
     "metadata": {},
     "output_type": "execute_result"
    }
   ],
   "source": [
    "# dropping EXPORT_YN=='Y', inconsistency in data where EXPORT_YN=='Y', incorrect destination and distance.\n",
    "dataset = dataset[dataset['EXPORT_YN'] == 'N']\n",
    "\n",
    "# Reason for filtering this columns with N\n",
    "dataset[['EXPORT_CNTRY', 'EXPORT_YN']].nunique()"
   ]
  },
  {
   "cell_type": "code",
   "execution_count": 6,
   "metadata": {},
   "outputs": [],
   "source": [
    "# Removing ORIG_CFS_AREA and DEST_CFS_AREA as these columsn are derived from\n",
    "dataset.drop(['ORIG_CFS_AREA', 'DEST_CFS_AREA', 'EXPORT_CNTRY', 'EXPORT_YN', 'NAICS'], axis=1, inplace = True)\n",
    "\n",
    "# Reason for dropping these columns"
   ]
  },
  {
   "cell_type": "code",
   "execution_count": 7,
   "metadata": {},
   "outputs": [
    {
     "name": "stdout",
     "output_type": "stream",
     "text": [
      "<class 'pandas.core.frame.DataFrame'>\n",
      "Int64Index: 4361940 entries, 1 to 4547661\n",
      "Data columns (total 14 columns):\n",
      " #   Column              Dtype  \n",
      "---  ------              -----  \n",
      " 0   ORIG_STATE          int64  \n",
      " 1   ORIG_MA             int64  \n",
      " 2   DEST_STATE          int64  \n",
      " 3   DEST_MA             int64  \n",
      " 4   QUARTER             int64  \n",
      " 5   SCTG                object \n",
      " 6   MODE                int64  \n",
      " 7   SHIPMT_VALUE        int64  \n",
      " 8   SHIPMT_WGHT         int64  \n",
      " 9   SHIPMT_DIST_GC      int64  \n",
      " 10  SHIPMT_DIST_ROUTED  int64  \n",
      " 11  TEMP_CNTL_YN        object \n",
      " 12  HAZMAT              object \n",
      " 13  WGT_FACTOR          float64\n",
      "dtypes: float64(1), int64(10), object(3)\n",
      "memory usage: 499.2+ MB\n"
     ]
    }
   ],
   "source": [
    "# Analyze the datatype of all the variables and convert to appropriate one\n",
    "dataset.info()"
   ]
  },
  {
   "cell_type": "code",
   "execution_count": 8,
   "metadata": {
    "scrolled": true
   },
   "outputs": [
    {
     "name": "stdout",
     "output_type": "stream",
     "text": [
      "<class 'pandas.core.frame.DataFrame'>\n",
      "Int64Index: 4361940 entries, 1 to 4547661\n",
      "Data columns (total 14 columns):\n",
      " #   Column              Dtype  \n",
      "---  ------              -----  \n",
      " 0   ORIG_STATE          object \n",
      " 1   ORIG_MA             object \n",
      " 2   DEST_STATE          object \n",
      " 3   DEST_MA             object \n",
      " 4   QUARTER             object \n",
      " 5   SCTG                object \n",
      " 6   MODE                object \n",
      " 7   SHIPMT_VALUE        int64  \n",
      " 8   SHIPMT_WGHT         int64  \n",
      " 9   SHIPMT_DIST_GC      int64  \n",
      " 10  SHIPMT_DIST_ROUTED  int64  \n",
      " 11  TEMP_CNTL_YN        object \n",
      " 12  HAZMAT              object \n",
      " 13  WGT_FACTOR          float64\n",
      "dtypes: float64(1), int64(4), object(9)\n",
      "memory usage: 499.2+ MB\n"
     ]
    }
   ],
   "source": [
    "#Convert datatype of below variables to appropriate one\n",
    "dataset.ORIG_STATE = dataset.ORIG_STATE.astype(str)\n",
    "dataset.ORIG_MA = dataset.ORIG_MA.astype(str)\n",
    "dataset.DEST_STATE = dataset.DEST_STATE.astype(str)\n",
    "dataset.DEST_MA = dataset.DEST_MA.astype(str)\n",
    "dataset.QUARTER = dataset.QUARTER.astype(str)\n",
    "dataset.MODE = dataset.MODE.astype(str)\n",
    "\n",
    "# Verify dataset again\n",
    "dataset.info()"
   ]
  },
  {
   "cell_type": "code",
   "execution_count": 9,
   "metadata": {},
   "outputs": [
    {
     "name": "stdout",
     "output_type": "stream",
     "text": [
      "ORIG_STATE:\n",
      "      ['25' '42' '26' '20' '12' '19' '6' '13' '55' '39' '33' '31' '54' '32' '9'\n",
      " '17' '37' '48' '18' '29' '49' '36' '27' '53' '47' '34' '5' '38' '56' '1'\n",
      " '51' '23' '45' '8' '35' '4' '21' '28' '41' '44' '2' '16' '40' '46' '22'\n",
      " '15' '30' '24' '10' '50' '11' '0']\n",
      "ORIG_MA:\n",
      "      ['148' '428' '220' '556' '99999' '41740' '184' '332' '408' '450' '172'\n",
      " '176' '348' '476' '482' '122' '104' '378' '370' '41700' '440' '400' '368'\n",
      " '420' '206' '268' '545' '312' '376' '40060' '142' '216' '25540' '38060'\n",
      " '350' '430' '266' '294' '178' '300' '488' '0' '472' '238' '416' '47900'\n",
      " '260' '288' '212' '273' '12940' '536' '500' '160' '464' '198' '45300'\n",
      " '538' '406' '46520' '12580' '258' '380' '422' '314' '12420' '496' '29340'\n",
      " '13140' '16700' '29700' '204']\n",
      "DEST_STATE:\n",
      "      ['25' '6' '47' '20' '12' '19' '13' '36' '42' '34' '31' '27' '39' '51' '48'\n",
      " '37' '55' '17' '49' '44' '18' '29' '1' '26' '9' '54' '32' '38' '40' '23'\n",
      " '45' '28' '8' '56' '4' '53' '21' '24' '33' '41' '2' '5' '22' '46' '16'\n",
      " '15' '30' '35' '50' '10' '11']\n",
      "DEST_MA:\n",
      "      ['148' '41740' '314' '556' '99999' '464' '408' '198' '288' '400' '184'\n",
      " '268' '122' '312' '482' '176' '104' '378' '545' '376' '370' '41700' '220'\n",
      " '420' '206' '348' '178' '416' '273' '216' '238' '40060' '38060' '212'\n",
      " '500' '450' '430' '428' '294' '47900' '536' '172' '488' '476' '440' '472'\n",
      " '16700' '25540' '12940' '204' '368' '258' '12580' '142' '45300' '422'\n",
      " '538' '350' '12420' '300' '260' '406' '29340' '332' '46520' '160' '29700'\n",
      " '496' '266' '380' '13140']\n",
      "QUARTER:\n",
      "      ['2' '3' '1' '4']\n",
      "SCTG:\n",
      "      ['35' '27' '29' '33' '26' '40' '31' '34' '20' '21' '04' '36' '25' '30'\n",
      " '24' '32' '39' '05' '28' '03' '19' '12' '23' '17' '43' '38' '06' '41'\n",
      " '08' '07' '02' '18' '25-30' '37' '22' '15' '11' '13' '01-05' '09' '10-14'\n",
      " '10' '06-09' '14' '20-24' '01' '31-34' '35-38' '15-19' '00' '39-99' '99']\n",
      "MODE:\n",
      "      ['14' '4' '5' '6' '11' '2' '12' '8' '15' '13' '16' '10' '0' '20' '3' '17'\n",
      " '19' '7' '9' '101']\n",
      "TEMP_CNTL_YN:\n",
      "      ['N' 'Y']\n",
      "HAZMAT:\n",
      "      ['N' 'H' 'P']\n"
     ]
    }
   ],
   "source": [
    "#Create and Analyze Cross table for categorical variables\n",
    "for col in dataset.columns:\n",
    "    if str(dataset[col].dtype) in [\"str\", \"object\"]:\n",
    "        print(f'{col}:\\n      {dataset[col].unique()}')"
   ]
  },
  {
   "cell_type": "code",
   "execution_count": 10,
   "metadata": {
    "scrolled": true
   },
   "outputs": [],
   "source": [
    "# Defining 0(ORIG_STATE, ORIG_MA, MODE), 00(SCTG) , 104(ORIG_MA,DEST_MA) and 99(SCTG) as Missing for ORIG_STATE, \n",
    "# ORIG_MA, DEST_MA, SCTG, MODE. \n",
    "\n",
    "def definingNA(x):\n",
    "    if (x in ('0','00','99','104')):\n",
    "        x = \"\"\n",
    "    else:\n",
    "        return x\n",
    "\n",
    "#Defining supressed values '0','00','99' as Missing. \n",
    "dataset['ORIG_STATE']=dataset['ORIG_STATE'].apply(definingNA)\n",
    "dataset['ORIG_MA']=dataset['ORIG_MA'].apply(definingNA)\n",
    "dataset['DEST_MA']=dataset['DEST_MA'].apply(definingNA)\n",
    "dataset['SCTG']=dataset['SCTG'].apply(definingNA)\n",
    "dataset['MODE']=dataset['MODE'].apply(definingNA)"
   ]
  },
  {
   "cell_type": "code",
   "execution_count": 11,
   "metadata": {
    "scrolled": true
   },
   "outputs": [
    {
     "name": "stdout",
     "output_type": "stream",
     "text": [
      "Count of missing values in Categorical Variables\n",
      "ORIG_STATE      0\n",
      "ORIG_MA         0\n",
      "DEST_STATE      0\n",
      "DEST_MA         0\n",
      "QUARTER         0\n",
      "SCTG            0\n",
      "MODE            0\n",
      "TEMP_CNTL_YN    0\n",
      "HAZMAT          0\n",
      "dtype: int64\n"
     ]
    }
   ],
   "source": [
    "# less than 1% of data is missing, we can drop all rows with missing values\n",
    "dataset.dropna(inplace=True)\n",
    "\n",
    "# Verify Number of missing values in categorical data to be zero\n",
    "print(\"Count of missing values in Categorical Variables\")\n",
    "print(dataset[['ORIG_STATE', 'ORIG_MA', 'DEST_STATE', 'DEST_MA', 'QUARTER', 'SCTG',\n",
    "       'MODE', 'TEMP_CNTL_YN', 'HAZMAT']].isna().sum())"
   ]
  },
  {
   "cell_type": "code",
   "execution_count": 12,
   "metadata": {
    "scrolled": true
   },
   "outputs": [],
   "source": [
    "# As SCTG contains inconsistent data, hence imputing industries name into new variable SCTG_Group\n",
    "# converting SCTG codes to INDUSTRIES, refering STATS CAN website\n",
    "# https://www150.statcan.gc.ca/n1/pub/50-503-x/50-503-x2018001-eng.htm\n",
    "\n",
    "def SCTG_IND(SCTG):\n",
    "    if SCTG in ('01', '01-05', '02', '03', '04', '05'):\n",
    "        return 'AGRI'\n",
    "    elif SCTG in ('06', '06-09', '07','08', '09'):\n",
    "        return 'FOOD'\n",
    "    elif SCTG in ('10', '10-14', '11', '12', '13', '14'): \n",
    "        return 'MNRLS'\n",
    "    elif SCTG in ('15', '15-19','17', '18', '19'):\n",
    "        return 'FUEL'\n",
    "    elif SCTG in ('20', '20-24', '21', '22', '23', '24'):\n",
    "        return 'PLCHM'\n",
    "    elif SCTG in ('25','25-30', '26', '27', '28', '29'):\n",
    "        return 'FRPAP'\n",
    "    elif SCTG in ('31', '31-34', '32', '33'):\n",
    "        return 'BMETL'\n",
    "    elif SCTG in ('35-38', '36', '37', '38'):\n",
    "        return 'TRANS'\n",
    "    elif SCTG =='41':\n",
    "        return 'WASTE'\n",
    "    elif SCTG in ('30','34','35','39','39-99'):\n",
    "        return 'OTHMF'\n",
    "    elif SCTG in ('40','43'):\n",
    "        return 'MISC'"
   ]
  },
  {
   "cell_type": "code",
   "execution_count": 13,
   "metadata": {},
   "outputs": [],
   "source": [
    "# converting SCTG codes to INDUSTRIES, refering STATS CAN website\n",
    "dataset['SCTG_GROUP'] = dataset['SCTG'].apply(SCTG_IND)"
   ]
  },
  {
   "cell_type": "code",
   "execution_count": 14,
   "metadata": {
    "scrolled": true
   },
   "outputs": [
    {
     "data": {
      "text/plain": [
       "array(['OTHMF', 'FRPAP', 'BMETL', 'MISC', 'PLCHM', 'AGRI', 'TRANS',\n",
       "       'FUEL', 'MNRLS', 'FOOD', 'WASTE'], dtype=object)"
      ]
     },
     "execution_count": 14,
     "metadata": {},
     "output_type": "execute_result"
    }
   ],
   "source": [
    "# Analyze unique values from SCTG_GROUP\n",
    "dataset['SCTG_GROUP'].unique()"
   ]
  },
  {
   "cell_type": "code",
   "execution_count": 15,
   "metadata": {
    "scrolled": true
   },
   "outputs": [
    {
     "data": {
      "text/plain": [
       "array(['OTHMF', 'FRPAP', 'BMETL', 'PLCHM', 'AGRI', 'TRANS', 'FUEL',\n",
       "       'MNRLS', 'FOOD', 'WASTE'], dtype=object)"
      ]
     },
     "execution_count": 15,
     "metadata": {},
     "output_type": "execute_result"
    }
   ],
   "source": [
    "# dropping SCTG=='MISC' due to inconsistency in data, 'miscellaneous' SCTG values will affect the SHIPMENT VALUES and WEIGHT \n",
    "dataset = dataset[dataset['SCTG_GROUP'] != 'MISC']\n",
    "\n",
    "dataset['SCTG_GROUP'].unique()"
   ]
  },
  {
   "cell_type": "code",
   "execution_count": 16,
   "metadata": {},
   "outputs": [],
   "source": [
    "dataset.drop(['SCTG'], axis=1, inplace = True)"
   ]
  },
  {
   "cell_type": "code",
   "execution_count": 17,
   "metadata": {},
   "outputs": [
    {
     "data": {
      "text/html": [
       "<div>\n",
       "<style scoped>\n",
       "    .dataframe tbody tr th:only-of-type {\n",
       "        vertical-align: middle;\n",
       "    }\n",
       "\n",
       "    .dataframe tbody tr th {\n",
       "        vertical-align: top;\n",
       "    }\n",
       "\n",
       "    .dataframe thead th {\n",
       "        text-align: right;\n",
       "    }\n",
       "</style>\n",
       "<table border=\"1\" class=\"dataframe\">\n",
       "  <thead>\n",
       "    <tr style=\"text-align: right;\">\n",
       "      <th></th>\n",
       "      <th>count</th>\n",
       "      <th>mean</th>\n",
       "      <th>std</th>\n",
       "      <th>min</th>\n",
       "      <th>25%</th>\n",
       "      <th>50%</th>\n",
       "      <th>75%</th>\n",
       "      <th>max</th>\n",
       "    </tr>\n",
       "    <tr>\n",
       "      <th>SCTG_GROUP</th>\n",
       "      <th></th>\n",
       "      <th></th>\n",
       "      <th></th>\n",
       "      <th></th>\n",
       "      <th></th>\n",
       "      <th></th>\n",
       "      <th></th>\n",
       "      <th></th>\n",
       "    </tr>\n",
       "  </thead>\n",
       "  <tbody>\n",
       "    <tr>\n",
       "      <th>AGRI</th>\n",
       "      <td>181849.0</td>\n",
       "      <td>19858.710974</td>\n",
       "      <td>1.758849e+05</td>\n",
       "      <td>1.0</td>\n",
       "      <td>615.0</td>\n",
       "      <td>4769.0</td>\n",
       "      <td>12785.00</td>\n",
       "      <td>35247100.0</td>\n",
       "    </tr>\n",
       "    <tr>\n",
       "      <th>BMETL</th>\n",
       "      <td>579389.0</td>\n",
       "      <td>8944.516380</td>\n",
       "      <td>4.172309e+04</td>\n",
       "      <td>1.0</td>\n",
       "      <td>251.0</td>\n",
       "      <td>1164.0</td>\n",
       "      <td>6255.00</td>\n",
       "      <td>8048000.0</td>\n",
       "    </tr>\n",
       "    <tr>\n",
       "      <th>FOOD</th>\n",
       "      <td>345478.0</td>\n",
       "      <td>12108.030268</td>\n",
       "      <td>7.803780e+04</td>\n",
       "      <td>1.0</td>\n",
       "      <td>285.0</td>\n",
       "      <td>1860.5</td>\n",
       "      <td>11071.00</td>\n",
       "      <td>21415400.0</td>\n",
       "    </tr>\n",
       "    <tr>\n",
       "      <th>FRPAP</th>\n",
       "      <td>508679.0</td>\n",
       "      <td>5867.418490</td>\n",
       "      <td>2.393504e+04</td>\n",
       "      <td>1.0</td>\n",
       "      <td>151.0</td>\n",
       "      <td>918.0</td>\n",
       "      <td>5445.00</td>\n",
       "      <td>7120900.0</td>\n",
       "    </tr>\n",
       "    <tr>\n",
       "      <th>FUEL</th>\n",
       "      <td>240690.0</td>\n",
       "      <td>38494.723217</td>\n",
       "      <td>5.330767e+05</td>\n",
       "      <td>1.0</td>\n",
       "      <td>298.0</td>\n",
       "      <td>861.0</td>\n",
       "      <td>8614.75</td>\n",
       "      <td>50000000.0</td>\n",
       "    </tr>\n",
       "    <tr>\n",
       "      <th>MNRLS</th>\n",
       "      <td>146492.0</td>\n",
       "      <td>4761.150602</td>\n",
       "      <td>7.350614e+04</td>\n",
       "      <td>1.0</td>\n",
       "      <td>132.0</td>\n",
       "      <td>227.0</td>\n",
       "      <td>461.00</td>\n",
       "      <td>10130446.0</td>\n",
       "    </tr>\n",
       "    <tr>\n",
       "      <th>OTHMF</th>\n",
       "      <td>824182.0</td>\n",
       "      <td>11074.325875</td>\n",
       "      <td>2.981069e+05</td>\n",
       "      <td>1.0</td>\n",
       "      <td>118.0</td>\n",
       "      <td>504.0</td>\n",
       "      <td>2685.00</td>\n",
       "      <td>125000000.0</td>\n",
       "    </tr>\n",
       "    <tr>\n",
       "      <th>PLCHM</th>\n",
       "      <td>602514.0</td>\n",
       "      <td>19857.024061</td>\n",
       "      <td>4.192002e+05</td>\n",
       "      <td>1.0</td>\n",
       "      <td>202.0</td>\n",
       "      <td>1134.0</td>\n",
       "      <td>6959.00</td>\n",
       "      <td>58737900.0</td>\n",
       "    </tr>\n",
       "    <tr>\n",
       "      <th>TRANS</th>\n",
       "      <td>326429.0</td>\n",
       "      <td>39838.948755</td>\n",
       "      <td>3.153775e+06</td>\n",
       "      <td>1.0</td>\n",
       "      <td>118.0</td>\n",
       "      <td>521.0</td>\n",
       "      <td>3695.00</td>\n",
       "      <td>521277800.0</td>\n",
       "    </tr>\n",
       "    <tr>\n",
       "      <th>WASTE</th>\n",
       "      <td>36355.0</td>\n",
       "      <td>17248.204319</td>\n",
       "      <td>5.147556e+04</td>\n",
       "      <td>1.0</td>\n",
       "      <td>3583.5</td>\n",
       "      <td>6949.0</td>\n",
       "      <td>17189.50</td>\n",
       "      <td>3056481.0</td>\n",
       "    </tr>\n",
       "  </tbody>\n",
       "</table>\n",
       "</div>"
      ],
      "text/plain": [
       "               count          mean           std  min     25%     50%  \\\n",
       "SCTG_GROUP                                                              \n",
       "AGRI        181849.0  19858.710974  1.758849e+05  1.0   615.0  4769.0   \n",
       "BMETL       579389.0   8944.516380  4.172309e+04  1.0   251.0  1164.0   \n",
       "FOOD        345478.0  12108.030268  7.803780e+04  1.0   285.0  1860.5   \n",
       "FRPAP       508679.0   5867.418490  2.393504e+04  1.0   151.0   918.0   \n",
       "FUEL        240690.0  38494.723217  5.330767e+05  1.0   298.0   861.0   \n",
       "MNRLS       146492.0   4761.150602  7.350614e+04  1.0   132.0   227.0   \n",
       "OTHMF       824182.0  11074.325875  2.981069e+05  1.0   118.0   504.0   \n",
       "PLCHM       602514.0  19857.024061  4.192002e+05  1.0   202.0  1134.0   \n",
       "TRANS       326429.0  39838.948755  3.153775e+06  1.0   118.0   521.0   \n",
       "WASTE        36355.0  17248.204319  5.147556e+04  1.0  3583.5  6949.0   \n",
       "\n",
       "                 75%          max  \n",
       "SCTG_GROUP                         \n",
       "AGRI        12785.00   35247100.0  \n",
       "BMETL        6255.00    8048000.0  \n",
       "FOOD        11071.00   21415400.0  \n",
       "FRPAP        5445.00    7120900.0  \n",
       "FUEL         8614.75   50000000.0  \n",
       "MNRLS         461.00   10130446.0  \n",
       "OTHMF        2685.00  125000000.0  \n",
       "PLCHM        6959.00   58737900.0  \n",
       "TRANS        3695.00  521277800.0  \n",
       "WASTE       17189.50    3056481.0  "
      ]
     },
     "execution_count": 17,
     "metadata": {},
     "output_type": "execute_result"
    }
   ],
   "source": [
    "dataset.groupby('SCTG_GROUP')['SHIPMT_VALUE'].describe()"
   ]
  },
  {
   "cell_type": "code",
   "execution_count": 18,
   "metadata": {},
   "outputs": [
    {
     "data": {
      "text/plain": [
       "(3523, 14)"
      ]
     },
     "execution_count": 18,
     "metadata": {},
     "output_type": "execute_result"
    }
   ],
   "source": [
    "# SHIPMT_VALUE > 1 Million\n",
    "dataset[dataset['SHIPMT_VALUE']>1000000].shape"
   ]
  },
  {
   "cell_type": "code",
   "execution_count": 19,
   "metadata": {
    "scrolled": true
   },
   "outputs": [
    {
     "data": {
      "text/plain": [
       "(636206, 14)"
      ]
     },
     "execution_count": 19,
     "metadata": {},
     "output_type": "execute_result"
    }
   ],
   "source": [
    "# SHIPMT_VALUE < 100\n",
    "dataset[dataset['SHIPMT_VALUE']<100].shape"
   ]
  },
  {
   "cell_type": "code",
   "execution_count": 20,
   "metadata": {},
   "outputs": [],
   "source": [
    "# rejecting values > 1 Million & < 100\n",
    "dataset=dataset[(dataset['SHIPMT_VALUE']>100) & (dataset['SHIPMT_VALUE']<1000000)]"
   ]
  },
  {
   "cell_type": "code",
   "execution_count": 21,
   "metadata": {},
   "outputs": [],
   "source": [
    "# Selecting shipment of essential items only\n",
    "dataset=dataset[(dataset['SCTG_GROUP']=='AGRI') | (dataset['SCTG_GROUP']=='FOOD') | \n",
    "        (dataset['SCTG_GROUP']=='FUEL') | (dataset['SCTG_GROUP']=='PLCHM')]"
   ]
  },
  {
   "cell_type": "code",
   "execution_count": 22,
   "metadata": {},
   "outputs": [
    {
     "data": {
      "text/html": [
       "<div>\n",
       "<style scoped>\n",
       "    .dataframe tbody tr th:only-of-type {\n",
       "        vertical-align: middle;\n",
       "    }\n",
       "\n",
       "    .dataframe tbody tr th {\n",
       "        vertical-align: top;\n",
       "    }\n",
       "\n",
       "    .dataframe thead th {\n",
       "        text-align: right;\n",
       "    }\n",
       "</style>\n",
       "<table border=\"1\" class=\"dataframe\">\n",
       "  <thead>\n",
       "    <tr style=\"text-align: right;\">\n",
       "      <th></th>\n",
       "      <th>count</th>\n",
       "      <th>mean</th>\n",
       "      <th>std</th>\n",
       "      <th>min</th>\n",
       "      <th>25%</th>\n",
       "      <th>50%</th>\n",
       "      <th>75%</th>\n",
       "      <th>max</th>\n",
       "    </tr>\n",
       "    <tr>\n",
       "      <th>SCTG_GROUP</th>\n",
       "      <th></th>\n",
       "      <th></th>\n",
       "      <th></th>\n",
       "      <th></th>\n",
       "      <th></th>\n",
       "      <th></th>\n",
       "      <th></th>\n",
       "      <th></th>\n",
       "    </tr>\n",
       "  </thead>\n",
       "  <tbody>\n",
       "    <tr>\n",
       "      <th>AGRI</th>\n",
       "      <td>165990.0</td>\n",
       "      <td>18116.998331</td>\n",
       "      <td>53949.123289</td>\n",
       "      <td>101.0</td>\n",
       "      <td>1122.0</td>\n",
       "      <td>5773.0</td>\n",
       "      <td>14254.0</td>\n",
       "      <td>999137.0</td>\n",
       "    </tr>\n",
       "    <tr>\n",
       "      <th>FOOD</th>\n",
       "      <td>304885.0</td>\n",
       "      <td>12559.302770</td>\n",
       "      <td>28835.059608</td>\n",
       "      <td>101.0</td>\n",
       "      <td>530.0</td>\n",
       "      <td>2889.0</td>\n",
       "      <td>13230.0</td>\n",
       "      <td>920769.0</td>\n",
       "    </tr>\n",
       "    <tr>\n",
       "      <th>FUEL</th>\n",
       "      <td>216237.0</td>\n",
       "      <td>13054.257421</td>\n",
       "      <td>54297.670668</td>\n",
       "      <td>101.0</td>\n",
       "      <td>402.0</td>\n",
       "      <td>1083.0</td>\n",
       "      <td>11077.0</td>\n",
       "      <td>999100.0</td>\n",
       "    </tr>\n",
       "    <tr>\n",
       "      <th>PLCHM</th>\n",
       "      <td>505509.0</td>\n",
       "      <td>13574.070883</td>\n",
       "      <td>42663.791188</td>\n",
       "      <td>101.0</td>\n",
       "      <td>462.0</td>\n",
       "      <td>1995.0</td>\n",
       "      <td>9534.0</td>\n",
       "      <td>999819.0</td>\n",
       "    </tr>\n",
       "  </tbody>\n",
       "</table>\n",
       "</div>"
      ],
      "text/plain": [
       "               count          mean           std    min     25%     50%  \\\n",
       "SCTG_GROUP                                                                \n",
       "AGRI        165990.0  18116.998331  53949.123289  101.0  1122.0  5773.0   \n",
       "FOOD        304885.0  12559.302770  28835.059608  101.0   530.0  2889.0   \n",
       "FUEL        216237.0  13054.257421  54297.670668  101.0   402.0  1083.0   \n",
       "PLCHM       505509.0  13574.070883  42663.791188  101.0   462.0  1995.0   \n",
       "\n",
       "                75%       max  \n",
       "SCTG_GROUP                     \n",
       "AGRI        14254.0  999137.0  \n",
       "FOOD        13230.0  920769.0  \n",
       "FUEL        11077.0  999100.0  \n",
       "PLCHM        9534.0  999819.0  "
      ]
     },
     "execution_count": 22,
     "metadata": {},
     "output_type": "execute_result"
    }
   ],
   "source": [
    "dataset.groupby('SCTG_GROUP')['SHIPMT_VALUE'].describe()"
   ]
  },
  {
   "cell_type": "code",
   "execution_count": 23,
   "metadata": {
    "scrolled": false
   },
   "outputs": [
    {
     "name": "stdout",
     "output_type": "stream",
     "text": [
      "Feature SHIPMT_VALUE should be quantitaive\n",
      "Feature SHIPMT_WGHT should be quantitaive\n",
      "Feature SHIPMT_DIST_GC should be quantitaive\n",
      "Feature SHIPMT_DIST_ROUTED should be quantitaive\n",
      "Feature WGT_FACTOR should be quantitaive\n"
     ]
    }
   ],
   "source": [
    "# Prepare dummy variables for all categorical variablces\n",
    "for featureName in dataset.columns:\n",
    "    if str(dataset[featureName].dtype) in [\"str\", \"object\"]:\n",
    "        dummies = pd.get_dummies(dataset[featureName], prefix=featureName, prefix_sep = \"_\", drop_first = True)\n",
    "        dataset = pd.concat([dataset, dummies], axis=1)\n",
    "        dataset.drop( featureName, axis = 1, inplace = True)\n",
    "    else:\n",
    "        print(f'Feature {featureName} should be quantitaive')"
   ]
  },
  {
   "cell_type": "markdown",
   "metadata": {},
   "source": [
    "Preprocessing Quantitative Data"
   ]
  },
  {
   "cell_type": "code",
   "execution_count": 279,
   "metadata": {},
   "outputs": [],
   "source": [
    "# # # Check statistics for SHIPMT_VALUE\n",
    "# # Analyze SHIPMT_VALUE for distribution, Outliers and Skewness\n",
    "# dataset[\"LOG_SHIPMT_VALUE\"] = dataset[\"SHIPMT_VALUE\"]\n",
    "\n",
    "# # Statistics for SHIPMT_VALUE\n",
    "# print(f'{\"Mean\":30s} >>> {dataset[\"LOG_SHIPMT_VALUE\"].mean()}')\n",
    "# print(f'{\"Median\":30s} >>> {dataset[\"LOG_SHIPMT_VALUE\"].median()}')\n",
    "# print(f'{\"Mode\":30s} >>> {dataset[\"LOG_SHIPMT_VALUE\"].mode()}')\n",
    "# print(f'{\"Standard Deviation\":30s} >>> {dataset[\"LOG_SHIPMT_VALUE\"].std()}')\n",
    "# print(f'{\"Maxiumn\":30s} >>> {dataset[\"LOG_SHIPMT_VALUE\"].max()}')\n",
    "# print(f'{\"Minimum\":30s} >>> {dataset[\"LOG_SHIPMT_VALUE\"].min()}')\n",
    "# print(f'{\"Skewness\":30s} >>> {dataset[\"LOG_SHIPMT_VALUE\"].skew()}')\n",
    "\n",
    "# # Check for distribution\n",
    "# dataset[\"LOG_SHIPMT_VALUE\"].hist(bins=100, grid=False, xlabelsize=12, ylabelsize=12)\n",
    "# plt.xlabel(\"Life Expectancy\", fontsize=15)\n",
    "# plt.ylabel(\"Frequency\",fontsize=15)\n",
    "# sns.distplot(dataset[\"LOG_SHIPMT_VALUE\"])\n",
    "# plt.show()\n",
    "\n",
    "# # Check for outliers\n",
    "# sns.boxplot(x=dataset[\"LOG_SHIPMT_VALUE\"])"
   ]
  },
  {
   "cell_type": "code",
   "execution_count": 280,
   "metadata": {},
   "outputs": [],
   "source": [
    "# # Tranform data using log method and verify Outlier and skewness\n",
    "# dataset[\"LOG_SHIPMT_VALUE\"] = np.log(dataset[\"SHIPMT_VALUE\"] + 1 )\n",
    "\n",
    "# # Statistics for SHIPMT_VALUE\n",
    "# print(f'{\"Mean\":30s} >>> {dataset[\"LOG_SHIPMT_VALUE\"].mean()}')\n",
    "# print(f'{\"Median\":30s} >>> {dataset[\"LOG_SHIPMT_VALUE\"].median()}')\n",
    "# print(f'{\"Mode\":30s} >>> {dataset[\"LOG_SHIPMT_VALUE\"].mode()}')\n",
    "# print(f'{\"Standard Deviation\":30s} >>> {dataset[\"LOG_SHIPMT_VALUE\"].std()}')\n",
    "# print(f'{\"Maxiumn\":30s} >>> {dataset[\"LOG_SHIPMT_VALUE\"].max()}')\n",
    "# print(f'{\"Minimum\":30s} >>> {dataset[\"LOG_SHIPMT_VALUE\"].min()}')\n",
    "# print(f'{\"Skewness\":30s} >>> {dataset[\"LOG_SHIPMT_VALUE\"].skew()}')\n",
    "\n",
    "# # Check for distribution\n",
    "# dataset[\"LOG_SHIPMT_VALUE\"].hist(bins=100, grid=False, xlabelsize=12, ylabelsize=12)\n",
    "# plt.xlabel(\"Life Expectancy\", fontsize=15)\n",
    "# plt.ylabel(\"Frequency\",fontsize=15)\n",
    "# sns.distplot(dataset[\"LOG_SHIPMT_VALUE\"])\n",
    "# plt.show()\n",
    "\n",
    "# # Check for outliers\n",
    "# sns.boxplot(x=dataset[\"LOG_SHIPMT_VALUE\"])"
   ]
  },
  {
   "cell_type": "code",
   "execution_count": 281,
   "metadata": {},
   "outputs": [],
   "source": [
    "# # Tranform data using boxcox method and verify\n",
    "# dataset[\"LOG_SHIPMT_WGHT\"] = dataset[\"SHIPMT_WGHT\"]\n",
    "\n",
    "# # Statistics for SHIPMT_WGHT\n",
    "# print(f'{\"Mean\":30s} >>> {dataset[\"LOG_SHIPMT_WGHT\"].mean()}')\n",
    "# print(f'{\"Median\":30s} >>> {dataset[\"LOG_SHIPMT_WGHT\"].median()}')\n",
    "# print(f'{\"Mode\":30s} >>> {dataset[\"LOG_SHIPMT_WGHT\"].mode()}')\n",
    "# print(f'{\"Standard Deviation\":30s} >>> {dataset[\"LOG_SHIPMT_WGHT\"].std()}')\n",
    "# print(f'{\"Maxiumn\":30s} >>> {dataset[\"LOG_SHIPMT_WGHT\"].max()}')\n",
    "# print(f'{\"Minimum\":30s} >>> {dataset[\"LOG_SHIPMT_WGHT\"].min()}')\n",
    "# print(f'{\"Skewness\":30s} >>> {dataset[\"LOG_SHIPMT_WGHT\"].skew()}')\n",
    "\n",
    "# # Check for distribution\n",
    "# dataset[\"LOG_SHIPMT_WGHT\"].hist(bins=100, grid=False, xlabelsize=12, ylabelsize=12)\n",
    "# plt.xlabel(\"Life Expectancy\", fontsize=15)\n",
    "# plt.ylabel(\"Frequency\",fontsize=15)\n",
    "# sns.distplot(dataset[\"LOG_SHIPMT_WGHT\"])\n",
    "# plt.show()\n",
    "\n",
    "# # Check for outliers\n",
    "# sns.boxplot(x=dataset[\"LOG_SHIPMT_WGHT\"])"
   ]
  },
  {
   "cell_type": "code",
   "execution_count": 282,
   "metadata": {
    "scrolled": false
   },
   "outputs": [],
   "source": [
    "# # Tranform data using boxcox method and verify\n",
    "# dataset[\"LOG_SHIPMT_WGHT\"] = np.log(dataset[\"SHIPMT_WGHT\"] + 1)\n",
    "\n",
    "# # Statistics for SHIPMT_WGHT\n",
    "# print(f'{\"Mean\":30s} >>> {dataset[\"LOG_SHIPMT_WGHT\"].mean()}')\n",
    "# print(f'{\"Median\":30s} >>> {dataset[\"LOG_SHIPMT_WGHT\"].median()}')\n",
    "# print(f'{\"Mode\":30s} >>> {dataset[\"LOG_SHIPMT_WGHT\"].mode()}')\n",
    "# print(f'{\"Standard Deviation\":30s} >>> {dataset[\"LOG_SHIPMT_WGHT\"].std()}')\n",
    "# print(f'{\"Maxiumn\":30s} >>> {dataset[\"LOG_SHIPMT_WGHT\"].max()}')\n",
    "# print(f'{\"Minimum\":30s} >>> {dataset[\"LOG_SHIPMT_WGHT\"].min()}')\n",
    "# print(f'{\"Skewness\":30s} >>> {dataset[\"LOG_SHIPMT_WGHT\"].skew()}')\n",
    "\n",
    "# # Check for distribution\n",
    "# dataset[\"LOG_SHIPMT_WGHT\"].hist(bins=100, grid=False, xlabelsize=12, ylabelsize=12)\n",
    "# plt.xlabel(\"Life Expectancy\", fontsize=15)\n",
    "# plt.ylabel(\"Frequency\",fontsize=15)\n",
    "# sns.distplot(dataset[\"LOG_SHIPMT_WGHT\"])\n",
    "# plt.show()\n",
    "\n",
    "# # Check for outliers\n",
    "# sns.boxplot(x=dataset[\"LOG_SHIPMT_WGHT\"])"
   ]
  },
  {
   "cell_type": "code",
   "execution_count": 283,
   "metadata": {
    "scrolled": true
   },
   "outputs": [],
   "source": [
    "\n",
    "# # Tranform data using boxcox method and verify\n",
    "# dataset[\"LOG_SHIPMT_DIST_GC\"] = dataset[\"SHIPMT_DIST_GC\"]\n",
    "\n",
    "# # Statistics for SHIPMT_DIST_GC\n",
    "# print(f'{\"Mean\":30s} >>> {dataset[\"LOG_SHIPMT_DIST_GC\"].mean()}')\n",
    "# print(f'{\"Median\":30s} >>> {dataset[\"LOG_SHIPMT_DIST_GC\"].median()}')\n",
    "# print(f'{\"Mode\":30s} >>> {dataset[\"LOG_SHIPMT_DIST_GC\"].mode()}')\n",
    "# print(f'{\"Standard Deviation\":30s} >>> {dataset[\"LOG_SHIPMT_DIST_GC\"].std()}')\n",
    "# print(f'{\"Maxiumn\":30s} >>> {dataset[\"LOG_SHIPMT_DIST_GC\"].max()}')\n",
    "# print(f'{\"Minimum\":30s} >>> {dataset[\"LOG_SHIPMT_DIST_GC\"].min()}')\n",
    "# print(f'{\"Skewness\":30s} >>> {dataset[\"LOG_SHIPMT_DIST_GC\"].skew()}')\n",
    "\n",
    "# # Check for distribution\n",
    "# dataset[\"LOG_SHIPMT_DIST_GC\"].hist(bins=100, grid=False, xlabelsize=12, ylabelsize=12)\n",
    "# plt.xlabel(\"Life Expectancy\", fontsize=15)\n",
    "# plt.ylabel(\"Frequency\",fontsize=15)\n",
    "# sns.distplot(dataset[\"LOG_SHIPMT_DIST_GC\"])\n",
    "# plt.show()\n",
    "\n",
    "# # Check for outliers\n",
    "# sns.boxplot(x=dataset[\"LOG_SHIPMT_DIST_GC\"])"
   ]
  },
  {
   "cell_type": "code",
   "execution_count": 284,
   "metadata": {},
   "outputs": [],
   "source": [
    "# # Tranform data using boxcox method and verify\n",
    "# dataset[\"LOG_SHIPMT_DIST_GC\"] = np.log(dataset[\"SHIPMT_DIST_GC\"] + 1)\n",
    "\n",
    "# # Statistics for SHIPMT_DIST_GC\n",
    "# print(f'{\"Mean\":30s} >>> {dataset[\"LOG_SHIPMT_DIST_GC\"].mean()}')\n",
    "# print(f'{\"Median\":30s} >>> {dataset[\"LOG_SHIPMT_DIST_GC\"].median()}')\n",
    "# print(f'{\"Mode\":30s} >>> {dataset[\"LOG_SHIPMT_DIST_GC\"].mode()}')\n",
    "# print(f'{\"Standard Deviation\":30s} >>> {dataset[\"LOG_SHIPMT_DIST_GC\"].std()}')\n",
    "# print(f'{\"Maxiumn\":30s} >>> {dataset[\"LOG_SHIPMT_DIST_GC\"].max()}')\n",
    "# print(f'{\"Minimum\":30s} >>> {dataset[\"LOG_SHIPMT_DIST_GC\"].min()}')\n",
    "# print(f'{\"Skewness\":30s} >>> {dataset[\"LOG_SHIPMT_DIST_GC\"].skew()}')\n",
    "\n",
    "# # Check for distribution\n",
    "# dataset[\"LOG_SHIPMT_DIST_GC\"].hist(bins=100, grid=False, xlabelsize=12, ylabelsize=12)\n",
    "# plt.xlabel(\"Life Expectancy\", fontsize=15)\n",
    "# plt.ylabel(\"Frequency\",fontsize=15)\n",
    "# sns.distplot(dataset[\"LOG_SHIPMT_DIST_GC\"])\n",
    "# plt.show()\n",
    "\n",
    "# # Check for outliers\n",
    "# sns.boxplot(x=dataset[\"LOG_SHIPMT_DIST_GC\"])"
   ]
  },
  {
   "cell_type": "code",
   "execution_count": 285,
   "metadata": {},
   "outputs": [],
   "source": [
    "\n",
    "# # Tranform data using boxcox method and verify\n",
    "# dataset[\"LOG_SHIPMT_DIST_ROUTED\"] = dataset[\"SHIPMT_DIST_ROUTED\"]\n",
    "\n",
    "# # Statistics for SHIPMT_DIST_ROUTED\n",
    "# print(f'{\"Mean\":30s} >>> {dataset[\"LOG_SHIPMT_DIST_ROUTED\"].mean()}')\n",
    "# print(f'{\"Median\":30s} >>> {dataset[\"LOG_SHIPMT_DIST_ROUTED\"].median()}')\n",
    "# print(f'{\"Mode\":30s} >>> {dataset[\"LOG_SHIPMT_DIST_ROUTED\"].mode()}')\n",
    "# print(f'{\"Standard Deviation\":30s} >>> {dataset[\"LOG_SHIPMT_DIST_ROUTED\"].std()}')\n",
    "# print(f'{\"Maxiumn\":30s} >>> {dataset[\"LOG_SHIPMT_DIST_ROUTED\"].max()}')\n",
    "# print(f'{\"Minimum\":30s} >>> {dataset[\"LOG_SHIPMT_DIST_ROUTED\"].min()}')\n",
    "# print(f'{\"Skewness\":30s} >>> {dataset[\"LOG_SHIPMT_DIST_ROUTED\"].skew()}')\n",
    "\n",
    "# # Check for distribution\n",
    "# dataset[\"LOG_SHIPMT_DIST_ROUTED\"].hist(bins=100, grid=False, xlabelsize=12, ylabelsize=12)\n",
    "# plt.xlabel(\"Life Expectancy\", fontsize=15)\n",
    "# plt.ylabel(\"Frequency\",fontsize=15)\n",
    "# sns.distplot(dataset[\"LOG_SHIPMT_DIST_ROUTED\"])\n",
    "# plt.show()\n",
    "\n",
    "# # Check for outliers\n",
    "# sns.boxplot(x=dataset[\"LOG_SHIPMT_DIST_ROUTED\"])"
   ]
  },
  {
   "cell_type": "code",
   "execution_count": 286,
   "metadata": {},
   "outputs": [],
   "source": [
    "# # Tranform data using boxcox method and verify\n",
    "# dataset[\"LOG_SHIPMT_DIST_ROUTED\"] = np.log(dataset[\"SHIPMT_DIST_ROUTED\"] + 1)\n",
    "\n",
    "# # Statistics for SHIPMT_DIST_ROUTED\n",
    "# print(f'{\"Mean\":30s} >>> {dataset[\"LOG_SHIPMT_DIST_ROUTED\"].mean()}')\n",
    "# print(f'{\"Median\":30s} >>> {dataset[\"LOG_SHIPMT_DIST_ROUTED\"].median()}')\n",
    "# print(f'{\"Mode\":30s} >>> {dataset[\"LOG_SHIPMT_DIST_ROUTED\"].mode()}')\n",
    "# print(f'{\"Standard Deviation\":30s} >>> {dataset[\"LOG_SHIPMT_DIST_ROUTED\"].std()}')\n",
    "# print(f'{\"Maxiumn\":30s} >>> {dataset[\"LOG_SHIPMT_DIST_ROUTED\"].max()}')\n",
    "# print(f'{\"Minimum\":30s} >>> {dataset[\"LOG_SHIPMT_DIST_ROUTED\"].min()}')\n",
    "# print(f'{\"Skewness\":30s} >>> {dataset[\"LOG_SHIPMT_DIST_ROUTED\"].skew()}')\n",
    "\n",
    "# # Check for distribution\n",
    "# dataset[\"LOG_SHIPMT_DIST_ROUTED\"].hist(bins=100, grid=False, xlabelsize=12, ylabelsize=12)\n",
    "# plt.xlabel(\"Life Expectancy\", fontsize=15)\n",
    "# plt.ylabel(\"Frequency\",fontsize=15)\n",
    "# sns.distplot(dataset[\"LOG_SHIPMT_DIST_ROUTED\"])\n",
    "# plt.show()\n",
    "\n",
    "# # Check for outliers\n",
    "# sns.boxplot(x=dataset[\"LOG_SHIPMT_DIST_ROUTED\"])"
   ]
  },
  {
   "cell_type": "code",
   "execution_count": 287,
   "metadata": {},
   "outputs": [],
   "source": [
    "\n",
    "# # Tranform data using boxcox method and verify\n",
    "# dataset[\"LOG_WGT_FACTOR\"] = dataset[\"WGT_FACTOR\"]\n",
    "\n",
    "# # Statistics for WGT_FACTOR\n",
    "# print(f'{\"Mean\":30s} >>> {dataset[\"LOG_WGT_FACTOR\"].mean()}')\n",
    "# print(f'{\"Median\":30s} >>> {dataset[\"LOG_WGT_FACTOR\"].median()}')\n",
    "# print(f'{\"Mode\":30s} >>> {dataset[\"LOG_WGT_FACTOR\"].mode()}')\n",
    "# print(f'{\"Standard Deviation\":30s} >>> {dataset[\"LOG_WGT_FACTOR\"].std()}')\n",
    "# print(f'{\"Maxiumn\":30s} >>> {dataset[\"LOG_WGT_FACTOR\"].max()}')\n",
    "# print(f'{\"Minimum\":30s} >>> {dataset[\"LOG_WGT_FACTOR\"].min()}')\n",
    "# print(f'{\"Skewness\":30s} >>> {dataset[\"LOG_WGT_FACTOR\"].skew()}')\n",
    "\n",
    "# # Check for distribution\n",
    "# dataset[\"LOG_WGT_FACTOR\"].hist(bins=100, grid=False, xlabelsize=12, ylabelsize=12)\n",
    "# plt.xlabel(\"Life Expectancy\", fontsize=15)\n",
    "# plt.ylabel(\"Frequency\",fontsize=15)\n",
    "# sns.distplot(dataset[\"LOG_WGT_FACTOR\"])\n",
    "# plt.show()\n",
    "\n",
    "# # Check for outliers\n",
    "# sns.boxplot(x=dataset[\"LOG_WGT_FACTOR\"])"
   ]
  },
  {
   "cell_type": "code",
   "execution_count": 288,
   "metadata": {},
   "outputs": [],
   "source": [
    "# # Tranform data using boxcox method and verify\n",
    "# dataset[\"LOG_WGT_FACTOR\"] = np.log(dataset[\"WGT_FACTOR\"])\n",
    "\n",
    "# # Statistics for WGT_FACTOR\n",
    "# print(f'{\"Mean\":30s} >>> {dataset[\"LOG_WGT_FACTOR\"].mean()}')\n",
    "# print(f'{\"Median\":30s} >>> {dataset[\"LOG_WGT_FACTOR\"].median()}')\n",
    "# print(f'{\"Mode\":30s} >>> {dataset[\"LOG_WGT_FACTOR\"].mode()}')\n",
    "# print(f'{\"Standard Deviation\":30s} >>> {dataset[\"LOG_WGT_FACTOR\"].std()}')\n",
    "# print(f'{\"Maxiumn\":30s} >>> {dataset[\"LOG_WGT_FACTOR\"].max()}')\n",
    "# print(f'{\"Minimum\":30s} >>> {dataset[\"LOG_WGT_FACTOR\"].min()}')\n",
    "# print(f'{\"Skewness\":30s} >>> {dataset[\"LOG_WGT_FACTOR\"].skew()}')\n",
    "\n",
    "# # Check for distribution\n",
    "# dataset[\"LOG_WGT_FACTOR\"].hist(bins=100, grid=False, xlabelsize=12, ylabelsize=12)\n",
    "# plt.xlabel(\"Life Expectancy\", fontsize=15)\n",
    "# plt.ylabel(\"Frequency\",fontsize=15)\n",
    "# sns.distplot(dataset[\"LOG_WGT_FACTOR\"])\n",
    "# plt.show()\n",
    "\n",
    "# # Check for outliers\n",
    "# sns.boxplot(x=dataset[\"LOG_WGT_FACTOR\"])"
   ]
  },
  {
   "cell_type": "code",
   "execution_count": 289,
   "metadata": {
    "scrolled": false
   },
   "outputs": [],
   "source": [
    "# dataset.drop([\"SHIPMT_VALUE\", \"SHIPMT_WGHT\", \"SHIPMT_DIST_GC\", \"SHIPMT_DIST_ROUTED\", \"WGT_FACTOR\"],\n",
    "#             axis = 1,\n",
    "#             inplace = True\n",
    "#             )"
   ]
  },
  {
   "cell_type": "code",
   "execution_count": 290,
   "metadata": {},
   "outputs": [],
   "source": [
    "# dataset.LOG_WGT_FACTOR.count()"
   ]
  },
  {
   "cell_type": "code",
   "execution_count": 347,
   "metadata": {},
   "outputs": [
    {
     "data": {
      "text/plain": [
       "'First 10 observations'"
      ]
     },
     "metadata": {},
     "output_type": "display_data"
    },
    {
     "data": {
      "text/html": [
       "<div>\n",
       "<style scoped>\n",
       "    .dataframe tbody tr th:only-of-type {\n",
       "        vertical-align: middle;\n",
       "    }\n",
       "\n",
       "    .dataframe tbody tr th {\n",
       "        vertical-align: top;\n",
       "    }\n",
       "\n",
       "    .dataframe thead th {\n",
       "        text-align: right;\n",
       "    }\n",
       "</style>\n",
       "<table border=\"1\" class=\"dataframe\">\n",
       "  <thead>\n",
       "    <tr style=\"text-align: right;\">\n",
       "      <th></th>\n",
       "      <th>SHIPMT_VALUE</th>\n",
       "      <th>SHIPMT_WGHT</th>\n",
       "      <th>SHIPMT_DIST_GC</th>\n",
       "      <th>SHIPMT_DIST_ROUTED</th>\n",
       "      <th>WGT_FACTOR</th>\n",
       "      <th>ORIG_STATE_10</th>\n",
       "      <th>ORIG_STATE_11</th>\n",
       "      <th>ORIG_STATE_12</th>\n",
       "      <th>ORIG_STATE_13</th>\n",
       "      <th>ORIG_STATE_15</th>\n",
       "      <th>...</th>\n",
       "      <th>MODE_5</th>\n",
       "      <th>MODE_6</th>\n",
       "      <th>MODE_7</th>\n",
       "      <th>MODE_8</th>\n",
       "      <th>TEMP_CNTL_YN_Y</th>\n",
       "      <th>HAZMAT_N</th>\n",
       "      <th>HAZMAT_P</th>\n",
       "      <th>SCTG_GROUP_FOOD</th>\n",
       "      <th>SCTG_GROUP_FUEL</th>\n",
       "      <th>SCTG_GROUP_PLCHM</th>\n",
       "    </tr>\n",
       "    <tr>\n",
       "      <th>SHIPMT_ID</th>\n",
       "      <th></th>\n",
       "      <th></th>\n",
       "      <th></th>\n",
       "      <th></th>\n",
       "      <th></th>\n",
       "      <th></th>\n",
       "      <th></th>\n",
       "      <th></th>\n",
       "      <th></th>\n",
       "      <th></th>\n",
       "      <th></th>\n",
       "      <th></th>\n",
       "      <th></th>\n",
       "      <th></th>\n",
       "      <th></th>\n",
       "      <th></th>\n",
       "      <th></th>\n",
       "      <th></th>\n",
       "      <th></th>\n",
       "      <th></th>\n",
       "      <th></th>\n",
       "    </tr>\n",
       "  </thead>\n",
       "  <tbody>\n",
       "    <tr>\n",
       "      <th>12</th>\n",
       "      <td>7543</td>\n",
       "      <td>3960</td>\n",
       "      <td>105</td>\n",
       "      <td>143</td>\n",
       "      <td>77.2</td>\n",
       "      <td>0</td>\n",
       "      <td>0</td>\n",
       "      <td>0</td>\n",
       "      <td>0</td>\n",
       "      <td>0</td>\n",
       "      <td>...</td>\n",
       "      <td>0</td>\n",
       "      <td>0</td>\n",
       "      <td>0</td>\n",
       "      <td>0</td>\n",
       "      <td>0</td>\n",
       "      <td>1</td>\n",
       "      <td>0</td>\n",
       "      <td>0</td>\n",
       "      <td>0</td>\n",
       "      <td>1</td>\n",
       "    </tr>\n",
       "    <tr>\n",
       "      <th>13</th>\n",
       "      <td>1159</td>\n",
       "      <td>3</td>\n",
       "      <td>218</td>\n",
       "      <td>241</td>\n",
       "      <td>570.2</td>\n",
       "      <td>0</td>\n",
       "      <td>0</td>\n",
       "      <td>0</td>\n",
       "      <td>0</td>\n",
       "      <td>0</td>\n",
       "      <td>...</td>\n",
       "      <td>0</td>\n",
       "      <td>0</td>\n",
       "      <td>0</td>\n",
       "      <td>0</td>\n",
       "      <td>0</td>\n",
       "      <td>1</td>\n",
       "      <td>0</td>\n",
       "      <td>0</td>\n",
       "      <td>0</td>\n",
       "      <td>1</td>\n",
       "    </tr>\n",
       "    <tr>\n",
       "      <th>14</th>\n",
       "      <td>1422</td>\n",
       "      <td>49037</td>\n",
       "      <td>14</td>\n",
       "      <td>14</td>\n",
       "      <td>535.2</td>\n",
       "      <td>0</td>\n",
       "      <td>0</td>\n",
       "      <td>0</td>\n",
       "      <td>0</td>\n",
       "      <td>0</td>\n",
       "      <td>...</td>\n",
       "      <td>0</td>\n",
       "      <td>0</td>\n",
       "      <td>0</td>\n",
       "      <td>0</td>\n",
       "      <td>0</td>\n",
       "      <td>1</td>\n",
       "      <td>0</td>\n",
       "      <td>0</td>\n",
       "      <td>0</td>\n",
       "      <td>0</td>\n",
       "    </tr>\n",
       "    <tr>\n",
       "      <th>21</th>\n",
       "      <td>2534</td>\n",
       "      <td>3223</td>\n",
       "      <td>217</td>\n",
       "      <td>262</td>\n",
       "      <td>70.0</td>\n",
       "      <td>0</td>\n",
       "      <td>0</td>\n",
       "      <td>0</td>\n",
       "      <td>0</td>\n",
       "      <td>0</td>\n",
       "      <td>...</td>\n",
       "      <td>0</td>\n",
       "      <td>0</td>\n",
       "      <td>0</td>\n",
       "      <td>0</td>\n",
       "      <td>0</td>\n",
       "      <td>1</td>\n",
       "      <td>0</td>\n",
       "      <td>0</td>\n",
       "      <td>0</td>\n",
       "      <td>1</td>\n",
       "    </tr>\n",
       "    <tr>\n",
       "      <th>25</th>\n",
       "      <td>26498</td>\n",
       "      <td>33269</td>\n",
       "      <td>156</td>\n",
       "      <td>219</td>\n",
       "      <td>114.3</td>\n",
       "      <td>0</td>\n",
       "      <td>0</td>\n",
       "      <td>0</td>\n",
       "      <td>0</td>\n",
       "      <td>0</td>\n",
       "      <td>...</td>\n",
       "      <td>0</td>\n",
       "      <td>0</td>\n",
       "      <td>0</td>\n",
       "      <td>0</td>\n",
       "      <td>1</td>\n",
       "      <td>1</td>\n",
       "      <td>0</td>\n",
       "      <td>0</td>\n",
       "      <td>0</td>\n",
       "      <td>0</td>\n",
       "    </tr>\n",
       "    <tr>\n",
       "      <th>33</th>\n",
       "      <td>539</td>\n",
       "      <td>1026</td>\n",
       "      <td>60</td>\n",
       "      <td>73</td>\n",
       "      <td>747.4</td>\n",
       "      <td>0</td>\n",
       "      <td>0</td>\n",
       "      <td>0</td>\n",
       "      <td>1</td>\n",
       "      <td>0</td>\n",
       "      <td>...</td>\n",
       "      <td>1</td>\n",
       "      <td>0</td>\n",
       "      <td>0</td>\n",
       "      <td>0</td>\n",
       "      <td>1</td>\n",
       "      <td>1</td>\n",
       "      <td>0</td>\n",
       "      <td>0</td>\n",
       "      <td>0</td>\n",
       "      <td>0</td>\n",
       "    </tr>\n",
       "    <tr>\n",
       "      <th>34</th>\n",
       "      <td>15422</td>\n",
       "      <td>9947</td>\n",
       "      <td>320</td>\n",
       "      <td>376</td>\n",
       "      <td>96.1</td>\n",
       "      <td>0</td>\n",
       "      <td>0</td>\n",
       "      <td>0</td>\n",
       "      <td>0</td>\n",
       "      <td>0</td>\n",
       "      <td>...</td>\n",
       "      <td>0</td>\n",
       "      <td>0</td>\n",
       "      <td>0</td>\n",
       "      <td>0</td>\n",
       "      <td>0</td>\n",
       "      <td>1</td>\n",
       "      <td>0</td>\n",
       "      <td>0</td>\n",
       "      <td>0</td>\n",
       "      <td>1</td>\n",
       "    </tr>\n",
       "    <tr>\n",
       "      <th>35</th>\n",
       "      <td>248</td>\n",
       "      <td>473</td>\n",
       "      <td>8</td>\n",
       "      <td>8</td>\n",
       "      <td>183.1</td>\n",
       "      <td>0</td>\n",
       "      <td>0</td>\n",
       "      <td>0</td>\n",
       "      <td>0</td>\n",
       "      <td>0</td>\n",
       "      <td>...</td>\n",
       "      <td>1</td>\n",
       "      <td>0</td>\n",
       "      <td>0</td>\n",
       "      <td>0</td>\n",
       "      <td>0</td>\n",
       "      <td>0</td>\n",
       "      <td>0</td>\n",
       "      <td>0</td>\n",
       "      <td>1</td>\n",
       "      <td>0</td>\n",
       "    </tr>\n",
       "    <tr>\n",
       "      <th>40</th>\n",
       "      <td>635</td>\n",
       "      <td>1159</td>\n",
       "      <td>27</td>\n",
       "      <td>30</td>\n",
       "      <td>146.2</td>\n",
       "      <td>0</td>\n",
       "      <td>0</td>\n",
       "      <td>0</td>\n",
       "      <td>0</td>\n",
       "      <td>0</td>\n",
       "      <td>...</td>\n",
       "      <td>1</td>\n",
       "      <td>0</td>\n",
       "      <td>0</td>\n",
       "      <td>0</td>\n",
       "      <td>0</td>\n",
       "      <td>0</td>\n",
       "      <td>0</td>\n",
       "      <td>0</td>\n",
       "      <td>1</td>\n",
       "      <td>0</td>\n",
       "    </tr>\n",
       "    <tr>\n",
       "      <th>41</th>\n",
       "      <td>153</td>\n",
       "      <td>41</td>\n",
       "      <td>700</td>\n",
       "      <td>882</td>\n",
       "      <td>279.1</td>\n",
       "      <td>0</td>\n",
       "      <td>0</td>\n",
       "      <td>0</td>\n",
       "      <td>0</td>\n",
       "      <td>0</td>\n",
       "      <td>...</td>\n",
       "      <td>0</td>\n",
       "      <td>0</td>\n",
       "      <td>0</td>\n",
       "      <td>0</td>\n",
       "      <td>0</td>\n",
       "      <td>1</td>\n",
       "      <td>0</td>\n",
       "      <td>0</td>\n",
       "      <td>0</td>\n",
       "      <td>1</td>\n",
       "    </tr>\n",
       "  </tbody>\n",
       "</table>\n",
       "<p>10 rows × 269 columns</p>\n",
       "</div>"
      ],
      "text/plain": [
       "           SHIPMT_VALUE  SHIPMT_WGHT  SHIPMT_DIST_GC  SHIPMT_DIST_ROUTED  \\\n",
       "SHIPMT_ID                                                                  \n",
       "12                 7543         3960             105                 143   \n",
       "13                 1159            3             218                 241   \n",
       "14                 1422        49037              14                  14   \n",
       "21                 2534         3223             217                 262   \n",
       "25                26498        33269             156                 219   \n",
       "33                  539         1026              60                  73   \n",
       "34                15422         9947             320                 376   \n",
       "35                  248          473               8                   8   \n",
       "40                  635         1159              27                  30   \n",
       "41                  153           41             700                 882   \n",
       "\n",
       "           WGT_FACTOR  ORIG_STATE_10  ORIG_STATE_11  ORIG_STATE_12  \\\n",
       "SHIPMT_ID                                                            \n",
       "12               77.2              0              0              0   \n",
       "13              570.2              0              0              0   \n",
       "14              535.2              0              0              0   \n",
       "21               70.0              0              0              0   \n",
       "25              114.3              0              0              0   \n",
       "33              747.4              0              0              0   \n",
       "34               96.1              0              0              0   \n",
       "35              183.1              0              0              0   \n",
       "40              146.2              0              0              0   \n",
       "41              279.1              0              0              0   \n",
       "\n",
       "           ORIG_STATE_13  ORIG_STATE_15  ...  MODE_5  MODE_6  MODE_7  MODE_8  \\\n",
       "SHIPMT_ID                                ...                                   \n",
       "12                     0              0  ...       0       0       0       0   \n",
       "13                     0              0  ...       0       0       0       0   \n",
       "14                     0              0  ...       0       0       0       0   \n",
       "21                     0              0  ...       0       0       0       0   \n",
       "25                     0              0  ...       0       0       0       0   \n",
       "33                     1              0  ...       1       0       0       0   \n",
       "34                     0              0  ...       0       0       0       0   \n",
       "35                     0              0  ...       1       0       0       0   \n",
       "40                     0              0  ...       1       0       0       0   \n",
       "41                     0              0  ...       0       0       0       0   \n",
       "\n",
       "           TEMP_CNTL_YN_Y  HAZMAT_N  HAZMAT_P  SCTG_GROUP_FOOD  \\\n",
       "SHIPMT_ID                                                        \n",
       "12                      0         1         0                0   \n",
       "13                      0         1         0                0   \n",
       "14                      0         1         0                0   \n",
       "21                      0         1         0                0   \n",
       "25                      1         1         0                0   \n",
       "33                      1         1         0                0   \n",
       "34                      0         1         0                0   \n",
       "35                      0         0         0                0   \n",
       "40                      0         0         0                0   \n",
       "41                      0         1         0                0   \n",
       "\n",
       "           SCTG_GROUP_FUEL  SCTG_GROUP_PLCHM  \n",
       "SHIPMT_ID                                     \n",
       "12                       0                 1  \n",
       "13                       0                 1  \n",
       "14                       0                 0  \n",
       "21                       0                 1  \n",
       "25                       0                 0  \n",
       "33                       0                 0  \n",
       "34                       0                 1  \n",
       "35                       1                 0  \n",
       "40                       1                 0  \n",
       "41                       0                 1  \n",
       "\n",
       "[10 rows x 269 columns]"
      ]
     },
     "metadata": {},
     "output_type": "display_data"
    },
    {
     "data": {
      "text/plain": [
       "'Last 10 observations'"
      ]
     },
     "metadata": {},
     "output_type": "display_data"
    },
    {
     "data": {
      "text/html": [
       "<div>\n",
       "<style scoped>\n",
       "    .dataframe tbody tr th:only-of-type {\n",
       "        vertical-align: middle;\n",
       "    }\n",
       "\n",
       "    .dataframe tbody tr th {\n",
       "        vertical-align: top;\n",
       "    }\n",
       "\n",
       "    .dataframe thead th {\n",
       "        text-align: right;\n",
       "    }\n",
       "</style>\n",
       "<table border=\"1\" class=\"dataframe\">\n",
       "  <thead>\n",
       "    <tr style=\"text-align: right;\">\n",
       "      <th></th>\n",
       "      <th>SHIPMT_VALUE</th>\n",
       "      <th>SHIPMT_WGHT</th>\n",
       "      <th>SHIPMT_DIST_GC</th>\n",
       "      <th>SHIPMT_DIST_ROUTED</th>\n",
       "      <th>WGT_FACTOR</th>\n",
       "      <th>ORIG_STATE_10</th>\n",
       "      <th>ORIG_STATE_11</th>\n",
       "      <th>ORIG_STATE_12</th>\n",
       "      <th>ORIG_STATE_13</th>\n",
       "      <th>ORIG_STATE_15</th>\n",
       "      <th>...</th>\n",
       "      <th>MODE_5</th>\n",
       "      <th>MODE_6</th>\n",
       "      <th>MODE_7</th>\n",
       "      <th>MODE_8</th>\n",
       "      <th>TEMP_CNTL_YN_Y</th>\n",
       "      <th>HAZMAT_N</th>\n",
       "      <th>HAZMAT_P</th>\n",
       "      <th>SCTG_GROUP_FOOD</th>\n",
       "      <th>SCTG_GROUP_FUEL</th>\n",
       "      <th>SCTG_GROUP_PLCHM</th>\n",
       "    </tr>\n",
       "    <tr>\n",
       "      <th>SHIPMT_ID</th>\n",
       "      <th></th>\n",
       "      <th></th>\n",
       "      <th></th>\n",
       "      <th></th>\n",
       "      <th></th>\n",
       "      <th></th>\n",
       "      <th></th>\n",
       "      <th></th>\n",
       "      <th></th>\n",
       "      <th></th>\n",
       "      <th></th>\n",
       "      <th></th>\n",
       "      <th></th>\n",
       "      <th></th>\n",
       "      <th></th>\n",
       "      <th></th>\n",
       "      <th></th>\n",
       "      <th></th>\n",
       "      <th></th>\n",
       "      <th></th>\n",
       "      <th></th>\n",
       "    </tr>\n",
       "  </thead>\n",
       "  <tbody>\n",
       "    <tr>\n",
       "      <th>4547621</th>\n",
       "      <td>3664</td>\n",
       "      <td>95</td>\n",
       "      <td>231</td>\n",
       "      <td>339</td>\n",
       "      <td>661.4</td>\n",
       "      <td>0</td>\n",
       "      <td>0</td>\n",
       "      <td>0</td>\n",
       "      <td>0</td>\n",
       "      <td>0</td>\n",
       "      <td>...</td>\n",
       "      <td>0</td>\n",
       "      <td>0</td>\n",
       "      <td>0</td>\n",
       "      <td>0</td>\n",
       "      <td>0</td>\n",
       "      <td>1</td>\n",
       "      <td>0</td>\n",
       "      <td>0</td>\n",
       "      <td>0</td>\n",
       "      <td>1</td>\n",
       "    </tr>\n",
       "    <tr>\n",
       "      <th>4547623</th>\n",
       "      <td>1425</td>\n",
       "      <td>56</td>\n",
       "      <td>1485</td>\n",
       "      <td>1698</td>\n",
       "      <td>511.5</td>\n",
       "      <td>0</td>\n",
       "      <td>0</td>\n",
       "      <td>0</td>\n",
       "      <td>0</td>\n",
       "      <td>0</td>\n",
       "      <td>...</td>\n",
       "      <td>0</td>\n",
       "      <td>0</td>\n",
       "      <td>0</td>\n",
       "      <td>0</td>\n",
       "      <td>0</td>\n",
       "      <td>1</td>\n",
       "      <td>0</td>\n",
       "      <td>0</td>\n",
       "      <td>0</td>\n",
       "      <td>1</td>\n",
       "    </tr>\n",
       "    <tr>\n",
       "      <th>4547626</th>\n",
       "      <td>2812</td>\n",
       "      <td>7600</td>\n",
       "      <td>2</td>\n",
       "      <td>3</td>\n",
       "      <td>510.7</td>\n",
       "      <td>0</td>\n",
       "      <td>0</td>\n",
       "      <td>0</td>\n",
       "      <td>0</td>\n",
       "      <td>0</td>\n",
       "      <td>...</td>\n",
       "      <td>1</td>\n",
       "      <td>0</td>\n",
       "      <td>0</td>\n",
       "      <td>0</td>\n",
       "      <td>0</td>\n",
       "      <td>0</td>\n",
       "      <td>0</td>\n",
       "      <td>0</td>\n",
       "      <td>0</td>\n",
       "      <td>1</td>\n",
       "    </tr>\n",
       "    <tr>\n",
       "      <th>4547627</th>\n",
       "      <td>236</td>\n",
       "      <td>274</td>\n",
       "      <td>10</td>\n",
       "      <td>12</td>\n",
       "      <td>1925.1</td>\n",
       "      <td>0</td>\n",
       "      <td>0</td>\n",
       "      <td>0</td>\n",
       "      <td>0</td>\n",
       "      <td>0</td>\n",
       "      <td>...</td>\n",
       "      <td>1</td>\n",
       "      <td>0</td>\n",
       "      <td>0</td>\n",
       "      <td>0</td>\n",
       "      <td>1</td>\n",
       "      <td>0</td>\n",
       "      <td>0</td>\n",
       "      <td>0</td>\n",
       "      <td>1</td>\n",
       "      <td>0</td>\n",
       "    </tr>\n",
       "    <tr>\n",
       "      <th>4547634</th>\n",
       "      <td>765</td>\n",
       "      <td>578</td>\n",
       "      <td>61</td>\n",
       "      <td>76</td>\n",
       "      <td>113.8</td>\n",
       "      <td>0</td>\n",
       "      <td>0</td>\n",
       "      <td>0</td>\n",
       "      <td>0</td>\n",
       "      <td>0</td>\n",
       "      <td>...</td>\n",
       "      <td>1</td>\n",
       "      <td>0</td>\n",
       "      <td>0</td>\n",
       "      <td>0</td>\n",
       "      <td>0</td>\n",
       "      <td>1</td>\n",
       "      <td>0</td>\n",
       "      <td>0</td>\n",
       "      <td>0</td>\n",
       "      <td>1</td>\n",
       "    </tr>\n",
       "    <tr>\n",
       "      <th>4547642</th>\n",
       "      <td>3483</td>\n",
       "      <td>518</td>\n",
       "      <td>56</td>\n",
       "      <td>62</td>\n",
       "      <td>100.0</td>\n",
       "      <td>0</td>\n",
       "      <td>0</td>\n",
       "      <td>0</td>\n",
       "      <td>0</td>\n",
       "      <td>0</td>\n",
       "      <td>...</td>\n",
       "      <td>1</td>\n",
       "      <td>0</td>\n",
       "      <td>0</td>\n",
       "      <td>0</td>\n",
       "      <td>1</td>\n",
       "      <td>1</td>\n",
       "      <td>0</td>\n",
       "      <td>0</td>\n",
       "      <td>0</td>\n",
       "      <td>0</td>\n",
       "    </tr>\n",
       "    <tr>\n",
       "      <th>4547651</th>\n",
       "      <td>44169</td>\n",
       "      <td>31500</td>\n",
       "      <td>30</td>\n",
       "      <td>50</td>\n",
       "      <td>198.8</td>\n",
       "      <td>0</td>\n",
       "      <td>0</td>\n",
       "      <td>0</td>\n",
       "      <td>0</td>\n",
       "      <td>0</td>\n",
       "      <td>...</td>\n",
       "      <td>0</td>\n",
       "      <td>0</td>\n",
       "      <td>0</td>\n",
       "      <td>0</td>\n",
       "      <td>0</td>\n",
       "      <td>1</td>\n",
       "      <td>0</td>\n",
       "      <td>1</td>\n",
       "      <td>0</td>\n",
       "      <td>0</td>\n",
       "    </tr>\n",
       "    <tr>\n",
       "      <th>4547654</th>\n",
       "      <td>23587</td>\n",
       "      <td>4718</td>\n",
       "      <td>172</td>\n",
       "      <td>182</td>\n",
       "      <td>175.3</td>\n",
       "      <td>0</td>\n",
       "      <td>0</td>\n",
       "      <td>0</td>\n",
       "      <td>0</td>\n",
       "      <td>0</td>\n",
       "      <td>...</td>\n",
       "      <td>1</td>\n",
       "      <td>0</td>\n",
       "      <td>0</td>\n",
       "      <td>0</td>\n",
       "      <td>0</td>\n",
       "      <td>1</td>\n",
       "      <td>0</td>\n",
       "      <td>0</td>\n",
       "      <td>0</td>\n",
       "      <td>1</td>\n",
       "    </tr>\n",
       "    <tr>\n",
       "      <th>4547658</th>\n",
       "      <td>50808</td>\n",
       "      <td>29887</td>\n",
       "      <td>561</td>\n",
       "      <td>683</td>\n",
       "      <td>20.0</td>\n",
       "      <td>0</td>\n",
       "      <td>0</td>\n",
       "      <td>0</td>\n",
       "      <td>0</td>\n",
       "      <td>0</td>\n",
       "      <td>...</td>\n",
       "      <td>0</td>\n",
       "      <td>0</td>\n",
       "      <td>0</td>\n",
       "      <td>0</td>\n",
       "      <td>1</td>\n",
       "      <td>1</td>\n",
       "      <td>0</td>\n",
       "      <td>0</td>\n",
       "      <td>0</td>\n",
       "      <td>0</td>\n",
       "    </tr>\n",
       "    <tr>\n",
       "      <th>4547661</th>\n",
       "      <td>22482</td>\n",
       "      <td>75952</td>\n",
       "      <td>12</td>\n",
       "      <td>12</td>\n",
       "      <td>66.1</td>\n",
       "      <td>0</td>\n",
       "      <td>0</td>\n",
       "      <td>0</td>\n",
       "      <td>0</td>\n",
       "      <td>0</td>\n",
       "      <td>...</td>\n",
       "      <td>0</td>\n",
       "      <td>0</td>\n",
       "      <td>0</td>\n",
       "      <td>0</td>\n",
       "      <td>0</td>\n",
       "      <td>1</td>\n",
       "      <td>0</td>\n",
       "      <td>0</td>\n",
       "      <td>0</td>\n",
       "      <td>1</td>\n",
       "    </tr>\n",
       "  </tbody>\n",
       "</table>\n",
       "<p>10 rows × 269 columns</p>\n",
       "</div>"
      ],
      "text/plain": [
       "           SHIPMT_VALUE  SHIPMT_WGHT  SHIPMT_DIST_GC  SHIPMT_DIST_ROUTED  \\\n",
       "SHIPMT_ID                                                                  \n",
       "4547621            3664           95             231                 339   \n",
       "4547623            1425           56            1485                1698   \n",
       "4547626            2812         7600               2                   3   \n",
       "4547627             236          274              10                  12   \n",
       "4547634             765          578              61                  76   \n",
       "4547642            3483          518              56                  62   \n",
       "4547651           44169        31500              30                  50   \n",
       "4547654           23587         4718             172                 182   \n",
       "4547658           50808        29887             561                 683   \n",
       "4547661           22482        75952              12                  12   \n",
       "\n",
       "           WGT_FACTOR  ORIG_STATE_10  ORIG_STATE_11  ORIG_STATE_12  \\\n",
       "SHIPMT_ID                                                            \n",
       "4547621         661.4              0              0              0   \n",
       "4547623         511.5              0              0              0   \n",
       "4547626         510.7              0              0              0   \n",
       "4547627        1925.1              0              0              0   \n",
       "4547634         113.8              0              0              0   \n",
       "4547642         100.0              0              0              0   \n",
       "4547651         198.8              0              0              0   \n",
       "4547654         175.3              0              0              0   \n",
       "4547658          20.0              0              0              0   \n",
       "4547661          66.1              0              0              0   \n",
       "\n",
       "           ORIG_STATE_13  ORIG_STATE_15  ...  MODE_5  MODE_6  MODE_7  MODE_8  \\\n",
       "SHIPMT_ID                                ...                                   \n",
       "4547621                0              0  ...       0       0       0       0   \n",
       "4547623                0              0  ...       0       0       0       0   \n",
       "4547626                0              0  ...       1       0       0       0   \n",
       "4547627                0              0  ...       1       0       0       0   \n",
       "4547634                0              0  ...       1       0       0       0   \n",
       "4547642                0              0  ...       1       0       0       0   \n",
       "4547651                0              0  ...       0       0       0       0   \n",
       "4547654                0              0  ...       1       0       0       0   \n",
       "4547658                0              0  ...       0       0       0       0   \n",
       "4547661                0              0  ...       0       0       0       0   \n",
       "\n",
       "           TEMP_CNTL_YN_Y  HAZMAT_N  HAZMAT_P  SCTG_GROUP_FOOD  \\\n",
       "SHIPMT_ID                                                        \n",
       "4547621                 0         1         0                0   \n",
       "4547623                 0         1         0                0   \n",
       "4547626                 0         0         0                0   \n",
       "4547627                 1         0         0                0   \n",
       "4547634                 0         1         0                0   \n",
       "4547642                 1         1         0                0   \n",
       "4547651                 0         1         0                1   \n",
       "4547654                 0         1         0                0   \n",
       "4547658                 1         1         0                0   \n",
       "4547661                 0         1         0                0   \n",
       "\n",
       "           SCTG_GROUP_FUEL  SCTG_GROUP_PLCHM  \n",
       "SHIPMT_ID                                     \n",
       "4547621                  0                 1  \n",
       "4547623                  0                 1  \n",
       "4547626                  0                 1  \n",
       "4547627                  1                 0  \n",
       "4547634                  0                 1  \n",
       "4547642                  0                 0  \n",
       "4547651                  0                 0  \n",
       "4547654                  0                 1  \n",
       "4547658                  0                 0  \n",
       "4547661                  0                 1  \n",
       "\n",
       "[10 rows x 269 columns]"
      ]
     },
     "metadata": {},
     "output_type": "display_data"
    }
   ],
   "source": [
    "# Analyze first and last 10 rows\n",
    "display(\"First 10 observations\", dataset.head(10))\n",
    "display(\"Last 10 observations\", dataset.tail(10))"
   ]
  },
  {
   "cell_type": "code",
   "execution_count": 31,
   "metadata": {
    "scrolled": false
   },
   "outputs": [
    {
     "ename": "NameError",
     "evalue": "name 'cols' is not defined",
     "output_type": "error",
     "traceback": [
      "\u001b[1;31m---------------------------------------------------------------------------\u001b[0m",
      "\u001b[1;31mNameError\u001b[0m                                 Traceback (most recent call last)",
      "\u001b[1;32m<ipython-input-31-dcb77ba052d4>\u001b[0m in \u001b[0;36m<module>\u001b[1;34m\u001b[0m\n\u001b[0;32m      8\u001b[0m                 \u001b[0mfmt\u001b[0m\u001b[1;33m=\u001b[0m\u001b[1;34m'.2f'\u001b[0m\u001b[1;33m,\u001b[0m\u001b[1;33m\u001b[0m\u001b[1;33m\u001b[0m\u001b[0m\n\u001b[0;32m      9\u001b[0m                 \u001b[0mannot_kws\u001b[0m\u001b[1;33m=\u001b[0m\u001b[1;33m{\u001b[0m\u001b[1;34m'size'\u001b[0m\u001b[1;33m:\u001b[0m \u001b[1;36m15\u001b[0m\u001b[1;33m}\u001b[0m\u001b[1;33m,\u001b[0m\u001b[1;33m\u001b[0m\u001b[1;33m\u001b[0m\u001b[0m\n\u001b[1;32m---> 10\u001b[1;33m                 \u001b[0myticklabels\u001b[0m\u001b[1;33m=\u001b[0m\u001b[0mcols\u001b[0m\u001b[1;33m,\u001b[0m\u001b[1;33m\u001b[0m\u001b[1;33m\u001b[0m\u001b[0m\n\u001b[0m\u001b[0;32m     11\u001b[0m                 xticklabels=cols)\n",
      "\u001b[1;31mNameError\u001b[0m: name 'cols' is not defined"
     ]
    }
   ],
   "source": [
    "# # Calculate and show correlation matrix\n",
    "# cm = np.corrcoef(dataset.values.T)\n",
    "# sns.set(font_scale=1.5)\n",
    "# hm = sns.heatmap(cm,\n",
    "#                 cbar=True,\n",
    "#                 annot=True,\n",
    "#                 square=True,\n",
    "#                 fmt='.2f',\n",
    "#                 annot_kws={'size': 15},\n",
    "#                 yticklabels=cols,\n",
    "#                 xticklabels=cols)"
   ]
  },
  {
   "cell_type": "markdown",
   "metadata": {},
   "source": [
    "# Model Building NN"
   ]
  },
  {
   "cell_type": "code",
   "execution_count": 292,
   "metadata": {},
   "outputs": [
    {
     "data": {
      "text/plain": [
       "Index(['SHIPMT_VALUE', 'SHIPMT_WGHT', 'SHIPMT_DIST_GC', 'SHIPMT_DIST_ROUTED',\n",
       "       'WGT_FACTOR', 'ORIG_STATE_10', 'ORIG_STATE_11', 'ORIG_STATE_12',\n",
       "       'ORIG_STATE_13', 'ORIG_STATE_15',\n",
       "       ...\n",
       "       'MODE_5', 'MODE_6', 'MODE_7', 'MODE_8', 'TEMP_CNTL_YN_Y', 'HAZMAT_N',\n",
       "       'HAZMAT_P', 'SCTG_GROUP_FOOD', 'SCTG_GROUP_FUEL', 'SCTG_GROUP_PLCHM'],\n",
       "      dtype='object', length=269)"
      ]
     },
     "execution_count": 292,
     "metadata": {},
     "output_type": "execute_result"
    }
   ],
   "source": [
    "dataset.columns"
   ]
  },
  {
   "cell_type": "code",
   "execution_count": 348,
   "metadata": {
    "scrolled": true
   },
   "outputs": [],
   "source": [
    "X=dataset.drop(['SHIPMT_VALUE'],axis=1).values\n",
    "y=dataset['SHIPMT_VALUE'].values"
   ]
  },
  {
   "cell_type": "code",
   "execution_count": 349,
   "metadata": {},
   "outputs": [],
   "source": [
    "from sklearn.model_selection import train_test_split"
   ]
  },
  {
   "cell_type": "code",
   "execution_count": 350,
   "metadata": {},
   "outputs": [],
   "source": [
    "X_train, X_test, y_train, y_test = train_test_split(X, y, test_size=0.3, random_state=101)"
   ]
  },
  {
   "cell_type": "code",
   "execution_count": 351,
   "metadata": {},
   "outputs": [
    {
     "name": "stdout",
     "output_type": "stream",
     "text": [
      "(834834, 268)\n",
      "(357787, 268)\n",
      "(834834,)\n",
      "(357787,)\n"
     ]
    }
   ],
   "source": [
    "print(X_train.shape)\n",
    "print(X_test.shape)\n",
    "print(y_train.shape)\n",
    "print(y_test.shape)"
   ]
  },
  {
   "cell_type": "code",
   "execution_count": 352,
   "metadata": {},
   "outputs": [],
   "source": [
    "from sklearn.preprocessing import MinMaxScaler "
   ]
  },
  {
   "cell_type": "code",
   "execution_count": 353,
   "metadata": {},
   "outputs": [],
   "source": [
    "minmaxscaler=MinMaxScaler()"
   ]
  },
  {
   "cell_type": "code",
   "execution_count": 354,
   "metadata": {},
   "outputs": [],
   "source": [
    "X_train=minmaxscaler.fit_transform(X_train)"
   ]
  },
  {
   "cell_type": "code",
   "execution_count": 355,
   "metadata": {},
   "outputs": [],
   "source": [
    "X_test=minmaxscaler.transform(X_test)"
   ]
  },
  {
   "cell_type": "code",
   "execution_count": 356,
   "metadata": {},
   "outputs": [],
   "source": [
    "from tensorflow.keras.models import Sequential\n",
    "from tensorflow.keras.layers import Dense"
   ]
  },
  {
   "cell_type": "markdown",
   "metadata": {},
   "source": [
    "# Model NN 1"
   ]
  },
  {
   "cell_type": "code",
   "execution_count": 357,
   "metadata": {},
   "outputs": [],
   "source": [
    "model=Sequential()\n",
    "\n",
    "model.add(Dense(268,activation='relu'))\n",
    "model.add(Dense(268,activation='relu'))\n",
    "model.add(Dense(268,activation='relu'))\n",
    "model.add(Dense(268,activation='relu'))\n",
    "\n",
    "model.add(Dense(1))\n",
    "\n",
    "model.compile(optimizer='adam',loss='mse')"
   ]
  },
  {
   "cell_type": "code",
   "execution_count": 358,
   "metadata": {
    "scrolled": true
   },
   "outputs": [
    {
     "name": "stdout",
     "output_type": "stream",
     "text": [
      "Train on 834834 samples, validate on 357787 samples\n",
      "Epoch 1/25\n",
      "834834/834834 [==============================] - 61s 74us/sample - loss: 1238959545.3983 - val_loss: 1108421795.9174\n",
      "Epoch 2/25\n",
      "834834/834834 [==============================] - 57s 69us/sample - loss: 1037580180.3459 - val_loss: 1032707231.4735\n",
      "Epoch 3/25\n",
      "834834/834834 [==============================] - 59s 71us/sample - loss: 994224371.5329 - val_loss: 1014571063.5363\n",
      "Epoch 4/25\n",
      "834834/834834 [==============================] - 57s 68us/sample - loss: 927624889.8210 - val_loss: 1025744531.0302\n",
      "Epoch 5/25\n",
      "834834/834834 [==============================] - 60s 71us/sample - loss: 927561385.2550 - val_loss: 992939465.9434\n",
      "Epoch 6/25\n",
      "834834/834834 [==============================] - 63s 76us/sample - loss: 885146774.8246 - val_loss: 1005385465.3169\n",
      "Epoch 7/25\n",
      "834834/834834 [==============================] - 60s 72us/sample - loss: 865392131.2517 - val_loss: 983294032.7438\n",
      "Epoch 8/25\n",
      "834834/834834 [==============================] - 59s 71us/sample - loss: 855533305.0060 - val_loss: 939395337.6763\n",
      "Epoch 9/25\n",
      "834834/834834 [==============================] - 60s 72us/sample - loss: 837038402.7468 - val_loss: 939154001.5405\n",
      "Epoch 10/25\n",
      "834834/834834 [==============================] - 57s 68us/sample - loss: 810131952.1169 - val_loss: 926482914.9376\n",
      "Epoch 11/25\n",
      "834834/834834 [==============================] - 61s 73us/sample - loss: 803228063.0066 - val_loss: 927857640.5398\n",
      "Epoch 12/25\n",
      "834834/834834 [==============================] - 57s 69us/sample - loss: 790179701.8210 - val_loss: 949391201.6022\n",
      "Epoch 13/25\n",
      "834834/834834 [==============================] - 60s 71us/sample - loss: 779780802.2530 - val_loss: 1053605450.5267\n",
      "Epoch 14/25\n",
      "834834/834834 [==============================] - 59s 71us/sample - loss: 770397229.5507 - val_loss: 895416095.6907\n",
      "Epoch 15/25\n",
      "834834/834834 [==============================] - 57s 69us/sample - loss: 757555708.2473 - val_loss: 902360546.2117\n",
      "Epoch 16/25\n",
      "834834/834834 [==============================] - 58s 69us/sample - loss: 755343002.7133 - val_loss: 911269589.6385\n",
      "Epoch 17/25\n",
      "834834/834834 [==============================] - 57s 68us/sample - loss: 743060176.8468 - val_loss: 895010413.2498\n",
      "Epoch 18/25\n",
      "834834/834834 [==============================] - 57s 69us/sample - loss: 733699907.9400 - val_loss: 874517100.3870\n",
      "Epoch 19/25\n",
      "834834/834834 [==============================] - 57s 69us/sample - loss: 725800632.3037 - val_loss: 925023701.7972\n",
      "Epoch 20/25\n",
      "834834/834834 [==============================] - 59s 71us/sample - loss: 722172548.4805 - val_loss: 895476839.5973\n",
      "Epoch 21/25\n",
      "834834/834834 [==============================] - 57s 69us/sample - loss: 715935998.6137 - val_loss: 891802342.5756\n",
      "Epoch 22/25\n",
      "834834/834834 [==============================] - 57s 68us/sample - loss: 709958099.4441 - val_loss: 881241164.3922\n",
      "Epoch 23/25\n",
      "834834/834834 [==============================] - 57s 68us/sample - loss: 701353936.8780 - val_loss: 870862493.3879\n",
      "Epoch 24/25\n",
      "834834/834834 [==============================] - 59s 70us/sample - loss: 694006248.1906 - val_loss: 887155761.5781\n",
      "Epoch 25/25\n",
      "834834/834834 [==============================] - 58s 70us/sample - loss: 688551225.6187 - val_loss: 866270594.5208\n"
     ]
    },
    {
     "data": {
      "text/plain": [
       "<tensorflow.python.keras.callbacks.History at 0x1cf17126a88>"
      ]
     },
     "execution_count": 358,
     "metadata": {},
     "output_type": "execute_result"
    }
   ],
   "source": [
    "model.fit(x=X_train,y=y_train,epochs=25,verbose=1,validation_data=(X_test,y_test),batch_size=128)"
   ]
  },
  {
   "cell_type": "code",
   "execution_count": 359,
   "metadata": {},
   "outputs": [],
   "source": [
    "losses=pd.DataFrame(model.history.history)"
   ]
  },
  {
   "cell_type": "code",
   "execution_count": 360,
   "metadata": {
    "scrolled": true
   },
   "outputs": [
    {
     "data": {
      "text/plain": [
       "<matplotlib.axes._subplots.AxesSubplot at 0x1cf0a8a1bc8>"
      ]
     },
     "execution_count": 360,
     "metadata": {},
     "output_type": "execute_result"
    },
    {
     "data": {
      "image/png": "[encoded data removed]",
      "text/plain": [
       "<Figure size 432x288 with 1 Axes>"
      ]
     },
     "metadata": {
      "needs_background": "light"
     },
     "output_type": "display_data"
    }
   ],
   "source": [
    "losses.plot()"
   ]
  },
  {
   "cell_type": "code",
   "execution_count": 361,
   "metadata": {},
   "outputs": [],
   "source": [
    "from sklearn.metrics import mean_squared_error,mean_absolute_error,explained_variance_score"
   ]
  },
  {
   "cell_type": "code",
   "execution_count": 362,
   "metadata": {},
   "outputs": [],
   "source": [
    "predictions=model.predict(X_test)"
   ]
  },
  {
   "cell_type": "code",
   "execution_count": 363,
   "metadata": {},
   "outputs": [
    {
     "data": {
      "text/plain": [
       "array([[ 5288.183 ],\n",
       "       [ 1958.8419],\n",
       "       [47393.996 ],\n",
       "       ...,\n",
       "       [  774.611 ],\n",
       "       [ 1247.0941],\n",
       "       [ 3932.104 ]], dtype=float32)"
      ]
     },
     "execution_count": 363,
     "metadata": {},
     "output_type": "execute_result"
    }
   ],
   "source": [
    "predictions"
   ]
  },
  {
   "cell_type": "code",
   "execution_count": 364,
   "metadata": {},
   "outputs": [
    {
     "data": {
      "text/plain": [
       "866270605.1897765"
      ]
     },
     "execution_count": 364,
     "metadata": {},
     "output_type": "execute_result"
    }
   ],
   "source": [
    "mean_squared_error(y_test,predictions)"
   ]
  },
  {
   "cell_type": "code",
   "execution_count": 365,
   "metadata": {},
   "outputs": [
    {
     "data": {
      "text/plain": [
       "29432.475349344582"
      ]
     },
     "execution_count": 365,
     "metadata": {},
     "output_type": "execute_result"
    }
   ],
   "source": [
    "np.sqrt(mean_squared_error(y_test,predictions))"
   ]
  },
  {
   "cell_type": "code",
   "execution_count": 366,
   "metadata": {},
   "outputs": [
    {
     "data": {
      "text/plain": [
       "10060.015521932835"
      ]
     },
     "execution_count": 366,
     "metadata": {},
     "output_type": "execute_result"
    }
   ],
   "source": [
    "mean_absolute_error(y_test,predictions)"
   ]
  },
  {
   "cell_type": "code",
   "execution_count": 367,
   "metadata": {
    "scrolled": true
   },
   "outputs": [
    {
     "data": {
      "text/plain": [
       "0.5637532923311264"
      ]
     },
     "execution_count": 367,
     "metadata": {},
     "output_type": "execute_result"
    }
   ],
   "source": [
    "explained_variance_score(y_test,predictions)"
   ]
  },
  {
   "cell_type": "code",
   "execution_count": 320,
   "metadata": {
    "scrolled": true
   },
   "outputs": [
    {
     "data": {
      "text/plain": [
       "count    1.192621e+06\n",
       "mean     1.385269e+04\n",
       "std      4.389549e+04\n",
       "min      1.010000e+02\n",
       "25%      4.950000e+02\n",
       "50%      2.294000e+03\n",
       "75%      1.155500e+04\n",
       "max      9.998190e+05\n",
       "Name: SHIPMT_VALUE, dtype: float64"
      ]
     },
     "execution_count": 320,
     "metadata": {},
     "output_type": "execute_result"
    }
   ],
   "source": [
    "dataset['SHIPMT_VALUE'].describe()"
   ]
  },
  {
   "cell_type": "code",
   "execution_count": 321,
   "metadata": {},
   "outputs": [
    {
     "data": {
      "text/plain": [
       "13852.69"
      ]
     },
     "execution_count": 321,
     "metadata": {},
     "output_type": "execute_result"
    }
   ],
   "source": [
    "1.385269e+04"
   ]
  },
  {
   "cell_type": "code",
   "execution_count": 368,
   "metadata": {
    "scrolled": true
   },
   "outputs": [
    {
     "data": {
      "text/plain": [
       "[<matplotlib.lines.Line2D at 0x1cf5d74f4c8>]"
      ]
     },
     "execution_count": 368,
     "metadata": {},
     "output_type": "execute_result"
    },
    {
     "data": {
      "image/png": "[encoded data removed]",
      "text/plain": [
       "<Figure size 864x432 with 1 Axes>"
      ]
     },
     "metadata": {
      "needs_background": "light"
     },
     "output_type": "display_data"
    }
   ],
   "source": [
    "plt.figure(figsize=(12,6))\n",
    "plt.scatter(y_test,predictions)\n",
    "plt.plot(y_test,y_test,color='red')"
   ]
  },
  {
   "cell_type": "markdown",
   "metadata": {},
   "source": [
    "# Model NN-2"
   ]
  },
  {
   "cell_type": "code",
   "execution_count": 369,
   "metadata": {},
   "outputs": [],
   "source": [
    "model=Sequential()\n",
    "\n",
    "model.add(Dense(268,activation='relu'))\n",
    "model.add(Dense(268,activation='relu'))\n",
    "model.add(Dense(268,activation='relu'))\n",
    "model.add(Dense(268,activation='relu'))\n",
    "\n",
    "model.add(Dense(1))\n",
    "\n",
    "model.compile(optimizer='adam',loss='mse')"
   ]
  },
  {
   "cell_type": "code",
   "execution_count": 370,
   "metadata": {
    "scrolled": false
   },
   "outputs": [
    {
     "name": "stdout",
     "output_type": "stream",
     "text": [
      "Train on 834834 samples, validate on 357787 samples\n",
      "Epoch 1/100\n",
      "834834/834834 [==============================] - 59s 71us/sample - loss: 1232865588.2591 - val_loss: 1105359998.6393\n",
      "Epoch 2/100\n",
      "834834/834834 [==============================] - 58s 70us/sample - loss: 1052007746.5180 - val_loss: 1035459913.3513\n",
      "Epoch 3/100\n",
      "834834/834834 [==============================] - 61s 73us/sample - loss: 981725926.3938 - val_loss: 1020121726.7661\n",
      "Epoch 4/100\n",
      "834834/834834 [==============================] - 57s 68us/sample - loss: 958514802.8035 - val_loss: 998448171.6328\n",
      "Epoch 5/100\n",
      "834834/834834 [==============================] - 57s 69us/sample - loss: 917613945.0362 - val_loss: 976340194.6585\n",
      "Epoch 6/100\n",
      "834834/834834 [==============================] - 204s 245us/sample - loss: 887914412.3242 - val_loss: 983407794.3700\n",
      "Epoch 7/100\n",
      "834834/834834 [==============================] - 58s 69us/sample - loss: 864922339.5886 - val_loss: 971760491.4217\n",
      "Epoch 8/100\n",
      "834834/834834 [==============================] - 60s 72us/sample - loss: 847210223.3126 - val_loss: 951199722.4039\n",
      "Epoch 9/100\n",
      "834834/834834 [==============================] - 57s 68us/sample - loss: 831141075.1095 - val_loss: 920699298.2618\n",
      "Epoch 10/100\n",
      "834834/834834 [==============================] - 83s 100us/sample - loss: 816772312.3413 - val_loss: 923639008.5239\n",
      "Epoch 11/100\n",
      "834834/834834 [==============================] - 56s 66us/sample - loss: 794339257.6225 - val_loss: 931695366.8376\n",
      "Epoch 12/100\n",
      "834834/834834 [==============================] - 55s 66us/sample - loss: 790321150.8157 - val_loss: 910851745.4498\n",
      "Epoch 13/100\n",
      "834834/834834 [==============================] - 53s 64us/sample - loss: 774826241.4115 - val_loss: 936913952.2458\n",
      "Epoch 14/100\n",
      "834834/834834 [==============================] - 53s 64us/sample - loss: 767184716.3202 - val_loss: 935844421.9379\n",
      "Epoch 15/100\n",
      "834834/834834 [==============================] - 56s 67us/sample - loss: 765319837.5814 - val_loss: 900657814.2044\n",
      "Epoch 16/100\n",
      "834834/834834 [==============================] - 66s 79us/sample - loss: 753009688.4687 - val_loss: 902695261.9502\n",
      "Epoch 17/100\n",
      "834834/834834 [==============================] - 54s 64us/sample - loss: 744398091.6655 - val_loss: 891733920.9238\n",
      "Epoch 18/100\n",
      "834834/834834 [==============================] - 57s 68us/sample - loss: 738588512.1379 - val_loss: 911267560.8621\n",
      "Epoch 19/100\n",
      "834834/834834 [==============================] - 55s 65us/sample - loss: 730004896.2633 - val_loss: 910225556.2223\n",
      "Epoch 20/100\n",
      "834834/834834 [==============================] - 57s 68us/sample - loss: 724886346.0610 - val_loss: 906298749.9614\n",
      "Epoch 21/100\n",
      "834834/834834 [==============================] - 57s 68us/sample - loss: 720009553.5781 - val_loss: 910347686.3422\n",
      "Epoch 22/100\n",
      "834834/834834 [==============================] - 65s 78us/sample - loss: 715759319.7022 - val_loss: 907878751.7017\n",
      "Epoch 23/100\n",
      "834834/834834 [==============================] - 67s 81us/sample - loss: 708179980.0440 - val_loss: 891354458.5743\n",
      "Epoch 24/100\n",
      "834834/834834 [==============================] - 67s 80us/sample - loss: 701902788.8188 - val_loss: 874647076.4980\n",
      "Epoch 25/100\n",
      "834834/834834 [==============================] - 65s 78us/sample - loss: 702850169.2749 - val_loss: 892390449.7355\n",
      "Epoch 26/100\n",
      "834834/834834 [==============================] - 68s 82us/sample - loss: 697210545.4298 - val_loss: 900751556.4751\n",
      "Epoch 27/100\n",
      "834834/834834 [==============================] - 67s 80us/sample - loss: 694052585.8113 - val_loss: 882674878.2176\n",
      "Epoch 28/100\n",
      "834834/834834 [==============================] - 64s 77us/sample - loss: 689405290.5038 - val_loss: 895011892.0948\n",
      "Epoch 29/100\n",
      "834834/834834 [==============================] - 59s 71us/sample - loss: 685835138.9571 - val_loss: 887530791.8451\n",
      "Epoch 30/100\n",
      "834834/834834 [==============================] - 64s 76us/sample - loss: 681529795.9981 - val_loss: 895797533.1118\n",
      "Epoch 31/100\n",
      "834834/834834 [==============================] - 65s 78us/sample - loss: 676000191.5144 - val_loss: 906080014.5843\n",
      "Epoch 32/100\n",
      "834834/834834 [==============================] - 60s 71us/sample - loss: 676176625.5426 - val_loss: 896943053.2393\n",
      "Epoch 33/100\n",
      "834834/834834 [==============================] - 53s 64us/sample - loss: 667337050.2053 - val_loss: 878327878.3183\n",
      "Epoch 34/100\n",
      "834834/834834 [==============================] - 54s 64us/sample - loss: 663769307.2189 - val_loss: 894990710.3685\n",
      "Epoch 35/100\n",
      "834834/834834 [==============================] - 57s 69us/sample - loss: 660827960.6756 - val_loss: 918419151.3449\n",
      "Epoch 36/100\n",
      "834834/834834 [==============================] - 55s 66us/sample - loss: 656370720.0108 - val_loss: 951522960.6111\n",
      "Epoch 37/100\n",
      "834834/834834 [==============================] - 54s 65us/sample - loss: 653784810.4277 - val_loss: 914597109.2299\n",
      "Epoch 38/100\n",
      "834834/834834 [==============================] - 53s 64us/sample - loss: 649113025.4923 - val_loss: 921707585.6600\n",
      "Epoch 39/100\n",
      "834834/834834 [==============================] - 56s 67us/sample - loss: 647103073.8771 - val_loss: 896258595.3518\n",
      "Epoch 40/100\n",
      "834834/834834 [==============================] - 55s 66us/sample - loss: 644458587.5817 - val_loss: 895543634.2889\n",
      "Epoch 41/100\n",
      "834834/834834 [==============================] - 55s 65us/sample - loss: 639073000.6153 - val_loss: 899063218.9248\n",
      "Epoch 42/100\n",
      "834834/834834 [==============================] - 97s 117us/sample - loss: 638293449.6203 - val_loss: 932634656.6214\n",
      "Epoch 43/100\n",
      "834834/834834 [==============================] - 8692s 10ms/sample - loss: 634940546.0051 - val_loss: 952426136.4988\n",
      "Epoch 44/100\n",
      "834834/834834 [==============================] - 40s 48us/sample - loss: 628595180.1493 - val_loss: 927977573.9989\n",
      "Epoch 45/100\n",
      "834834/834834 [==============================] - 45s 53us/sample - loss: 626398974.1572 - val_loss: 935446118.1358\n",
      "Epoch 46/100\n",
      "834834/834834 [==============================] - 54s 65us/sample - loss: 622012262.1105 - val_loss: 960584902.2725\n",
      "Epoch 47/100\n",
      "834834/834834 [==============================] - 58s 69us/sample - loss: 620162070.9037 - val_loss: 931396675.1657\n",
      "Epoch 48/100\n",
      "834834/834834 [==============================] - 54s 65us/sample - loss: 618500015.7549 - val_loss: 979404074.9544\n",
      "Epoch 49/100\n",
      "834834/834834 [==============================] - 60s 72us/sample - loss: 613514784.9852 - val_loss: 936281570.4315\n",
      "Epoch 50/100\n",
      "834834/834834 [==============================] - 59s 71us/sample - loss: 612668734.2312 - val_loss: 931298469.6061\n",
      "Epoch 51/100\n",
      "834834/834834 [==============================] - 54s 65us/sample - loss: 605278969.2991 - val_loss: 924170831.3964\n",
      "Epoch 52/100\n",
      "834834/834834 [==============================] - 55s 66us/sample - loss: 604430545.9633 - val_loss: 938990412.8073\n",
      "Epoch 53/100\n",
      "834834/834834 [==============================] - 53s 64us/sample - loss: 600482779.4539 - val_loss: 1009523181.4712\n",
      "Epoch 54/100\n",
      "834834/834834 [==============================] - 56s 68us/sample - loss: 599083201.4205 - val_loss: 952604962.4388\n",
      "Epoch 55/100\n",
      "834834/834834 [==============================] - 54s 64us/sample - loss: 598073957.0650 - val_loss: 981299438.2259\n",
      "Epoch 56/100\n",
      "834834/834834 [==============================] - 53s 64us/sample - loss: 593754329.4943 - val_loss: 954191043.4020\n",
      "Epoch 57/100\n",
      "834834/834834 [==============================] - 51s 61us/sample - loss: 589355736.8581 - val_loss: 955128441.2854\n",
      "Epoch 58/100\n",
      "834834/834834 [==============================] - 55s 65us/sample - loss: 586485839.4794 - val_loss: 1006960511.2832\n",
      "Epoch 59/100\n",
      "834834/834834 [==============================] - 54s 65us/sample - loss: 582419510.2198 - val_loss: 975859379.1795\n",
      "Epoch 60/100\n",
      "834834/834834 [==============================] - 30s 36us/sample - loss: 581006517.8455 - val_loss: 975872933.6261\n",
      "Epoch 61/100\n",
      "834834/834834 [==============================] - 29s 35us/sample - loss: 580534575.1691 - val_loss: 956110161.6217\n",
      "Epoch 62/100\n",
      "834834/834834 [==============================] - 30s 36us/sample - loss: 578106768.8850 - val_loss: 928981620.6971\n",
      "Epoch 63/100\n",
      "834834/834834 [==============================] - 32s 38us/sample - loss: 571841385.3779 - val_loss: 970622379.5050\n",
      "Epoch 64/100\n"
     ]
    },
    {
     "name": "stdout",
     "output_type": "stream",
     "text": [
      "834834/834834 [==============================] - 29s 35us/sample - loss: 570647022.9898 - val_loss: 1009952426.8774\n",
      "Epoch 65/100\n",
      "834834/834834 [==============================] - 30s 36us/sample - loss: 570687433.8022 - val_loss: 1029044391.8763\n",
      "Epoch 66/100\n",
      "834834/834834 [==============================] - 32s 38us/sample - loss: 565474950.2505 - val_loss: 1006476529.9832\n",
      "Epoch 67/100\n",
      "834834/834834 [==============================] - 32s 38us/sample - loss: 564932449.3024 - val_loss: 1011079862.2061\n",
      "Epoch 68/100\n",
      "834834/834834 [==============================] - 32s 38us/sample - loss: 560714087.1485 - val_loss: 999266880.8905\n",
      "Epoch 69/100\n",
      "834834/834834 [==============================] - 32s 38us/sample - loss: 558651956.9925 - val_loss: 1008915994.4787\n",
      "Epoch 70/100\n",
      "834834/834834 [==============================] - 32s 38us/sample - loss: 556071175.9629 - val_loss: 976690617.5886\n",
      "Epoch 71/100\n",
      "834834/834834 [==============================] - 31s 37us/sample - loss: 555630901.8244 - val_loss: 981580523.8641\n",
      "Epoch 72/100\n",
      "834834/834834 [==============================] - 32s 38us/sample - loss: 555237516.0636 - val_loss: 978150579.2658\n",
      "Epoch 73/100\n",
      "834834/834834 [==============================] - 32s 38us/sample - loss: 551607552.6173 - val_loss: 993899436.8863\n",
      "Epoch 74/100\n",
      "834834/834834 [==============================] - 32s 38us/sample - loss: 548905234.2174 - val_loss: 895420093.7148\n",
      "Epoch 75/100\n",
      "834834/834834 [==============================] - 33s 39us/sample - loss: 550131567.6759 - val_loss: 961725970.2696\n",
      "Epoch 76/100\n",
      "834834/834834 [==============================] - 33s 39us/sample - loss: 546948258.6694 - val_loss: 892375544.6219\n",
      "Epoch 77/100\n",
      "834834/834834 [==============================] - 32s 38us/sample - loss: 540253722.8803 - val_loss: 955853009.5500\n",
      "Epoch 78/100\n",
      "834834/834834 [==============================] - 32s 38us/sample - loss: 543702799.1089 - val_loss: 906510930.6206\n",
      "Epoch 79/100\n",
      "834834/834834 [==============================] - 32s 38us/sample - loss: 539612456.9845 - val_loss: 911437114.9453\n",
      "Epoch 80/100\n",
      "834834/834834 [==============================] - 32s 39us/sample - loss: 541114477.7330 - val_loss: 1030119158.1502\n",
      "Epoch 81/100\n",
      "834834/834834 [==============================] - 32s 38us/sample - loss: 536706776.2060 - val_loss: 818261792.7751\n",
      "Epoch 82/100\n",
      "834834/834834 [==============================] - 32s 38us/sample - loss: 536090460.4518 - val_loss: 900886899.0506\n",
      "Epoch 83/100\n",
      "834834/834834 [==============================] - 32s 38us/sample - loss: 535341675.7860 - val_loss: 857517415.5266\n",
      "Epoch 84/100\n",
      "834834/834834 [==============================] - 32s 38us/sample - loss: 533255607.7230 - val_loss: 859408617.6484\n",
      "Epoch 85/100\n",
      "834834/834834 [==============================] - 36s 43us/sample - loss: 535551146.7387 - val_loss: 843278650.2153\n",
      "Epoch 86/100\n",
      "834834/834834 [==============================] - 36s 43us/sample - loss: 529494511.3392 - val_loss: 872791938.2872\n",
      "Epoch 87/100\n",
      "834834/834834 [==============================] - 37s 44us/sample - loss: 529530500.0357 - val_loss: 861263163.6978\n",
      "Epoch 88/100\n",
      "834834/834834 [==============================] - 36s 43us/sample - loss: 527260881.2883 - val_loss: 920293300.6897\n",
      "Epoch 89/100\n",
      "834834/834834 [==============================] - 34s 40us/sample - loss: 527742674.5132 - val_loss: 810640716.0010\n",
      "Epoch 90/100\n",
      "834834/834834 [==============================] - 32s 39us/sample - loss: 523588891.5372 - val_loss: 843729938.1154\n",
      "Epoch 91/100\n",
      "834834/834834 [==============================] - 32s 38us/sample - loss: 522603306.8034 - val_loss: 923892725.0321\n",
      "Epoch 92/100\n",
      "834834/834834 [==============================] - 32s 38us/sample - loss: 522760802.7858 - val_loss: 896904293.5135\n",
      "Epoch 93/100\n",
      "834834/834834 [==============================] - 32s 38us/sample - loss: 519511609.4999 - val_loss: 913598858.1150\n",
      "Epoch 94/100\n",
      "834834/834834 [==============================] - 32s 38us/sample - loss: 517513950.5556 - val_loss: 1056784114.2041\n",
      "Epoch 95/100\n",
      "834834/834834 [==============================] - 32s 38us/sample - loss: 520364671.5756 - val_loss: 793889627.9783\n",
      "Epoch 96/100\n",
      "834834/834834 [==============================] - 32s 38us/sample - loss: 517046700.5294 - val_loss: 787633000.0531\n",
      "Epoch 97/100\n",
      "834834/834834 [==============================] - 32s 38us/sample - loss: 517435264.2891 - val_loss: 813037512.4133\n",
      "Epoch 98/100\n",
      "834834/834834 [==============================] - 32s 38us/sample - loss: 514965538.8156 - val_loss: 840132265.0678\n",
      "Epoch 99/100\n",
      "834834/834834 [==============================] - 32s 38us/sample - loss: 513755449.0031 - val_loss: 863652073.4557\n",
      "Epoch 100/100\n",
      "834834/834834 [==============================] - 32s 38us/sample - loss: 512211975.2774 - val_loss: 853070532.6998\n"
     ]
    },
    {
     "data": {
      "text/plain": [
       "<tensorflow.python.keras.callbacks.History at 0x1ced6ac3888>"
      ]
     },
     "execution_count": 370,
     "metadata": {},
     "output_type": "execute_result"
    }
   ],
   "source": [
    "model.fit(x=X_train,y=y_train,epochs=100,verbose=1,validation_data=(X_test,y_test),batch_size=128)"
   ]
  },
  {
   "cell_type": "code",
   "execution_count": 371,
   "metadata": {},
   "outputs": [],
   "source": [
    "losses=pd.DataFrame(model.history.history)"
   ]
  },
  {
   "cell_type": "code",
   "execution_count": 373,
   "metadata": {},
   "outputs": [
    {
     "data": {
      "text/plain": [
       "<matplotlib.axes._subplots.AxesSubplot at 0x1cf16eb7dc8>"
      ]
     },
     "execution_count": 373,
     "metadata": {},
     "output_type": "execute_result"
    },
    {
     "data": {
      "text/plain": [
       "<Figure size 864x432 with 0 Axes>"
      ]
     },
     "metadata": {},
     "output_type": "display_data"
    },
    {
     "data": {
      "image/png": "[encoded data removed]",
      "text/plain": [
       "<Figure size 432x288 with 1 Axes>"
      ]
     },
     "metadata": {
      "needs_background": "light"
     },
     "output_type": "display_data"
    }
   ],
   "source": [
    "plt.figure(figsize=(12,6))\n",
    "losses.plot()"
   ]
  },
  {
   "cell_type": "code",
   "execution_count": 374,
   "metadata": {},
   "outputs": [],
   "source": [
    "predictions=model.predict(X_test)"
   ]
  },
  {
   "cell_type": "code",
   "execution_count": 375,
   "metadata": {},
   "outputs": [
    {
     "data": {
      "text/plain": [
       "array([[ 1565.0077],\n",
       "       [ 1482.5219],\n",
       "       [10818.391 ],\n",
       "       ...,\n",
       "       [ 1839.1786],\n",
       "       [ 1670.5409],\n",
       "       [ 5737.4536]], dtype=float32)"
      ]
     },
     "execution_count": 375,
     "metadata": {},
     "output_type": "execute_result"
    }
   ],
   "source": [
    "predictions"
   ]
  },
  {
   "cell_type": "code",
   "execution_count": 376,
   "metadata": {},
   "outputs": [
    {
     "data": {
      "text/plain": [
       "853070531.07659"
      ]
     },
     "execution_count": 376,
     "metadata": {},
     "output_type": "execute_result"
    }
   ],
   "source": [
    "mean_squared_error(predictions,y_test)"
   ]
  },
  {
   "cell_type": "code",
   "execution_count": 377,
   "metadata": {},
   "outputs": [
    {
     "data": {
      "text/plain": [
       "29207.371177094832"
      ]
     },
     "execution_count": 377,
     "metadata": {},
     "output_type": "execute_result"
    }
   ],
   "source": [
    "np.sqrt(mean_squared_error(y_test,predictions))"
   ]
  },
  {
   "cell_type": "code",
   "execution_count": 378,
   "metadata": {},
   "outputs": [
    {
     "data": {
      "text/plain": [
       "9703.973457611472"
      ]
     },
     "execution_count": 378,
     "metadata": {},
     "output_type": "execute_result"
    }
   ],
   "source": [
    "mean_absolute_error(predictions,y_test)"
   ]
  },
  {
   "cell_type": "code",
   "execution_count": 379,
   "metadata": {},
   "outputs": [
    {
     "data": {
      "text/plain": [
       "0.4977358352139891"
      ]
     },
     "execution_count": 379,
     "metadata": {},
     "output_type": "execute_result"
    }
   ],
   "source": [
    "explained_variance_score(predictions,y_test)"
   ]
  },
  {
   "cell_type": "code",
   "execution_count": 387,
   "metadata": {},
   "outputs": [
    {
     "data": {
      "text/plain": [
       "[<matplotlib.lines.Line2D at 0x1cf41f80ac8>]"
      ]
     },
     "execution_count": 387,
     "metadata": {},
     "output_type": "execute_result"
    },
    {
     "data": {
      "image/png": "[encoded data removed]",
      "text/plain": [
       "<Figure size 864x432 with 1 Axes>"
      ]
     },
     "metadata": {
      "needs_background": "light"
     },
     "output_type": "display_data"
    }
   ],
   "source": [
    "plt.figure(figsize=(12,6))\n",
    "plt.scatter(y_test,predictions)\n",
    "plt.plot(y_test,y_test,color='red')"
   ]
  },
  {
   "cell_type": "markdown",
   "metadata": {},
   "source": [
    "# Model NN-3"
   ]
  },
  {
   "cell_type": "code",
   "execution_count": 380,
   "metadata": {},
   "outputs": [],
   "source": [
    "from tensorflow.keras.callbacks import EarlyStopping"
   ]
  },
  {
   "cell_type": "code",
   "execution_count": 384,
   "metadata": {},
   "outputs": [],
   "source": [
    "early_stop=EarlyStopping(monitor='val_loss',mode='min',verbose=1,patience=30)"
   ]
  },
  {
   "cell_type": "code",
   "execution_count": 385,
   "metadata": {},
   "outputs": [],
   "source": [
    "model=Sequential()\n",
    "\n",
    "model.add(Dense(268,activation='relu'))\n",
    "model.add(Dense(268,activation='relu'))\n",
    "model.add(Dense(268,activation='relu'))\n",
    "model.add(Dense(268,activation='relu'))\n",
    "\n",
    "model.add(Dense(1))\n",
    "\n",
    "model.compile(optimizer='adam',loss='mse')"
   ]
  },
  {
   "cell_type": "code",
   "execution_count": 386,
   "metadata": {
    "scrolled": false
   },
   "outputs": [
    {
     "name": "stdout",
     "output_type": "stream",
     "text": [
      "Train on 834834 samples, validate on 357787 samples\n",
      "Epoch 1/200\n",
      "834834/834834 [==============================] - 30s 35us/sample - loss: 1250207542.9237 - val_loss: 1074299570.3752\n",
      "Epoch 2/200\n",
      "834834/834834 [==============================] - 30s 36us/sample - loss: 1037938669.0063 - val_loss: 1039405977.3120\n",
      "Epoch 3/200\n",
      "834834/834834 [==============================] - 29s 35us/sample - loss: 970783080.1637 - val_loss: 1000487263.7351\n",
      "Epoch 4/200\n",
      "834834/834834 [==============================] - 32s 39us/sample - loss: 931899952.9485 - val_loss: 998742546.0480\n",
      "Epoch 5/200\n",
      "834834/834834 [==============================] - 33s 39us/sample - loss: 907295924.3731 - val_loss: 949834005.9384\n",
      "Epoch 6/200\n",
      "834834/834834 [==============================] - 32s 39us/sample - loss: 879070656.7951 - val_loss: 946847370.5521\n",
      "Epoch 7/200\n",
      "834834/834834 [==============================] - 32s 39us/sample - loss: 858201506.3391 - val_loss: 938469725.1702\n",
      "Epoch 8/200\n",
      "834834/834834 [==============================] - 32s 39us/sample - loss: 838944530.0721 - val_loss: 934496815.1872\n",
      "Epoch 9/200\n",
      "834834/834834 [==============================] - 32s 39us/sample - loss: 822308342.1775 - val_loss: 914076102.6684\n",
      "Epoch 10/200\n",
      "834834/834834 [==============================] - 34s 41us/sample - loss: 811861151.5597 - val_loss: 917327334.7159\n",
      "Epoch 11/200\n",
      "834834/834834 [==============================] - 33s 39us/sample - loss: 795996206.7659 - val_loss: 935549550.0168\n",
      "Epoch 12/200\n",
      "834834/834834 [==============================] - 33s 39us/sample - loss: 786805220.6763 - val_loss: 920094813.3398\n",
      "Epoch 13/200\n",
      "834834/834834 [==============================] - 32s 38us/sample - loss: 774800310.5715 - val_loss: 914288338.1391\n",
      "Epoch 14/200\n",
      "834834/834834 [==============================] - 32s 39us/sample - loss: 769759540.8940 - val_loss: 891231132.2298\n",
      "Epoch 15/200\n",
      "834834/834834 [==============================] - 31s 38us/sample - loss: 757693467.9091 - val_loss: 893479760.8854\n",
      "Epoch 16/200\n",
      "834834/834834 [==============================] - 32s 38us/sample - loss: 749119185.8123 - val_loss: 907665242.8620\n",
      "Epoch 17/200\n",
      "834834/834834 [==============================] - 32s 38us/sample - loss: 743275424.6841 - val_loss: 905567503.1407\n",
      "Epoch 18/200\n",
      "834834/834834 [==============================] - 32s 38us/sample - loss: 735113216.6511 - val_loss: 890944949.3207\n",
      "Epoch 19/200\n",
      "834834/834834 [==============================] - 32s 38us/sample - loss: 730621439.7058 - val_loss: 884958523.7191\n",
      "Epoch 20/200\n",
      "834834/834834 [==============================] - 32s 38us/sample - loss: 728783119.7132 - val_loss: 871555240.2935\n",
      "Epoch 21/200\n",
      "834834/834834 [==============================] - 32s 38us/sample - loss: 716619640.8856 - val_loss: 917844200.7424\n",
      "Epoch 22/200\n",
      "834834/834834 [==============================] - 32s 39us/sample - loss: 709970656.3472 - val_loss: 893009457.0181\n",
      "Epoch 23/200\n",
      "834834/834834 [==============================] - 32s 38us/sample - loss: 704788353.1508 - val_loss: 895328431.1273\n",
      "Epoch 24/200\n",
      "834834/834834 [==============================] - 32s 38us/sample - loss: 701338619.3881 - val_loss: 867683468.9435\n",
      "Epoch 25/200\n",
      "834834/834834 [==============================] - 32s 38us/sample - loss: 695903691.5213 - val_loss: 865907364.4439\n",
      "Epoch 26/200\n",
      "834834/834834 [==============================] - 32s 38us/sample - loss: 688286925.8742 - val_loss: 866070875.6109\n",
      "Epoch 27/200\n",
      "834834/834834 [==============================] - 32s 38us/sample - loss: 681821058.2799 - val_loss: 873524037.9465\n",
      "Epoch 28/200\n",
      "834834/834834 [==============================] - 32s 38us/sample - loss: 681275515.1567 - val_loss: 871632461.9130\n",
      "Epoch 29/200\n",
      "834834/834834 [==============================] - 32s 38us/sample - loss: 674669869.3477 - val_loss: 866834864.5543\n",
      "Epoch 30/200\n",
      "834834/834834 [==============================] - 32s 38us/sample - loss: 671986953.9787 - val_loss: 889070553.0550\n",
      "Epoch 31/200\n",
      "834834/834834 [==============================] - 32s 38us/sample - loss: 668555586.9529 - val_loss: 865216966.4500\n",
      "Epoch 32/200\n",
      "834834/834834 [==============================] - 32s 38us/sample - loss: 663404360.4809 - val_loss: 878889261.1338\n",
      "Epoch 33/200\n",
      "834834/834834 [==============================] - 32s 38us/sample - loss: 657230763.4733 - val_loss: 854262913.7832\n",
      "Epoch 34/200\n",
      "834834/834834 [==============================] - 32s 38us/sample - loss: 654238990.1341 - val_loss: 867503125.9776\n",
      "Epoch 35/200\n",
      "834834/834834 [==============================] - 32s 38us/sample - loss: 648389442.4411 - val_loss: 895417288.8897\n",
      "Epoch 36/200\n",
      "834834/834834 [==============================] - 32s 38us/sample - loss: 646454028.7795 - val_loss: 869250297.3052\n",
      "Epoch 37/200\n",
      "834834/834834 [==============================] - 32s 38us/sample - loss: 642462477.5287 - val_loss: 892788314.0377\n",
      "Epoch 38/200\n",
      "834834/834834 [==============================] - 32s 38us/sample - loss: 639244174.3600 - val_loss: 869397205.7785\n",
      "Epoch 39/200\n",
      "834834/834834 [==============================] - 32s 38us/sample - loss: 635171748.9580 - val_loss: 894441800.9325\n",
      "Epoch 40/200\n",
      "834834/834834 [==============================] - 31s 38us/sample - loss: 632131717.3707 - val_loss: 854226253.1268\n",
      "Epoch 41/200\n",
      "834834/834834 [==============================] - 32s 38us/sample - loss: 626864693.1464 - val_loss: 853076114.7775\n",
      "Epoch 42/200\n",
      "834834/834834 [==============================] - 32s 38us/sample - loss: 622793808.0277 - val_loss: 849893918.7017\n",
      "Epoch 43/200\n",
      "834834/834834 [==============================] - 32s 38us/sample - loss: 622410266.5053 - val_loss: 855959334.1451\n",
      "Epoch 44/200\n",
      "834834/834834 [==============================] - 32s 38us/sample - loss: 620011147.8171 - val_loss: 843664062.3513\n",
      "Epoch 45/200\n",
      "834834/834834 [==============================] - 32s 38us/sample - loss: 616254981.9426 - val_loss: 858027093.3452\n",
      "Epoch 46/200\n",
      "834834/834834 [==============================] - 32s 38us/sample - loss: 611334905.1271 - val_loss: 827618466.9026\n",
      "Epoch 47/200\n",
      "834834/834834 [==============================] - 32s 39us/sample - loss: 608310017.6763 - val_loss: 871232372.9193\n",
      "Epoch 48/200\n",
      "834834/834834 [==============================] - 32s 38us/sample - loss: 604505131.2603 - val_loss: 835433378.7234\n",
      "Epoch 49/200\n",
      "834834/834834 [==============================] - 31s 38us/sample - loss: 600222669.8955 - val_loss: 842285783.1822\n",
      "Epoch 50/200\n",
      "834834/834834 [==============================] - 32s 38us/sample - loss: 598036469.7199 - val_loss: 848380064.8679\n",
      "Epoch 51/200\n",
      "834834/834834 [==============================] - 32s 38us/sample - loss: 595391209.2360 - val_loss: 907558919.2298\n",
      "Epoch 52/200\n",
      "834834/834834 [==============================] - 32s 39us/sample - loss: 593219928.4090 - val_loss: 883099126.2927\n",
      "Epoch 53/200\n",
      "834834/834834 [==============================] - 32s 38us/sample - loss: 591519998.8708 - val_loss: 818355844.7308\n",
      "Epoch 54/200\n",
      "834834/834834 [==============================] - 32s 38us/sample - loss: 586624185.0399 - val_loss: 849937830.2983\n",
      "Epoch 55/200\n",
      "834834/834834 [==============================] - 32s 38us/sample - loss: 586296843.8516 - val_loss: 844290704.9515\n",
      "Epoch 56/200\n",
      "834834/834834 [==============================] - 33s 39us/sample - loss: 583156060.3898 - val_loss: 888743386.0424\n",
      "Epoch 57/200\n",
      "834834/834834 [==============================] - 32s 39us/sample - loss: 579105758.8541 - val_loss: 857763105.3920\n",
      "Epoch 58/200\n",
      "834834/834834 [==============================] - 32s 39us/sample - loss: 577043104.6489 - val_loss: 829803038.5894\n",
      "Epoch 59/200\n",
      "834834/834834 [==============================] - 32s 38us/sample - loss: 575865773.8372 - val_loss: 822497803.2439\n",
      "Epoch 60/200\n",
      "834834/834834 [==============================] - 32s 39us/sample - loss: 573248628.5801 - val_loss: 845397369.2877\n",
      "Epoch 61/200\n",
      "834834/834834 [==============================] - 32s 38us/sample - loss: 566839144.0068 - val_loss: 826626578.2020\n",
      "Epoch 62/200\n",
      "834834/834834 [==============================] - 32s 38us/sample - loss: 570010371.7495 - val_loss: 826384386.1360\n",
      "Epoch 63/200\n",
      "834834/834834 [==============================] - 33s 39us/sample - loss: 564617813.9301 - val_loss: 831974273.9130\n",
      "Epoch 64/200\n"
     ]
    },
    {
     "name": "stdout",
     "output_type": "stream",
     "text": [
      "834834/834834 [==============================] - 32s 38us/sample - loss: 565477374.4729 - val_loss: 853210886.5694\n",
      "Epoch 65/200\n",
      "834834/834834 [==============================] - 32s 38us/sample - loss: 560039100.2779 - val_loss: 833532032.5875\n",
      "Epoch 66/200\n",
      "834834/834834 [==============================] - 32s 38us/sample - loss: 559659947.5528 - val_loss: 831140782.9917\n",
      "Epoch 67/200\n",
      "834834/834834 [==============================] - 32s 38us/sample - loss: 558267932.3574 - val_loss: 857914103.4726\n",
      "Epoch 68/200\n",
      "834834/834834 [==============================] - 31s 38us/sample - loss: 555943966.4551 - val_loss: 834314943.4637\n",
      "Epoch 69/200\n",
      "834834/834834 [==============================] - 31s 38us/sample - loss: 553268162.8481 - val_loss: 828750976.1282\n",
      "Epoch 70/200\n",
      "834834/834834 [==============================] - 611s 732us/sample - loss: 551283633.8606 - val_loss: 846679985.2246\n",
      "Epoch 71/200\n",
      "834834/834834 [==============================] - 30s 36us/sample - loss: 550509468.0554 - val_loss: 829461973.3659\n",
      "Epoch 72/200\n",
      "834834/834834 [==============================] - 30s 36us/sample - loss: 549423820.0831 - val_loss: 858491601.1158\n",
      "Epoch 73/200\n",
      "834834/834834 [==============================] - 32s 38us/sample - loss: 544410142.1806 - val_loss: 812972161.0108\n",
      "Epoch 74/200\n",
      "834834/834834 [==============================] - 32s 38us/sample - loss: 545616130.4255 - val_loss: 805995304.5190\n",
      "Epoch 75/200\n",
      "834834/834834 [==============================] - 31s 38us/sample - loss: 543763752.5919 - val_loss: 844487992.5547\n",
      "Epoch 76/200\n",
      "834834/834834 [==============================] - 32s 38us/sample - loss: 540761358.8668 - val_loss: 818233237.0446\n",
      "Epoch 77/200\n",
      "834834/834834 [==============================] - 32s 38us/sample - loss: 538286037.0609 - val_loss: 838158831.8391\n",
      "Epoch 78/200\n",
      "834834/834834 [==============================] - 32s 38us/sample - loss: 537683182.4666 - val_loss: 830593683.3308\n",
      "Epoch 79/200\n",
      "834834/834834 [==============================] - 32s 38us/sample - loss: 534536892.5925 - val_loss: 835608850.2138\n",
      "Epoch 80/200\n",
      "834834/834834 [==============================] - 32s 38us/sample - loss: 533783815.8781 - val_loss: 821203790.2504\n",
      "Epoch 81/200\n",
      "834834/834834 [==============================] - 32s 38us/sample - loss: 532177525.9532 - val_loss: 809961468.2443\n",
      "Epoch 82/200\n",
      "834834/834834 [==============================] - 32s 38us/sample - loss: 529004335.0874 - val_loss: 833962283.2711\n",
      "Epoch 83/200\n",
      "834834/834834 [==============================] - 32s 38us/sample - loss: 530582779.4214 - val_loss: 803925545.2652\n",
      "Epoch 84/200\n",
      "834834/834834 [==============================] - 32s 38us/sample - loss: 528216135.3987 - val_loss: 816315471.2452\n",
      "Epoch 85/200\n",
      "834834/834834 [==============================] - 32s 38us/sample - loss: 524932675.4545 - val_loss: 815380965.5058\n",
      "Epoch 86/200\n",
      "834834/834834 [==============================] - 32s 38us/sample - loss: 526576650.5553 - val_loss: 816573982.1808\n",
      "Epoch 87/200\n",
      "834834/834834 [==============================] - 32s 38us/sample - loss: 524445707.0278 - val_loss: 806793936.3435\n",
      "Epoch 88/200\n",
      "834834/834834 [==============================] - 32s 38us/sample - loss: 523132195.1555 - val_loss: 809332714.8397\n",
      "Epoch 89/200\n",
      "834834/834834 [==============================] - 33s 40us/sample - loss: 521373833.7357 - val_loss: 809713830.4624\n",
      "Epoch 90/200\n",
      "834834/834834 [==============================] - 33s 40us/sample - loss: 519446783.8986 - val_loss: 814676071.6840\n",
      "Epoch 91/200\n",
      "834834/834834 [==============================] - 32s 38us/sample - loss: 517780797.0015 - val_loss: 817590071.9952\n",
      "Epoch 92/200\n",
      "834834/834834 [==============================] - 33s 39us/sample - loss: 518827751.7316 - val_loss: 799911979.6186\n",
      "Epoch 93/200\n",
      "834834/834834 [==============================] - 33s 39us/sample - loss: 517109392.6719 - val_loss: 822320188.6710\n",
      "Epoch 94/200\n",
      "834834/834834 [==============================] - 33s 40us/sample - loss: 515087473.6087 - val_loss: 797653491.0438\n",
      "Epoch 95/200\n",
      "834834/834834 [==============================] - 32s 38us/sample - loss: 514472657.1147 - val_loss: 848616279.4182\n",
      "Epoch 96/200\n",
      "834834/834834 [==============================] - 32s 38us/sample - loss: 511791696.7399 - val_loss: 833096287.3468\n",
      "Epoch 97/200\n",
      "834834/834834 [==============================] - 32s 38us/sample - loss: 510573676.3990 - val_loss: 825474479.8431\n",
      "Epoch 98/200\n",
      "834834/834834 [==============================] - 32s 38us/sample - loss: 509699316.8152 - val_loss: 811860376.9102\n",
      "Epoch 99/200\n",
      "834834/834834 [==============================] - 32s 38us/sample - loss: 507697624.5062 - val_loss: 805842394.2979\n",
      "Epoch 100/200\n",
      "834834/834834 [==============================] - 33s 39us/sample - loss: 508029360.0938 - val_loss: 807605067.8878\n",
      "Epoch 101/200\n",
      "834834/834834 [==============================] - 32s 39us/sample - loss: 507435133.1735 - val_loss: 846358834.8045\n",
      "Epoch 102/200\n",
      "834834/834834 [==============================] - 32s 38us/sample - loss: 505121309.3642 - val_loss: 807732439.0408\n",
      "Epoch 103/200\n",
      "834834/834834 [==============================] - 32s 38us/sample - loss: 505813032.0844 - val_loss: 806398015.0767\n",
      "Epoch 104/200\n",
      "834834/834834 [==============================] - 32s 39us/sample - loss: 503620016.1005 - val_loss: 797435113.4765\n",
      "Epoch 105/200\n",
      "834834/834834 [==============================] - 43s 51us/sample - loss: 502912344.2778 - val_loss: 811972065.7627\n",
      "Epoch 106/200\n",
      "834834/834834 [==============================] - 53s 64us/sample - loss: 502948916.3483 - val_loss: 812488824.0936\n",
      "Epoch 107/200\n",
      "834834/834834 [==============================] - 62s 75us/sample - loss: 501052936.8262 - val_loss: 818169705.5653\n",
      "Epoch 108/200\n",
      "834834/834834 [==============================] - 72s 87us/sample - loss: 501254669.9299 - val_loss: 802667553.4636\n",
      "Epoch 109/200\n",
      "834834/834834 [==============================] - 54s 65us/sample - loss: 498422071.8932 - val_loss: 814769974.4961\n",
      "Epoch 110/200\n",
      "834834/834834 [==============================] - 54s 65us/sample - loss: 497707310.5721 - val_loss: 815037673.3982\n",
      "Epoch 111/200\n",
      "834834/834834 [==============================] - 55s 66us/sample - loss: 498132317.5300 - val_loss: 809763824.1672\n",
      "Epoch 112/200\n",
      "834834/834834 [==============================] - 53s 63us/sample - loss: 494265588.9518 - val_loss: 824164089.1764\n",
      "Epoch 113/200\n",
      "834834/834834 [==============================] - 55s 66us/sample - loss: 496386799.1622 - val_loss: 814949909.1997\n",
      "Epoch 114/200\n",
      "834834/834834 [==============================] - 53s 64us/sample - loss: 494569037.9006 - val_loss: 790607905.2823\n",
      "Epoch 115/200\n",
      "834834/834834 [==============================] - 54s 65us/sample - loss: 493594887.7629 - val_loss: 806884238.3679\n",
      "Epoch 116/200\n",
      "834834/834834 [==============================] - 53s 64us/sample - loss: 492719047.2901 - val_loss: 845268881.5081\n",
      "Epoch 117/200\n",
      "834834/834834 [==============================] - 55s 65us/sample - loss: 492107800.6256 - val_loss: 806911082.2253\n",
      "Epoch 118/200\n",
      "834834/834834 [==============================] - 52s 63us/sample - loss: 492825113.8424 - val_loss: 788468796.0713\n",
      "Epoch 119/200\n",
      "834834/834834 [==============================] - 54s 64us/sample - loss: 489038487.7626 - val_loss: 816517636.7363\n",
      "Epoch 120/200\n",
      "834834/834834 [==============================] - 54s 64us/sample - loss: 487770492.7844 - val_loss: 801481814.6781\n",
      "Epoch 121/200\n",
      "834834/834834 [==============================] - 54s 65us/sample - loss: 488234081.9537 - val_loss: 859050536.8218\n",
      "Epoch 122/200\n",
      "834834/834834 [==============================] - 53s 63us/sample - loss: 487574562.7769 - val_loss: 826401919.8294\n",
      "Epoch 123/200\n",
      "834834/834834 [==============================] - 55s 66us/sample - loss: 488202067.6988 - val_loss: 801860043.4792\n",
      "Epoch 124/200\n",
      "834834/834834 [==============================] - 54s 65us/sample - loss: 485752810.3164 - val_loss: 809407013.2944\n",
      "Epoch 125/200\n",
      "834834/834834 [==============================] - 53s 64us/sample - loss: 487415227.5254 - val_loss: 807549007.9468\n",
      "Epoch 126/200\n",
      "834834/834834 [==============================] - 53s 63us/sample - loss: 486267417.0814 - val_loss: 804670508.4472\n",
      "Epoch 127/200\n"
     ]
    },
    {
     "name": "stdout",
     "output_type": "stream",
     "text": [
      "834834/834834 [==============================] - 56s 67us/sample - loss: 483974290.8515 - val_loss: 796431906.7051\n",
      "Epoch 128/200\n",
      "834834/834834 [==============================] - 53s 64us/sample - loss: 483425600.8653 - val_loss: 793108232.8745\n",
      "Epoch 129/200\n",
      "834834/834834 [==============================] - 53s 63us/sample - loss: 484329592.4461 - val_loss: 806072712.6064\n",
      "Epoch 130/200\n",
      "834834/834834 [==============================] - 54s 65us/sample - loss: 482440583.6768 - val_loss: 823287016.7785\n",
      "Epoch 131/200\n",
      "834834/834834 [==============================] - 59s 70us/sample - loss: 482341741.7479 - val_loss: 802174952.7719\n",
      "Epoch 132/200\n",
      "834834/834834 [==============================] - 53s 64us/sample - loss: 480470097.0238 - val_loss: 808700854.7392\n",
      "Epoch 133/200\n",
      "834834/834834 [==============================] - 55s 65us/sample - loss: 479685594.5772 - val_loss: 818978522.8815\n",
      "Epoch 134/200\n",
      "834834/834834 [==============================] - 53s 63us/sample - loss: 479378119.5752 - val_loss: 800555918.7443\n",
      "Epoch 135/200\n",
      "834834/834834 [==============================] - 57s 68us/sample - loss: 478670148.5365 - val_loss: 797848890.1428\n",
      "Epoch 136/200\n",
      "834834/834834 [==============================] - 53s 64us/sample - loss: 477486819.5936 - val_loss: 820082792.8327\n",
      "Epoch 137/200\n",
      "834834/834834 [==============================] - 55s 66us/sample - loss: 478655190.8616 - val_loss: 795297949.2573\n",
      "Epoch 138/200\n",
      "834834/834834 [==============================] - 53s 63us/sample - loss: 476154901.3363 - val_loss: 817919625.5532\n",
      "Epoch 139/200\n",
      "834834/834834 [==============================] - 53s 63us/sample - loss: 475658554.9327 - val_loss: 786953763.3733\n",
      "Epoch 140/200\n",
      "834834/834834 [==============================] - 85s 102us/sample - loss: 477670434.8564 - val_loss: 802892092.5528\n",
      "Epoch 141/200\n",
      "834834/834834 [==============================] - 53s 63us/sample - loss: 475088483.0662 - val_loss: 805223069.9641\n",
      "Epoch 142/200\n",
      "834834/834834 [==============================] - 53s 64us/sample - loss: 473657029.3157 - val_loss: 795554435.2421\n",
      "Epoch 143/200\n",
      "834834/834834 [==============================] - 56s 67us/sample - loss: 473977337.5626 - val_loss: 797521400.6022\n",
      "Epoch 144/200\n",
      "834834/834834 [==============================] - 57s 68us/sample - loss: 473481034.6317 - val_loss: 786633491.0183\n",
      "Epoch 145/200\n",
      "834834/834834 [==============================] - 55s 66us/sample - loss: 472846438.3305 - val_loss: 821417538.6752\n",
      "Epoch 146/200\n",
      "834834/834834 [==============================] - 55s 66us/sample - loss: 472266763.8663 - val_loss: 822933972.3525\n",
      "Epoch 147/200\n",
      "834834/834834 [==============================] - 54s 65us/sample - loss: 471769867.5658 - val_loss: 807853431.6533\n",
      "Epoch 148/200\n",
      "834834/834834 [==============================] - 55s 66us/sample - loss: 471578722.5543 - val_loss: 800134735.9034\n",
      "Epoch 149/200\n",
      "834834/834834 [==============================] - 53s 64us/sample - loss: 468514150.9450 - val_loss: 814089754.8739\n",
      "Epoch 150/200\n",
      "834834/834834 [==============================] - 54s 64us/sample - loss: 469345078.5072 - val_loss: 815936083.0110\n",
      "Epoch 151/200\n",
      "834834/834834 [==============================] - 54s 64us/sample - loss: 468413192.0679 - val_loss: 798069351.0045\n",
      "Epoch 152/200\n",
      "834834/834834 [==============================] - 54s 65us/sample - loss: 467266344.7078 - val_loss: 785256700.5440\n",
      "Epoch 153/200\n",
      "834834/834834 [==============================] - 53s 64us/sample - loss: 469268883.9526 - val_loss: 789753580.2725\n",
      "Epoch 154/200\n",
      "834834/834834 [==============================] - 71s 85us/sample - loss: 466694986.3100 - val_loss: 807409474.7870\n",
      "Epoch 155/200\n",
      "834834/834834 [==============================] - 56s 67us/sample - loss: 468460070.8587 - val_loss: 811896468.9314\n",
      "Epoch 156/200\n",
      "834834/834834 [==============================] - 57s 69us/sample - loss: 466642990.8068 - val_loss: 781326637.7842\n",
      "Epoch 157/200\n",
      "834834/834834 [==============================] - 54s 65us/sample - loss: 469496709.0473 - val_loss: 785183694.4771\n",
      "Epoch 158/200\n",
      "834834/834834 [==============================] - 55s 66us/sample - loss: 465352395.4837 - val_loss: 798383045.9632\n",
      "Epoch 159/200\n",
      "834834/834834 [==============================] - 56s 68us/sample - loss: 463280419.2111 - val_loss: 820133921.4265\n",
      "Epoch 160/200\n",
      "834834/834834 [==============================] - 57s 68us/sample - loss: 465509078.6482 - val_loss: 807032018.8158\n",
      "Epoch 161/200\n",
      "834834/834834 [==============================] - 56s 67us/sample - loss: 463985498.9775 - val_loss: 769712581.3935\n",
      "Epoch 162/200\n",
      "834834/834834 [==============================] - 52s 62us/sample - loss: 463338621.5036 - val_loss: 791883208.5304\n",
      "Epoch 163/200\n",
      "834834/834834 [==============================] - 52s 62us/sample - loss: 463519095.3781 - val_loss: 798368667.4157\n",
      "Epoch 164/200\n",
      "834834/834834 [==============================] - 56s 67us/sample - loss: 462583535.9343 - val_loss: 785582014.9317\n",
      "Epoch 165/200\n",
      "834834/834834 [==============================] - 174s 208us/sample - loss: 463057511.0901 - val_loss: 768822359.0923\n",
      "Epoch 166/200\n",
      "834834/834834 [==============================] - 53s 64us/sample - loss: 461482075.1032 - val_loss: 797283185.4470\n",
      "Epoch 167/200\n",
      "834834/834834 [==============================] - 60s 72us/sample - loss: 461663582.9099 - val_loss: 801779449.0636\n",
      "Epoch 168/200\n",
      "834834/834834 [==============================] - 62s 75us/sample - loss: 462127430.0203 - val_loss: 818238293.1334\n",
      "Epoch 169/200\n",
      "834834/834834 [==============================] - 68s 81us/sample - loss: 461668904.6211 - val_loss: 812782442.3320\n",
      "Epoch 170/200\n",
      "834834/834834 [==============================] - 60s 72us/sample - loss: 458650859.2101 - val_loss: 803274484.1684\n",
      "Epoch 171/200\n",
      "834834/834834 [==============================] - 60s 72us/sample - loss: 457835834.5191 - val_loss: 789290846.0101\n",
      "Epoch 172/200\n",
      "834834/834834 [==============================] - 60s 72us/sample - loss: 458591299.4812 - val_loss: 823978285.5805\n",
      "Epoch 173/200\n",
      "834834/834834 [==============================] - 60s 71us/sample - loss: 459896478.4001 - val_loss: 804793040.0288\n",
      "Epoch 174/200\n",
      "834834/834834 [==============================] - 60s 72us/sample - loss: 457317743.8979 - val_loss: 807322034.2291\n",
      "Epoch 175/200\n",
      "834834/834834 [==============================] - 59s 70us/sample - loss: 457506958.2827 - val_loss: 783794462.0480\n",
      "Epoch 176/200\n",
      "834834/834834 [==============================] - 58s 69us/sample - loss: 455170822.2650 - val_loss: 814861128.4294\n",
      "Epoch 177/200\n",
      "834834/834834 [==============================] - 59s 71us/sample - loss: 459541486.9482 - val_loss: 823265955.1617\n",
      "Epoch 178/200\n",
      "834834/834834 [==============================] - 59s 70us/sample - loss: 458754685.8093 - val_loss: 790880439.2420\n",
      "Epoch 179/200\n",
      "834834/834834 [==============================] - 61s 74us/sample - loss: 454855177.6659 - val_loss: 803346093.6771\n",
      "Epoch 180/200\n",
      "834834/834834 [==============================] - 69s 83us/sample - loss: 456998943.2709 - val_loss: 797025790.2757\n",
      "Epoch 181/200\n",
      "834834/834834 [==============================] - 65s 78us/sample - loss: 453876282.3540 - val_loss: 805011990.4104\n",
      "Epoch 182/200\n",
      "834834/834834 [==============================] - 59s 71us/sample - loss: 456265668.4407 - val_loss: 784055077.9812\n",
      "Epoch 183/200\n",
      "834834/834834 [==============================] - 60s 72us/sample - loss: 455602483.8581 - val_loss: 796573149.8118\n",
      "Epoch 184/200\n",
      "834834/834834 [==============================] - 61s 73us/sample - loss: 453131107.8744 - val_loss: 800059651.7463\n",
      "Epoch 185/200\n",
      "834834/834834 [==============================] - 57s 69us/sample - loss: 451548111.4106 - val_loss: 824842530.6750\n",
      "Epoch 186/200\n",
      "834834/834834 [==============================] - 62s 74us/sample - loss: 454982266.7427 - val_loss: 791814371.9406\n",
      "Epoch 187/200\n",
      "834834/834834 [==============================] - 59s 71us/sample - loss: 451627445.8748 - val_loss: 777328252.8794\n",
      "Epoch 188/200\n",
      "834834/834834 [==============================] - 57s 68us/sample - loss: 452419826.6099 - val_loss: 804977512.2669\n",
      "Epoch 189/200\n",
      "834834/834834 [==============================] - 55s 66us/sample - loss: 450661047.3863 - val_loss: 829612943.9489\n",
      "Epoch 190/200\n"
     ]
    },
    {
     "name": "stdout",
     "output_type": "stream",
     "text": [
      "834834/834834 [==============================] - 62s 74us/sample - loss: 453141041.2154 - val_loss: 806313608.5050\n",
      "Epoch 191/200\n",
      "834834/834834 [==============================] - 57s 68us/sample - loss: 449970480.4969 - val_loss: 781464531.4450\n",
      "Epoch 192/200\n",
      "834834/834834 [==============================] - 54s 64us/sample - loss: 449515042.5353 - val_loss: 804679718.1274\n",
      "Epoch 193/200\n",
      "834834/834834 [==============================] - 53s 64us/sample - loss: 450141560.2285 - val_loss: 807567543.9841\n",
      "Epoch 194/200\n",
      "834834/834834 [==============================] - 55s 65us/sample - loss: 448435117.1959 - val_loss: 808997642.1142\n",
      "Epoch 195/200\n",
      "834834/834834 [==============================] - 53s 63us/sample - loss: 450579504.7245 - val_loss: 830523124.0003\n",
      "Epoch 00195: early stopping\n"
     ]
    },
    {
     "data": {
      "text/plain": [
       "<tensorflow.python.keras.callbacks.History at 0x1cf5d7f7788>"
      ]
     },
     "execution_count": 386,
     "metadata": {},
     "output_type": "execute_result"
    }
   ],
   "source": [
    "model.fit(x=X_train,y=y_train,epochs=200,verbose=1,validation_data=(X_test,y_test),batch_size=128,callbacks=[early_stop])"
   ]
  },
  {
   "cell_type": "code",
   "execution_count": 390,
   "metadata": {},
   "outputs": [],
   "source": [
    "losses=pd.DataFrame(model.history.history)"
   ]
  },
  {
   "cell_type": "code",
   "execution_count": 391,
   "metadata": {},
   "outputs": [
    {
     "data": {
      "text/plain": [
       "<matplotlib.axes._subplots.AxesSubplot at 0x1cf5b455048>"
      ]
     },
     "execution_count": 391,
     "metadata": {},
     "output_type": "execute_result"
    },
    {
     "data": {
      "text/plain": [
       "<Figure size 864x432 with 0 Axes>"
      ]
     },
     "metadata": {},
     "output_type": "display_data"
    },
    {
     "data": {
      "image/png": "[encoded data removed]",
      "text/plain": [
       "<Figure size 432x288 with 1 Axes>"
      ]
     },
     "metadata": {
      "needs_background": "light"
     },
     "output_type": "display_data"
    }
   ],
   "source": [
    "plt.figure(figsize=(12,6))\n",
    "losses.plot()"
   ]
  },
  {
   "cell_type": "code",
   "execution_count": 392,
   "metadata": {},
   "outputs": [],
   "source": [
    "predictions=model.predict(X_test)"
   ]
  },
  {
   "cell_type": "code",
   "execution_count": 393,
   "metadata": {},
   "outputs": [
    {
     "data": {
      "text/plain": [
       "830523093.0376264"
      ]
     },
     "execution_count": 393,
     "metadata": {},
     "output_type": "execute_result"
    }
   ],
   "source": [
    "mean_squared_error(predictions,y_test)"
   ]
  },
  {
   "cell_type": "code",
   "execution_count": 395,
   "metadata": {},
   "outputs": [
    {
     "data": {
      "text/plain": [
       "28818.797564048822"
      ]
     },
     "execution_count": 395,
     "metadata": {},
     "output_type": "execute_result"
    }
   ],
   "source": [
    "np.sqrt(mean_squared_error(predictions,y_test))"
   ]
  },
  {
   "cell_type": "code",
   "execution_count": 396,
   "metadata": {},
   "outputs": [
    {
     "data": {
      "text/plain": [
       "9748.983740541154"
      ]
     },
     "execution_count": 396,
     "metadata": {},
     "output_type": "execute_result"
    }
   ],
   "source": [
    "mean_absolute_error(predictions,y_test)"
   ]
  },
  {
   "cell_type": "code",
   "execution_count": 402,
   "metadata": {},
   "outputs": [
    {
     "data": {
      "text/plain": [
       "0.46309168841735393"
      ]
     },
     "execution_count": 402,
     "metadata": {},
     "output_type": "execute_result"
    }
   ],
   "source": [
    "explained_variance_score(predictions,y_test)"
   ]
  },
  {
   "cell_type": "code",
   "execution_count": 406,
   "metadata": {},
   "outputs": [],
   "source": [
    "from sklearn.metrics import r2_score"
   ]
  },
  {
   "cell_type": "code",
   "execution_count": 407,
   "metadata": {},
   "outputs": [],
   "source": [
    "def performance_metric(y_true, y_predict):\n",
    "    \"\"\" Calculates and returns the performance score between \n",
    "        true and predicted values based on the metric chosen. \"\"\"\n",
    "    \n",
    "    # TODO: Calculate the performance score between 'y_true' and 'y_predict'\n",
    "    score = r2_score(y_true, y_predict)\n",
    "    \n",
    "    # Return the score\n",
    "    return score"
   ]
  },
  {
   "cell_type": "code",
   "execution_count": 410,
   "metadata": {},
   "outputs": [
    {
     "data": {
      "text/plain": [
       "0.5814970651038935"
      ]
     },
     "execution_count": 410,
     "metadata": {},
     "output_type": "execute_result"
    }
   ],
   "source": [
    "performance_metric(y_test,predictions)"
   ]
  },
  {
   "cell_type": "markdown",
   "metadata": {},
   "source": [
    "# Model SVM"
   ]
  },
  {
   "cell_type": "code",
   "execution_count": 24,
   "metadata": {},
   "outputs": [],
   "source": [
    "# X=dataset.drop(['SHIPMT_VALUE'],axis=1).values\n",
    "# y=dataset['SHIPMT_VALUE'].values"
   ]
  },
  {
   "cell_type": "code",
   "execution_count": 25,
   "metadata": {},
   "outputs": [],
   "source": [
    "# from sklearn.model_selection import train_test_split"
   ]
  },
  {
   "cell_type": "code",
   "execution_count": 26,
   "metadata": {},
   "outputs": [],
   "source": [
    "# X_train, X_test, y_train, y_test = train_test_split(X, y, test_size=0.3, random_state=101)"
   ]
  },
  {
   "cell_type": "code",
   "execution_count": 27,
   "metadata": {},
   "outputs": [
    {
     "name": "stdout",
     "output_type": "stream",
     "text": [
      "(834834, 268)\n",
      "(357787, 268)\n",
      "(834834,)\n",
      "(357787,)\n"
     ]
    }
   ],
   "source": [
    "# print(X_train.shape)\n",
    "# print(X_test.shape)\n",
    "# print(y_train.shape)\n",
    "# print(y_test.shape)"
   ]
  },
  {
   "cell_type": "code",
   "execution_count": 28,
   "metadata": {},
   "outputs": [],
   "source": [
    "# from sklearn.preprocessing import StandardScaler"
   ]
  },
  {
   "cell_type": "code",
   "execution_count": 29,
   "metadata": {},
   "outputs": [],
   "source": [
    "# zscore=StandardScaler()"
   ]
  },
  {
   "cell_type": "code",
   "execution_count": 30,
   "metadata": {},
   "outputs": [],
   "source": [
    "# X_train=zscore.fit_transform(X_train)"
   ]
  },
  {
   "cell_type": "code",
   "execution_count": 31,
   "metadata": {},
   "outputs": [],
   "source": [
    "# X_test=zscore.transform(X_test)"
   ]
  },
  {
   "cell_type": "code",
   "execution_count": 36,
   "metadata": {},
   "outputs": [],
   "source": [
    "# from sklearn.svm import SVR"
   ]
  },
  {
   "cell_type": "code",
   "execution_count": 37,
   "metadata": {},
   "outputs": [],
   "source": [
    "# model_svr=SVR()"
   ]
  },
  {
   "cell_type": "code",
   "execution_count": null,
   "metadata": {},
   "outputs": [],
   "source": [
    "# model_svr.fit(X_train,y_train)"
   ]
  },
  {
   "cell_type": "code",
   "execution_count": 463,
   "metadata": {},
   "outputs": [],
   "source": [
    "# predictions_svm=model_svr.predict(X_test)"
   ]
  },
  {
   "cell_type": "code",
   "execution_count": 464,
   "metadata": {},
   "outputs": [
    {
     "data": {
      "text/plain": [
       "array([[ 2336.9336],\n",
       "       [ 3522.1562],\n",
       "       [13784.331 ],\n",
       "       ...,\n",
       "       [ 1525.0215],\n",
       "       [ 1134.349 ],\n",
       "       [ 3262.5798]], dtype=float32)"
      ]
     },
     "execution_count": 464,
     "metadata": {},
     "output_type": "execute_result"
    }
   ],
   "source": [
    "# predictions_svm"
   ]
  },
  {
   "cell_type": "code",
   "execution_count": 466,
   "metadata": {},
   "outputs": [],
   "source": [
    "# from sklearn.metrics import mean_absolute_error,mean_squared_error,explained_variance_score"
   ]
  },
  {
   "cell_type": "markdown",
   "metadata": {},
   "source": [
    "# SVM Model-2"
   ]
  },
  {
   "cell_type": "code",
   "execution_count": 2,
   "metadata": {},
   "outputs": [],
   "source": [
    "# from sklearn.model_selection import GridSearchCV"
   ]
  },
  {
   "cell_type": "code",
   "execution_count": 3,
   "metadata": {},
   "outputs": [],
   "source": [
    "# param_grid={'C':[0.1,1.100,1000],'gamma':[1,0.1,0.01,0.001,0.0001]}"
   ]
  },
  {
   "cell_type": "code",
   "execution_count": 4,
   "metadata": {},
   "outputs": [
    {
     "ename": "NameError",
     "evalue": "name 'SVC' is not defined",
     "output_type": "error",
     "traceback": [
      "\u001b[1;31m---------------------------------------------------------------------------\u001b[0m",
      "\u001b[1;31mNameError\u001b[0m                                 Traceback (most recent call last)",
      "\u001b[1;32m<ipython-input-4-0b0cde0d08c7>\u001b[0m in \u001b[0;36m<module>\u001b[1;34m\u001b[0m\n\u001b[1;32m----> 1\u001b[1;33m \u001b[0mgrid\u001b[0m\u001b[1;33m=\u001b[0m\u001b[0mGridSearchCV\u001b[0m\u001b[1;33m(\u001b[0m\u001b[0mSVC\u001b[0m\u001b[1;33m(\u001b[0m\u001b[1;33m)\u001b[0m\u001b[1;33m,\u001b[0m\u001b[0mparam_grid\u001b[0m\u001b[1;33m,\u001b[0m\u001b[0mverbose\u001b[0m\u001b[1;33m=\u001b[0m\u001b[1;36m3\u001b[0m\u001b[1;33m)\u001b[0m\u001b[1;33m\u001b[0m\u001b[1;33m\u001b[0m\u001b[0m\n\u001b[0m",
      "\u001b[1;31mNameError\u001b[0m: name 'SVC' is not defined"
     ]
    }
   ],
   "source": [
    "# grid=GridSearchCV(SVC(),param_grid,verbose=3)"
   ]
  },
  {
   "cell_type": "code",
   "execution_count": 1,
   "metadata": {},
   "outputs": [
    {
     "ename": "NameError",
     "evalue": "name 'grid' is not defined",
     "output_type": "error",
     "traceback": [
      "\u001b[1;31m---------------------------------------------------------------------------\u001b[0m",
      "\u001b[1;31mNameError\u001b[0m                                 Traceback (most recent call last)",
      "\u001b[1;32m<ipython-input-1-36063720ad87>\u001b[0m in \u001b[0;36m<module>\u001b[1;34m\u001b[0m\n\u001b[1;32m----> 1\u001b[1;33m \u001b[0mgrid\u001b[0m\u001b[1;33m.\u001b[0m\u001b[0mfit\u001b[0m\u001b[1;33m(\u001b[0m\u001b[0mX_train\u001b[0m\u001b[1;33m,\u001b[0m\u001b[0my_train\u001b[0m\u001b[1;33m)\u001b[0m\u001b[1;33m\u001b[0m\u001b[1;33m\u001b[0m\u001b[0m\n\u001b[0m",
      "\u001b[1;31mNameError\u001b[0m: name 'grid' is not defined"
     ]
    }
   ],
   "source": [
    "# grid.fit(X_train,y_train)"
   ]
  },
  {
   "cell_type": "code",
   "execution_count": null,
   "metadata": {},
   "outputs": [],
   "source": [
    "# grid.best_params_"
   ]
  }
 ],
 "metadata": {
  "kernelspec": {
   "display_name": "Python 3",
   "language": "python",
   "name": "python3"
  },
  "language_info": {
   "codemirror_mode": {
    "name": "ipython",
    "version": 3
   },
   "file_extension": ".py",
   "mimetype": "text/x-python",
   "name": "python",
   "nbconvert_exporter": "python",
   "pygments_lexer": "ipython3",
   "version": "3.7.6"
  }
 },
 "nbformat": 4,
 "nbformat_minor": 4
}
