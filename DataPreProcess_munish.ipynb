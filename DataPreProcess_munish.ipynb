{
 "cells": [
  {
   "cell_type": "code",
   "execution_count": 69,
   "metadata": {},
   "outputs": [],
   "source": [
    "# importing all required libraries\n",
    "import numpy as np # used for handling numbers\n",
    "import pandas as pd # used for handling the dataset\n",
    "from sklearn.impute import SimpleImputer # used for handling missing data\n",
    "from sklearn.preprocessing import LabelEncoder, OneHotEncoder # used for encoding categorical data\n",
    "from sklearn.model_selection import train_test_split # used for splitting training and testing data\n",
    "from sklearn.preprocessing import StandardScaler # used for feature scaling\n",
    "import os\n",
    "import csv "
   ]
  },
  {
   "cell_type": "code",
   "execution_count": 62,
   "metadata": {},
   "outputs": [],
   "source": [
    "# Read CSV File from Data Folder\n",
    "filename = \"cfs_pumf.txt\"\n",
    "\n",
    "try:\n",
    "    dataset = pd.read_csv(f'{os.getcwd()}\\\\data\\\\{filename}')      \n",
    "except IOError:\n",
    "    print(f'Could not read file {filename}')"
   ]
  },
  {
   "cell_type": "code",
   "execution_count": 63,
   "metadata": {},
   "outputs": [
    {
     "data": {
      "text/plain": [
       "{'SHIPMT_ID': dtype('int64'),\n",
       " 'ORIG_STATE': dtype('int64'),\n",
       " 'ORIG_MA': dtype('int64'),\n",
       " 'ORIG_CFS_AREA': dtype('O'),\n",
       " 'DEST_STATE': dtype('int64'),\n",
       " 'DEST_MA': dtype('int64'),\n",
       " 'DEST_CFS_AREA': dtype('O'),\n",
       " 'NAICS': dtype('int64'),\n",
       " 'QUARTER': dtype('int64'),\n",
       " 'SCTG': dtype('O'),\n",
       " 'MODE': dtype('int64'),\n",
       " 'SHIPMT_VALUE': dtype('int64'),\n",
       " 'SHIPMT_WGHT': dtype('int64'),\n",
       " 'SHIPMT_DIST_GC': dtype('int64'),\n",
       " 'SHIPMT_DIST_ROUTED': dtype('int64'),\n",
       " 'TEMP_CNTL_YN': dtype('O'),\n",
       " 'EXPORT_YN': dtype('O'),\n",
       " 'EXPORT_CNTRY': dtype('O'),\n",
       " 'HAZMAT': dtype('O'),\n",
       " 'WGT_FACTOR': dtype('float64')}"
      ]
     },
     "execution_count": 63,
     "metadata": {},
     "output_type": "execute_result"
    }
   ],
   "source": [
    "# Analyze the datatype of all the variables and convert to appropriate one\n",
    "dataset.dtypes.to_dict()"
   ]
  },
  {
   "cell_type": "code",
   "execution_count": 49,
   "metadata": {},
   "outputs": [
    {
     "data": {
      "text/plain": [
       "SCTG\n",
       "00          691\n",
       "01         2239\n",
       "01-05      1458\n",
       "02        24965\n",
       "03        54265\n",
       "04        45617\n",
       "05        62355\n",
       "06        53265\n",
       "06-09      1267\n",
       "07       183021\n",
       "08        98947\n",
       "09        16864\n",
       "10         5883\n",
       "10-14      1437\n",
       "11        29142\n",
       "12        94363\n",
       "13        16795\n",
       "14         4211\n",
       "15        11002\n",
       "15-19       856\n",
       "17        38588\n",
       "18        60218\n",
       "19       133849\n",
       "20        96474\n",
       "20-24      1888\n",
       "21        85890\n",
       "22        24300\n",
       "23       141016\n",
       "24       288078\n",
       "25         4966\n",
       "25-30      1854\n",
       "26       161961\n",
       "27        61999\n",
       "28        95548\n",
       "29       200529\n",
       "30       213796\n",
       "31       178753\n",
       "31-34      1473\n",
       "32       187159\n",
       "33       237139\n",
       "34       265539\n",
       "35       318586\n",
       "35-38       919\n",
       "36       183009\n",
       "37        46078\n",
       "38       132035\n",
       "39        86920\n",
       "39-99      1190\n",
       "40       264089\n",
       "41        41610\n",
       "43       283551\n",
       "99           14\n",
       "Name: SHIPMT_ID, dtype: int64"
      ]
     },
     "execution_count": 49,
     "metadata": {},
     "output_type": "execute_result"
    }
   ],
   "source": [
    "#SCTG should be of type int64 but found as Object. Lets see why\n",
    "dataset.groupby('SCTG')['SHIPMT_ID'].nunique()\n",
    "\n",
    "#After the analysis, We found that SCTG also contains SCTG_Group values. We need to noramilize them"
   ]
  },
  {
   "cell_type": "code",
   "execution_count": 64,
   "metadata": {},
   "outputs": [
    {
     "data": {
      "text/plain": [
       "EXPORT_CNTRY\n",
       "C      54539\n",
       "M      19367\n",
       "N    4361940\n",
       "O     111815\n",
       "Name: SHIPMT_ID, dtype: int64"
      ]
     },
     "execution_count": 64,
     "metadata": {},
     "output_type": "execute_result"
    }
   ],
   "source": [
    "# As per the data dictonary, EXPORT_CNTRY should have only tree values, C = Canada, M = Mexico, O = Other, but found one\n",
    "# more category. Need to analyze it.\n",
    "dataset.groupby('EXPORT_CNTRY')['SHIPMT_ID'].nunique()"
   ]
  },
  {
   "cell_type": "code",
   "execution_count": 67,
   "metadata": {},
   "outputs": [],
   "source": [
    "#Convert datatype of below variables to appropriate one\n",
    "dataset.ORIG_STATE = dataset.ORIG_STATE.astype(str)\n",
    "dataset.ORIG_MA = dataset.ORIG_MA.astype(str)\n",
    "dataset.DEST_STATE = dataset.DEST_STATE.astype(str)\n",
    "dataset.DEST_MA = dataset.DEST_MA.astype(str)\n",
    "dataset.NAICS = dataset.NAICS.astype(str)\n",
    "dataset.MODE = dataset.MODE.astype(str)"
   ]
  },
  {
   "cell_type": "code",
   "execution_count": 68,
   "metadata": {},
   "outputs": [
    {
     "data": {
      "text/plain": [
       "{'SHIPMT_ID': dtype('int64'),\n",
       " 'ORIG_STATE': dtype('O'),\n",
       " 'ORIG_MA': dtype('O'),\n",
       " 'ORIG_CFS_AREA': dtype('O'),\n",
       " 'DEST_STATE': dtype('O'),\n",
       " 'DEST_MA': dtype('O'),\n",
       " 'DEST_CFS_AREA': dtype('O'),\n",
       " 'NAICS': dtype('O'),\n",
       " 'QUARTER': dtype('int64'),\n",
       " 'SCTG': dtype('O'),\n",
       " 'MODE': dtype('O'),\n",
       " 'SHIPMT_VALUE': dtype('int64'),\n",
       " 'SHIPMT_WGHT': dtype('int64'),\n",
       " 'SHIPMT_DIST_GC': dtype('int64'),\n",
       " 'SHIPMT_DIST_ROUTED': dtype('int64'),\n",
       " 'TEMP_CNTL_YN': dtype('O'),\n",
       " 'EXPORT_YN': dtype('O'),\n",
       " 'EXPORT_CNTRY': dtype('O'),\n",
       " 'HAZMAT': dtype('O'),\n",
       " 'WGT_FACTOR': dtype('float64')}"
      ]
     },
     "execution_count": 68,
     "metadata": {},
     "output_type": "execute_result"
    }
   ],
   "source": [
    "# Analyze the datatype of all the variables and convert to appropriate one\n",
    "dataset.dtypes.to_dict()"
   ]
  },
  {
   "cell_type": "code",
   "execution_count": 73,
   "metadata": {},
   "outputs": [
    {
     "name": "stdout",
     "output_type": "stream",
     "text": [
      "          SHIPMT_ID       QUARTER  SHIPMT_VALUE   SHIPMT_WGHT  SHIPMT_DIST_GC  \\\n",
      "count  4.547661e+06  4.547661e+06  4.547661e+06  4.547661e+06    4.547661e+06   \n",
      "mean   2.273831e+06  2.445707e+00  1.827960e+04  3.758741e+04    3.860863e+02   \n",
      "std    1.312797e+06  1.107542e+00  1.085257e+06  9.657841e+05    5.746514e+02   \n",
      "min    1.000000e+00  1.000000e+00  1.000000e+00  1.000000e+00    1.000000e+00   \n",
      "25%    1.136916e+06  1.000000e+00  1.760000e+02  1.500000e+01    1.700000e+01   \n",
      "50%    2.273831e+06  2.000000e+00  8.750000e+02  2.700000e+02    1.100000e+02   \n",
      "75%    3.410746e+06  3.000000e+00  6.026000e+03  8.077000e+03    5.380000e+02   \n",
      "max    4.547661e+06  4.000000e+00  5.212778e+08  2.770296e+08    5.210000e+03   \n",
      "\n",
      "       SHIPMT_DIST_ROUTED    WGT_FACTOR  \n",
      "count        4.547661e+06  4.547661e+06  \n",
      "mean         4.749791e+02  2.311014e+03  \n",
      "std          6.869016e+02  1.934517e+04  \n",
      "min          1.000000e+00  2.000000e-01  \n",
      "25%          2.100000e+01  9.300000e+01  \n",
      "50%          1.400000e+02  2.892000e+02  \n",
      "75%          6.850000e+02  9.927000e+02  \n",
      "max          6.932000e+03  9.750000e+05  \n"
     ]
    }
   ],
   "source": [
    "np.set_printoptions(precision=3)\n",
    "print(dataset.describe())"
   ]
  },
  {
   "cell_type": "code",
   "execution_count": null,
   "metadata": {},
   "outputs": [],
   "source": [
    "def splitDataset(dataset, splitRatio):    \n",
    "    trainSize = int(len(dataset) * splitRatio)\n",
    "    trainSet = []\n",
    "    copy = list(dataset)\n",
    "    while(len(trainSet) < trainSize):\n",
    "        index = random.randrage(len(copy))\n",
    "        trainSet.append(copy.pop(index))\n",
    "    return [trainSet, copy]"
   ]
  }
 ],
 "metadata": {
  "kernelspec": {
   "display_name": "Python 3",
   "language": "python",
   "name": "python3"
  },
  "language_info": {
   "codemirror_mode": {
    "name": "ipython",
    "version": 3
   },
   "file_extension": ".py",
   "mimetype": "text/x-python",
   "name": "python",
   "nbconvert_exporter": "python",
   "pygments_lexer": "ipython3",
   "version": "3.7.6"
  }
 },
 "nbformat": 4,
 "nbformat_minor": 4
}
